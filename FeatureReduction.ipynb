{
 "cells": [
  {
   "cell_type": "code",
   "execution_count": 172,
   "metadata": {
    "scrolled": false
   },
   "outputs": [
    {
     "data": {
      "text/plain": [
       "\u001b[32mimport \u001b[39m\u001b[36m$exclude.$                        , $ivy.$                            // for cleaner logs\n",
       "//import $profile.`hadoop-2.6`\n",
       "\u001b[39m\n",
       "\u001b[32mimport \u001b[39m\u001b[36m$ivy.$                                   // adjust spark version - spark >= 2.0\n",
       "//import $ivy.`org.apache.hadoop:hadoop-aws:2.6.4`\n",
       "\u001b[39m\n",
       "\u001b[32mimport \u001b[39m\u001b[36m$ivy.$                                // for JupyterSparkSession (SparkSession aware of the jupyter-scala kernel)\n",
       "\n",
       "\u001b[39m\n",
       "\u001b[32mimport \u001b[39m\u001b[36morg.apache.spark._\n",
       "\u001b[39m\n",
       "\u001b[32mimport \u001b[39m\u001b[36morg.apache.spark.sql._\n",
       "\u001b[39m\n",
       "\u001b[32mimport \u001b[39m\u001b[36mjupyter.spark.session._\n",
       "\u001b[39m\n",
       "\u001b[32mimport \u001b[39m\u001b[36mResolvers._\u001b[39m"
      ]
     },
     "execution_count": 172,
     "metadata": {},
     "output_type": "execute_result"
    }
   ],
   "source": [
    "import $exclude.`org.slf4j:slf4j-log4j12`, $ivy.`org.slf4j:slf4j-nop:1.7.21` // for cleaner logs\n",
    "//import $profile.`hadoop-2.6`\n",
    "import $ivy.`org.apache.spark::spark-sql:2.1.0` // adjust spark version - spark >= 2.0\n",
    "//import $ivy.`org.apache.hadoop:hadoop-aws:2.6.4`\n",
    "import $ivy.`org.jupyter-scala::spark:0.4.2` // for JupyterSparkSession (SparkSession aware of the jupyter-scala kernel)\n",
    "\n",
    "import org.apache.spark._\n",
    "import org.apache.spark.sql._\n",
    "import jupyter.spark.session._\n",
    "import Resolvers._"
   ]
  },
  {
   "cell_type": "code",
   "execution_count": 173,
   "metadata": {
    "scrolled": false
   },
   "outputs": [
    {
     "data": {
      "text/plain": [
       "\u001b[32mimport \u001b[39m\u001b[36m$ivy.$                           \n",
       "\u001b[39m\n",
       "\u001b[32mimport \u001b[39m\u001b[36mvegas._\n",
       "\u001b[39m\n",
       "\u001b[32mimport \u001b[39m\u001b[36mvegas.data.External._\u001b[39m"
      ]
     },
     "execution_count": 173,
     "metadata": {},
     "output_type": "execute_result"
    }
   ],
   "source": [
    "import $ivy.`org.vegas-viz::vegas:0.3.9`\n",
    "import vegas._\n",
    "import vegas.data.External._"
   ]
  },
  {
   "cell_type": "code",
   "execution_count": 174,
   "metadata": {
    "collapsed": true,
    "scrolled": false
   },
   "outputs": [],
   "source": [
    "interp.resolvers() = interp.resolvers() :+ Resolver.Http(\n",
    "  \"isarn project\",\n",
    "  \"https://dl.bintray.com/isarn/maven/\",\n",
    "  MavenPattern,\n",
    "  true\n",
    ")\n",
    "// resolvers += \"Will's bintray\" at \"https://dl.bintray.com/willb/maven/\"\n",
    "interp.resolvers() = interp.resolvers() :+ Resolver.Http(\n",
    "  \"Will Benton\",\n",
    "  \"https://dl.bintray.com/willb/maven/\",\n",
    "  MavenPattern,\n",
    "  true\n",
    ")"
   ]
  },
  {
   "cell_type": "code",
   "execution_count": 175,
   "metadata": {
    "scrolled": false
   },
   "outputs": [
    {
     "data": {
      "text/plain": [
       "\u001b[32mimport \u001b[39m\u001b[36m$ivy.$                                            // \"org.isarnproject\" %% \"isarn-sketches\" % \"0.0.2\"\n",
       "\u001b[39m\n",
       "\u001b[32mimport \u001b[39m\u001b[36morg.isarnproject.sketches._\u001b[39m"
      ]
     },
     "execution_count": 175,
     "metadata": {},
     "output_type": "execute_result"
    }
   ],
   "source": [
    "import $ivy.`org.isarnproject::isarn-sketches:0.0.3.rc1` // \"org.isarnproject\" %% \"isarn-sketches\" % \"0.0.2\"\n",
    "import org.isarnproject.sketches._"
   ]
  },
  {
   "cell_type": "code",
   "execution_count": 176,
   "metadata": {
    "scrolled": false
   },
   "outputs": [
    {
     "data": {
      "text/plain": [
       "\u001b[32mimport \u001b[39m\u001b[36m$ivy.$                            // \"com.redhat.et\" %% \"silex\" % \"0.1.2\"\u001b[39m"
      ]
     },
     "execution_count": 176,
     "metadata": {},
     "output_type": "execute_result"
    }
   ],
   "source": [
    "import $ivy.`com.redhat.et::silex:0.1.2` // \"com.redhat.et\" %% \"silex\" % \"0.1.2\""
   ]
  },
  {
   "cell_type": "code",
   "execution_count": 177,
   "metadata": {
    "scrolled": false
   },
   "outputs": [
    {
     "data": {
      "text/plain": [
       "\u001b[32mimport \u001b[39m\u001b[36morg.apache.spark.rdd.RDD\n",
       "\u001b[39m\n",
       "\u001b[32mimport \u001b[39m\u001b[36morg.apache.spark.mllib.tree.RandomForest\n",
       "\u001b[39m\n",
       "\u001b[32mimport \u001b[39m\u001b[36morg.apache.spark.mllib.evaluation.BinaryClassificationMetrics\n",
       "\u001b[39m\n",
       "\u001b[32mimport \u001b[39m\u001b[36morg.apache.spark.mllib.classification.{LogisticRegressionModel, LogisticRegressionWithLBFGS}\n",
       "\u001b[39m\n",
       "\u001b[32mimport \u001b[39m\u001b[36morg.apache.spark.mllib.evaluation.MulticlassMetrics\n",
       "\u001b[39m\n",
       "\u001b[32mimport \u001b[39m\u001b[36morg.apache.spark.mllib.regression.LabeledPoint\n",
       "\n",
       "\u001b[39m\n",
       "\u001b[32mimport \u001b[39m\u001b[36mcom.redhat.et.silex.util.vectors.implicits._\n",
       "\u001b[39m\n",
       "\u001b[32mimport \u001b[39m\u001b[36mcom.redhat.et.silex.cluster.ClusteringTreeModel\n",
       "\u001b[39m\n",
       "\u001b[32mimport \u001b[39m\u001b[36mClusteringTreeModel._\u001b[39m"
      ]
     },
     "execution_count": 177,
     "metadata": {},
     "output_type": "execute_result"
    }
   ],
   "source": [
    "import org.apache.spark.rdd.RDD\n",
    "import org.apache.spark.mllib.tree.RandomForest\n",
    "import org.apache.spark.mllib.evaluation.BinaryClassificationMetrics\n",
    "import org.apache.spark.mllib.classification.{LogisticRegressionModel, LogisticRegressionWithLBFGS}\n",
    "import org.apache.spark.mllib.evaluation.MulticlassMetrics\n",
    "import org.apache.spark.mllib.regression.LabeledPoint\n",
    "\n",
    "import com.redhat.et.silex.util.vectors.implicits._\n",
    "import com.redhat.et.silex.cluster.ClusteringTreeModel\n",
    "import ClusteringTreeModel._"
   ]
  },
  {
   "cell_type": "code",
   "execution_count": 178,
   "metadata": {
    "scrolled": false
   },
   "outputs": [
    {
     "data": {
      "text/plain": [
       "\u001b[36mspark\u001b[39m: \u001b[32mSparkSession\u001b[39m = org.apache.spark.sql.SparkSession@531a08df"
      ]
     },
     "execution_count": 178,
     "metadata": {},
     "output_type": "execute_result"
    }
   ],
   "source": [
    "val spark = JupyterSparkSession.builder() // important - call this rather than SparkSession.builder()\n",
    "  .jupyter() // this method must be called straightaway after builder()\n",
    "  .master(\"spark://frclust:7077\")\n",
    "  .appName(\"notebook\")\n",
    "  .getOrCreate()"
   ]
  },
  {
   "cell_type": "code",
   "execution_count": 179,
   "metadata": {
    "collapsed": true
   },
   "outputs": [],
   "source": [
    "scala.util.Random.setSeed(23571113)"
   ]
  },
  {
   "cell_type": "code",
   "execution_count": 180,
   "metadata": {},
   "outputs": [
    {
     "data": {
      "text/plain": [
       "defined \u001b[32mfunction\u001b[39m \u001b[36mtiming\u001b[39m"
      ]
     },
     "execution_count": 180,
     "metadata": {},
     "output_type": "execute_result"
    }
   ],
   "source": [
    "def timing[T](block: => T) = {\n",
    "    val t0 = System.currentTimeMillis\n",
    "    val r = block\n",
    "    val t = (System.currentTimeMillis - t0).toDouble / 1000.0\n",
    "    println(s\"time: $t\")\n",
    "    r\n",
    "}"
   ]
  },
  {
   "cell_type": "code",
   "execution_count": 181,
   "metadata": {
    "scrolled": false
   },
   "outputs": [
    {
     "data": {
      "text/plain": [
       "defined \u001b[32mclass\u001b[39m \u001b[36mTDEnhance\u001b[39m"
      ]
     },
     "execution_count": 181,
     "metadata": {},
     "output_type": "execute_result"
    }
   ],
   "source": [
    "implicit class TDEnhance(td: TDigest) extends Serializable {\n",
    "  def toXY: Vector[(Double, Double)] = {\n",
    "    val q = (0.001 +: (0.05 to 0.95 by 0.05) :+ 0.999).toVector\n",
    "    q.map(q => (td.cdfInverse(q), q))\n",
    "  }\n",
    "}"
   ]
  },
  {
   "cell_type": "code",
   "execution_count": 182,
   "metadata": {
    "scrolled": false
   },
   "outputs": [
    {
     "data": {
      "text/plain": [
       "\u001b[36mgaussianData\u001b[39m: \u001b[32mVector\u001b[39m[\u001b[32mDouble\u001b[39m] = \u001b[33mVector\u001b[39m(\n",
       "  \u001b[32m-0.22810922233651607\u001b[39m,\n",
       "  \u001b[32m0.43570354735682515\u001b[39m,\n",
       "  \u001b[32m-0.7910474922935643\u001b[39m,\n",
       "  \u001b[32m0.40177382348662527\u001b[39m,\n",
       "  \u001b[32m0.29006757451660975\u001b[39m,\n",
       "  \u001b[32m0.1993858180454829\u001b[39m,\n",
       "  \u001b[32m-0.03775433638357763\u001b[39m,\n",
       "  \u001b[32m0.5795731389992561\u001b[39m,\n",
       "  \u001b[32m-1.1623629066548575\u001b[39m,\n",
       "  \u001b[32m-0.955642175001452\u001b[39m,\n",
       "  \u001b[32m-1.7259353951180345\u001b[39m,\n",
       "\u001b[33m...\u001b[39m\n",
       "\u001b[36mgaussianRDD\u001b[39m: \u001b[32mRDD\u001b[39m[\u001b[32mDouble\u001b[39m] = ParallelCollectionRDD[283913] at parallelize at cmd181.sc:2"
      ]
     },
     "execution_count": 182,
     "metadata": {},
     "output_type": "execute_result"
    }
   ],
   "source": [
    "val gaussianData = Vector.fill(1000000) { scala.util.Random.nextGaussian() }\n",
    "val gaussianRDD = spark.sparkContext.parallelize(gaussianData, 10)"
   ]
  },
  {
   "cell_type": "code",
   "execution_count": 183,
   "metadata": {
    "scrolled": false
   },
   "outputs": [
    {
     "name": "stderr",
     "output_type": "stream",
     "text": [
      "                                                                                \r"
     ]
    },
    {
     "data": {
      "text/plain": [
       "\u001b[36mgaussianSketch\u001b[39m: \u001b[32mTDigest\u001b[39m = \u001b[33mTDigest\u001b[39m(\n",
       "  \u001b[32m0.5\u001b[39m,\n",
       "  \u001b[32m0\u001b[39m,\n",
       "  \u001b[32m121\u001b[39m,\n",
       "  \u001b[33mMap\u001b[39m(\n",
       "    \u001b[32m-4.706082570034547\u001b[39m -> \u001b[32m1.0\u001b[39m,\n",
       "    \u001b[32m-4.688055197866202\u001b[39m -> \u001b[32m1.0\u001b[39m,\n",
       "    \u001b[32m-4.589157805061891\u001b[39m -> \u001b[32m1.0\u001b[39m,\n",
       "    \u001b[32m-4.492289202659431\u001b[39m -> \u001b[32m1.0\u001b[39m,\n",
       "    \u001b[32m-4.414671826601608\u001b[39m -> \u001b[32m2.0\u001b[39m,\n",
       "    \u001b[32m-4.263151643910318\u001b[39m -> \u001b[32m3.3291125806359894\u001b[39m,\n",
       "    \u001b[32m-4.229663029682633\u001b[39m -> \u001b[32m3.7375184983107355\u001b[39m,\n",
       "\u001b[33m...\u001b[39m"
      ]
     },
     "execution_count": 183,
     "metadata": {},
     "output_type": "execute_result"
    }
   ],
   "source": [
    "val gaussianSketch = gaussianRDD.aggregate(TDigest.empty())(\n",
    "    (td, x) => td + x,\n",
    "    (td1, td2) => td1 ++ td2\n",
    ")"
   ]
  },
  {
   "cell_type": "code",
   "execution_count": 184,
   "metadata": {
    "scrolled": false
   },
   "outputs": [
    {
     "data": {
      "text/html": [
       "\n",
       "  <iframe id=\"frame-vegas-387e33f6-c623-43fc-bdd6-c7e91bd08c68\" sandbox=\"allow-scripts allow-same-origin\" style=\"border: none; width: 100%\" srcdoc=\"&lt;html&gt;\n",
       "  &lt;head&gt;\n",
       "    &lt;script src=&quot;https://cdn.jsdelivr.net/webjars/org.webjars.bower/d3/3.5.17/d3.min.js&quot; charset=&quot;utf-8&quot;&gt;&lt;/script&gt;\n",
       "&lt;script src=&quot;https://cdn.jsdelivr.net/webjars/org.webjars.bower/vega/2.6.3/vega.min.js&quot; charset=&quot;utf-8&quot;&gt;&lt;/script&gt;\n",
       "&lt;script src=&quot;https://cdn.jsdelivr.net/webjars/org.webjars.bower/vega-lite/1.2.0/vega-lite.min.js&quot; charset=&quot;utf-8&quot;&gt;&lt;/script&gt;\n",
       "&lt;script src=&quot;https://vega.github.io/vega-editor/vendor/vega-embed.js&quot; charset=&quot;utf-8&quot;&gt;&lt;/script&gt;\n",
       "  &lt;/head&gt;\n",
       "  &lt;body&gt;\n",
       " &lt;script&gt;\n",
       "   var embedSpec = {\n",
       "     mode: &quot;vega-lite&quot;,\n",
       "     spec: {\n",
       "  &quot;mark&quot; : &quot;line&quot;,\n",
       "  &quot;encoding&quot; : {\n",
       "    &quot;x&quot; : {\n",
       "      &quot;field&quot; : &quot;x&quot;,\n",
       "      &quot;type&quot; : &quot;quantitative&quot;\n",
       "    },\n",
       "    &quot;y&quot; : {\n",
       "      &quot;field&quot; : &quot;y&quot;,\n",
       "      &quot;type&quot; : &quot;quantitative&quot;\n",
       "    }\n",
       "  },\n",
       "  &quot;description&quot; : &quot;CDF&quot;,\n",
       "  &quot;data&quot; : {\n",
       "    &quot;values&quot; : [\n",
       "      {\n",
       "        &quot;x&quot; : -3.0778873809860774,\n",
       "        &quot;y&quot; : 0.001\n",
       "      },\n",
       "      {\n",
       "        &quot;x&quot; : -1.6280997470935803,\n",
       "        &quot;y&quot; : 0.05\n",
       "      },\n",
       "      {\n",
       "        &quot;x&quot; : -1.2770763619733072,\n",
       "        &quot;y&quot; : 0.1\n",
       "      },\n",
       "      {\n",
       "        &quot;x&quot; : -1.0379215936886563,\n",
       "        &quot;y&quot; : 0.15000000000000002\n",
       "      },\n",
       "      {\n",
       "        &quot;x&quot; : -0.8356260073148383,\n",
       "        &quot;y&quot; : 0.2\n",
       "      },\n",
       "      {\n",
       "        &quot;x&quot; : -0.665565864754474,\n",
       "        &quot;y&quot; : 0.25\n",
       "      },\n",
       "      {\n",
       "        &quot;x&quot; : -0.5225942119112573,\n",
       "        &quot;y&quot; : 0.3\n",
       "      },\n",
       "      {\n",
       "        &quot;x&quot; : -0.38292822855867886,\n",
       "        &quot;y&quot; : 0.35\n",
       "      },\n",
       "      {\n",
       "        &quot;x&quot; : -0.25149503055921174,\n",
       "        &quot;y&quot; : 0.39999999999999997\n",
       "      },\n",
       "      {\n",
       "        &quot;x&quot; : -0.12336443085164389,\n",
       "        &quot;y&quot; : 0.44999999999999996\n",
       "      },\n",
       "      {\n",
       "        &quot;x&quot; : 0.0022608947144347746,\n",
       "        &quot;y&quot; : 0.49999999999999994\n",
       "      },\n",
       "      {\n",
       "        &quot;x&quot; : 0.1264983276039618,\n",
       "        &quot;y&quot; : 0.5499999999999999\n",
       "      },\n",
       "      {\n",
       "        &quot;x&quot; : 0.2551402398436703,\n",
       "        &quot;y&quot; : 0.6\n",
       "      },\n",
       "      {\n",
       "        &quot;x&quot; : 0.3877511105444121,\n",
       "        &quot;y&quot; : 0.65\n",
       "      },\n",
       "      {\n",
       "        &quot;x&quot; : 0.5268134154628717,\n",
       "        &quot;y&quot; : 0.7000000000000001\n",
       "      },\n",
       "      {\n",
       "        &quot;x&quot; : 0.6793537861549024,\n",
       "        &quot;y&quot; : 0.7500000000000001\n",
       "      },\n",
       "      {\n",
       "        &quot;x&quot; : 0.8345791181194077,\n",
       "        &quot;y&quot; : 0.8000000000000002\n",
       "      },\n",
       "      {\n",
       "        &quot;x&quot; : 1.0357269033992003,\n",
       "        &quot;y&quot; : 0.8500000000000002\n",
       "      },\n",
       "      {\n",
       "        &quot;x&quot; : 1.2822371744031498,\n",
       "        &quot;y&quot; : 0.9000000000000002\n",
       "      },\n",
       "      {\n",
       "        &quot;x&quot; : 3.0892695495475695,\n",
       "        &quot;y&quot; : 0.999\n",
       "      }\n",
       "    ]\n",
       "  },\n",
       "  &quot;config&quot; : {\n",
       "    &quot;cell&quot; : {\n",
       "      &quot;width&quot; : 600.0,\n",
       "      &quot;height&quot; : 300.0\n",
       "    }\n",
       "  }\n",
       "}\n",
       "   }\n",
       "   vg.embed(&quot;#vegas-387e33f6-c623-43fc-bdd6-c7e91bd08c68&quot;, embedSpec, function(error, result) {});\n",
       " &lt;/script&gt;\n",
       " &lt;div id='vegas-387e33f6-c623-43fc-bdd6-c7e91bd08c68'&gt;&lt;/div&gt;\n",
       "    &lt;/body&gt;\n",
       "&lt;/html&gt;\"></iframe>\n",
       "  <script>\n",
       "    if (typeof resizeIFrame != 'function') {\n",
       "      function resizeIFrame(el, k) {\n",
       "        $(el.contentWindow.document).ready(function() {\n",
       "          el.style.height = el.contentWindow.document.body.scrollHeight + 'px';\n",
       "        });\n",
       "        if (k <= 10) { setTimeout(function() { resizeIFrame(el, k+1) }, 1000 + (k * 250)) };\n",
       "      }\n",
       "    }\n",
       "    $().ready( function() { resizeIFrame($('#frame-vegas-387e33f6-c623-43fc-bdd6-c7e91bd08c68').get(0), 1); });\n",
       "  </script>\n",
       "    "
      ]
     },
     "metadata": {},
     "output_type": "display_data"
    }
   ],
   "source": [
    "Vegas(\"CDF\")\n",
    "    .withXY(gaussianSketch.toXY)\n",
    "    .encodeX(\"x\", Quant)\n",
    "    .encodeY(\"y\", Quant)\n",
    "    .mark(Line)\n",
    "    .configCell(width=600, height=300)\n",
    "    .show"
   ]
  },
  {
   "cell_type": "code",
   "execution_count": 185,
   "metadata": {
    "scrolled": false
   },
   "outputs": [
    {
     "data": {
      "text/plain": [
       "defined \u001b[32mfunction\u001b[39m \u001b[36mloadCSV\u001b[39m"
      ]
     },
     "execution_count": 185,
     "metadata": {},
     "output_type": "execute_result"
    }
   ],
   "source": [
    "def loadCSV(fname: String) = spark.read\n",
    "  .format(\"com.databricks.spark.csv\")\n",
    "  .option(\"header\", \"true\")\n",
    "  .option(\"mode\", \"DROPMALFORMED\")\n",
    "  .load(fname)"
   ]
  },
  {
   "cell_type": "code",
   "execution_count": 186,
   "metadata": {
    "scrolled": false
   },
   "outputs": [
    {
     "data": {
      "text/plain": [
       "\u001b[36mtrainCSV\u001b[39m: \u001b[32mDataFrame\u001b[39m = [_c0: string, AW: string ... 800 more fields]\n",
       "\u001b[36mtestCSV\u001b[39m: \u001b[32mDataFrame\u001b[39m = [_c0: string, AW: string ... 800 more fields]\n",
       "\u001b[36mtrainLabelsCSV\u001b[39m: \u001b[32mDataFrame\u001b[39m = [_c0: string, NR.AhR: string ... 11 more fields]\n",
       "\u001b[36mtestLabelsCSV\u001b[39m: \u001b[32mDataFrame\u001b[39m = [_c0: string, NR.AhR: string ... 11 more fields]"
      ]
     },
     "execution_count": 186,
     "metadata": {},
     "output_type": "execute_result"
    }
   ],
   "source": [
    "val trainCSV = loadCSV(\"/data/tox21/tox21_dense_train.csv\")\n",
    "val testCSV = loadCSV(\"/data/tox21/tox21_dense_test.csv\")\n",
    "val trainLabelsCSV = loadCSV(\"/data/tox21/tox21_labels_train.csv\")\n",
    "val testLabelsCSV = loadCSV(\"/data/tox21/tox21_labels_test.csv\")"
   ]
  },
  {
   "cell_type": "code",
   "execution_count": 187,
   "metadata": {
    "scrolled": false
   },
   "outputs": [
    {
     "data": {
      "text/plain": [
       "defined \u001b[32mfunction\u001b[39m \u001b[36mtdSketchFV\u001b[39m"
      ]
     },
     "execution_count": 187,
     "metadata": {},
     "output_type": "execute_result"
    }
   ],
   "source": [
    "def tdSketchFV(fv: RDD[Vector[Double]]): Vector[TDigest] = {\n",
    "    val tds = fv.aggregate(Array.empty[TDigest])(\n",
    "        (tdv, xv) => {\n",
    "            if (tdv.isEmpty) {\n",
    "                Array.tabulate(xv.length) { j => TDigest.empty(maxDiscrete=50) + xv(j) }\n",
    "            } else {\n",
    "                for { j <- 0 until xv.length } { tdv(j) += xv(j) }\n",
    "                tdv\n",
    "            }\n",
    "        },\n",
    "        (tdv1, tdv2) => {\n",
    "            if (tdv1.isEmpty) tdv2 else {\n",
    "                for { j <- 0 until tdv1.length } { tdv1(j) ++= tdv2(j) }\n",
    "                tdv1\n",
    "            }\n",
    "        }\n",
    "    )\n",
    "    tds.toVector\n",
    "}"
   ]
  },
  {
   "cell_type": "code",
   "execution_count": 188,
   "metadata": {
    "scrolled": false
   },
   "outputs": [
    {
     "data": {
      "text/plain": [
       "defined \u001b[32mfunction\u001b[39m \u001b[36msynthesize\u001b[39m"
      ]
     },
     "execution_count": 188,
     "metadata": {},
     "output_type": "execute_result"
    }
   ],
   "source": [
    "def synthesize(tdVec: Vector[TDigest], n: Int, partitions: Int = 2, seed: Int=scala.util.Random.nextInt) = {\n",
    "    implicit class AddSampling(td: TDigest) {\n",
    "        import org.isarnproject.collections.mixmaps.nearest.Cover\n",
    "        def cdfDiscreteInverse(q: Double): Double = {\n",
    "            td.clusters.mCover(q * td.clusters.sum).map(n => (n.data.key, n.data.value)) match {\n",
    "                case Cover(_, Some((x, _))) => x\n",
    "                case Cover(Some((x, _)), None) => x\n",
    "            }\n",
    "        }\n",
    "\n",
    "        def sample: Double = {\n",
    "            val clust = td.clusters\n",
    "            td.nclusters match {\n",
    "                case 0 => 0.0\n",
    "                case 1 => clust(clust.keyMin.get)\n",
    "                case n if (n <= td.maxDiscrete) => cdfDiscreteInverse(scala.util.Random.nextDouble)\n",
    "                case _ => td.cdfInverse(scala.util.Random.nextDouble)\n",
    "            }\n",
    "        }\n",
    "    }\n",
    "    val tdVecBC = spark.sparkContext.broadcast(tdVec)\n",
    "    spark.sparkContext.parallelize(1 to n, partitions).map { r => \n",
    "        scala.util.Random.setSeed(r + (r * seed))\n",
    "        tdVecBC.value.map(_.sample) \n",
    "    }\n",
    "}"
   ]
  },
  {
   "cell_type": "code",
   "execution_count": 189,
   "metadata": {
    "scrolled": false
   },
   "outputs": [
    {
     "name": "stderr",
     "output_type": "stream",
     "text": [
      "                                                                                \r"
     ]
    },
    {
     "data": {
      "text/plain": [
       "\u001b[36mtrainFV\u001b[39m: \u001b[32mRDD\u001b[39m[\u001b[32mVector\u001b[39m[\u001b[32mDouble\u001b[39m]] = MapPartitionsRDD[283946] at map at cmd188.sc:1\n",
       "\u001b[36mfvSketches\u001b[39m: \u001b[32mVector\u001b[39m[\u001b[32mTDigest\u001b[39m] = \u001b[33mVector\u001b[39m(\n",
       "  \u001b[33mTDigest\u001b[39m(\n",
       "    \u001b[32m0.5\u001b[39m,\n",
       "    \u001b[32m50\u001b[39m,\n",
       "    \u001b[32m71\u001b[39m,\n",
       "    \u001b[33mMap\u001b[39m(\n",
       "      \u001b[32m1.0\u001b[39m -> \u001b[32m9.0\u001b[39m,\n",
       "      \u001b[32m1.333\u001b[39m -> \u001b[32m24.0\u001b[39m,\n",
       "      \u001b[32m1.5\u001b[39m -> \u001b[32m45.0\u001b[39m,\n",
       "      \u001b[32m1.600489455071117\u001b[39m -> \u001b[32m33.242848970251714\u001b[39m,\n",
       "      \u001b[32m1.670598074443201\u001b[39m -> \u001b[32m5.180451805513876\u001b[39m,\n",
       "      \u001b[32m1.697451499884758\u001b[39m -> \u001b[32m66.5766992242344\u001b[39m,\n",
       "\u001b[33m...\u001b[39m"
      ]
     },
     "execution_count": 189,
     "metadata": {},
     "output_type": "execute_result"
    }
   ],
   "source": [
    "val trainFV = trainCSV.rdd.map(_.toSeq.toVector.drop(1).map(_.asInstanceOf[String].toDouble))\n",
    "val fvSketches = tdSketchFV(trainFV)"
   ]
  },
  {
   "cell_type": "code",
   "execution_count": 190,
   "metadata": {
    "scrolled": false
   },
   "outputs": [
    {
     "data": {
      "text/plain": [
       "\u001b[36msynthFV\u001b[39m: \u001b[32mRDD\u001b[39m[\u001b[32mVector\u001b[39m[\u001b[32mDouble\u001b[39m]] = MapPartitionsRDD[283948] at map at cmd187.sc:22"
      ]
     },
     "execution_count": 190,
     "metadata": {},
     "output_type": "execute_result"
    }
   ],
   "source": [
    "val synthFV = synthesize(fvSketches, 60000, 4)"
   ]
  },
  {
   "cell_type": "code",
   "execution_count": 191,
   "metadata": {
    "scrolled": false
   },
   "outputs": [
    {
     "data": {
      "text/plain": [
       "\u001b[36mtrainLab\u001b[39m: \u001b[32mRDD\u001b[39m[\u001b[32mLabeledPoint\u001b[39m] = MapPartitionsRDD[283949] at map at cmd190.sc:1\n",
       "\u001b[36msynthLab\u001b[39m: \u001b[32mRDD\u001b[39m[\u001b[32mLabeledPoint\u001b[39m] = MapPartitionsRDD[283950] at map at cmd190.sc:2\n",
       "\u001b[36mtrainFR\u001b[39m: \u001b[32mRDD\u001b[39m[\u001b[32mLabeledPoint\u001b[39m] = UnionRDD[283951] at $plus$plus at cmd190.sc:3"
      ]
     },
     "execution_count": 191,
     "metadata": {},
     "output_type": "execute_result"
    }
   ],
   "source": [
    "val trainLab = trainFV.map(_.toLabeledPoint(1.0))\n",
    "val synthLab = synthFV.map(_.toLabeledPoint(0.0))\n",
    "val trainFR = (trainLab ++ synthLab).cache()"
   ]
  },
  {
   "cell_type": "code",
   "execution_count": 192,
   "metadata": {
    "scrolled": false
   },
   "outputs": [
    {
     "data": {
      "text/plain": [
       "defined \u001b[32mfunction\u001b[39m \u001b[36mfrClassifier\u001b[39m"
      ]
     },
     "execution_count": 192,
     "metadata": {},
     "output_type": "execute_result"
    }
   ],
   "source": [
    "def frClassifier = {\n",
    "val rfFR = RandomForest.trainClassifier(\n",
    "    trainFR,              // training data\n",
    "    2,                    // number of classes\n",
    "    Map.empty[Int, Int],  // category info\n",
    "    100,                  // forest size\n",
    "    \"auto\",               // \n",
    "    \"gini\",               // split quality measure\n",
    "    10,                   // max depth\n",
    "    20,                   // max bins\n",
    "    235711)               // random seed\n",
    "val predictionAndLabels = trainLab.map { case LabeledPoint(label, features) =>\n",
    "  val prediction = rfFR.predict(features)\n",
    "  (prediction, label)\n",
    "}\n",
    "val metrics = new MulticlassMetrics(predictionAndLabels)\n",
    "(rfFR, metrics)\n",
    "}"
   ]
  },
  {
   "cell_type": "code",
   "execution_count": 193,
   "metadata": {
    "scrolled": false
   },
   "outputs": [
    {
     "name": "stderr",
     "output_type": "stream",
     "text": [
      "                                                                                \r"
     ]
    },
    {
     "data": {
      "text/plain": [
       "\u001b[36mrfFR\u001b[39m: \u001b[32mmllib\u001b[39m.\u001b[32mtree\u001b[39m.\u001b[32mmodel\u001b[39m.\u001b[32mRandomForestModel\u001b[39m = TreeEnsembleModel classifier with 100 trees\n",
       "\n",
       "\u001b[36mmetrics\u001b[39m: \u001b[32mMulticlassMetrics\u001b[39m = org.apache.spark.mllib.evaluation.MulticlassMetrics@72549e53\n",
       "\u001b[36mres192_1\u001b[39m: \u001b[32mDouble\u001b[39m = \u001b[32m1.0\u001b[39m"
      ]
     },
     "execution_count": 193,
     "metadata": {},
     "output_type": "execute_result"
    }
   ],
   "source": [
    "val (rfFR, metrics) = frClassifier\n",
    "metrics.accuracy"
   ]
  },
  {
   "cell_type": "code",
   "execution_count": 194,
   "metadata": {
    "scrolled": false
   },
   "outputs": [
    {
     "data": {
      "text/plain": [
       "\u001b[36mfrRules\u001b[39m: \u001b[32mArray\u001b[39m[\u001b[32mMap\u001b[39m[\u001b[32mDouble\u001b[39m, \u001b[32mSeq\u001b[39m[\u001b[32mSeq\u001b[39m[\u001b[32mPredicate\u001b[39m]]]] = \u001b[33mArray\u001b[39m(\n",
       "  \u001b[33mMap\u001b[39m(\n",
       "    \u001b[32m1.0\u001b[39m -> \u001b[33mArrayBuffer\u001b[39m(\n",
       "      \u001b[33mList\u001b[39m((MRVSA2 <= 0.0)),\n",
       "      \u001b[33mList\u001b[39m((MRVSA2 > 0.0), (RDFM30 <= 0.0)),\n",
       "      \u001b[33mList\u001b[39m((MRVSA2 > 0.0), (RDFM30 > 0.0), (VSAEstate2 <= 0.0))\n",
       "    ),\n",
       "    \u001b[32m0.0\u001b[39m -> \u001b[33mArrayBuffer\u001b[39m(\u001b[33mList\u001b[39m((MRVSA2 > 0.0), (RDFM30 > 0.0), (VSAEstate2 > 0.0)))\n",
       "  ),\n",
       "  \u001b[33mMap\u001b[39m(\n",
       "    \u001b[32m1.0\u001b[39m -> \u001b[33mArrayBuffer\u001b[39m(\n",
       "      \u001b[33mList\u001b[39m((RDFU25 <= 0.0)),\n",
       "\u001b[33m...\u001b[39m"
      ]
     },
     "execution_count": 194,
     "metadata": {},
     "output_type": "execute_result"
    }
   ],
   "source": [
    "val frRules = rfFR.trees.map(_.rules(trainCSV.columns.toVector.drop(1), Map.empty[Int, Int]))"
   ]
  },
  {
   "cell_type": "code",
   "execution_count": 195,
   "metadata": {
    "scrolled": true
   },
   "outputs": [
    {
     "name": "stdout",
     "output_type": "stream",
     "text": [
      "(VSAEstate0,20)\n",
      "(RNCS,20)\n",
      "(MRVSA7,20)\n",
      "(VSAEstate2,18)\n",
      "(VSAEstate3,18)\n",
      "(slogPVSA8,17)\n",
      "(slogPVSA6,15)\n",
      "(RDFM29,13)\n",
      "(RDFM30,13)\n",
      "(RDFV30,12)\n",
      "(RDFU27,11)\n",
      "(PEOEVSA4,11)\n",
      "(slogPVSA3,10)\n",
      "(slogPVSA7,9)\n",
      "(RDFE30,9)\n",
      "(PEOEVSA10,9)\n",
      "(Chi4c,8)\n",
      "(RDFV27,8)\n",
      "(RDFV24,8)\n",
      "(PEOEVSA11,7)\n",
      "(PEOEVSA2,7)\n",
      "(slogPVSA9,7)\n",
      "(Chiv4c,7)\n",
      "(PEOEVSA3,7)\n",
      "(RDFU30,7)\n",
      "(MRVSA3,7)\n",
      "(RDFE28,7)\n",
      "(MRVSA8,6)\n",
      "(PEOEVSA12,6)\n",
      "(Chi5ch,6)\n",
      "(MRVSA2,6)\n",
      "(RDFP29,6)\n",
      "(RDFV29,6)\n",
      "(RDFM27,6)\n",
      "(RDFP30,6)\n",
      "(RDFP24,5)\n",
      "(RDFM25,5)\n",
      "(RDFP25,5)\n",
      "(slogPVSA0,5)\n",
      "(EstateVSA6,5)\n",
      "(RDFE29,5)\n",
      "(RDFM24,5)\n",
      "(MRVSA5,4)\n",
      "(RDFV23,4)\n",
      "(EstateVSA2,4)\n",
      "(Chiv5ch,4)\n",
      "(RDFE27,4)\n",
      "(RDFV28,4)\n",
      "(RDFV26,4)\n",
      "(RDFU29,4)\n",
      "(RDFU25,4)\n",
      "(RDFP27,3)\n",
      "(RDFM22,3)\n",
      "(RDFU28,3)\n",
      "(GATSm8,3)\n",
      "(RDFU24,3)\n",
      "(EstateVSA5,3)\n",
      "(slogPVSA11,3)\n",
      "(RDFE26,3)\n",
      "(Tp,3)\n",
      "(RDFE23,3)\n",
      "(RDFU22,3)\n",
      "(PEOEVSA8,3)\n",
      "(RDFP28,3)\n",
      "(RDFU21,3)\n",
      "(RDFE25,3)\n",
      "(L1p,2)\n",
      "(RDFM26,2)\n",
      "(rygr,2)\n",
      "(RDFM28,2)\n",
      "(RDFE22,2)\n",
      "(RDFU23,2)\n",
      "(RDFP14,2)\n",
      "(PEOEVSA1,2)\n",
      "(EstateVSA0,2)\n",
      "(Tu,2)\n",
      "(RDFV25,2)\n",
      "(RDFP22,2)\n",
      "(RDFV21,2)\n",
      "(RDFP26,2)\n",
      "(RDFU26,2)\n",
      "(Vm,2)\n",
      "(slogPVSA2,2)\n",
      "(RDFM20,2)\n",
      "(RDFE21,2)\n",
      "(RDFU9,1)\n",
      "(RDFM2,1)\n",
      "(W3DH,1)\n",
      "(GeDi,1)\n",
      "(Chi3,1)\n",
      "(L1e,1)\n",
      "(nhyd,1)\n",
      "(E1u,1)\n",
      "(Chiv6ch,1)\n",
      "(LogP,1)\n",
      "(Ve,1)\n",
      "(RDFE20,1)\n",
      "(slogPVSA10,1)\n",
      "(RDFM19,1)\n",
      "(nhal,1)\n",
      "(J,1)\n",
      "(EstateVSA1,1)\n",
      "(RDFC14,1)\n",
      "(RDFP21,1)\n",
      "(RDFV12,1)\n",
      "(L1u,1)\n",
      "(RDFC25,1)\n",
      "(RDFC10,1)\n",
      "(RDFC13,1)\n",
      "(bcute5,1)\n",
      "(RDFU2,1)\n",
      "(bcutm5,1)\n",
      "(RDFE19,1)\n",
      "(bcutp13,1)\n",
      "(MoRSEP14,1)\n",
      "(GATSe8,1)\n",
      "(Gravto,1)\n",
      "(RDFU12,1)\n",
      "(MSA,1)\n",
      "(RDFE24,1)\n",
      "(Vv,1)\n",
      "(RDFU20,1)\n",
      "(RDFE1,1)\n",
      "(P1e,1)\n",
      "(AWeight,1)\n",
      "(RDFM23,1)\n",
      "(Tv,1)\n",
      "(RDFM12,1)\n",
      "(Hato,1)\n",
      "(P1m,1)\n",
      "(bcutv13,1)\n",
      "(MATSm6,1)\n",
      "(bcutv7,1)\n",
      "(PEOEVSA13,1)\n",
      "(Chi7,1)\n",
      "(WNSA3,1)\n",
      "(EstateVSA4,1)\n",
      "(bcutv16,1)\n",
      "(L1m,1)\n",
      "(bcutv4,1)\n",
      "(Chi6ch,1)\n"
     ]
    },
    {
     "data": {
      "text/plain": [
       "\u001b[36mfeatPerTree\u001b[39m: \u001b[32mArray\u001b[39m[\u001b[32mString\u001b[39m] = \u001b[33mArray\u001b[39m(\n",
       "  \u001b[32m\"MRVSA2\"\u001b[39m,\n",
       "  \u001b[32m\"RDFM30\"\u001b[39m,\n",
       "  \u001b[32m\"VSAEstate2\"\u001b[39m,\n",
       "  \u001b[32m\"RDFU25\"\u001b[39m,\n",
       "  \u001b[32m\"RDFM30\"\u001b[39m,\n",
       "  \u001b[32m\"Chi5ch\"\u001b[39m,\n",
       "  \u001b[32m\"VSAEstate3\"\u001b[39m,\n",
       "  \u001b[32m\"RDFM29\"\u001b[39m,\n",
       "  \u001b[32m\"VSAEstate3\"\u001b[39m,\n",
       "  \u001b[32m\"RDFV29\"\u001b[39m,\n",
       "  \u001b[32m\"PEOEVSA4\"\u001b[39m,\n",
       "\u001b[33m...\u001b[39m\n",
       "\u001b[36mfeatCounts\u001b[39m: \u001b[32mMap\u001b[39m[\u001b[32mString\u001b[39m, \u001b[32mInt\u001b[39m] = \u001b[33mMap\u001b[39m(\n",
       "  \u001b[32m\"MRVSA8\"\u001b[39m -> \u001b[32m6\u001b[39m,\n",
       "  \u001b[32m\"PEOEVSA12\"\u001b[39m -> \u001b[32m6\u001b[39m,\n",
       "  \u001b[32m\"RDFU9\"\u001b[39m -> \u001b[32m1\u001b[39m,\n",
       "  \u001b[32m\"VSAEstate2\"\u001b[39m -> \u001b[32m18\u001b[39m,\n",
       "  \u001b[32m\"MRVSA5\"\u001b[39m -> \u001b[32m4\u001b[39m,\n",
       "  \u001b[32m\"Chi5ch\"\u001b[39m -> \u001b[32m6\u001b[39m,\n",
       "  \u001b[32m\"RDFM2\"\u001b[39m -> \u001b[32m1\u001b[39m,\n",
       "  \u001b[32m\"RDFM29\"\u001b[39m -> \u001b[32m13\u001b[39m,\n",
       "  \u001b[32m\"W3DH\"\u001b[39m -> \u001b[32m1\u001b[39m,\n",
       "  \u001b[32m\"RDFP27\"\u001b[39m -> \u001b[32m3\u001b[39m,\n",
       "  \u001b[32m\"GeDi\"\u001b[39m -> \u001b[32m1\u001b[39m,\n",
       "\u001b[33m...\u001b[39m\n",
       "\u001b[36mfeatHist\u001b[39m: \u001b[32mVector\u001b[39m[(\u001b[32mString\u001b[39m, \u001b[32mInt\u001b[39m)] = \u001b[33mVector\u001b[39m(\n",
       "  (\u001b[32m\"VSAEstate0\"\u001b[39m, \u001b[32m20\u001b[39m),\n",
       "  (\u001b[32m\"RNCS\"\u001b[39m, \u001b[32m20\u001b[39m),\n",
       "  (\u001b[32m\"MRVSA7\"\u001b[39m, \u001b[32m20\u001b[39m),\n",
       "  (\u001b[32m\"VSAEstate2\"\u001b[39m, \u001b[32m18\u001b[39m),\n",
       "  (\u001b[32m\"VSAEstate3\"\u001b[39m, \u001b[32m18\u001b[39m),\n",
       "  (\u001b[32m\"slogPVSA8\"\u001b[39m, \u001b[32m17\u001b[39m),\n",
       "  (\u001b[32m\"slogPVSA6\"\u001b[39m, \u001b[32m15\u001b[39m),\n",
       "  (\u001b[32m\"RDFM29\"\u001b[39m, \u001b[32m13\u001b[39m),\n",
       "  (\u001b[32m\"RDFM30\"\u001b[39m, \u001b[32m13\u001b[39m),\n",
       "  (\u001b[32m\"RDFV30\"\u001b[39m, \u001b[32m12\u001b[39m),\n",
       "  (\u001b[32m\"RDFU27\"\u001b[39m, \u001b[32m11\u001b[39m),\n",
       "\u001b[33m...\u001b[39m"
      ]
     },
     "execution_count": 195,
     "metadata": {},
     "output_type": "execute_result"
    }
   ],
   "source": [
    "val featPerTree = for {\n",
    "    rmap <- frRules\n",
    "    feats = {\n",
    "        val fraw = for {\n",
    "            vrules <- rmap.values\n",
    "            plist <- vrules\n",
    "            pred <- plist\n",
    "        } yield { pred.feature }\n",
    "        fraw.toSet.toSeq\n",
    "    }\n",
    "    f <- feats\n",
    "} yield { f }\n",
    "val featCounts = featPerTree.foldLeft(Map.empty[String, Int])((m, f) => m + (f -> (1 + m.getOrElse(f, 0))))\n",
    "val featHist = featCounts.toSeq.sortBy { case (_, n) => -n}.toVector\n",
    "println(featHist.mkString(\"\\n\"))"
   ]
  },
  {
   "cell_type": "code",
   "execution_count": 196,
   "metadata": {
    "scrolled": false
   },
   "outputs": [
    {
     "data": {
      "text/plain": [
       "\u001b[36mfeatSelect\u001b[39m: \u001b[32mVector\u001b[39m[\u001b[32mString\u001b[39m] = \u001b[33mVector\u001b[39m(\n",
       "  \u001b[32m\"VSAEstate0\"\u001b[39m,\n",
       "  \u001b[32m\"RNCS\"\u001b[39m,\n",
       "  \u001b[32m\"MRVSA7\"\u001b[39m,\n",
       "  \u001b[32m\"VSAEstate2\"\u001b[39m,\n",
       "  \u001b[32m\"VSAEstate3\"\u001b[39m,\n",
       "  \u001b[32m\"slogPVSA8\"\u001b[39m,\n",
       "  \u001b[32m\"slogPVSA6\"\u001b[39m,\n",
       "  \u001b[32m\"RDFM29\"\u001b[39m,\n",
       "  \u001b[32m\"RDFM30\"\u001b[39m,\n",
       "  \u001b[32m\"RDFV30\"\u001b[39m,\n",
       "  \u001b[32m\"RDFU27\"\u001b[39m,\n",
       "\u001b[33m...\u001b[39m\n",
       "\u001b[36mres195_1\u001b[39m: \u001b[32mInt\u001b[39m = \u001b[32m85\u001b[39m\n",
       "\u001b[36mres195_2\u001b[39m: \u001b[32mInt\u001b[39m = \u001b[32m141\u001b[39m"
      ]
     },
     "execution_count": 196,
     "metadata": {},
     "output_type": "execute_result"
    }
   ],
   "source": [
    "val featSelect = featHist.filter { case (_, n) => n > 1 }.map { case (f, _) => f }\n",
    "featSelect.length\n",
    "featHist.length"
   ]
  },
  {
   "cell_type": "code",
   "execution_count": 197,
   "metadata": {
    "scrolled": false
   },
   "outputs": [
    {
     "data": {
      "text/plain": [
       "\u001b[36mtrainCSVFR\u001b[39m: \u001b[32mDataFrame\u001b[39m = [_c0: string, VSAEstate0: string ... 84 more fields]\n",
       "\u001b[36mtestCSVFR\u001b[39m: \u001b[32mDataFrame\u001b[39m = [_c0: string, VSAEstate0: string ... 84 more fields]"
      ]
     },
     "execution_count": 197,
     "metadata": {},
     "output_type": "execute_result"
    }
   ],
   "source": [
    "val trainCSVFR = trainCSV.select(\"_c0\", featSelect :_*)\n",
    "val testCSVFR = testCSV.select(\"_c0\", featSelect :_*)"
   ]
  },
  {
   "cell_type": "code",
   "execution_count": 198,
   "metadata": {
    "scrolled": true
   },
   "outputs": [
    {
     "name": "stdout",
     "output_type": "stream",
     "text": [
      "_c0, NR.AhR, NR.AR, NR.AR.LBD, NR.Aromatase, NR.ER, NR.ER.LBD, NR.PPAR.gamma, SR.ARE, SR.ATAD5, SR.HSE, SR.MMP, SR.p53\n"
     ]
    }
   ],
   "source": [
    "println(trainLabelsCSV.columns.mkString(\", \"))"
   ]
  },
  {
   "cell_type": "code",
   "execution_count": 199,
   "metadata": {
    "scrolled": false
   },
   "outputs": [
    {
     "data": {
      "text/plain": [
       "defined \u001b[32mfunction\u001b[39m \u001b[36mcsvToPairs\u001b[39m\n",
       "defined \u001b[32mfunction\u001b[39m \u001b[36mlpFR\u001b[39m"
      ]
     },
     "execution_count": 199,
     "metadata": {},
     "output_type": "execute_result"
    }
   ],
   "source": [
    "def csvToPairs(csv: DataFrame) =\n",
    "    csv.rdd.map(_.toSeq)\n",
    "    .map(v => (v.head.asInstanceOf[String], v.tail.toVector.map(_.asInstanceOf[String].toDouble)))\n",
    "def lpFR(tlab: String, labCSV: DataFrame, fvCSV: DataFrame) = {\n",
    "    val labCol = labCSV.select(\"_c0\", tlab)\n",
    "    val labPairs = labCol.filter(labCol(tlab) =!= \"NA\")\n",
    "        .rdd.map(_.toSeq).map { s => (s(0).asInstanceOf[String], s(1).asInstanceOf[String].toDouble) }\n",
    "    val fvPairs = csvToPairs(fvCSV)\n",
    "    val lp = labPairs.join(fvPairs).map { case (_, (lab, feats)) => LabeledPoint(lab, feats.toSpark) }\n",
    "    lp\n",
    "}"
   ]
  },
  {
   "cell_type": "code",
   "execution_count": 200,
   "metadata": {},
   "outputs": [
    {
     "data": {
      "text/plain": [
       "defined \u001b[32mclass\u001b[39m \u001b[36mTrainTestSets\u001b[39m\n",
       "\u001b[36mtrainTestSets\u001b[39m: \u001b[32mMap\u001b[39m[\u001b[32mString\u001b[39m, \u001b[32mwrapper\u001b[39m.\u001b[32mwrapper\u001b[39m.\u001b[32mTrainTestSets\u001b[39m] = \u001b[33mMap\u001b[39m(\n",
       "  \u001b[32m\"SR.MMP\"\u001b[39m -> \u001b[33mTrainTestSets\u001b[39m(\n",
       "    MapPartitionsRDD[284503] at map at cmd198.sc:9,\n",
       "    MapPartitionsRDD[284515] at map at cmd198.sc:9,\n",
       "    MapPartitionsRDD[284527] at map at cmd198.sc:9,\n",
       "    MapPartitionsRDD[284539] at map at cmd198.sc:9\n",
       "  ),\n",
       "  \u001b[32m\"NR.AhR\"\u001b[39m -> \u001b[33mTrainTestSets\u001b[39m(\n",
       "    MapPartitionsRDD[284009] at map at cmd198.sc:9,\n",
       "    MapPartitionsRDD[284025] at map at cmd198.sc:9,\n",
       "    MapPartitionsRDD[284041] at map at cmd198.sc:9,\n",
       "    MapPartitionsRDD[284059] at map at cmd198.sc:9\n",
       "\u001b[33m...\u001b[39m"
      ]
     },
     "execution_count": 200,
     "metadata": {},
     "output_type": "execute_result"
    }
   ],
   "source": [
    "case class TrainTestSets(\n",
    "    trainAll: RDD[LabeledPoint], testAll: RDD[LabeledPoint],\n",
    "    trainFR: RDD[LabeledPoint], testFR: RDD[LabeledPoint]\n",
    ")\n",
    "val trainTestSets = trainLabelsCSV.columns.tail.map { acol => (acol, s\"`$acol`\")}\n",
    "    .foldLeft(Map.empty[String,TrainTestSets]) { case (mp, (acolRaw, acol)) =>\n",
    "        mp + (acolRaw -> TrainTestSets(\n",
    "            lpFR(acol, trainLabelsCSV, trainCSV).cache(), lpFR(acol, testLabelsCSV, testCSV).cache(),\n",
    "            lpFR(acol, trainLabelsCSV, trainCSVFR).cache(), lpFR(acol, testLabelsCSV, testCSVFR.cache())\n",
    "        ))\n",
    "    }"
   ]
  },
  {
   "cell_type": "code",
   "execution_count": 201,
   "metadata": {
    "scrolled": false
   },
   "outputs": [
    {
     "data": {
      "text/plain": [
       "\u001b[32mimport \u001b[39m\u001b[36morg.apache.spark.mllib.classification.SVMWithSGD\n",
       "\u001b[39m\n",
       "\u001b[32mimport \u001b[39m\u001b[36morg.apache.spark.mllib.classification.NaiveBayes\n",
       "\u001b[39m\n",
       "\u001b[32mimport \u001b[39m\u001b[36morg.apache.spark.mllib.tree.GradientBoostedTrees\n",
       "\u001b[39m\n",
       "\u001b[32mimport \u001b[39m\u001b[36morg.apache.spark.mllib.tree.configuration.BoostingStrategy\n",
       "\u001b[39m\n",
       "defined \u001b[32mfunction\u001b[39m \u001b[36mtrainLRModel\u001b[39m\n",
       "defined \u001b[32mfunction\u001b[39m \u001b[36mtrainSVMModel\u001b[39m\n",
       "defined \u001b[32mfunction\u001b[39m \u001b[36mtrainGBModel\u001b[39m"
      ]
     },
     "execution_count": 201,
     "metadata": {},
     "output_type": "execute_result"
    }
   ],
   "source": [
    "import org.apache.spark.mllib.classification.SVMWithSGD\n",
    "import org.apache.spark.mllib.classification.NaiveBayes\n",
    "import org.apache.spark.mllib.tree.GradientBoostedTrees\n",
    "import org.apache.spark.mllib.tree.configuration.BoostingStrategy\n",
    "def trainLRModel(train: RDD[LabeledPoint], test: RDD[LabeledPoint]) = {\n",
    "    val lrModel = new LogisticRegressionWithLBFGS().run(train)\n",
    "    val predictionAndLabels = test.map { case LabeledPoint(label, features) =>\n",
    "        val prediction = lrModel.predict(features)\n",
    "        (prediction, label)\n",
    "    }\n",
    "    val metrics = new MulticlassMetrics(predictionAndLabels)\n",
    "    (lrModel, predictionAndLabels, metrics)\n",
    "}\n",
    "def trainSVMModel(train: RDD[LabeledPoint], test: RDD[LabeledPoint]) = {\n",
    "    val model = new SVMWithSGD().run(train)\n",
    "    val predictionAndLabels = test.map { case LabeledPoint(label, features) =>\n",
    "        val prediction = model.predict(features)\n",
    "        (prediction, label)\n",
    "    }\n",
    "    val metrics = new MulticlassMetrics(predictionAndLabels)\n",
    "    (model, predictionAndLabels, metrics)\n",
    "}\n",
    "def trainGBModel(train: RDD[LabeledPoint], test: RDD[LabeledPoint]) = {\n",
    "    val boostingStrategy = BoostingStrategy.defaultParams(\"Classification\")\n",
    "    boostingStrategy.numIterations = 10\n",
    "    boostingStrategy.treeStrategy.numClasses = 2\n",
    "    boostingStrategy.treeStrategy.maxDepth = 6\n",
    "    boostingStrategy.treeStrategy.categoricalFeaturesInfo = Map[Int, Int]()\n",
    "    val model = GradientBoostedTrees.train(train, boostingStrategy)\n",
    "    val predictionAndLabels = test.map { case LabeledPoint(label, features) =>\n",
    "        val prediction = model.predict(features)\n",
    "        (prediction, label)\n",
    "    }\n",
    "    val metrics = new MulticlassMetrics(predictionAndLabels)\n",
    "    (model, predictionAndLabels, metrics)\n",
    "}"
   ]
  },
  {
   "cell_type": "code",
   "execution_count": 202,
   "metadata": {},
   "outputs": [
    {
     "data": {
      "text/plain": [
       "defined \u001b[32mfunction\u001b[39m \u001b[36mcomparePlot\u001b[39m"
      ]
     },
     "execution_count": 202,
     "metadata": {},
     "output_type": "execute_result"
    }
   ],
   "source": [
    "def comparePlot(data: Array[Map[String, Any]]) = {\n",
    "    val ffn = fvSketches.length\n",
    "    val rfn = featSelect.length\n",
    "    val expr = s\"\"\" datum.feats < $ffn ? (datum.accuracy >= datum.alt ? \"Reduced ($rfn) >=\" : \"Reduced ($rfn) <\") : \"Full ($ffn)\" \"\"\"\n",
    "    Vegas().\n",
    "    withData(data).\n",
    "    mark(Bar).\n",
    "    addTransformCalculation(\"features\", expr).\n",
    "    encodeColumn(\"assay\", Nominal, scale=Scale(padding=20.0),\n",
    "                 axis=Axis(title=\"tox assay\", orient=Orient.Bottom, axisWidth=1.0, labelAngle=45,labelAlign=\"bottom\",offset= -5)).\n",
    "    encodeY(\"accuracy\", Quantitative, axis=Axis(title=\"model accuracy\", grid=false)).\n",
    "    encodeX(\"feats\", Nominal, scale=Scale(bandSize = 15), hideAxis=true).\n",
    "    encodeColor(\"features\", Nominal, scale=Scale(rangeNominals=List(\"#e06118\", \"#99c69c\", \"#2841ff\"))).\n",
    "    configFacet(cell=CellConfig(strokeWidth = 0)).\n",
    "    show\n",
    "}"
   ]
  },
  {
   "cell_type": "code",
   "execution_count": 203,
   "metadata": {
    "scrolled": false
   },
   "outputs": [
    {
     "name": "stderr",
     "output_type": "stream",
     "text": [
      "                                                                                \r"
     ]
    },
    {
     "data": {
      "text/html": [
       "\n",
       "  <iframe id=\"frame-vegas-f40a6ca3-17ff-43dc-b68e-6883fd32d855\" sandbox=\"allow-scripts allow-same-origin\" style=\"border: none; width: 100%\" srcdoc=\"&lt;html&gt;\n",
       "  &lt;head&gt;\n",
       "    &lt;script src=&quot;https://cdn.jsdelivr.net/webjars/org.webjars.bower/d3/3.5.17/d3.min.js&quot; charset=&quot;utf-8&quot;&gt;&lt;/script&gt;\n",
       "&lt;script src=&quot;https://cdn.jsdelivr.net/webjars/org.webjars.bower/vega/2.6.3/vega.min.js&quot; charset=&quot;utf-8&quot;&gt;&lt;/script&gt;\n",
       "&lt;script src=&quot;https://cdn.jsdelivr.net/webjars/org.webjars.bower/vega-lite/1.2.0/vega-lite.min.js&quot; charset=&quot;utf-8&quot;&gt;&lt;/script&gt;\n",
       "&lt;script src=&quot;https://vega.github.io/vega-editor/vendor/vega-embed.js&quot; charset=&quot;utf-8&quot;&gt;&lt;/script&gt;\n",
       "  &lt;/head&gt;\n",
       "  &lt;body&gt;\n",
       " &lt;script&gt;\n",
       "   var embedSpec = {\n",
       "     mode: &quot;vega-lite&quot;,\n",
       "     spec: {\n",
       "  &quot;mark&quot; : &quot;bar&quot;,\n",
       "  &quot;encoding&quot; : {\n",
       "    &quot;column&quot; : {\n",
       "      &quot;axis&quot; : {\n",
       "        &quot;labelAngle&quot; : 45.0,\n",
       "        &quot;orient&quot; : &quot;bottom&quot;,\n",
       "        &quot;title&quot; : &quot;tox assay&quot;,\n",
       "        &quot;axisWidth&quot; : 1.0,\n",
       "        &quot;offset&quot; : -5.0,\n",
       "        &quot;labelAlign&quot; : &quot;bottom&quot;\n",
       "      },\n",
       "      &quot;scale&quot; : {\n",
       "        &quot;padding&quot; : 20.0\n",
       "      },\n",
       "      &quot;field&quot; : &quot;assay&quot;,\n",
       "      &quot;type&quot; : &quot;nominal&quot;\n",
       "    },\n",
       "    &quot;x&quot; : {\n",
       "      &quot;axis&quot; : false,\n",
       "      &quot;scale&quot; : {\n",
       "        &quot;bandSize&quot; : 15.0\n",
       "      },\n",
       "      &quot;field&quot; : &quot;feats&quot;,\n",
       "      &quot;type&quot; : &quot;nominal&quot;\n",
       "    },\n",
       "    &quot;y&quot; : {\n",
       "      &quot;axis&quot; : {\n",
       "        &quot;title&quot; : &quot;model accuracy&quot;,\n",
       "        &quot;grid&quot; : false\n",
       "      },\n",
       "      &quot;field&quot; : &quot;accuracy&quot;,\n",
       "      &quot;type&quot; : &quot;quantitative&quot;\n",
       "    },\n",
       "    &quot;color&quot; : {\n",
       "      &quot;scale&quot; : {\n",
       "        &quot;range&quot; : [\n",
       "          &quot;#e06118&quot;,\n",
       "          &quot;#99c69c&quot;,\n",
       "          &quot;#2841ff&quot;\n",
       "        ]\n",
       "      },\n",
       "      &quot;field&quot; : &quot;features&quot;,\n",
       "      &quot;type&quot; : &quot;nominal&quot;\n",
       "    }\n",
       "  },\n",
       "  &quot;data&quot; : {\n",
       "    &quot;values&quot; : [\n",
       "      {\n",
       "        &quot;assay&quot; : &quot;NR.AhR&quot;,\n",
       "        &quot;feats&quot; : 801,\n",
       "        &quot;accuracy&quot; : 0.8803278688524591,\n",
       "        &quot;alt&quot; : 0.8836065573770492\n",
       "      },\n",
       "      {\n",
       "        &quot;assay&quot; : &quot;NR.AhR&quot;,\n",
       "        &quot;feats&quot; : 85,\n",
       "        &quot;accuracy&quot; : 0.8836065573770492,\n",
       "        &quot;alt&quot; : 0.8803278688524591\n",
       "      },\n",
       "      {\n",
       "        &quot;assay&quot; : &quot;NR.AR&quot;,\n",
       "        &quot;feats&quot; : 801,\n",
       "        &quot;accuracy&quot; : 0.9744027303754266,\n",
       "        &quot;alt&quot; : 0.9761092150170648\n",
       "      },\n",
       "      {\n",
       "        &quot;assay&quot; : &quot;NR.AR&quot;,\n",
       "        &quot;feats&quot; : 85,\n",
       "        &quot;accuracy&quot; : 0.9761092150170648,\n",
       "        &quot;alt&quot; : 0.9744027303754266\n",
       "      },\n",
       "      {\n",
       "        &quot;assay&quot; : &quot;NR.AR.LBD&quot;,\n",
       "        &quot;feats&quot; : 801,\n",
       "        &quot;accuracy&quot; : 0.9725085910652921,\n",
       "        &quot;alt&quot; : 0.9845360824742269\n",
       "      },\n",
       "      {\n",
       "        &quot;assay&quot; : &quot;NR.AR.LBD&quot;,\n",
       "        &quot;feats&quot; : 85,\n",
       "        &quot;accuracy&quot; : 0.9845360824742269,\n",
       "        &quot;alt&quot; : 0.9725085910652921\n",
       "      },\n",
       "      {\n",
       "        &quot;assay&quot; : &quot;NR.Aromatase&quot;,\n",
       "        &quot;feats&quot; : 801,\n",
       "        &quot;accuracy&quot; : 0.9185606060606061,\n",
       "        &quot;alt&quot; : 0.9185606060606061\n",
       "      },\n",
       "      {\n",
       "        &quot;assay&quot; : &quot;NR.Aromatase&quot;,\n",
       "        &quot;feats&quot; : 85,\n",
       "        &quot;accuracy&quot; : 0.9185606060606061,\n",
       "        &quot;alt&quot; : 0.9185606060606061\n",
       "      },\n",
       "      {\n",
       "        &quot;assay&quot; : &quot;NR.ER&quot;,\n",
       "        &quot;feats&quot; : 801,\n",
       "        &quot;accuracy&quot; : 0.9050387596899225,\n",
       "        &quot;alt&quot; : 0.9031007751937985\n",
       "      },\n",
       "      {\n",
       "        &quot;assay&quot; : &quot;NR.ER&quot;,\n",
       "        &quot;feats&quot; : 85,\n",
       "        &quot;accuracy&quot; : 0.9031007751937985,\n",
       "        &quot;alt&quot; : 0.9050387596899225\n",
       "      },\n",
       "      {\n",
       "        &quot;assay&quot; : &quot;NR.ER.LBD&quot;,\n",
       "        &quot;feats&quot; : 801,\n",
       "        &quot;accuracy&quot; : 0.96,\n",
       "        &quot;alt&quot; : 0.96\n",
       "      },\n",
       "      {\n",
       "        &quot;assay&quot; : &quot;NR.ER.LBD&quot;,\n",
       "        &quot;feats&quot; : 85,\n",
       "        &quot;accuracy&quot; : 0.96,\n",
       "        &quot;alt&quot; : 0.96\n",
       "      },\n",
       "      {\n",
       "        &quot;assay&quot; : &quot;NR.PPAR.gamma&quot;,\n",
       "        &quot;feats&quot; : 801,\n",
       "        &quot;accuracy&quot; : 0.9272727272727272,\n",
       "        &quot;alt&quot; : 0.9421487603305785\n",
       "      },\n",
       "      {\n",
       "        &quot;assay&quot; : &quot;NR.PPAR.gamma&quot;,\n",
       "        &quot;feats&quot; : 85,\n",
       "        &quot;accuracy&quot; : 0.9421487603305785,\n",
       "        &quot;alt&quot; : 0.9272727272727272\n",
       "      },\n",
       "      {\n",
       "        &quot;assay&quot; : &quot;SR.ARE&quot;,\n",
       "        &quot;feats&quot; : 801,\n",
       "        &quot;accuracy&quot; : 0.8162162162162162,\n",
       "        &quot;alt&quot; : 0.8288288288288288\n",
       "      },\n",
       "      {\n",
       "        &quot;assay&quot; : &quot;SR.ARE&quot;,\n",
       "        &quot;feats&quot; : 85,\n",
       "        &quot;accuracy&quot; : 0.8288288288288288,\n",
       "        &quot;alt&quot; : 0.8162162162162162\n",
       "      },\n",
       "      {\n",
       "        &quot;assay&quot; : &quot;SR.ATAD5&quot;,\n",
       "        &quot;feats&quot; : 801,\n",
       "        &quot;accuracy&quot; : 0.9372990353697749,\n",
       "        &quot;alt&quot; : 0.9356913183279743\n",
       "      },\n",
       "      {\n",
       "        &quot;assay&quot; : &quot;SR.ATAD5&quot;,\n",
       "        &quot;feats&quot; : 85,\n",
       "        &quot;accuracy&quot; : 0.9356913183279743,\n",
       "        &quot;alt&quot; : 0.9372990353697749\n",
       "      },\n",
       "      {\n",
       "        &quot;assay&quot; : &quot;SR.HSE&quot;,\n",
       "        &quot;feats&quot; : 801,\n",
       "        &quot;accuracy&quot; : 0.9590163934426229,\n",
       "        &quot;alt&quot; : 0.9590163934426229\n",
       "      },\n",
       "      {\n",
       "        &quot;assay&quot; : &quot;SR.HSE&quot;,\n",
       "        &quot;feats&quot; : 85,\n",
       "        &quot;accuracy&quot; : 0.9590163934426229,\n",
       "        &quot;alt&quot; : 0.9590163934426229\n",
       "      },\n",
       "      {\n",
       "        &quot;assay&quot; : &quot;SR.MMP&quot;,\n",
       "        &quot;feats&quot; : 801,\n",
       "        &quot;accuracy&quot; : 0.8931860036832413,\n",
       "        &quot;alt&quot; : 0.8821362799263351\n",
       "      },\n",
       "      {\n",
       "        &quot;assay&quot; : &quot;SR.MMP&quot;,\n",
       "        &quot;feats&quot; : 85,\n",
       "        &quot;accuracy&quot; : 0.8821362799263351,\n",
       "        &quot;alt&quot; : 0.8931860036832413\n",
       "      },\n",
       "      {\n",
       "        &quot;assay&quot; : &quot;SR.p53&quot;,\n",
       "        &quot;feats&quot; : 801,\n",
       "        &quot;accuracy&quot; : 0.922077922077922,\n",
       "        &quot;alt&quot; : 0.9253246753246753\n",
       "      },\n",
       "      {\n",
       "        &quot;assay&quot; : &quot;SR.p53&quot;,\n",
       "        &quot;feats&quot; : 85,\n",
       "        &quot;accuracy&quot; : 0.9253246753246753,\n",
       "        &quot;alt&quot; : 0.922077922077922\n",
       "      }\n",
       "    ]\n",
       "  },\n",
       "  &quot;transform&quot; : {\n",
       "    &quot;calculate&quot; : [\n",
       "      {\n",
       "        &quot;field&quot; : &quot;features&quot;,\n",
       "        &quot;expr&quot; : &quot; datum.feats &lt; 801 ? (datum.accuracy &gt;= datum.alt ? \\&quot;Reduced (85) &gt;=\\&quot; : \\&quot;Reduced (85) &lt;\\&quot;) : \\&quot;Full (801)\\&quot; &quot;\n",
       "      }\n",
       "    ]\n",
       "  },\n",
       "  &quot;config&quot; : {\n",
       "    &quot;facet&quot; : {\n",
       "      &quot;cell&quot; : {\n",
       "        &quot;strokeWidth&quot; : 0.0\n",
       "      }\n",
       "    }\n",
       "  }\n",
       "}\n",
       "   }\n",
       "   vg.embed(&quot;#vegas-f40a6ca3-17ff-43dc-b68e-6883fd32d855&quot;, embedSpec, function(error, result) {});\n",
       " &lt;/script&gt;\n",
       " &lt;div id='vegas-f40a6ca3-17ff-43dc-b68e-6883fd32d855'&gt;&lt;/div&gt;\n",
       "    &lt;/body&gt;\n",
       "&lt;/html&gt;\"></iframe>\n",
       "  <script>\n",
       "    if (typeof resizeIFrame != 'function') {\n",
       "      function resizeIFrame(el, k) {\n",
       "        $(el.contentWindow.document).ready(function() {\n",
       "          el.style.height = el.contentWindow.document.body.scrollHeight + 'px';\n",
       "        });\n",
       "        if (k <= 10) { setTimeout(function() { resizeIFrame(el, k+1) }, 1000 + (k * 250)) };\n",
       "      }\n",
       "    }\n",
       "    $().ready( function() { resizeIFrame($('#frame-vegas-f40a6ca3-17ff-43dc-b68e-6883fd32d855').get(0), 1); });\n",
       "  </script>\n",
       "    "
      ]
     },
     "metadata": {},
     "output_type": "display_data"
    },
    {
     "data": {
      "text/plain": [
       "\u001b[36mallvsFR\u001b[39m: \u001b[32mArray\u001b[39m[\u001b[32mMap\u001b[39m[\u001b[32mString\u001b[39m, \u001b[32mAny\u001b[39m]] = \u001b[33mArray\u001b[39m(\n",
       "  \u001b[33mMap\u001b[39m(\n",
       "    \u001b[32m\"assay\"\u001b[39m -> NR.AhR,\n",
       "    \u001b[32m\"feats\"\u001b[39m -> 801,\n",
       "    \u001b[32m\"accuracy\"\u001b[39m -> 0.8803278688524591,\n",
       "    \u001b[32m\"alt\"\u001b[39m -> 0.8836065573770492\n",
       "  ),\n",
       "  \u001b[33mMap\u001b[39m(\n",
       "    \u001b[32m\"assay\"\u001b[39m -> NR.AhR,\n",
       "    \u001b[32m\"feats\"\u001b[39m -> 85,\n",
       "    \u001b[32m\"accuracy\"\u001b[39m -> 0.8836065573770492,\n",
       "    \u001b[32m\"alt\"\u001b[39m -> 0.8803278688524591\n",
       "\u001b[33m...\u001b[39m"
      ]
     },
     "execution_count": 203,
     "metadata": {},
     "output_type": "execute_result"
    }
   ],
   "source": [
    "val allvsFR = trainLabelsCSV.columns.tail\n",
    "    .flatMap { acol =>\n",
    "        val TrainTestSets(trainAll, testAll, trainFR, testFR) = trainTestSets(acol)\n",
    "        val (modelAll, predLabAll, metricsAll) = trainLRModel(trainAll, testAll)\n",
    "        val (modelFR, predLabFR, metricsFR) = trainLRModel(trainFR, testFR)\n",
    "        Seq(\n",
    "            Map(\n",
    "                \"assay\" -> acol,\n",
    "                \"feats\" -> fvSketches.length,\n",
    "                \"accuracy\" -> metricsAll.accuracy,\n",
    "                \"alt\" -> metricsFR.accuracy\n",
    "            ),\n",
    "            Map(\n",
    "                \"assay\" -> acol,\n",
    "                \"feats\" -> featSelect.length,\n",
    "                \"accuracy\" -> metricsFR.accuracy,\n",
    "                \"alt\" -> metricsAll.accuracy\n",
    "            )\n",
    "        )\n",
    "    }\n",
    "comparePlot(allvsFR)"
   ]
  },
  {
   "cell_type": "code",
   "execution_count": 204,
   "metadata": {},
   "outputs": [
    {
     "data": {
      "text/html": [
       "\n",
       "  <iframe id=\"frame-vegas-6a325adb-a365-490b-b5e6-22099eedd719\" sandbox=\"allow-scripts allow-same-origin\" style=\"border: none; width: 100%\" srcdoc=\"&lt;html&gt;\n",
       "  &lt;head&gt;\n",
       "    &lt;script src=&quot;https://cdn.jsdelivr.net/webjars/org.webjars.bower/d3/3.5.17/d3.min.js&quot; charset=&quot;utf-8&quot;&gt;&lt;/script&gt;\n",
       "&lt;script src=&quot;https://cdn.jsdelivr.net/webjars/org.webjars.bower/vega/2.6.3/vega.min.js&quot; charset=&quot;utf-8&quot;&gt;&lt;/script&gt;\n",
       "&lt;script src=&quot;https://cdn.jsdelivr.net/webjars/org.webjars.bower/vega-lite/1.2.0/vega-lite.min.js&quot; charset=&quot;utf-8&quot;&gt;&lt;/script&gt;\n",
       "&lt;script src=&quot;https://vega.github.io/vega-editor/vendor/vega-embed.js&quot; charset=&quot;utf-8&quot;&gt;&lt;/script&gt;\n",
       "  &lt;/head&gt;\n",
       "  &lt;body&gt;\n",
       " &lt;script&gt;\n",
       "   var embedSpec = {\n",
       "     mode: &quot;vega-lite&quot;,\n",
       "     spec: {\n",
       "  &quot;mark&quot; : &quot;bar&quot;,\n",
       "  &quot;encoding&quot; : {\n",
       "    &quot;column&quot; : {\n",
       "      &quot;axis&quot; : {\n",
       "        &quot;labelAngle&quot; : 45.0,\n",
       "        &quot;orient&quot; : &quot;bottom&quot;,\n",
       "        &quot;title&quot; : &quot;tox assay&quot;,\n",
       "        &quot;axisWidth&quot; : 1.0,\n",
       "        &quot;offset&quot; : -5.0,\n",
       "        &quot;labelAlign&quot; : &quot;bottom&quot;\n",
       "      },\n",
       "      &quot;scale&quot; : {\n",
       "        &quot;padding&quot; : 20.0\n",
       "      },\n",
       "      &quot;field&quot; : &quot;assay&quot;,\n",
       "      &quot;type&quot; : &quot;nominal&quot;\n",
       "    },\n",
       "    &quot;x&quot; : {\n",
       "      &quot;axis&quot; : false,\n",
       "      &quot;scale&quot; : {\n",
       "        &quot;bandSize&quot; : 15.0\n",
       "      },\n",
       "      &quot;field&quot; : &quot;feats&quot;,\n",
       "      &quot;type&quot; : &quot;nominal&quot;\n",
       "    },\n",
       "    &quot;y&quot; : {\n",
       "      &quot;axis&quot; : {\n",
       "        &quot;title&quot; : &quot;model accuracy&quot;,\n",
       "        &quot;grid&quot; : false\n",
       "      },\n",
       "      &quot;field&quot; : &quot;accuracy&quot;,\n",
       "      &quot;type&quot; : &quot;quantitative&quot;\n",
       "    },\n",
       "    &quot;color&quot; : {\n",
       "      &quot;scale&quot; : {\n",
       "        &quot;range&quot; : [\n",
       "          &quot;#e06118&quot;,\n",
       "          &quot;#99c69c&quot;,\n",
       "          &quot;#2841ff&quot;\n",
       "        ]\n",
       "      },\n",
       "      &quot;field&quot; : &quot;features&quot;,\n",
       "      &quot;type&quot; : &quot;nominal&quot;\n",
       "    }\n",
       "  },\n",
       "  &quot;data&quot; : {\n",
       "    &quot;values&quot; : [\n",
       "      {\n",
       "        &quot;assay&quot; : &quot;NR.AhR&quot;,\n",
       "        &quot;feats&quot; : 801,\n",
       "        &quot;accuracy&quot; : 0.8803278688524591,\n",
       "        &quot;alt&quot; : 0.8803278688524591\n",
       "      },\n",
       "      {\n",
       "        &quot;assay&quot; : &quot;NR.AhR&quot;,\n",
       "        &quot;feats&quot; : 85,\n",
       "        &quot;accuracy&quot; : 0.8803278688524591,\n",
       "        &quot;alt&quot; : 0.8803278688524591\n",
       "      },\n",
       "      {\n",
       "        &quot;assay&quot; : &quot;NR.AR&quot;,\n",
       "        &quot;feats&quot; : 801,\n",
       "        &quot;accuracy&quot; : 0.9795221843003413,\n",
       "        &quot;alt&quot; : 0.9402730375426621\n",
       "      },\n",
       "      {\n",
       "        &quot;assay&quot; : &quot;NR.AR&quot;,\n",
       "        &quot;feats&quot; : 85,\n",
       "        &quot;accuracy&quot; : 0.9402730375426621,\n",
       "        &quot;alt&quot; : 0.9795221843003413\n",
       "      },\n",
       "      {\n",
       "        &quot;assay&quot; : &quot;NR.AR.LBD&quot;,\n",
       "        &quot;feats&quot; : 801,\n",
       "        &quot;accuracy&quot; : 0.9862542955326461,\n",
       "        &quot;alt&quot; : 0.9587628865979382\n",
       "      },\n",
       "      {\n",
       "        &quot;assay&quot; : &quot;NR.AR.LBD&quot;,\n",
       "        &quot;feats&quot; : 85,\n",
       "        &quot;accuracy&quot; : 0.9587628865979382,\n",
       "        &quot;alt&quot; : 0.9862542955326461\n",
       "      },\n",
       "      {\n",
       "        &quot;assay&quot; : &quot;NR.Aromatase&quot;,\n",
       "        &quot;feats&quot; : 801,\n",
       "        &quot;accuracy&quot; : 0.9261363636363636,\n",
       "        &quot;alt&quot; : 0.7102272727272727\n",
       "      },\n",
       "      {\n",
       "        &quot;assay&quot; : &quot;NR.Aromatase&quot;,\n",
       "        &quot;feats&quot; : 85,\n",
       "        &quot;accuracy&quot; : 0.7102272727272727,\n",
       "        &quot;alt&quot; : 0.9261363636363636\n",
       "      },\n",
       "      {\n",
       "        &quot;assay&quot; : &quot;NR.ER&quot;,\n",
       "        &quot;feats&quot; : 801,\n",
       "        &quot;accuracy&quot; : 0.9011627906976745,\n",
       "        &quot;alt&quot; : 0.9011627906976745\n",
       "      },\n",
       "      {\n",
       "        &quot;assay&quot; : &quot;NR.ER&quot;,\n",
       "        &quot;feats&quot; : 85,\n",
       "        &quot;accuracy&quot; : 0.9011627906976745,\n",
       "        &quot;alt&quot; : 0.9011627906976745\n",
       "      },\n",
       "      {\n",
       "        &quot;assay&quot; : &quot;NR.ER.LBD&quot;,\n",
       "        &quot;feats&quot; : 801,\n",
       "        &quot;accuracy&quot; : 0.9666666666666667,\n",
       "        &quot;alt&quot; : 0.9133333333333333\n",
       "      },\n",
       "      {\n",
       "        &quot;assay&quot; : &quot;NR.ER.LBD&quot;,\n",
       "        &quot;feats&quot; : 85,\n",
       "        &quot;accuracy&quot; : 0.9133333333333333,\n",
       "        &quot;alt&quot; : 0.9666666666666667\n",
       "      },\n",
       "      {\n",
       "        &quot;assay&quot; : &quot;NR.PPAR.gamma&quot;,\n",
       "        &quot;feats&quot; : 801,\n",
       "        &quot;accuracy&quot; : 0.9487603305785124,\n",
       "        &quot;alt&quot; : 0.947107438016529\n",
       "      },\n",
       "      {\n",
       "        &quot;assay&quot; : &quot;NR.PPAR.gamma&quot;,\n",
       "        &quot;feats&quot; : 85,\n",
       "        &quot;accuracy&quot; : 0.947107438016529,\n",
       "        &quot;alt&quot; : 0.9487603305785124\n",
       "      },\n",
       "      {\n",
       "        &quot;assay&quot; : &quot;SR.ARE&quot;,\n",
       "        &quot;feats&quot; : 801,\n",
       "        &quot;accuracy&quot; : 0.8324324324324325,\n",
       "        &quot;alt&quot; : 0.818018018018018\n",
       "      },\n",
       "      {\n",
       "        &quot;assay&quot; : &quot;SR.ARE&quot;,\n",
       "        &quot;feats&quot; : 85,\n",
       "        &quot;accuracy&quot; : 0.818018018018018,\n",
       "        &quot;alt&quot; : 0.8324324324324325\n",
       "      },\n",
       "      {\n",
       "        &quot;assay&quot; : &quot;SR.ATAD5&quot;,\n",
       "        &quot;feats&quot; : 801,\n",
       "        &quot;accuracy&quot; : 0.9389067524115756,\n",
       "        &quot;alt&quot; : 0.842443729903537\n",
       "      },\n",
       "      {\n",
       "        &quot;assay&quot; : &quot;SR.ATAD5&quot;,\n",
       "        &quot;feats&quot; : 85,\n",
       "        &quot;accuracy&quot; : 0.842443729903537,\n",
       "        &quot;alt&quot; : 0.9389067524115756\n",
       "      },\n",
       "      {\n",
       "        &quot;assay&quot; : &quot;SR.HSE&quot;,\n",
       "        &quot;feats&quot; : 801,\n",
       "        &quot;accuracy&quot; : 0.9639344262295082,\n",
       "        &quot;alt&quot; : 0.7737704918032787\n",
       "      },\n",
       "      {\n",
       "        &quot;assay&quot; : &quot;SR.HSE&quot;,\n",
       "        &quot;feats&quot; : 85,\n",
       "        &quot;accuracy&quot; : 0.7737704918032787,\n",
       "        &quot;alt&quot; : 0.9639344262295082\n",
       "      },\n",
       "      {\n",
       "        &quot;assay&quot; : &quot;SR.MMP&quot;,\n",
       "        &quot;feats&quot; : 801,\n",
       "        &quot;accuracy&quot; : 0.8895027624309392,\n",
       "        &quot;alt&quot; : 0.7900552486187845\n",
       "      },\n",
       "      {\n",
       "        &quot;assay&quot; : &quot;SR.MMP&quot;,\n",
       "        &quot;feats&quot; : 85,\n",
       "        &quot;accuracy&quot; : 0.7900552486187845,\n",
       "        &quot;alt&quot; : 0.8895027624309392\n",
       "      },\n",
       "      {\n",
       "        &quot;assay&quot; : &quot;SR.p53&quot;,\n",
       "        &quot;feats&quot; : 801,\n",
       "        &quot;accuracy&quot; : 0.9334415584415584,\n",
       "        &quot;alt&quot; : 0.9301948051948052\n",
       "      },\n",
       "      {\n",
       "        &quot;assay&quot; : &quot;SR.p53&quot;,\n",
       "        &quot;feats&quot; : 85,\n",
       "        &quot;accuracy&quot; : 0.9301948051948052,\n",
       "        &quot;alt&quot; : 0.9334415584415584\n",
       "      }\n",
       "    ]\n",
       "  },\n",
       "  &quot;transform&quot; : {\n",
       "    &quot;calculate&quot; : [\n",
       "      {\n",
       "        &quot;field&quot; : &quot;features&quot;,\n",
       "        &quot;expr&quot; : &quot; datum.feats &lt; 801 ? (datum.accuracy &gt;= datum.alt ? \\&quot;Reduced (85) &gt;=\\&quot; : \\&quot;Reduced (85) &lt;\\&quot;) : \\&quot;Full (801)\\&quot; &quot;\n",
       "      }\n",
       "    ]\n",
       "  },\n",
       "  &quot;config&quot; : {\n",
       "    &quot;facet&quot; : {\n",
       "      &quot;cell&quot; : {\n",
       "        &quot;strokeWidth&quot; : 0.0\n",
       "      }\n",
       "    }\n",
       "  }\n",
       "}\n",
       "   }\n",
       "   vg.embed(&quot;#vegas-6a325adb-a365-490b-b5e6-22099eedd719&quot;, embedSpec, function(error, result) {});\n",
       " &lt;/script&gt;\n",
       " &lt;div id='vegas-6a325adb-a365-490b-b5e6-22099eedd719'&gt;&lt;/div&gt;\n",
       "    &lt;/body&gt;\n",
       "&lt;/html&gt;\"></iframe>\n",
       "  <script>\n",
       "    if (typeof resizeIFrame != 'function') {\n",
       "      function resizeIFrame(el, k) {\n",
       "        $(el.contentWindow.document).ready(function() {\n",
       "          el.style.height = el.contentWindow.document.body.scrollHeight + 'px';\n",
       "        });\n",
       "        if (k <= 10) { setTimeout(function() { resizeIFrame(el, k+1) }, 1000 + (k * 250)) };\n",
       "      }\n",
       "    }\n",
       "    $().ready( function() { resizeIFrame($('#frame-vegas-6a325adb-a365-490b-b5e6-22099eedd719').get(0), 1); });\n",
       "  </script>\n",
       "    "
      ]
     },
     "metadata": {},
     "output_type": "display_data"
    },
    {
     "data": {
      "text/plain": [
       "\u001b[36mallvsFRSVM\u001b[39m: \u001b[32mArray\u001b[39m[\u001b[32mMap\u001b[39m[\u001b[32mString\u001b[39m, \u001b[32mAny\u001b[39m]] = \u001b[33mArray\u001b[39m(\n",
       "  \u001b[33mMap\u001b[39m(\n",
       "    \u001b[32m\"assay\"\u001b[39m -> NR.AhR,\n",
       "    \u001b[32m\"feats\"\u001b[39m -> 801,\n",
       "    \u001b[32m\"accuracy\"\u001b[39m -> 0.8803278688524591,\n",
       "    \u001b[32m\"alt\"\u001b[39m -> 0.8803278688524591\n",
       "  ),\n",
       "  \u001b[33mMap\u001b[39m(\n",
       "    \u001b[32m\"assay\"\u001b[39m -> NR.AhR,\n",
       "    \u001b[32m\"feats\"\u001b[39m -> 85,\n",
       "    \u001b[32m\"accuracy\"\u001b[39m -> 0.8803278688524591,\n",
       "    \u001b[32m\"alt\"\u001b[39m -> 0.8803278688524591\n",
       "\u001b[33m...\u001b[39m"
      ]
     },
     "execution_count": 204,
     "metadata": {},
     "output_type": "execute_result"
    }
   ],
   "source": [
    "val allvsFRSVM = trainLabelsCSV.columns.tail\n",
    "    .flatMap { acol =>\n",
    "        val TrainTestSets(trainAll, testAll, trainFR, testFR) = trainTestSets(acol)\n",
    "        val (modelAll, predLabAll, metricsAll) = trainSVMModel(trainAll, testAll)\n",
    "        val (modelFR, predLabFR, metricsFR) = trainSVMModel(trainFR, testFR)\n",
    "        Seq(\n",
    "            Map(\n",
    "                \"assay\" -> acol,\n",
    "                \"feats\" -> fvSketches.length,\n",
    "                \"accuracy\" -> metricsAll.accuracy,\n",
    "                \"alt\" -> metricsFR.accuracy\n",
    "            ),\n",
    "            Map(\n",
    "                \"assay\" -> acol,\n",
    "                \"feats\" -> featSelect.length,\n",
    "                \"accuracy\" -> metricsFR.accuracy,\n",
    "                \"alt\" -> metricsAll.accuracy\n",
    "            )\n",
    "        )\n",
    "    }\n",
    "comparePlot(allvsFRSVM)"
   ]
  },
  {
   "cell_type": "code",
   "execution_count": 205,
   "metadata": {},
   "outputs": [
    {
     "name": "stderr",
     "output_type": "stream",
     "text": [
      "                                                                                \r"
     ]
    },
    {
     "data": {
      "text/html": [
       "\n",
       "  <iframe id=\"frame-vegas-5abe1a5b-679b-4640-a86c-f4e43803c05f\" sandbox=\"allow-scripts allow-same-origin\" style=\"border: none; width: 100%\" srcdoc=\"&lt;html&gt;\n",
       "  &lt;head&gt;\n",
       "    &lt;script src=&quot;https://cdn.jsdelivr.net/webjars/org.webjars.bower/d3/3.5.17/d3.min.js&quot; charset=&quot;utf-8&quot;&gt;&lt;/script&gt;\n",
       "&lt;script src=&quot;https://cdn.jsdelivr.net/webjars/org.webjars.bower/vega/2.6.3/vega.min.js&quot; charset=&quot;utf-8&quot;&gt;&lt;/script&gt;\n",
       "&lt;script src=&quot;https://cdn.jsdelivr.net/webjars/org.webjars.bower/vega-lite/1.2.0/vega-lite.min.js&quot; charset=&quot;utf-8&quot;&gt;&lt;/script&gt;\n",
       "&lt;script src=&quot;https://vega.github.io/vega-editor/vendor/vega-embed.js&quot; charset=&quot;utf-8&quot;&gt;&lt;/script&gt;\n",
       "  &lt;/head&gt;\n",
       "  &lt;body&gt;\n",
       " &lt;script&gt;\n",
       "   var embedSpec = {\n",
       "     mode: &quot;vega-lite&quot;,\n",
       "     spec: {\n",
       "  &quot;mark&quot; : &quot;bar&quot;,\n",
       "  &quot;encoding&quot; : {\n",
       "    &quot;column&quot; : {\n",
       "      &quot;axis&quot; : {\n",
       "        &quot;labelAngle&quot; : 45.0,\n",
       "        &quot;orient&quot; : &quot;bottom&quot;,\n",
       "        &quot;title&quot; : &quot;tox assay&quot;,\n",
       "        &quot;axisWidth&quot; : 1.0,\n",
       "        &quot;offset&quot; : -5.0,\n",
       "        &quot;labelAlign&quot; : &quot;bottom&quot;\n",
       "      },\n",
       "      &quot;scale&quot; : {\n",
       "        &quot;padding&quot; : 20.0\n",
       "      },\n",
       "      &quot;field&quot; : &quot;assay&quot;,\n",
       "      &quot;type&quot; : &quot;nominal&quot;\n",
       "    },\n",
       "    &quot;x&quot; : {\n",
       "      &quot;axis&quot; : false,\n",
       "      &quot;scale&quot; : {\n",
       "        &quot;bandSize&quot; : 15.0\n",
       "      },\n",
       "      &quot;field&quot; : &quot;feats&quot;,\n",
       "      &quot;type&quot; : &quot;nominal&quot;\n",
       "    },\n",
       "    &quot;y&quot; : {\n",
       "      &quot;axis&quot; : {\n",
       "        &quot;title&quot; : &quot;model accuracy&quot;,\n",
       "        &quot;grid&quot; : false\n",
       "      },\n",
       "      &quot;field&quot; : &quot;accuracy&quot;,\n",
       "      &quot;type&quot; : &quot;quantitative&quot;\n",
       "    },\n",
       "    &quot;color&quot; : {\n",
       "      &quot;scale&quot; : {\n",
       "        &quot;range&quot; : [\n",
       "          &quot;#e06118&quot;,\n",
       "          &quot;#99c69c&quot;,\n",
       "          &quot;#2841ff&quot;\n",
       "        ]\n",
       "      },\n",
       "      &quot;field&quot; : &quot;features&quot;,\n",
       "      &quot;type&quot; : &quot;nominal&quot;\n",
       "    }\n",
       "  },\n",
       "  &quot;data&quot; : {\n",
       "    &quot;values&quot; : [\n",
       "      {\n",
       "        &quot;assay&quot; : &quot;NR.AhR&quot;,\n",
       "        &quot;feats&quot; : 801,\n",
       "        &quot;accuracy&quot; : 0.8754098360655738,\n",
       "        &quot;alt&quot; : 0.8868852459016393\n",
       "      },\n",
       "      {\n",
       "        &quot;assay&quot; : &quot;NR.AhR&quot;,\n",
       "        &quot;feats&quot; : 85,\n",
       "        &quot;accuracy&quot; : 0.8868852459016393,\n",
       "        &quot;alt&quot; : 0.8754098360655738\n",
       "      },\n",
       "      {\n",
       "        &quot;assay&quot; : &quot;NR.AR&quot;,\n",
       "        &quot;feats&quot; : 801,\n",
       "        &quot;accuracy&quot; : 0.9744027303754266,\n",
       "        &quot;alt&quot; : 0.9726962457337884\n",
       "      },\n",
       "      {\n",
       "        &quot;assay&quot; : &quot;NR.AR&quot;,\n",
       "        &quot;feats&quot; : 85,\n",
       "        &quot;accuracy&quot; : 0.9726962457337884,\n",
       "        &quot;alt&quot; : 0.9744027303754266\n",
       "      },\n",
       "      {\n",
       "        &quot;assay&quot; : &quot;NR.AR.LBD&quot;,\n",
       "        &quot;feats&quot; : 801,\n",
       "        &quot;accuracy&quot; : 0.9776632302405498,\n",
       "        &quot;alt&quot; : 0.979381443298969\n",
       "      },\n",
       "      {\n",
       "        &quot;assay&quot; : &quot;NR.AR.LBD&quot;,\n",
       "        &quot;feats&quot; : 85,\n",
       "        &quot;accuracy&quot; : 0.979381443298969,\n",
       "        &quot;alt&quot; : 0.9776632302405498\n",
       "      },\n",
       "      {\n",
       "        &quot;assay&quot; : &quot;NR.Aromatase&quot;,\n",
       "        &quot;feats&quot; : 801,\n",
       "        &quot;accuracy&quot; : 0.9185606060606061,\n",
       "        &quot;alt&quot; : 0.9204545454545454\n",
       "      },\n",
       "      {\n",
       "        &quot;assay&quot; : &quot;NR.Aromatase&quot;,\n",
       "        &quot;feats&quot; : 85,\n",
       "        &quot;accuracy&quot; : 0.9204545454545454,\n",
       "        &quot;alt&quot; : 0.9185606060606061\n",
       "      },\n",
       "      {\n",
       "        &quot;assay&quot; : &quot;NR.ER&quot;,\n",
       "        &quot;feats&quot; : 801,\n",
       "        &quot;accuracy&quot; : 0.9011627906976745,\n",
       "        &quot;alt&quot; : 0.8934108527131783\n",
       "      },\n",
       "      {\n",
       "        &quot;assay&quot; : &quot;NR.ER&quot;,\n",
       "        &quot;feats&quot; : 85,\n",
       "        &quot;accuracy&quot; : 0.8934108527131783,\n",
       "        &quot;alt&quot; : 0.9011627906976745\n",
       "      },\n",
       "      {\n",
       "        &quot;assay&quot; : &quot;NR.ER.LBD&quot;,\n",
       "        &quot;feats&quot; : 801,\n",
       "        &quot;accuracy&quot; : 0.965,\n",
       "        &quot;alt&quot; : 0.96\n",
       "      },\n",
       "      {\n",
       "        &quot;assay&quot; : &quot;NR.ER.LBD&quot;,\n",
       "        &quot;feats&quot; : 85,\n",
       "        &quot;accuracy&quot; : 0.96,\n",
       "        &quot;alt&quot; : 0.965\n",
       "      },\n",
       "      {\n",
       "        &quot;assay&quot; : &quot;NR.PPAR.gamma&quot;,\n",
       "        &quot;feats&quot; : 801,\n",
       "        &quot;accuracy&quot; : 0.9404958677685951,\n",
       "        &quot;alt&quot; : 0.9504132231404959\n",
       "      },\n",
       "      {\n",
       "        &quot;assay&quot; : &quot;NR.PPAR.gamma&quot;,\n",
       "        &quot;feats&quot; : 85,\n",
       "        &quot;accuracy&quot; : 0.9504132231404959,\n",
       "        &quot;alt&quot; : 0.9404958677685951\n",
       "      },\n",
       "      {\n",
       "        &quot;assay&quot; : &quot;SR.ARE&quot;,\n",
       "        &quot;feats&quot; : 801,\n",
       "        &quot;accuracy&quot; : 0.8324324324324325,\n",
       "        &quot;alt&quot; : 0.8288288288288288\n",
       "      },\n",
       "      {\n",
       "        &quot;assay&quot; : &quot;SR.ARE&quot;,\n",
       "        &quot;feats&quot; : 85,\n",
       "        &quot;accuracy&quot; : 0.8288288288288288,\n",
       "        &quot;alt&quot; : 0.8324324324324325\n",
       "      },\n",
       "      {\n",
       "        &quot;assay&quot; : &quot;SR.ATAD5&quot;,\n",
       "        &quot;feats&quot; : 801,\n",
       "        &quot;accuracy&quot; : 0.9453376205787781,\n",
       "        &quot;alt&quot; : 0.9228295819935691\n",
       "      },\n",
       "      {\n",
       "        &quot;assay&quot; : &quot;SR.ATAD5&quot;,\n",
       "        &quot;feats&quot; : 85,\n",
       "        &quot;accuracy&quot; : 0.9228295819935691,\n",
       "        &quot;alt&quot; : 0.9453376205787781\n",
       "      },\n",
       "      {\n",
       "        &quot;assay&quot; : &quot;SR.HSE&quot;,\n",
       "        &quot;feats&quot; : 801,\n",
       "        &quot;accuracy&quot; : 0.9442622950819672,\n",
       "        &quot;alt&quot; : 0.9590163934426229\n",
       "      },\n",
       "      {\n",
       "        &quot;assay&quot; : &quot;SR.HSE&quot;,\n",
       "        &quot;feats&quot; : 85,\n",
       "        &quot;accuracy&quot; : 0.9590163934426229,\n",
       "        &quot;alt&quot; : 0.9442622950819672\n",
       "      },\n",
       "      {\n",
       "        &quot;assay&quot; : &quot;SR.MMP&quot;,\n",
       "        &quot;feats&quot; : 801,\n",
       "        &quot;accuracy&quot; : 0.8692449355432781,\n",
       "        &quot;alt&quot; : 0.8931860036832413\n",
       "      },\n",
       "      {\n",
       "        &quot;assay&quot; : &quot;SR.MMP&quot;,\n",
       "        &quot;feats&quot; : 85,\n",
       "        &quot;accuracy&quot; : 0.8931860036832413,\n",
       "        &quot;alt&quot; : 0.8692449355432781\n",
       "      },\n",
       "      {\n",
       "        &quot;assay&quot; : &quot;SR.p53&quot;,\n",
       "        &quot;feats&quot; : 801,\n",
       "        &quot;accuracy&quot; : 0.926948051948052,\n",
       "        &quot;alt&quot; : 0.9204545454545454\n",
       "      },\n",
       "      {\n",
       "        &quot;assay&quot; : &quot;SR.p53&quot;,\n",
       "        &quot;feats&quot; : 85,\n",
       "        &quot;accuracy&quot; : 0.9204545454545454,\n",
       "        &quot;alt&quot; : 0.926948051948052\n",
       "      }\n",
       "    ]\n",
       "  },\n",
       "  &quot;transform&quot; : {\n",
       "    &quot;calculate&quot; : [\n",
       "      {\n",
       "        &quot;field&quot; : &quot;features&quot;,\n",
       "        &quot;expr&quot; : &quot; datum.feats &lt; 801 ? (datum.accuracy &gt;= datum.alt ? \\&quot;Reduced (85) &gt;=\\&quot; : \\&quot;Reduced (85) &lt;\\&quot;) : \\&quot;Full (801)\\&quot; &quot;\n",
       "      }\n",
       "    ]\n",
       "  },\n",
       "  &quot;config&quot; : {\n",
       "    &quot;facet&quot; : {\n",
       "      &quot;cell&quot; : {\n",
       "        &quot;strokeWidth&quot; : 0.0\n",
       "      }\n",
       "    }\n",
       "  }\n",
       "}\n",
       "   }\n",
       "   vg.embed(&quot;#vegas-5abe1a5b-679b-4640-a86c-f4e43803c05f&quot;, embedSpec, function(error, result) {});\n",
       " &lt;/script&gt;\n",
       " &lt;div id='vegas-5abe1a5b-679b-4640-a86c-f4e43803c05f'&gt;&lt;/div&gt;\n",
       "    &lt;/body&gt;\n",
       "&lt;/html&gt;\"></iframe>\n",
       "  <script>\n",
       "    if (typeof resizeIFrame != 'function') {\n",
       "      function resizeIFrame(el, k) {\n",
       "        $(el.contentWindow.document).ready(function() {\n",
       "          el.style.height = el.contentWindow.document.body.scrollHeight + 'px';\n",
       "        });\n",
       "        if (k <= 10) { setTimeout(function() { resizeIFrame(el, k+1) }, 1000 + (k * 250)) };\n",
       "      }\n",
       "    }\n",
       "    $().ready( function() { resizeIFrame($('#frame-vegas-5abe1a5b-679b-4640-a86c-f4e43803c05f').get(0), 1); });\n",
       "  </script>\n",
       "    "
      ]
     },
     "metadata": {},
     "output_type": "display_data"
    },
    {
     "data": {
      "text/plain": [
       "\u001b[36mallvsFRGB\u001b[39m: \u001b[32mArray\u001b[39m[\u001b[32mMap\u001b[39m[\u001b[32mString\u001b[39m, \u001b[32mAny\u001b[39m]] = \u001b[33mArray\u001b[39m(\n",
       "  \u001b[33mMap\u001b[39m(\n",
       "    \u001b[32m\"assay\"\u001b[39m -> NR.AhR,\n",
       "    \u001b[32m\"feats\"\u001b[39m -> 801,\n",
       "    \u001b[32m\"accuracy\"\u001b[39m -> 0.8754098360655738,\n",
       "    \u001b[32m\"alt\"\u001b[39m -> 0.8868852459016393\n",
       "  ),\n",
       "  \u001b[33mMap\u001b[39m(\n",
       "    \u001b[32m\"assay\"\u001b[39m -> NR.AhR,\n",
       "    \u001b[32m\"feats\"\u001b[39m -> 85,\n",
       "    \u001b[32m\"accuracy\"\u001b[39m -> 0.8868852459016393,\n",
       "    \u001b[32m\"alt\"\u001b[39m -> 0.8754098360655738\n",
       "\u001b[33m...\u001b[39m"
      ]
     },
     "execution_count": 205,
     "metadata": {},
     "output_type": "execute_result"
    }
   ],
   "source": [
    "val allvsFRGB = trainLabelsCSV.columns.tail\n",
    "    .flatMap { acol =>\n",
    "        val TrainTestSets(trainAll, testAll, trainFR, testFR) = trainTestSets(acol)\n",
    "        val (modelAll, predLabAll, metricsAll) = trainGBModel(trainAll, testAll)\n",
    "        val (modelFR, predLabFR, metricsFR) = trainGBModel(trainFR, testFR)\n",
    "        Seq(\n",
    "            Map(\n",
    "                \"assay\" -> acol,\n",
    "                \"feats\" -> fvSketches.length,\n",
    "                \"accuracy\" -> metricsAll.accuracy,\n",
    "                \"alt\" -> metricsFR.accuracy\n",
    "            ),\n",
    "            Map(\n",
    "                \"assay\" -> acol,\n",
    "                \"feats\" -> featSelect.length,\n",
    "                \"accuracy\" -> metricsFR.accuracy,\n",
    "                \"alt\" -> metricsAll.accuracy\n",
    "            )\n",
    "        )\n",
    "    }\n",
    "comparePlot(allvsFRGB)"
   ]
  },
  {
   "cell_type": "code",
   "execution_count": 206,
   "metadata": {},
   "outputs": [
    {
     "data": {
      "text/plain": [
       "\u001b[32mimport \u001b[39m\u001b[36morg.apache.spark.mllib.classification.SVMModel\n",
       "\u001b[39m\n",
       "\u001b[32mimport \u001b[39m\u001b[36morg.apache.spark.mllib.tree.model.GradientBoostedTreesModel\u001b[39m"
      ]
     },
     "execution_count": 206,
     "metadata": {},
     "output_type": "execute_result"
    }
   ],
   "source": [
    "import org.apache.spark.mllib.classification.SVMModel\n",
    "import org.apache.spark.mllib.tree.model.GradientBoostedTreesModel"
   ]
  },
  {
   "cell_type": "code",
   "execution_count": 207,
   "metadata": {},
   "outputs": [
    {
     "name": "stderr",
     "output_type": "stream",
     "text": [
      "                                                                                \r"
     ]
    },
    {
     "name": "stdout",
     "output_type": "stream",
     "text": [
      "time: 72.212\n",
      "time: 45.674\n"
     ]
    },
    {
     "data": {
      "text/plain": [
       "\u001b[36mmodelsFullLR\u001b[39m: \u001b[32mMap\u001b[39m[\u001b[32mString\u001b[39m, \u001b[32mLogisticRegressionModel\u001b[39m] = \u001b[33mMap\u001b[39m(\n",
       "  \u001b[32m\"SR.MMP\"\u001b[39m -> org.apache.spark.mllib.classification.LogisticRegressionModel: intercept = 0.0, numFeatures = 801, numClasses = 2, threshold = 0.5,\n",
       "  \u001b[32m\"NR.AhR\"\u001b[39m -> org.apache.spark.mllib.classification.LogisticRegressionModel: intercept = 0.0, numFeatures = 801, numClasses = 2, threshold = 0.5,\n",
       "  \u001b[32m\"SR.HSE\"\u001b[39m -> org.apache.spark.mllib.classification.LogisticRegressionModel: intercept = 0.0, numFeatures = 801, numClasses = 2, threshold = 0.5,\n",
       "  \u001b[32m\"NR.ER\"\u001b[39m -> org.apache.spark.mllib.classification.LogisticRegressionModel: intercept = 0.0, numFeatures = 801, numClasses = 2, threshold = 0.5,\n",
       "  \u001b[32m\"NR.AR\"\u001b[39m -> org.apache.spark.mllib.classification.LogisticRegressionModel: intercept = 0.0, numFeatures = 801, numClasses = 2, threshold = 0.5,\n",
       "  \u001b[32m\"NR.ER.LBD\"\u001b[39m -> org.apache.spark.mllib.classification.LogisticRegressionModel: \u001b[33m...\u001b[39m\n",
       "\u001b[36mmodelsRedLR\u001b[39m: \u001b[32mMap\u001b[39m[\u001b[32mString\u001b[39m, \u001b[32mLogisticRegressionModel\u001b[39m] = \u001b[33mMap\u001b[39m(\n",
       "  \u001b[32m\"SR.MMP\"\u001b[39m -> org.apache.spark.mllib.classification.LogisticRegressionModel: intercept = 0.0, numFeatures = 85, numClasses = 2, threshold = 0.5,\n",
       "  \u001b[32m\"NR.AhR\"\u001b[39m -> org.apache.spark.mllib.classification.LogisticRegressionModel: intercept = 0.0, numFeatures = 85, numClasses = 2, threshold = 0.5,\n",
       "  \u001b[32m\"SR.HSE\"\u001b[39m -> org.apache.spark.mllib.classification.LogisticRegressionModel: intercept = 0.0, numFeatures = 85, numClasses = 2, threshold = 0.5,\n",
       "  \u001b[32m\"NR.ER\"\u001b[39m -> org.apache.spark.mllib.classification.LogisticRegressionModel: intercept = 0.0, numFeatures = 85, numClasses = 2, threshold = 0.5,\n",
       "  \u001b[32m\"NR.AR\"\u001b[39m -> org.apache.spark.mllib.classification.LogisticRegressionModel: intercept = 0.0, numFeatures = 85, numClasses = 2, threshold = 0.5,\n",
       "  \u001b[32m\"NR.ER.LBD\"\u001b[39m -> org.apache.spark.mllib.classification.LogisticRegressionModel: \u001b[33m...\u001b[39m"
      ]
     },
     "execution_count": 207,
     "metadata": {},
     "output_type": "execute_result"
    }
   ],
   "source": [
    "val modelsFullLR = timing {\n",
    "    trainLabelsCSV.columns.tail\n",
    "        .foldLeft(Map.empty[String,LogisticRegressionModel]) { case (mp, acol) => {\n",
    "            val TrainTestSets(train, _, _, _) = trainTestSets(acol)\n",
    "            mp + (acol -> new LogisticRegressionWithLBFGS().run(train))\n",
    "        }}\n",
    "}\n",
    "val modelsRedLR = timing {\n",
    "    trainLabelsCSV.columns.tail\n",
    "        .foldLeft(Map.empty[String,LogisticRegressionModel]) { case (mp, acol) => {\n",
    "            val TrainTestSets(_, _, train, _) = trainTestSets(acol)\n",
    "            mp + (acol -> new LogisticRegressionWithLBFGS().run(train))\n",
    "        }}\n",
    "}"
   ]
  },
  {
   "cell_type": "code",
   "execution_count": 208,
   "metadata": {},
   "outputs": [
    {
     "name": "stdout",
     "output_type": "stream",
     "text": [
      "time: 35.2\n",
      "time: 34.08\n"
     ]
    },
    {
     "data": {
      "text/plain": [
       "\u001b[36mmodelsFullSVM\u001b[39m: \u001b[32mMap\u001b[39m[\u001b[32mString\u001b[39m, \u001b[32mSVMModel\u001b[39m] = \u001b[33mMap\u001b[39m(\n",
       "  \u001b[32m\"SR.MMP\"\u001b[39m -> org.apache.spark.mllib.classification.SVMModel: intercept = 0.0, numFeatures = 801, numClasses = 2, threshold = 0.0,\n",
       "  \u001b[32m\"NR.AhR\"\u001b[39m -> org.apache.spark.mllib.classification.SVMModel: intercept = 0.0, numFeatures = 801, numClasses = 2, threshold = 0.0,\n",
       "  \u001b[32m\"SR.HSE\"\u001b[39m -> org.apache.spark.mllib.classification.SVMModel: intercept = 0.0, numFeatures = 801, numClasses = 2, threshold = 0.0,\n",
       "  \u001b[32m\"NR.ER\"\u001b[39m -> org.apache.spark.mllib.classification.SVMModel: intercept = 0.0, numFeatures = 801, numClasses = 2, threshold = 0.0,\n",
       "  \u001b[32m\"NR.AR\"\u001b[39m -> org.apache.spark.mllib.classification.SVMModel: intercept = 0.0, numFeatures = 801, numClasses = 2, threshold = 0.0,\n",
       "  \u001b[32m\"NR.ER.LBD\"\u001b[39m -> org.apache.spark.mllib.classification.SVMModel: intercept = 0.0\u001b[33m...\u001b[39m\n",
       "\u001b[36mmodelsRedSVM\u001b[39m: \u001b[32mMap\u001b[39m[\u001b[32mString\u001b[39m, \u001b[32mSVMModel\u001b[39m] = \u001b[33mMap\u001b[39m(\n",
       "  \u001b[32m\"SR.MMP\"\u001b[39m -> org.apache.spark.mllib.classification.SVMModel: intercept = 0.0, numFeatures = 85, numClasses = 2, threshold = 0.0,\n",
       "  \u001b[32m\"NR.AhR\"\u001b[39m -> org.apache.spark.mllib.classification.SVMModel: intercept = 0.0, numFeatures = 85, numClasses = 2, threshold = 0.0,\n",
       "  \u001b[32m\"SR.HSE\"\u001b[39m -> org.apache.spark.mllib.classification.SVMModel: intercept = 0.0, numFeatures = 85, numClasses = 2, threshold = 0.0,\n",
       "  \u001b[32m\"NR.ER\"\u001b[39m -> org.apache.spark.mllib.classification.SVMModel: intercept = 0.0, numFeatures = 85, numClasses = 2, threshold = 0.0,\n",
       "  \u001b[32m\"NR.AR\"\u001b[39m -> org.apache.spark.mllib.classification.SVMModel: intercept = 0.0, numFeatures = 85, numClasses = 2, threshold = 0.0,\n",
       "  \u001b[32m\"NR.ER.LBD\"\u001b[39m -> org.apache.spark.mllib.classification.SVMModel: intercept = 0.0\u001b[33m...\u001b[39m"
      ]
     },
     "execution_count": 208,
     "metadata": {},
     "output_type": "execute_result"
    }
   ],
   "source": [
    "val modelsFullSVM = timing {\n",
    "    trainLabelsCSV.columns.tail\n",
    "        .foldLeft(Map.empty[String,SVMModel]) { case (mp, acol) => {\n",
    "            val TrainTestSets(train, _, _, _) = trainTestSets(acol)\n",
    "            mp + (acol -> new SVMWithSGD().run(train))\n",
    "        }}\n",
    "}\n",
    "val modelsRedSVM = timing {\n",
    "    trainLabelsCSV.columns.tail\n",
    "        .foldLeft(Map.empty[String,SVMModel]) { case (mp, acol) => {\n",
    "            val TrainTestSets(_, _, train, _) = trainTestSets(acol)\n",
    "            mp + (acol -> new SVMWithSGD().run(train))\n",
    "        }}\n",
    "}"
   ]
  },
  {
   "cell_type": "code",
   "execution_count": 209,
   "metadata": {},
   "outputs": [
    {
     "name": "stderr",
     "output_type": "stream",
     "text": [
      "                                                                                \r"
     ]
    },
    {
     "name": "stdout",
     "output_type": "stream",
     "text": [
      "time: 250.883\n",
      "time: 62.571\n"
     ]
    },
    {
     "data": {
      "text/plain": [
       "\u001b[36mmodelsFullGB\u001b[39m: \u001b[32mMap\u001b[39m[\u001b[32mString\u001b[39m, \u001b[32mGradientBoostedTreesModel\u001b[39m] = \u001b[33mMap\u001b[39m(\n",
       "  \u001b[32m\"SR.MMP\"\u001b[39m -> TreeEnsembleModel classifier with 10 trees\n",
       ",\n",
       "  \u001b[32m\"NR.AhR\"\u001b[39m -> TreeEnsembleModel classifier with 10 trees\n",
       ",\n",
       "  \u001b[32m\"SR.HSE\"\u001b[39m -> TreeEnsembleModel classifier with 10 trees\n",
       ",\n",
       "  \u001b[32m\"NR.ER\"\u001b[39m -> TreeEnsembleModel classifier with 10 trees\n",
       ",\n",
       "  \u001b[32m\"NR.AR\"\u001b[39m -> TreeEnsembleModel classifier with 10 trees\n",
       ",\n",
       "  \u001b[32m\"NR.ER.LBD\"\u001b[39m -> TreeEnsembleModel classifier with 10 trees\n",
       "\u001b[33m...\u001b[39m\n",
       "\u001b[36mmodelsRedGB\u001b[39m: \u001b[32mMap\u001b[39m[\u001b[32mString\u001b[39m, \u001b[32mGradientBoostedTreesModel\u001b[39m] = \u001b[33mMap\u001b[39m(\n",
       "  \u001b[32m\"SR.MMP\"\u001b[39m -> TreeEnsembleModel classifier with 10 trees\n",
       ",\n",
       "  \u001b[32m\"NR.AhR\"\u001b[39m -> TreeEnsembleModel classifier with 10 trees\n",
       ",\n",
       "  \u001b[32m\"SR.HSE\"\u001b[39m -> TreeEnsembleModel classifier with 10 trees\n",
       ",\n",
       "  \u001b[32m\"NR.ER\"\u001b[39m -> TreeEnsembleModel classifier with 10 trees\n",
       ",\n",
       "  \u001b[32m\"NR.AR\"\u001b[39m -> TreeEnsembleModel classifier with 10 trees\n",
       ",\n",
       "  \u001b[32m\"NR.ER.LBD\"\u001b[39m -> TreeEnsembleModel classifier with 10 trees\n",
       "\u001b[33m...\u001b[39m"
      ]
     },
     "execution_count": 209,
     "metadata": {},
     "output_type": "execute_result"
    }
   ],
   "source": [
    "val modelsFullGB = timing {\n",
    "    trainLabelsCSV.columns.tail\n",
    "        .foldLeft(Map.empty[String,GradientBoostedTreesModel]) { case (mp, acol) => {\n",
    "            val TrainTestSets(train, _, _, _) = trainTestSets(acol)\n",
    "            val boostingStrategy = BoostingStrategy.defaultParams(\"Classification\")\n",
    "            boostingStrategy.numIterations = 10\n",
    "            boostingStrategy.treeStrategy.numClasses = 2\n",
    "            boostingStrategy.treeStrategy.maxDepth = 6\n",
    "            boostingStrategy.treeStrategy.categoricalFeaturesInfo = Map[Int, Int]()\n",
    "            val model = GradientBoostedTrees.train(train, boostingStrategy)\n",
    "            mp + (acol -> model)\n",
    "        }}\n",
    "}\n",
    "val modelsRedGB = timing {\n",
    "    trainLabelsCSV.columns.tail\n",
    "        .foldLeft(Map.empty[String,GradientBoostedTreesModel]) { case (mp, acol) => {\n",
    "            val TrainTestSets(_, _, train, _) = trainTestSets(acol)\n",
    "            val boostingStrategy = BoostingStrategy.defaultParams(\"Classification\")\n",
    "            boostingStrategy.numIterations = 10\n",
    "            boostingStrategy.treeStrategy.numClasses = 2\n",
    "            boostingStrategy.treeStrategy.maxDepth = 6\n",
    "            boostingStrategy.treeStrategy.categoricalFeaturesInfo = Map[Int, Int]()\n",
    "            val model = GradientBoostedTrees.train(train, boostingStrategy)\n",
    "            mp + (acol -> model)\n",
    "        }}\n",
    "}"
   ]
  },
  {
   "cell_type": "code",
   "execution_count": 210,
   "metadata": {},
   "outputs": [
    {
     "data": {
      "text/plain": [
       "\u001b[36msynthFull\u001b[39m: \u001b[32mRDD\u001b[39m[\u001b[32mmllib\u001b[39m.\u001b[32mlinalg\u001b[39m.\u001b[32mVector\u001b[39m] = MapPartitionsRDD[347126] at map at cmd209.sc:1"
      ]
     },
     "execution_count": 210,
     "metadata": {},
     "output_type": "execute_result"
    }
   ],
   "source": [
    "val synthFull = synthesize(fvSketches, 40000, 1).map(_.toSpark).cache()"
   ]
  },
  {
   "cell_type": "code",
   "execution_count": 211,
   "metadata": {},
   "outputs": [
    {
     "name": "stderr",
     "output_type": "stream",
     "text": [
      "                                                                                \r"
     ]
    },
    {
     "data": {
      "text/plain": [
       "\u001b[36mtrainRedFV\u001b[39m: \u001b[32mRDD\u001b[39m[\u001b[32mVector\u001b[39m[\u001b[32mDouble\u001b[39m]] = MapPartitionsRDD[347127] at map at cmd210.sc:1\n",
       "\u001b[36msketchRed\u001b[39m: \u001b[32mVector\u001b[39m[\u001b[32mTDigest\u001b[39m] = \u001b[33mVector\u001b[39m(\n",
       "  \u001b[33mTDigest\u001b[39m(\u001b[32m0.5\u001b[39m, \u001b[32m50\u001b[39m, \u001b[32m1\u001b[39m, \u001b[33mMap\u001b[39m(\u001b[32m0.0\u001b[39m -> \u001b[32m12060.0\u001b[39m)),\n",
       "  \u001b[33mTDigest\u001b[39m(\u001b[32m0.5\u001b[39m, \u001b[32m50\u001b[39m, \u001b[32m1\u001b[39m, \u001b[33mMap\u001b[39m(\u001b[32m0.0\u001b[39m -> \u001b[32m12060.0\u001b[39m)),\n",
       "  \u001b[33mTDigest\u001b[39m(\u001b[32m0.5\u001b[39m, \u001b[32m50\u001b[39m, \u001b[32m1\u001b[39m, \u001b[33mMap\u001b[39m(\u001b[32m0.0\u001b[39m -> \u001b[32m12060.0\u001b[39m)),\n",
       "  \u001b[33mTDigest\u001b[39m(\u001b[32m0.5\u001b[39m, \u001b[32m50\u001b[39m, \u001b[32m1\u001b[39m, \u001b[33mMap\u001b[39m(\u001b[32m0.0\u001b[39m -> \u001b[32m12060.0\u001b[39m)),\n",
       "  \u001b[33mTDigest\u001b[39m(\u001b[32m0.5\u001b[39m, \u001b[32m50\u001b[39m, \u001b[32m1\u001b[39m, \u001b[33mMap\u001b[39m(\u001b[32m0.0\u001b[39m -> \u001b[32m12060.0\u001b[39m)),\n",
       "  \u001b[33mTDigest\u001b[39m(\u001b[32m0.5\u001b[39m, \u001b[32m50\u001b[39m, \u001b[32m1\u001b[39m, \u001b[33mMap\u001b[39m(\u001b[32m0.0\u001b[39m -> \u001b[32m12060.0\u001b[39m)),\n",
       "  \u001b[33mTDigest\u001b[39m(\n",
       "    \u001b[32m0.5\u001b[39m,\n",
       "    \u001b[32m50\u001b[39m,\n",
       "    \u001b[32m52\u001b[39m,\n",
       "    \u001b[33mMap\u001b[39m(\n",
       "\u001b[33m...\u001b[39m\n",
       "\u001b[36msynthRed\u001b[39m: \u001b[32mRDD\u001b[39m[\u001b[32mmllib\u001b[39m.\u001b[32mlinalg\u001b[39m.\u001b[32mVector\u001b[39m] = MapPartitionsRDD[347130] at map at cmd210.sc:3"
      ]
     },
     "execution_count": 211,
     "metadata": {},
     "output_type": "execute_result"
    }
   ],
   "source": [
    "val trainRedFV = trainCSVFR.rdd.map(_.toSeq.toVector.drop(1).map(_.asInstanceOf[String].toDouble))\n",
    "val sketchRed = tdSketchFV(trainRedFV)\n",
    "val synthRed = synthesize(sketchRed, 40000, 1).map(_.toSpark).cache()"
   ]
  },
  {
   "cell_type": "code",
   "execution_count": 212,
   "metadata": {},
   "outputs": [
    {
     "name": "stdout",
     "output_type": "stream",
     "text": [
      "time: 32.144\n",
      "time: 3.877\n"
     ]
    },
    {
     "data": {
      "text/plain": [
       "\u001b[36mevalFullLR\u001b[39m: \u001b[32mMap\u001b[39m[\u001b[32mString\u001b[39m, \u001b[32mRDD\u001b[39m[\u001b[32mDouble\u001b[39m]] = \u001b[33mMap\u001b[39m(\n",
       "  \u001b[32m\"SR.MMP\"\u001b[39m -> MapPartitionsRDD[347141] at map at cmd211.sc:6,\n",
       "  \u001b[32m\"NR.AhR\"\u001b[39m -> MapPartitionsRDD[347131] at map at cmd211.sc:6,\n",
       "  \u001b[32m\"SR.HSE\"\u001b[39m -> MapPartitionsRDD[347140] at map at cmd211.sc:6,\n",
       "  \u001b[32m\"NR.ER\"\u001b[39m -> MapPartitionsRDD[347135] at map at cmd211.sc:6,\n",
       "  \u001b[32m\"NR.AR\"\u001b[39m -> MapPartitionsRDD[347132] at map at cmd211.sc:6,\n",
       "  \u001b[32m\"NR.ER.LBD\"\u001b[39m -> MapPartitionsRDD[347136] at map at cmd211.sc:6,\n",
       "  \u001b[32m\"SR.ATAD5\"\u001b[39m -> MapPartitionsRDD[347139] at map at cmd211.sc:6,\n",
       "  \u001b[32m\"NR.AR.LBD\"\u001b[39m -> MapPartitionsRDD[347133] at map at cmd211.sc:6,\n",
       "  \u001b[32m\"NR.Aromatase\"\u001b[39m -> MapPartitionsRDD[347134] at map at cmd211.sc:6,\n",
       "  \u001b[32m\"NR.PPAR.gamma\"\u001b[39m -> MapPartitionsRDD[347137] at map at cmd211.sc:6,\n",
       "  \u001b[32m\"SR.ARE\"\u001b[39m -> MapPartitionsRDD[347138] at map at cmd211.sc:6,\n",
       "\u001b[33m...\u001b[39m\n",
       "\u001b[36mevalRedLR\u001b[39m: \u001b[32mMap\u001b[39m[\u001b[32mString\u001b[39m, \u001b[32mRDD\u001b[39m[\u001b[32mDouble\u001b[39m]] = \u001b[33mMap\u001b[39m(\n",
       "  \u001b[32m\"SR.MMP\"\u001b[39m -> MapPartitionsRDD[347153] at map at cmd211.sc:16,\n",
       "  \u001b[32m\"NR.AhR\"\u001b[39m -> MapPartitionsRDD[347143] at map at cmd211.sc:16,\n",
       "  \u001b[32m\"SR.HSE\"\u001b[39m -> MapPartitionsRDD[347152] at map at cmd211.sc:16,\n",
       "  \u001b[32m\"NR.ER\"\u001b[39m -> MapPartitionsRDD[347147] at map at cmd211.sc:16,\n",
       "  \u001b[32m\"NR.AR\"\u001b[39m -> MapPartitionsRDD[347144] at map at cmd211.sc:16,\n",
       "  \u001b[32m\"NR.ER.LBD\"\u001b[39m -> MapPartitionsRDD[347148] at map at cmd211.sc:16,\n",
       "  \u001b[32m\"SR.ATAD5\"\u001b[39m -> MapPartitionsRDD[347151] at map at cmd211.sc:16,\n",
       "  \u001b[32m\"NR.AR.LBD\"\u001b[39m -> MapPartitionsRDD[347145] at map at cmd211.sc:16,\n",
       "  \u001b[32m\"NR.Aromatase\"\u001b[39m -> MapPartitionsRDD[347146] at map at cmd211.sc:16,\n",
       "  \u001b[32m\"NR.PPAR.gamma\"\u001b[39m -> MapPartitionsRDD[347149] at map at cmd211.sc:16,\n",
       "  \u001b[32m\"SR.ARE\"\u001b[39m -> MapPartitionsRDD[347150] at map at cmd211.sc:16,\n",
       "\u001b[33m...\u001b[39m"
      ]
     },
     "execution_count": 212,
     "metadata": {},
     "output_type": "execute_result"
    }
   ],
   "source": [
    "val evalFullLR = timing {\n",
    "    trainLabelsCSV.columns.tail\n",
    "        .foldLeft(Map.empty[String,RDD[Double]]) { case (mp, acol) => {\n",
    "            val data = synthFull\n",
    "            val model = modelsFullLR(acol)\n",
    "            val pred = data.map { features => model.predict(features) }\n",
    "            val force = pred.count\n",
    "            mp + (acol -> pred)\n",
    "        }}\n",
    "}\n",
    "val evalRedLR = timing {\n",
    "    trainLabelsCSV.columns.tail\n",
    "        .foldLeft(Map.empty[String,RDD[Double]]) { case (mp, acol) => {\n",
    "            val data = synthRed\n",
    "            val model = modelsRedLR(acol)\n",
    "            val pred = data.map { features => model.predict(features) }\n",
    "            val force = pred.count\n",
    "            mp + (acol -> pred)\n",
    "        }}\n",
    "}"
   ]
  },
  {
   "cell_type": "code",
   "execution_count": 213,
   "metadata": {},
   "outputs": [
    {
     "name": "stdout",
     "output_type": "stream",
     "text": [
      "time: 0.586\n",
      "time: 0.234\n"
     ]
    },
    {
     "data": {
      "text/plain": [
       "\u001b[36mevalFullSVM\u001b[39m: \u001b[32mMap\u001b[39m[\u001b[32mString\u001b[39m, \u001b[32mRDD\u001b[39m[\u001b[32mDouble\u001b[39m]] = \u001b[33mMap\u001b[39m(\n",
       "  \u001b[32m\"SR.MMP\"\u001b[39m -> MapPartitionsRDD[347165] at map at cmd212.sc:6,\n",
       "  \u001b[32m\"NR.AhR\"\u001b[39m -> MapPartitionsRDD[347155] at map at cmd212.sc:6,\n",
       "  \u001b[32m\"SR.HSE\"\u001b[39m -> MapPartitionsRDD[347164] at map at cmd212.sc:6,\n",
       "  \u001b[32m\"NR.ER\"\u001b[39m -> MapPartitionsRDD[347159] at map at cmd212.sc:6,\n",
       "  \u001b[32m\"NR.AR\"\u001b[39m -> MapPartitionsRDD[347156] at map at cmd212.sc:6,\n",
       "  \u001b[32m\"NR.ER.LBD\"\u001b[39m -> MapPartitionsRDD[347160] at map at cmd212.sc:6,\n",
       "  \u001b[32m\"SR.ATAD5\"\u001b[39m -> MapPartitionsRDD[347163] at map at cmd212.sc:6,\n",
       "  \u001b[32m\"NR.AR.LBD\"\u001b[39m -> MapPartitionsRDD[347157] at map at cmd212.sc:6,\n",
       "  \u001b[32m\"NR.Aromatase\"\u001b[39m -> MapPartitionsRDD[347158] at map at cmd212.sc:6,\n",
       "  \u001b[32m\"NR.PPAR.gamma\"\u001b[39m -> MapPartitionsRDD[347161] at map at cmd212.sc:6,\n",
       "  \u001b[32m\"SR.ARE\"\u001b[39m -> MapPartitionsRDD[347162] at map at cmd212.sc:6,\n",
       "\u001b[33m...\u001b[39m\n",
       "\u001b[36mevalRedSVM\u001b[39m: \u001b[32mMap\u001b[39m[\u001b[32mString\u001b[39m, \u001b[32mRDD\u001b[39m[\u001b[32mDouble\u001b[39m]] = \u001b[33mMap\u001b[39m(\n",
       "  \u001b[32m\"SR.MMP\"\u001b[39m -> MapPartitionsRDD[347177] at map at cmd212.sc:16,\n",
       "  \u001b[32m\"NR.AhR\"\u001b[39m -> MapPartitionsRDD[347167] at map at cmd212.sc:16,\n",
       "  \u001b[32m\"SR.HSE\"\u001b[39m -> MapPartitionsRDD[347176] at map at cmd212.sc:16,\n",
       "  \u001b[32m\"NR.ER\"\u001b[39m -> MapPartitionsRDD[347171] at map at cmd212.sc:16,\n",
       "  \u001b[32m\"NR.AR\"\u001b[39m -> MapPartitionsRDD[347168] at map at cmd212.sc:16,\n",
       "  \u001b[32m\"NR.ER.LBD\"\u001b[39m -> MapPartitionsRDD[347172] at map at cmd212.sc:16,\n",
       "  \u001b[32m\"SR.ATAD5\"\u001b[39m -> MapPartitionsRDD[347175] at map at cmd212.sc:16,\n",
       "  \u001b[32m\"NR.AR.LBD\"\u001b[39m -> MapPartitionsRDD[347169] at map at cmd212.sc:16,\n",
       "  \u001b[32m\"NR.Aromatase\"\u001b[39m -> MapPartitionsRDD[347170] at map at cmd212.sc:16,\n",
       "  \u001b[32m\"NR.PPAR.gamma\"\u001b[39m -> MapPartitionsRDD[347173] at map at cmd212.sc:16,\n",
       "  \u001b[32m\"SR.ARE\"\u001b[39m -> MapPartitionsRDD[347174] at map at cmd212.sc:16,\n",
       "\u001b[33m...\u001b[39m"
      ]
     },
     "execution_count": 213,
     "metadata": {},
     "output_type": "execute_result"
    }
   ],
   "source": [
    "val evalFullSVM = timing {\n",
    "    trainLabelsCSV.columns.tail\n",
    "        .foldLeft(Map.empty[String,RDD[Double]]) { case (mp, acol) => {\n",
    "            val data = synthFull\n",
    "            val model = modelsFullSVM(acol)\n",
    "            val pred = data.map { features => model.predict(features) }\n",
    "            val force = pred.count\n",
    "            mp + (acol -> pred)\n",
    "        }}\n",
    "}\n",
    "val evalRedSVM = timing {\n",
    "    trainLabelsCSV.columns.tail\n",
    "        .foldLeft(Map.empty[String,RDD[Double]]) { case (mp, acol) => {\n",
    "            val data = synthRed\n",
    "            val model = modelsRedSVM(acol)\n",
    "            val pred = data.map { features => model.predict(features) }\n",
    "            val force = pred.count\n",
    "            mp + (acol -> pred)\n",
    "        }}\n",
    "}"
   ]
  },
  {
   "cell_type": "code",
   "execution_count": 214,
   "metadata": {},
   "outputs": [
    {
     "name": "stdout",
     "output_type": "stream",
     "text": [
      "time: 1.33\n",
      "time: 0.885\n"
     ]
    },
    {
     "data": {
      "text/plain": [
       "\u001b[36mevalFullGB\u001b[39m: \u001b[32mMap\u001b[39m[\u001b[32mString\u001b[39m, \u001b[32mRDD\u001b[39m[\u001b[32mDouble\u001b[39m]] = \u001b[33mMap\u001b[39m(\n",
       "  \u001b[32m\"SR.MMP\"\u001b[39m -> MapPartitionsRDD[347189] at map at cmd213.sc:6,\n",
       "  \u001b[32m\"NR.AhR\"\u001b[39m -> MapPartitionsRDD[347179] at map at cmd213.sc:6,\n",
       "  \u001b[32m\"SR.HSE\"\u001b[39m -> MapPartitionsRDD[347188] at map at cmd213.sc:6,\n",
       "  \u001b[32m\"NR.ER\"\u001b[39m -> MapPartitionsRDD[347183] at map at cmd213.sc:6,\n",
       "  \u001b[32m\"NR.AR\"\u001b[39m -> MapPartitionsRDD[347180] at map at cmd213.sc:6,\n",
       "  \u001b[32m\"NR.ER.LBD\"\u001b[39m -> MapPartitionsRDD[347184] at map at cmd213.sc:6,\n",
       "  \u001b[32m\"SR.ATAD5\"\u001b[39m -> MapPartitionsRDD[347187] at map at cmd213.sc:6,\n",
       "  \u001b[32m\"NR.AR.LBD\"\u001b[39m -> MapPartitionsRDD[347181] at map at cmd213.sc:6,\n",
       "  \u001b[32m\"NR.Aromatase\"\u001b[39m -> MapPartitionsRDD[347182] at map at cmd213.sc:6,\n",
       "  \u001b[32m\"NR.PPAR.gamma\"\u001b[39m -> MapPartitionsRDD[347185] at map at cmd213.sc:6,\n",
       "  \u001b[32m\"SR.ARE\"\u001b[39m -> MapPartitionsRDD[347186] at map at cmd213.sc:6,\n",
       "\u001b[33m...\u001b[39m\n",
       "\u001b[36mevalRedGB\u001b[39m: \u001b[32mMap\u001b[39m[\u001b[32mString\u001b[39m, \u001b[32mRDD\u001b[39m[\u001b[32mDouble\u001b[39m]] = \u001b[33mMap\u001b[39m(\n",
       "  \u001b[32m\"SR.MMP\"\u001b[39m -> MapPartitionsRDD[347201] at map at cmd213.sc:16,\n",
       "  \u001b[32m\"NR.AhR\"\u001b[39m -> MapPartitionsRDD[347191] at map at cmd213.sc:16,\n",
       "  \u001b[32m\"SR.HSE\"\u001b[39m -> MapPartitionsRDD[347200] at map at cmd213.sc:16,\n",
       "  \u001b[32m\"NR.ER\"\u001b[39m -> MapPartitionsRDD[347195] at map at cmd213.sc:16,\n",
       "  \u001b[32m\"NR.AR\"\u001b[39m -> MapPartitionsRDD[347192] at map at cmd213.sc:16,\n",
       "  \u001b[32m\"NR.ER.LBD\"\u001b[39m -> MapPartitionsRDD[347196] at map at cmd213.sc:16,\n",
       "  \u001b[32m\"SR.ATAD5\"\u001b[39m -> MapPartitionsRDD[347199] at map at cmd213.sc:16,\n",
       "  \u001b[32m\"NR.AR.LBD\"\u001b[39m -> MapPartitionsRDD[347193] at map at cmd213.sc:16,\n",
       "  \u001b[32m\"NR.Aromatase\"\u001b[39m -> MapPartitionsRDD[347194] at map at cmd213.sc:16,\n",
       "  \u001b[32m\"NR.PPAR.gamma\"\u001b[39m -> MapPartitionsRDD[347197] at map at cmd213.sc:16,\n",
       "  \u001b[32m\"SR.ARE\"\u001b[39m -> MapPartitionsRDD[347198] at map at cmd213.sc:16,\n",
       "\u001b[33m...\u001b[39m"
      ]
     },
     "execution_count": 214,
     "metadata": {},
     "output_type": "execute_result"
    }
   ],
   "source": [
    "val evalFullGB = timing {\n",
    "    trainLabelsCSV.columns.tail\n",
    "        .foldLeft(Map.empty[String,RDD[Double]]) { case (mp, acol) => {\n",
    "            val data = synthFull\n",
    "            val model = modelsFullGB(acol)\n",
    "            val pred = data.map { features => model.predict(features) }\n",
    "            val force = pred.count\n",
    "            mp + (acol -> pred)\n",
    "        }}\n",
    "}\n",
    "val evalRedGB = timing {\n",
    "    trainLabelsCSV.columns.tail\n",
    "        .foldLeft(Map.empty[String,RDD[Double]]) { case (mp, acol) => {\n",
    "            val data = synthRed\n",
    "            val model = modelsRedGB(acol)\n",
    "            val pred = data.map { features => model.predict(features) }\n",
    "            val force = pred.count\n",
    "            mp + (acol -> pred)\n",
    "        }}\n",
    "}"
   ]
  }
 ],
 "metadata": {
  "kernelspec": {
   "display_name": "Scala",
   "language": "scala",
   "name": "scala"
  },
  "language_info": {
   "codemirror_mode": "text/x-scala",
   "file_extension": ".scala",
   "mimetype": "text/x-scala",
   "name": "scala211",
   "nbconvert_exporter": "script",
   "pygments_lexer": "scala",
   "version": "2.11.11"
  }
 },
 "nbformat": 4,
 "nbformat_minor": 2
}
