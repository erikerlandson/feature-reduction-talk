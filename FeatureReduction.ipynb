{
 "cells": [
  {
   "cell_type": "code",
   "execution_count": 2,
   "metadata": {},
   "outputs": [
    {
     "data": {
      "text/plain": [
       "\u001b[32mimport \u001b[39m\u001b[36m$exclude.$                        , $ivy.$                            // for cleaner logs\n",
       "//import $profile.`hadoop-2.6`\n",
       "\u001b[39m\n",
       "\u001b[32mimport \u001b[39m\u001b[36m$ivy.$                                   // adjust spark version - spark >= 2.0\n",
       "//import $ivy.`org.apache.hadoop:hadoop-aws:2.6.4`\n",
       "\u001b[39m\n",
       "\u001b[32mimport \u001b[39m\u001b[36m$ivy.$                                // for JupyterSparkSession (SparkSession aware of the jupyter-scala kernel)\n",
       "\n",
       "\u001b[39m\n",
       "\u001b[32mimport \u001b[39m\u001b[36morg.apache.spark._\n",
       "\u001b[39m\n",
       "\u001b[32mimport \u001b[39m\u001b[36morg.apache.spark.sql._\n",
       "\u001b[39m\n",
       "\u001b[32mimport \u001b[39m\u001b[36mjupyter.spark.session._\n",
       "\u001b[39m\n",
       "\u001b[32mimport \u001b[39m\u001b[36mResolvers._\u001b[39m"
      ]
     },
     "execution_count": 2,
     "metadata": {},
     "output_type": "execute_result"
    }
   ],
   "source": [
    "import $exclude.`org.slf4j:slf4j-log4j12`, $ivy.`org.slf4j:slf4j-nop:1.7.21` // for cleaner logs\n",
    "//import $profile.`hadoop-2.6`\n",
    "import $ivy.`org.apache.spark::spark-sql:2.1.0` // adjust spark version - spark >= 2.0\n",
    "//import $ivy.`org.apache.hadoop:hadoop-aws:2.6.4`\n",
    "import $ivy.`org.jupyter-scala::spark:0.4.2` // for JupyterSparkSession (SparkSession aware of the jupyter-scala kernel)\n",
    "\n",
    "import org.apache.spark._\n",
    "import org.apache.spark.sql._\n",
    "import jupyter.spark.session._\n",
    "import Resolvers._"
   ]
  },
  {
   "cell_type": "code",
   "execution_count": 3,
   "metadata": {},
   "outputs": [
    {
     "data": {
      "text/plain": [
       "\u001b[32mimport \u001b[39m\u001b[36m$ivy.$                           \n",
       "\u001b[39m\n",
       "\u001b[32mimport \u001b[39m\u001b[36mvegas._\n",
       "\u001b[39m\n",
       "\u001b[32mimport \u001b[39m\u001b[36mvegas.data.External._\u001b[39m"
      ]
     },
     "execution_count": 3,
     "metadata": {},
     "output_type": "execute_result"
    }
   ],
   "source": [
    "import $ivy.`org.vegas-viz::vegas:0.3.9`\n",
    "import vegas._\n",
    "import vegas.data.External._"
   ]
  },
  {
   "cell_type": "code",
   "execution_count": 4,
   "metadata": {},
   "outputs": [],
   "source": [
    "interp.resolvers() = interp.resolvers() :+ Resolver.Http(\n",
    "  \"isarn project\",\n",
    "  \"https://dl.bintray.com/isarn/maven/\",\n",
    "  MavenPattern,\n",
    "  true\n",
    ")\n",
    "// resolvers += \"Will's bintray\" at \"https://dl.bintray.com/willb/maven/\"\n",
    "interp.resolvers() = interp.resolvers() :+ Resolver.Http(\n",
    "  \"Will Benton\",\n",
    "  \"https://dl.bintray.com/willb/maven/\",\n",
    "  MavenPattern,\n",
    "  true\n",
    ")"
   ]
  },
  {
   "cell_type": "code",
   "execution_count": 5,
   "metadata": {},
   "outputs": [
    {
     "name": "stdout",
     "output_type": "stream",
     "text": [
      "Downloading https://repo1.maven.org/maven2/org/isarnproject/isarn-sketches_2.11/0.0.3.rc1/isarn-sketches_2.11-0.0.3.rc1.pom\n",
      "Downloading https://repo1.maven.org/maven2/org/isarnproject/isarn-sketches_2.11/0.0.3.rc1/isarn-sketches_2.11-0.0.3.rc1.pom.sha1\n",
      "Downloading https://oss.sonatype.org/content/repositories/releases/org/isarnproject/isarn-sketches_2.11/0.0.3.rc1/isarn-sketches_2.11-0.0.3.rc1.pom\n",
      "Downloading https://oss.sonatype.org/content/repositories/releases/org/isarnproject/isarn-sketches_2.11/0.0.3.rc1/isarn-sketches_2.11-0.0.3.rc1.pom.sha1\n",
      "Downloading https://dl.bintray.com/isarn/maven/org/isarnproject/isarn-sketches_2.11/0.0.3.rc1/isarn-sketches_2.11-0.0.3.rc1.pom\n",
      "Downloading https://dl.bintray.com/isarn/maven/org/isarnproject/isarn-sketches_2.11/0.0.3.rc1/isarn-sketches_2.11-0.0.3.rc1.pom.sha1\n",
      "Downloaded https://dl.bintray.com/isarn/maven/org/isarnproject/isarn-sketches_2.11/0.0.3.rc1/isarn-sketches_2.11-0.0.3.rc1.pom.sha1\n",
      "Downloaded https://dl.bintray.com/isarn/maven/org/isarnproject/isarn-sketches_2.11/0.0.3.rc1/isarn-sketches_2.11-0.0.3.rc1.pom\n",
      "Downloading https://dl.bintray.com/isarn/maven/org/isarnproject/isarn-sketches_2.11/0.0.3.rc1/\n",
      "Downloaded https://dl.bintray.com/isarn/maven/org/isarnproject/isarn-sketches_2.11/0.0.3.rc1/\n",
      "Downloading https://repo1.maven.org/maven2/org/isarnproject/isarn-collections_2.11/0.0.1/isarn-collections_2.11-0.0.1.pom.sha1\n",
      "Downloading https://repo1.maven.org/maven2/org/isarnproject/isarn-algebra-api_2.11/0.0.1/isarn-algebra-api_2.11-0.0.1.pom.sha1\n",
      "Downloading https://repo1.maven.org/maven2/org/isarnproject/isarn-algebra-api_2.11/0.0.1/isarn-algebra-api_2.11-0.0.1.pom\n",
      "Downloading https://repo1.maven.org/maven2/org/isarnproject/isarn-collections_2.11/0.0.1/isarn-collections_2.11-0.0.1.pom\n",
      "Downloading https://oss.sonatype.org/content/repositories/releases/org/isarnproject/isarn-algebra-api_2.11/0.0.1/isarn-algebra-api_2.11-0.0.1.pom\n",
      "Downloading https://oss.sonatype.org/content/repositories/releases/org/isarnproject/isarn-algebra-api_2.11/0.0.1/isarn-algebra-api_2.11-0.0.1.pom.sha1\n",
      "Downloading https://oss.sonatype.org/content/repositories/releases/org/isarnproject/isarn-collections_2.11/0.0.1/isarn-collections_2.11-0.0.1.pom\n",
      "Downloading https://oss.sonatype.org/content/repositories/releases/org/isarnproject/isarn-collections_2.11/0.0.1/isarn-collections_2.11-0.0.1.pom.sha1\n",
      "Downloading https://dl.bintray.com/isarn/maven/org/isarnproject/isarn-algebra-api_2.11/0.0.1/isarn-algebra-api_2.11-0.0.1.pom\n",
      "Downloading https://dl.bintray.com/isarn/maven/org/isarnproject/isarn-algebra-api_2.11/0.0.1/isarn-algebra-api_2.11-0.0.1.pom.sha1\n",
      "Downloading https://dl.bintray.com/isarn/maven/org/isarnproject/isarn-collections_2.11/0.0.1/isarn-collections_2.11-0.0.1.pom\n",
      "Downloading https://dl.bintray.com/isarn/maven/org/isarnproject/isarn-collections_2.11/0.0.1/isarn-collections_2.11-0.0.1.pom.sha1\n",
      "Downloaded https://dl.bintray.com/isarn/maven/org/isarnproject/isarn-algebra-api_2.11/0.0.1/isarn-algebra-api_2.11-0.0.1.pom.sha1\n",
      "Downloaded https://dl.bintray.com/isarn/maven/org/isarnproject/isarn-collections_2.11/0.0.1/isarn-collections_2.11-0.0.1.pom.sha1\n",
      "Downloaded https://dl.bintray.com/isarn/maven/org/isarnproject/isarn-collections_2.11/0.0.1/isarn-collections_2.11-0.0.1.pom\n",
      "Downloading https://dl.bintray.com/isarn/maven/org/isarnproject/isarn-collections_2.11/0.0.1/\n",
      "Downloaded https://dl.bintray.com/isarn/maven/org/isarnproject/isarn-collections_2.11/0.0.1/\n",
      "Downloaded https://dl.bintray.com/isarn/maven/org/isarnproject/isarn-algebra-api_2.11/0.0.1/isarn-algebra-api_2.11-0.0.1.pom\n",
      "Downloading https://dl.bintray.com/isarn/maven/org/isarnproject/isarn-algebra-api_2.11/0.0.1/\n",
      "Downloaded https://dl.bintray.com/isarn/maven/org/isarnproject/isarn-algebra-api_2.11/0.0.1/\n",
      "Downloading https://dl.bintray.com/isarn/maven/org/isarnproject/isarn-algebra-api_2.11/0.0.1/isarn-algebra-api_2.11-0.0.1.jar\n",
      "Downloading https://dl.bintray.com/isarn/maven/org/isarnproject/isarn-sketches_2.11/0.0.3.rc1/isarn-sketches_2.11-0.0.3.rc1.jar\n",
      "Downloading https://dl.bintray.com/isarn/maven/org/isarnproject/isarn-collections_2.11/0.0.1/isarn-collections_2.11-0.0.1.jar\n",
      "Downloaded https://dl.bintray.com/isarn/maven/org/isarnproject/isarn-algebra-api_2.11/0.0.1/isarn-algebra-api_2.11-0.0.1.jar\n",
      "Downloaded https://dl.bintray.com/isarn/maven/org/isarnproject/isarn-sketches_2.11/0.0.3.rc1/isarn-sketches_2.11-0.0.3.rc1.jar\n",
      "Downloaded https://dl.bintray.com/isarn/maven/org/isarnproject/isarn-collections_2.11/0.0.1/isarn-collections_2.11-0.0.1.jar\n"
     ]
    },
    {
     "data": {
      "text/plain": [
       "\u001b[32mimport \u001b[39m\u001b[36m$ivy.$                                            // \"org.isarnproject\" %% \"isarn-sketches\" % \"0.0.2\"\n",
       "\u001b[39m\n",
       "\u001b[32mimport \u001b[39m\u001b[36morg.isarnproject.sketches._\u001b[39m"
      ]
     },
     "execution_count": 5,
     "metadata": {},
     "output_type": "execute_result"
    }
   ],
   "source": [
    "import $ivy.`org.isarnproject::isarn-sketches:0.0.3.rc1` // \"org.isarnproject\" %% \"isarn-sketches\" % \"0.0.2\"\n",
    "import org.isarnproject.sketches._"
   ]
  },
  {
   "cell_type": "code",
   "execution_count": 7,
   "metadata": {},
   "outputs": [
    {
     "name": "stdout",
     "output_type": "stream",
     "text": [
      "Downloading https://repo1.maven.org/maven2/com/redhat/et/silex_2.11/0.1.2/silex_2.11-0.1.2.pom\n",
      "Downloading https://repo1.maven.org/maven2/com/redhat/et/silex_2.11/0.1.2/silex_2.11-0.1.2.pom.sha1\n",
      "Downloading https://oss.sonatype.org/content/repositories/releases/com/redhat/et/silex_2.11/0.1.2/silex_2.11-0.1.2.pom\n",
      "Downloading https://oss.sonatype.org/content/repositories/releases/com/redhat/et/silex_2.11/0.1.2/silex_2.11-0.1.2.pom.sha1\n",
      "Downloading https://dl.bintray.com/isarn/maven/com/redhat/et/silex_2.11/0.1.2/silex_2.11-0.1.2.pom\n",
      "Downloading https://dl.bintray.com/isarn/maven/com/redhat/et/silex_2.11/0.1.2/silex_2.11-0.1.2.pom.sha1\n",
      "Downloading https://dl.bintray.com/willb/maven/com/redhat/et/silex_2.11/0.1.2/silex_2.11-0.1.2.pom\n",
      "Downloading https://dl.bintray.com/willb/maven/com/redhat/et/silex_2.11/0.1.2/silex_2.11-0.1.2.pom.sha1\n",
      "Downloaded https://dl.bintray.com/willb/maven/com/redhat/et/silex_2.11/0.1.2/silex_2.11-0.1.2.pom.sha1\n",
      "Downloaded https://dl.bintray.com/willb/maven/com/redhat/et/silex_2.11/0.1.2/silex_2.11-0.1.2.pom\n",
      "Downloading https://dl.bintray.com/willb/maven/com/redhat/et/silex_2.11/0.1.2/\n",
      "Downloaded https://dl.bintray.com/willb/maven/com/redhat/et/silex_2.11/0.1.2/\n",
      "Downloading https://repo1.maven.org/maven2/org/apache/spark/spark-mllib_2.11/2.1.0/spark-mllib_2.11-2.1.0.pom\n",
      "Downloading https://repo1.maven.org/maven2/org/joda/joda-convert/1.7/joda-convert-1.7.pom.sha1\n",
      "Downloading https://repo1.maven.org/maven2/org/joda/joda-convert/1.7/joda-convert-1.7.pom\n",
      "Downloading https://repo1.maven.org/maven2/org/apache/spark/spark-mllib_2.11/2.1.0/spark-mllib_2.11-2.1.0.pom.sha1\n",
      "Downloading https://repo1.maven.org/maven2/org/scalanlp/breeze-natives_2.11/0.12/breeze-natives_2.11-0.12.pom\n",
      "Downloading https://repo1.maven.org/maven2/org/scalanlp/breeze-natives_2.11/0.12/breeze-natives_2.11-0.12.pom.sha1\n",
      "Downloaded https://repo1.maven.org/maven2/org/apache/spark/spark-mllib_2.11/2.1.0/spark-mllib_2.11-2.1.0.pom.sha1\n",
      "Downloading https://repo1.maven.org/maven2/org/scalanlp/breeze_2.11/0.12/breeze_2.11-0.12.pom\n",
      "Downloaded https://repo1.maven.org/maven2/org/apache/spark/spark-mllib_2.11/2.1.0/spark-mllib_2.11-2.1.0.pom\n",
      "Downloading https://repo1.maven.org/maven2/org/scalanlp/breeze_2.11/0.12/breeze_2.11-0.12.pom.sha1\n",
      "Downloaded https://repo1.maven.org/maven2/org/joda/joda-convert/1.7/joda-convert-1.7.pom.sha1\n",
      "Downloading https://repo1.maven.org/maven2/org/apache/commons/commons-math3/3.6/commons-math3-3.6.pom\n",
      "Downloaded https://repo1.maven.org/maven2/org/scalanlp/breeze-natives_2.11/0.12/breeze-natives_2.11-0.12.pom.sha1\n",
      "Downloading https://repo1.maven.org/maven2/org/apache/commons/commons-math3/3.6/commons-math3-3.6.pom.sha1\n",
      "Downloaded https://repo1.maven.org/maven2/org/scalanlp/breeze-natives_2.11/0.12/breeze-natives_2.11-0.12.pom\n",
      "Downloading https://repo1.maven.org/maven2/joda-time/joda-time/2.7/joda-time-2.7.pom\n",
      "Downloaded https://repo1.maven.org/maven2/org/scalanlp/breeze_2.11/0.12/breeze_2.11-0.12.pom\n",
      "Downloaded https://repo1.maven.org/maven2/org/joda/joda-convert/1.7/joda-convert-1.7.pom\n",
      "Downloaded https://repo1.maven.org/maven2/org/scalanlp/breeze_2.11/0.12/breeze_2.11-0.12.pom.sha1\n",
      "Downloading https://repo1.maven.org/maven2/joda-time/joda-time/2.7/joda-time-2.7.pom.sha1\n",
      "Downloading https://repo1.maven.org/maven2/org/apache/spark/spark-mllib_2.11/2.1.0/\n",
      "Downloading https://repo1.maven.org/maven2/org/joda/joda-convert/1.7/\n",
      "Downloaded https://repo1.maven.org/maven2/org/apache/commons/commons-math3/3.6/commons-math3-3.6.pom.sha1\n",
      "Downloading https://repo1.maven.org/maven2/org/scalanlp/breeze-natives_2.11/0.12/\n",
      "Downloaded https://repo1.maven.org/maven2/joda-time/joda-time/2.7/joda-time-2.7.pom.sha1\n",
      "Downloading https://repo1.maven.org/maven2/org/scalanlp/breeze_2.11/0.12/\n",
      "Downloaded https://repo1.maven.org/maven2/org/joda/joda-convert/1.7/\n",
      "Downloaded https://repo1.maven.org/maven2/joda-time/joda-time/2.7/joda-time-2.7.pom\n",
      "Downloaded https://repo1.maven.org/maven2/org/apache/commons/commons-math3/3.6/commons-math3-3.6.pom\n",
      "Downloading https://repo1.maven.org/maven2/joda-time/joda-time/2.7/\n",
      "Downloading https://repo1.maven.org/maven2/org/apache/commons/commons-math3/3.6/\n",
      "Downloaded https://repo1.maven.org/maven2/org/scalanlp/breeze_2.11/0.12/\n",
      "Downloaded https://repo1.maven.org/maven2/org/apache/spark/spark-mllib_2.11/2.1.0/\n",
      "Downloaded https://repo1.maven.org/maven2/joda-time/joda-time/2.7/\n",
      "Downloaded https://repo1.maven.org/maven2/org/apache/commons/commons-math3/3.6/\n",
      "Downloaded https://repo1.maven.org/maven2/org/scalanlp/breeze-natives_2.11/0.12/\n",
      "Downloading https://repo1.maven.org/maven2/org/apache/commons/commons-parent/39/commons-parent-39.pom\n",
      "Downloading https://repo1.maven.org/maven2/org/apache/commons/commons-parent/39/commons-parent-39.pom.sha1\n",
      "Downloaded https://repo1.maven.org/maven2/org/apache/commons/commons-parent/39/commons-parent-39.pom.sha1\n",
      "Downloaded https://repo1.maven.org/maven2/org/apache/commons/commons-parent/39/commons-parent-39.pom\n",
      "Downloading https://repo1.maven.org/maven2/org/apache/commons/commons-parent/39/\n",
      "Downloaded https://repo1.maven.org/maven2/org/apache/commons/commons-parent/39/\n",
      "Downloading https://repo1.maven.org/maven2/net/sf/opencsv/opencsv/2.3/opencsv-2.3.pom\n",
      "Downloading https://repo1.maven.org/maven2/com/github/rwl/jtransforms/2.4.0/jtransforms-2.4.0.pom.sha1\n",
      "Downloading https://repo1.maven.org/maven2/net/sf/opencsv/opencsv/2.3/opencsv-2.3.pom.sha1\n",
      "Downloading https://repo1.maven.org/maven2/com/github/rwl/jtransforms/2.4.0/jtransforms-2.4.0.pom\n",
      "Downloading https://repo1.maven.org/maven2/org/apache/spark/spark-mllib-local_2.11/2.1.0/spark-mllib-local_2.11-2.1.0.pom.sha1\n",
      "Downloading https://repo1.maven.org/maven2/org/apache/spark/spark-mllib-local_2.11/2.1.0/spark-mllib-local_2.11-2.1.0.pom\n",
      "Downloaded https://repo1.maven.org/maven2/net/sf/opencsv/opencsv/2.3/opencsv-2.3.pom\n",
      "Downloading https://repo1.maven.org/maven2/org/apache/spark/spark-streaming_2.11/2.1.0/spark-streaming_2.11-2.1.0.pom\n",
      "Downloaded https://repo1.maven.org/maven2/com/github/rwl/jtransforms/2.4.0/jtransforms-2.4.0.pom\n",
      "Downloading https://repo1.maven.org/maven2/org/apache/spark/spark-streaming_2.11/2.1.0/spark-streaming_2.11-2.1.0.pom.sha1\n",
      "Downloaded https://repo1.maven.org/maven2/org/apache/spark/spark-mllib-local_2.11/2.1.0/spark-mllib-local_2.11-2.1.0.pom.sha1\n",
      "Downloading https://repo1.maven.org/maven2/org/spire-math/spire_2.11/0.7.4/spire_2.11-0.7.4.pom\n",
      "Downloaded https://repo1.maven.org/maven2/net/sf/opencsv/opencsv/2.3/opencsv-2.3.pom.sha1\n",
      "Downloading https://repo1.maven.org/maven2/org/spire-math/spire_2.11/0.7.4/spire_2.11-0.7.4.pom.sha1\n",
      "Downloaded https://repo1.maven.org/maven2/com/github/rwl/jtransforms/2.4.0/jtransforms-2.4.0.pom.sha1\n",
      "Downloading https://repo1.maven.org/maven2/com/github/fommil/netlib/all/1.1.2/all-1.1.2.pom\n",
      "Downloaded https://repo1.maven.org/maven2/org/apache/spark/spark-streaming_2.11/2.1.0/spark-streaming_2.11-2.1.0.pom\n",
      "Downloaded https://repo1.maven.org/maven2/org/spire-math/spire_2.11/0.7.4/spire_2.11-0.7.4.pom.sha1\n",
      "Downloaded https://repo1.maven.org/maven2/org/spire-math/spire_2.11/0.7.4/spire_2.11-0.7.4.pom\n",
      "Downloaded https://repo1.maven.org/maven2/org/apache/spark/spark-streaming_2.11/2.1.0/spark-streaming_2.11-2.1.0.pom.sha1\n",
      "Downloading https://repo1.maven.org/maven2/com/github/fommil/netlib/all/1.1.2/all-1.1.2.pom.sha1\n",
      "Downloading https://repo1.maven.org/maven2/org/scalanlp/breeze-macros_2.11/0.12/breeze-macros_2.11-0.12.pom\n",
      "Downloading https://repo1.maven.org/maven2/org/scalanlp/breeze-macros_2.11/0.12/breeze-macros_2.11-0.12.pom.sha1\n",
      "Downloading https://repo1.maven.org/maven2/com/github/fommil/netlib/core/1.1.2/core-1.1.2.pom\n",
      "Downloaded https://repo1.maven.org/maven2/org/apache/spark/spark-mllib-local_2.11/2.1.0/spark-mllib-local_2.11-2.1.0.pom\n",
      "Downloading https://repo1.maven.org/maven2/com/github/fommil/netlib/core/1.1.2/core-1.1.2.pom.sha1\n",
      "Downloaded https://repo1.maven.org/maven2/com/github/fommil/netlib/core/1.1.2/core-1.1.2.pom\n",
      "Downloaded https://repo1.maven.org/maven2/org/scalanlp/breeze-macros_2.11/0.12/breeze-macros_2.11-0.12.pom.sha1\n",
      "Downloaded https://repo1.maven.org/maven2/org/scalanlp/breeze-macros_2.11/0.12/breeze-macros_2.11-0.12.pom\n",
      "Downloaded https://repo1.maven.org/maven2/com/github/fommil/netlib/all/1.1.2/all-1.1.2.pom.sha1\n",
      "Downloaded https://repo1.maven.org/maven2/com/github/fommil/netlib/all/1.1.2/all-1.1.2.pom\n",
      "Downloading https://repo1.maven.org/maven2/org/jpmml/pmml-model/1.2.15/pmml-model-1.2.15.pom\n",
      "Downloading https://repo1.maven.org/maven2/org/jpmml/pmml-model/1.2.15/pmml-model-1.2.15.pom.sha1\n",
      "Downloading https://repo1.maven.org/maven2/org/apache/spark/spark-graphx_2.11/2.1.0/spark-graphx_2.11-2.1.0.pom.sha1\n",
      "Downloading https://repo1.maven.org/maven2/org/apache/spark/spark-graphx_2.11/2.1.0/spark-graphx_2.11-2.1.0.pom\n"
     ]
    },
    {
     "name": "stdout",
     "output_type": "stream",
     "text": [
      "Downloading https://repo1.maven.org/maven2/net/sourceforge/f2j/arpack_combined_all/0.1/arpack_combined_all-0.1.pom\n",
      "Downloaded https://repo1.maven.org/maven2/org/apache/spark/spark-graphx_2.11/2.1.0/spark-graphx_2.11-2.1.0.pom\n",
      "Downloaded https://repo1.maven.org/maven2/org/apache/spark/spark-graphx_2.11/2.1.0/spark-graphx_2.11-2.1.0.pom.sha1\n",
      "Downloaded https://repo1.maven.org/maven2/org/jpmml/pmml-model/1.2.15/pmml-model-1.2.15.pom\n",
      "Downloaded https://repo1.maven.org/maven2/org/jpmml/pmml-model/1.2.15/pmml-model-1.2.15.pom.sha1\n",
      "Downloaded https://repo1.maven.org/maven2/com/github/fommil/netlib/core/1.1.2/core-1.1.2.pom.sha1\n",
      "Downloading https://repo1.maven.org/maven2/net/sourceforge/f2j/arpack_combined_all/0.1/arpack_combined_all-0.1.pom.sha1\n",
      "Downloading https://repo1.maven.org/maven2/org/spire-math/spire_2.11/0.7.4/\n",
      "Downloading https://repo1.maven.org/maven2/net/sf/opencsv/opencsv/2.3/\n",
      "Downloading https://repo1.maven.org/maven2/com/github/rwl/jtransforms/2.4.0/\n",
      "Downloading https://repo1.maven.org/maven2/org/scalanlp/breeze-macros_2.11/0.12/\n",
      "Downloaded https://repo1.maven.org/maven2/net/sourceforge/f2j/arpack_combined_all/0.1/arpack_combined_all-0.1.pom\n",
      "Downloaded https://repo1.maven.org/maven2/com/github/rwl/jtransforms/2.4.0/\n",
      "Downloaded https://repo1.maven.org/maven2/org/spire-math/spire_2.11/0.7.4/\n",
      "Downloaded https://repo1.maven.org/maven2/net/sf/opencsv/opencsv/2.3/\n",
      "Downloaded https://repo1.maven.org/maven2/net/sourceforge/f2j/arpack_combined_all/0.1/arpack_combined_all-0.1.pom.sha1\n",
      "Downloading https://repo1.maven.org/maven2/org/apache/spark/spark-streaming_2.11/2.1.0/\n",
      "Downloading https://repo1.maven.org/maven2/com/github/fommil/netlib/all/1.1.2/\n",
      "Downloading https://repo1.maven.org/maven2/org/apache/spark/spark-mllib-local_2.11/2.1.0/\n",
      "Downloading https://repo1.maven.org/maven2/org/apache/spark/spark-graphx_2.11/2.1.0/\n",
      "Downloading https://repo1.maven.org/maven2/org/jpmml/pmml-model/1.2.15/\n",
      "Downloaded https://repo1.maven.org/maven2/com/github/fommil/netlib/all/1.1.2/\n",
      "Downloading https://repo1.maven.org/maven2/com/github/fommil/netlib/core/1.1.2/\n",
      "Downloaded https://repo1.maven.org/maven2/org/apache/spark/spark-mllib-local_2.11/2.1.0/\n",
      "Downloading https://repo1.maven.org/maven2/net/sourceforge/f2j/arpack_combined_all/0.1/\n",
      "Downloaded https://repo1.maven.org/maven2/org/apache/spark/spark-graphx_2.11/2.1.0/\n",
      "Downloaded https://repo1.maven.org/maven2/org/apache/spark/spark-streaming_2.11/2.1.0/\n",
      "Downloaded https://repo1.maven.org/maven2/org/scalanlp/breeze-macros_2.11/0.12/\n",
      "Downloaded https://repo1.maven.org/maven2/org/jpmml/pmml-model/1.2.15/\n",
      "Downloaded https://repo1.maven.org/maven2/com/github/fommil/netlib/core/1.1.2/\n",
      "Downloaded https://repo1.maven.org/maven2/net/sourceforge/f2j/arpack_combined_all/0.1/\n",
      "Downloading https://repo1.maven.org/maven2/com/github/fommil/netlib/parent/1.1/parent-1.1.pom\n",
      "Downloading https://repo1.maven.org/maven2/org/jpmml/jpmml-model/1.2.15/jpmml-model-1.2.15.pom.sha1\n",
      "Downloading https://repo1.maven.org/maven2/org/jpmml/jpmml-model/1.2.15/jpmml-model-1.2.15.pom\n",
      "Downloading https://repo1.maven.org/maven2/com/github/fommil/netlib/parent/1.1/parent-1.1.pom.sha1\n",
      "Downloaded https://repo1.maven.org/maven2/org/jpmml/jpmml-model/1.2.15/jpmml-model-1.2.15.pom.sha1\n",
      "Downloaded https://repo1.maven.org/maven2/org/jpmml/jpmml-model/1.2.15/jpmml-model-1.2.15.pom\n",
      "Downloading https://repo1.maven.org/maven2/org/jpmml/jpmml-model/1.2.15/\n",
      "Downloaded https://repo1.maven.org/maven2/com/github/fommil/netlib/parent/1.1/parent-1.1.pom.sha1\n",
      "Downloaded https://repo1.maven.org/maven2/com/github/fommil/netlib/parent/1.1/parent-1.1.pom\n",
      "Downloading https://repo1.maven.org/maven2/com/github/fommil/netlib/parent/1.1/\n",
      "Downloaded https://repo1.maven.org/maven2/com/github/fommil/netlib/parent/1.1/\n",
      "Downloaded https://repo1.maven.org/maven2/org/jpmml/jpmml-model/1.2.15/\n",
      "Downloading https://repo1.maven.org/maven2/org/spire-math/spire-macros_2.11/0.7.4/spire-macros_2.11-0.7.4.pom.sha1\n",
      "Downloading https://repo1.maven.org/maven2/com/github/fommil/netlib/netlib-native_system-win-i686/1.1/netlib-native_system-win-i686-1.1.pom.sha1\n",
      "Downloading https://repo1.maven.org/maven2/com/github/fommil/netlib/netlib-native_system-win-i686/1.1/netlib-native_system-win-i686-1.1.pom\n",
      "Downloading https://repo1.maven.org/maven2/org/spire-math/spire-macros_2.11/0.7.4/spire-macros_2.11-0.7.4.pom\n",
      "Downloading https://repo1.maven.org/maven2/junit/junit/4.8.2/junit-4.8.2.pom.sha1\n",
      "Downloading https://repo1.maven.org/maven2/junit/junit/4.8.2/junit-4.8.2.pom\n",
      "Downloaded https://repo1.maven.org/maven2/junit/junit/4.8.2/junit-4.8.2.pom.sha1\n",
      "Downloaded https://repo1.maven.org/maven2/org/spire-math/spire-macros_2.11/0.7.4/spire-macros_2.11-0.7.4.pom.sha1\n",
      "Downloading https://repo1.maven.org/maven2/com/github/fommil/netlib/netlib-native_ref-win-i686/1.1/netlib-native_ref-win-i686-1.1.pom\n",
      "Downloading https://repo1.maven.org/maven2/com/github/fommil/netlib/netlib-native_ref-linux-armhf/1.1/netlib-native_ref-linux-armhf-1.1.pom\n",
      "Downloaded https://repo1.maven.org/maven2/com/github/fommil/netlib/netlib-native_system-win-i686/1.1/netlib-native_system-win-i686-1.1.pom.sha1\n",
      "Downloaded https://repo1.maven.org/maven2/com/github/fommil/netlib/netlib-native_ref-linux-armhf/1.1/netlib-native_ref-linux-armhf-1.1.pom\n",
      "Downloaded https://repo1.maven.org/maven2/org/spire-math/spire-macros_2.11/0.7.4/spire-macros_2.11-0.7.4.pom\n",
      "Downloaded https://repo1.maven.org/maven2/com/github/fommil/netlib/netlib-native_system-win-i686/1.1/netlib-native_system-win-i686-1.1.pom\n",
      "Downloading https://repo1.maven.org/maven2/org/jpmml/pmml-schema/1.2.15/pmml-schema-1.2.15.pom\n",
      "Downloading https://repo1.maven.org/maven2/com/github/fommil/netlib/netlib-native_ref-win-x86_64/1.1/netlib-native_ref-win-x86_64-1.1.pom\n",
      "Downloading https://repo1.maven.org/maven2/com/github/fommil/netlib/netlib-native_ref-win-i686/1.1/netlib-native_ref-win-i686-1.1.pom.sha1\n",
      "Downloading https://repo1.maven.org/maven2/com/github/fommil/netlib/netlib-native_ref-linux-armhf/1.1/netlib-native_ref-linux-armhf-1.1.pom.sha1\n",
      "Downloaded https://repo1.maven.org/maven2/com/github/fommil/netlib/netlib-native_ref-win-i686/1.1/netlib-native_ref-win-i686-1.1.pom\n",
      "Downloaded https://repo1.maven.org/maven2/junit/junit/4.8.2/junit-4.8.2.pom\n",
      "Downloaded https://repo1.maven.org/maven2/com/github/fommil/netlib/netlib-native_ref-linux-armhf/1.1/netlib-native_ref-linux-armhf-1.1.pom.sha1\n",
      "Downloaded https://repo1.maven.org/maven2/com/github/fommil/netlib/netlib-native_ref-win-i686/1.1/netlib-native_ref-win-i686-1.1.pom.sha1\n",
      "Downloaded https://repo1.maven.org/maven2/com/github/fommil/netlib/netlib-native_ref-win-x86_64/1.1/netlib-native_ref-win-x86_64-1.1.pom\n",
      "Downloaded https://repo1.maven.org/maven2/org/jpmml/pmml-schema/1.2.15/pmml-schema-1.2.15.pom\n",
      "Downloading https://repo1.maven.org/maven2/com/github/fommil/netlib/netlib-native_ref-win-x86_64/1.1/netlib-native_ref-win-x86_64-1.1.pom.sha1\n",
      "Downloading https://repo1.maven.org/maven2/com/github/fommil/netlib/netlib-native_system-osx-x86_64/1.1/netlib-native_system-osx-x86_64-1.1.pom\n",
      "Downloading https://repo1.maven.org/maven2/com/github/fommil/netlib/netlib-native_system-linux-i686/1.1/netlib-native_system-linux-i686-1.1.pom\n",
      "Downloading https://repo1.maven.org/maven2/com/github/fommil/netlib/netlib-native_system-linux-x86_64/1.1/netlib-native_system-linux-x86_64-1.1.pom.sha1\n",
      "Downloaded https://repo1.maven.org/maven2/com/github/fommil/netlib/netlib-native_system-linux-i686/1.1/netlib-native_system-linux-i686-1.1.pom\n",
      "Downloaded https://repo1.maven.org/maven2/com/github/fommil/netlib/netlib-native_system-osx-x86_64/1.1/netlib-native_system-osx-x86_64-1.1.pom\n",
      "Downloaded https://repo1.maven.org/maven2/com/github/fommil/netlib/netlib-native_ref-win-x86_64/1.1/netlib-native_ref-win-x86_64-1.1.pom.sha1\n",
      "Downloading https://repo1.maven.org/maven2/org/jpmml/pmml-schema/1.2.15/pmml-schema-1.2.15.pom.sha1\n",
      "Downloading https://repo1.maven.org/maven2/com/github/fommil/netlib/netlib-native_system-linux-x86_64/1.1/netlib-native_system-linux-x86_64-1.1.pom\n",
      "Downloading https://repo1.maven.org/maven2/com/github/fommil/netlib/netlib-native_system-osx-x86_64/1.1/netlib-native_system-osx-x86_64-1.1.pom.sha1\n",
      "Downloading https://repo1.maven.org/maven2/com/github/fommil/netlib/netlib-native_system-linux-i686/1.1/netlib-native_system-linux-i686-1.1.pom.sha1\n"
     ]
    },
    {
     "name": "stdout",
     "output_type": "stream",
     "text": [
      "Downloading https://repo1.maven.org/maven2/com/github/fommil/netlib/netlib-native_ref-linux-x86_64/1.1/netlib-native_ref-linux-x86_64-1.1.pom\n",
      "Downloaded https://repo1.maven.org/maven2/com/github/fommil/netlib/netlib-native_system-linux-i686/1.1/netlib-native_system-linux-i686-1.1.pom.sha1\n",
      "Downloaded https://repo1.maven.org/maven2/com/github/fommil/netlib/netlib-native_system-linux-x86_64/1.1/netlib-native_system-linux-x86_64-1.1.pom\n",
      "Downloaded https://repo1.maven.org/maven2/com/github/fommil/netlib/netlib-native_system-osx-x86_64/1.1/netlib-native_system-osx-x86_64-1.1.pom.sha1\n",
      "Downloaded https://repo1.maven.org/maven2/org/jpmml/pmml-schema/1.2.15/pmml-schema-1.2.15.pom.sha1\n",
      "Downloaded https://repo1.maven.org/maven2/com/github/fommil/netlib/netlib-native_system-linux-x86_64/1.1/netlib-native_system-linux-x86_64-1.1.pom.sha1\n",
      "Downloading https://repo1.maven.org/maven2/com/github/fommil/netlib/netlib-native_ref-linux-x86_64/1.1/netlib-native_ref-linux-x86_64-1.1.pom.sha1\n",
      "Downloading https://repo1.maven.org/maven2/com/github/fommil/netlib/netlib-native_system-win-x86_64/1.1/netlib-native_system-win-x86_64-1.1.pom.sha1\n",
      "Downloading https://repo1.maven.org/maven2/com/github/fommil/netlib/netlib-native_system-win-x86_64/1.1/netlib-native_system-win-x86_64-1.1.pom\n",
      "Downloaded https://repo1.maven.org/maven2/com/github/fommil/netlib/netlib-native_system-win-x86_64/1.1/netlib-native_system-win-x86_64-1.1.pom.sha1\n",
      "Downloaded https://repo1.maven.org/maven2/com/github/fommil/netlib/netlib-native_ref-linux-x86_64/1.1/netlib-native_ref-linux-x86_64-1.1.pom\n",
      "Downloaded https://repo1.maven.org/maven2/com/github/fommil/netlib/netlib-native_ref-linux-x86_64/1.1/netlib-native_ref-linux-x86_64-1.1.pom.sha1\n",
      "Downloading https://repo1.maven.org/maven2/com/github/fommil/netlib/netlib-native_system-linux-armhf/1.1/netlib-native_system-linux-armhf-1.1.pom.sha1\n",
      "Downloading https://repo1.maven.org/maven2/com/github/fommil/netlib/netlib-native_system-linux-armhf/1.1/netlib-native_system-linux-armhf-1.1.pom\n",
      "Downloading https://repo1.maven.org/maven2/com/github/fommil/netlib/netlib-native_ref-linux-i686/1.1/netlib-native_ref-linux-i686-1.1.pom\n",
      "Downloading https://repo1.maven.org/maven2/com/github/fommil/netlib/netlib-native_ref-osx-x86_64/1.1/netlib-native_ref-osx-x86_64-1.1.pom\n",
      "Downloading https://repo1.maven.org/maven2/com/github/fommil/netlib/netlib-native_ref-linux-i686/1.1/netlib-native_ref-linux-i686-1.1.pom.sha1\n",
      "Downloaded https://repo1.maven.org/maven2/com/github/fommil/netlib/netlib-native_ref-osx-x86_64/1.1/netlib-native_ref-osx-x86_64-1.1.pom\n",
      "Downloaded https://repo1.maven.org/maven2/com/github/fommil/netlib/netlib-native_system-win-x86_64/1.1/netlib-native_system-win-x86_64-1.1.pom\n",
      "Downloaded https://repo1.maven.org/maven2/com/github/fommil/netlib/netlib-native_ref-linux-i686/1.1/netlib-native_ref-linux-i686-1.1.pom\n",
      "Downloaded https://repo1.maven.org/maven2/com/github/fommil/netlib/netlib-native_system-linux-armhf/1.1/netlib-native_system-linux-armhf-1.1.pom.sha1\n",
      "Downloaded https://repo1.maven.org/maven2/com/github/fommil/netlib/netlib-native_system-linux-armhf/1.1/netlib-native_system-linux-armhf-1.1.pom\n",
      "Downloading https://repo1.maven.org/maven2/com/github/fommil/netlib/netlib-native_ref-osx-x86_64/1.1/netlib-native_ref-osx-x86_64-1.1.pom.sha1\n",
      "Downloading https://repo1.maven.org/maven2/junit/junit/4.8.2/\n",
      "Downloading https://repo1.maven.org/maven2/com/github/fommil/netlib/netlib-native_system-win-i686/1.1/\n",
      "Downloading https://repo1.maven.org/maven2/org/spire-math/spire-macros_2.11/0.7.4/\n",
      "Downloaded https://repo1.maven.org/maven2/junit/junit/4.8.2/\n",
      "Downloaded https://repo1.maven.org/maven2/com/github/fommil/netlib/netlib-native_system-win-i686/1.1/\n",
      "Downloaded https://repo1.maven.org/maven2/com/github/fommil/netlib/netlib-native_ref-linux-i686/1.1/netlib-native_ref-linux-i686-1.1.pom.sha1\n",
      "Downloaded https://repo1.maven.org/maven2/com/github/fommil/netlib/netlib-native_ref-osx-x86_64/1.1/netlib-native_ref-osx-x86_64-1.1.pom.sha1\n",
      "Downloading https://repo1.maven.org/maven2/com/github/fommil/netlib/netlib-native_ref-linux-armhf/1.1/\n",
      "Downloading https://repo1.maven.org/maven2/com/github/fommil/netlib/netlib-native_ref-win-i686/1.1/\n",
      "Downloading https://repo1.maven.org/maven2/org/jpmml/pmml-schema/1.2.15/\n",
      "Downloading https://repo1.maven.org/maven2/com/github/fommil/netlib/netlib-native_system-linux-i686/1.1/\n",
      "Downloading https://repo1.maven.org/maven2/com/github/fommil/netlib/netlib-native_ref-win-x86_64/1.1/\n",
      "Downloaded https://repo1.maven.org/maven2/org/spire-math/spire-macros_2.11/0.7.4/\n",
      "Downloaded https://repo1.maven.org/maven2/com/github/fommil/netlib/netlib-native_ref-linux-armhf/1.1/\n",
      "Downloaded https://repo1.maven.org/maven2/org/jpmml/pmml-schema/1.2.15/\n",
      "Downloading https://repo1.maven.org/maven2/com/github/fommil/netlib/netlib-native_system-osx-x86_64/1.1/\n",
      "Downloaded https://repo1.maven.org/maven2/com/github/fommil/netlib/netlib-native_ref-win-i686/1.1/\n",
      "Downloaded https://repo1.maven.org/maven2/com/github/fommil/netlib/netlib-native_system-linux-i686/1.1/\n",
      "Downloading https://repo1.maven.org/maven2/com/github/fommil/netlib/netlib-native_system-linux-x86_64/1.1/\n",
      "Downloading https://repo1.maven.org/maven2/com/github/fommil/netlib/netlib-native_ref-linux-x86_64/1.1/\n",
      "Downloading https://repo1.maven.org/maven2/com/github/fommil/netlib/netlib-native_system-win-x86_64/1.1/\n",
      "Downloading https://repo1.maven.org/maven2/com/github/fommil/netlib/netlib-native_system-linux-armhf/1.1/\n",
      "Downloaded https://repo1.maven.org/maven2/com/github/fommil/netlib/netlib-native_system-osx-x86_64/1.1/\n",
      "Downloading https://repo1.maven.org/maven2/com/github/fommil/netlib/netlib-native_ref-linux-i686/1.1/\n",
      "Downloaded https://repo1.maven.org/maven2/com/github/fommil/netlib/netlib-native_system-linux-x86_64/1.1/\n",
      "Downloaded https://repo1.maven.org/maven2/com/github/fommil/netlib/netlib-native_ref-linux-i686/1.1/\n",
      "Downloaded https://repo1.maven.org/maven2/com/github/fommil/netlib/netlib-native_system-linux-armhf/1.1/\n",
      "Downloaded https://repo1.maven.org/maven2/com/github/fommil/netlib/netlib-native_system-win-x86_64/1.1/\n",
      "Downloaded https://repo1.maven.org/maven2/com/github/fommil/netlib/netlib-native_ref-linux-x86_64/1.1/\n",
      "Downloading https://repo1.maven.org/maven2/com/github/fommil/netlib/netlib-native_ref-osx-x86_64/1.1/\n",
      "Downloaded https://repo1.maven.org/maven2/com/github/fommil/netlib/netlib-native_ref-win-x86_64/1.1/\n",
      "Downloaded https://repo1.maven.org/maven2/com/github/fommil/netlib/netlib-native_ref-osx-x86_64/1.1/\n",
      "Downloading https://repo1.maven.org/maven2/com/github/fommil/netlib/native_ref/1.1/native_ref-1.1.pom\n",
      "Downloading https://repo1.maven.org/maven2/com/github/fommil/netlib/native_ref-xbuilds/1.1/native_ref-xbuilds-1.1.pom\n",
      "Downloading https://repo1.maven.org/maven2/com/github/fommil/netlib/native_system/1.1/native_system-1.1.pom.sha1\n",
      "Downloading https://repo1.maven.org/maven2/com/github/fommil/netlib/native_system/1.1/native_system-1.1.pom\n",
      "Downloading https://repo1.maven.org/maven2/com/github/fommil/netlib/native_ref/1.1/native_ref-1.1.pom.sha1\n",
      "Downloading https://repo1.maven.org/maven2/com/github/fommil/netlib/native_ref-xbuilds/1.1/native_ref-xbuilds-1.1.pom.sha1\n",
      "Downloaded https://repo1.maven.org/maven2/com/github/fommil/netlib/native_ref-xbuilds/1.1/native_ref-xbuilds-1.1.pom\n",
      "Downloading https://repo1.maven.org/maven2/com/github/fommil/netlib/native_system-xbuilds/1.1/native_system-xbuilds-1.1.pom\n",
      "Downloaded https://repo1.maven.org/maven2/com/github/fommil/netlib/native_system/1.1/native_system-1.1.pom.sha1\n",
      "Downloaded https://repo1.maven.org/maven2/com/github/fommil/netlib/native_ref/1.1/native_ref-1.1.pom.sha1\n",
      "Downloading https://repo1.maven.org/maven2/com/github/fommil/netlib/native_system-xbuilds/1.1/native_system-xbuilds-1.1.pom.sha1\n",
      "Downloaded https://repo1.maven.org/maven2/com/github/fommil/netlib/native_ref/1.1/native_ref-1.1.pom\n",
      "Downloading https://repo1.maven.org/maven2/com/github/fommil/netlib/native_ref/1.1/\n",
      "Downloaded https://repo1.maven.org/maven2/com/github/fommil/netlib/native_system/1.1/native_system-1.1.pom\n",
      "Downloading https://repo1.maven.org/maven2/com/github/fommil/netlib/native_system/1.1/\n",
      "Downloaded https://repo1.maven.org/maven2/com/github/fommil/netlib/native_system-xbuilds/1.1/native_system-xbuilds-1.1.pom\n",
      "Downloaded https://repo1.maven.org/maven2/com/github/fommil/netlib/native_system-xbuilds/1.1/native_system-xbuilds-1.1.pom.sha1\n",
      "Downloading https://repo1.maven.org/maven2/com/github/fommil/netlib/native_system-xbuilds/1.1/\n",
      "Downloaded https://repo1.maven.org/maven2/com/github/fommil/netlib/native_ref/1.1/\n"
     ]
    },
    {
     "name": "stdout",
     "output_type": "stream",
     "text": [
      "Downloaded https://repo1.maven.org/maven2/com/github/fommil/netlib/native_system/1.1/\n",
      "Downloaded https://repo1.maven.org/maven2/com/github/fommil/netlib/native_ref-xbuilds/1.1/native_ref-xbuilds-1.1.pom.sha1\n",
      "Downloading https://repo1.maven.org/maven2/com/github/fommil/netlib/native_ref-xbuilds/1.1/\n",
      "Downloaded https://repo1.maven.org/maven2/com/github/fommil/netlib/native_system-xbuilds/1.1/\n",
      "Downloaded https://repo1.maven.org/maven2/com/github/fommil/netlib/native_ref-xbuilds/1.1/\n",
      "Downloading https://repo1.maven.org/maven2/com/github/fommil/netlib/native_ref-java/1.1/native_ref-java-1.1.pom.sha1\n",
      "Downloading https://repo1.maven.org/maven2/com/github/fommil/netlib/native_system-java/1.1/native_system-java-1.1.pom\n",
      "Downloading https://repo1.maven.org/maven2/com/github/fommil/netlib/native_system-java/1.1/native_system-java-1.1.pom.sha1\n",
      "Downloading https://repo1.maven.org/maven2/com/github/fommil/netlib/native_ref-java/1.1/native_ref-java-1.1.pom\n",
      "Downloaded https://repo1.maven.org/maven2/com/github/fommil/netlib/native_system-java/1.1/native_system-java-1.1.pom.sha1\n",
      "Downloaded https://repo1.maven.org/maven2/com/github/fommil/netlib/native_ref-java/1.1/native_ref-java-1.1.pom.sha1\n",
      "Downloaded https://repo1.maven.org/maven2/com/github/fommil/netlib/native_system-java/1.1/native_system-java-1.1.pom\n",
      "Downloaded https://repo1.maven.org/maven2/com/github/fommil/netlib/native_ref-java/1.1/native_ref-java-1.1.pom\n",
      "Downloading https://repo1.maven.org/maven2/com/github/fommil/netlib/native_system-java/1.1/\n",
      "Downloading https://repo1.maven.org/maven2/com/github/fommil/netlib/native_ref-java/1.1/\n",
      "Downloaded https://repo1.maven.org/maven2/com/github/fommil/netlib/native_system-java/1.1/\n",
      "Downloaded https://repo1.maven.org/maven2/com/github/fommil/netlib/native_ref-java/1.1/\n",
      "Downloading https://repo1.maven.org/maven2/com/github/fommil/jniloader/1.1/jniloader-1.1.pom.sha1\n",
      "Downloading https://repo1.maven.org/maven2/com/github/fommil/jniloader/1.1/jniloader-1.1.pom\n",
      "Downloaded https://repo1.maven.org/maven2/com/github/fommil/jniloader/1.1/jniloader-1.1.pom.sha1\n",
      "Downloaded https://repo1.maven.org/maven2/com/github/fommil/jniloader/1.1/jniloader-1.1.pom\n",
      "Downloading https://repo1.maven.org/maven2/com/github/fommil/jniloader/1.1/\n",
      "Downloaded https://repo1.maven.org/maven2/com/github/fommil/jniloader/1.1/\n",
      "Downloading https://repo1.maven.org/maven2/com/github/fommil/netlib/netlib-native_ref-osx-x86_64/1.1/netlib-native_ref-osx-x86_64-1.1-natives.jar\n",
      "Downloading https://repo1.maven.org/maven2/com/github/fommil/netlib/netlib-native_ref-osx-x86_64/1.1/netlib-native_ref-osx-x86_64-1.1-natives.jar.sha1\n",
      "Downloading https://repo1.maven.org/maven2/org/jpmml/pmml-model/1.2.15/pmml-model-1.2.15.jar\n",
      "Downloading https://repo1.maven.org/maven2/org/jpmml/pmml-model/1.2.15/pmml-model-1.2.15.jar.sha1\n",
      "Downloading https://repo1.maven.org/maven2/com/github/fommil/netlib/netlib-native_system-linux-x86_64/1.1/netlib-native_system-linux-x86_64-1.1-natives.jar\n",
      "Downloaded https://repo1.maven.org/maven2/com/github/fommil/netlib/netlib-native_ref-osx-x86_64/1.1/netlib-native_ref-osx-x86_64-1.1-natives.jar.sha1\n",
      "Downloading https://repo1.maven.org/maven2/com/github/fommil/netlib/netlib-native_system-linux-x86_64/1.1/netlib-native_system-linux-x86_64-1.1-natives.jar.sha1\n",
      "Downloading https://repo1.maven.org/maven2/com/github/fommil/jniloader/1.1/jniloader-1.1.jar\n",
      "Downloaded https://repo1.maven.org/maven2/org/jpmml/pmml-model/1.2.15/pmml-model-1.2.15.jar.sha1\n",
      "Downloading https://repo1.maven.org/maven2/com/github/fommil/jniloader/1.1/jniloader-1.1.jar.sha1\n",
      "Downloaded https://repo1.maven.org/maven2/com/github/fommil/netlib/netlib-native_system-linux-x86_64/1.1/netlib-native_system-linux-x86_64-1.1-natives.jar.sha1\n",
      "Downloading https://repo1.maven.org/maven2/com/github/fommil/netlib/netlib-native_ref-linux-x86_64/1.1/netlib-native_ref-linux-x86_64-1.1-natives.jar\n",
      "Downloaded https://repo1.maven.org/maven2/com/github/fommil/jniloader/1.1/jniloader-1.1.jar.sha1\n",
      "Downloading https://repo1.maven.org/maven2/com/github/fommil/netlib/netlib-native_ref-linux-x86_64/1.1/netlib-native_ref-linux-x86_64-1.1-natives.jar.sha1\n",
      "Downloaded https://repo1.maven.org/maven2/com/github/fommil/netlib/netlib-native_ref-linux-x86_64/1.1/netlib-native_ref-linux-x86_64-1.1-natives.jar.sha1\n",
      "Downloading https://repo1.maven.org/maven2/joda-time/joda-time/2.7/joda-time-2.7.jar\n",
      "Downloaded https://repo1.maven.org/maven2/com/github/fommil/jniloader/1.1/jniloader-1.1.jar\n",
      "Downloading https://repo1.maven.org/maven2/joda-time/joda-time/2.7/joda-time-2.7.jar.sha1\n",
      "Downloaded https://repo1.maven.org/maven2/org/jpmml/pmml-model/1.2.15/pmml-model-1.2.15.jar\n",
      "Downloading https://repo1.maven.org/maven2/org/apache/commons/commons-math3/3.6/commons-math3-3.6.jar\n",
      "Downloaded https://repo1.maven.org/maven2/joda-time/joda-time/2.7/joda-time-2.7.jar.sha1\n",
      "Downloading https://repo1.maven.org/maven2/org/apache/commons/commons-math3/3.6/commons-math3-3.6.jar.sha1\n",
      "Downloaded https://repo1.maven.org/maven2/org/apache/commons/commons-math3/3.6/commons-math3-3.6.jar.sha1\n",
      "Downloading https://repo1.maven.org/maven2/org/scalanlp/breeze-macros_2.11/0.12/breeze-macros_2.11-0.12.jar\n",
      "Downloaded https://repo1.maven.org/maven2/com/github/fommil/netlib/netlib-native_system-linux-x86_64/1.1/netlib-native_system-linux-x86_64-1.1-natives.jar\n",
      "Downloading https://repo1.maven.org/maven2/org/scalanlp/breeze-macros_2.11/0.12/breeze-macros_2.11-0.12.jar.sha1\n",
      "Downloaded https://repo1.maven.org/maven2/org/scalanlp/breeze-macros_2.11/0.12/breeze-macros_2.11-0.12.jar.sha1\n",
      "Downloading https://repo1.maven.org/maven2/com/github/fommil/netlib/netlib-native_system-linux-armhf/1.1/netlib-native_system-linux-armhf-1.1-natives.jar\n",
      "Downloaded https://repo1.maven.org/maven2/joda-time/joda-time/2.7/joda-time-2.7.jar\n",
      "Downloading https://repo1.maven.org/maven2/com/github/fommil/netlib/netlib-native_system-linux-armhf/1.1/netlib-native_system-linux-armhf-1.1-natives.jar.sha1\n",
      "Downloaded https://repo1.maven.org/maven2/com/github/fommil/netlib/netlib-native_system-linux-armhf/1.1/netlib-native_system-linux-armhf-1.1-natives.jar.sha1\n",
      "Downloading https://repo1.maven.org/maven2/org/scalanlp/breeze_2.11/0.12/breeze_2.11-0.12.jar\n",
      "Downloaded https://repo1.maven.org/maven2/org/scalanlp/breeze-macros_2.11/0.12/breeze-macros_2.11-0.12.jar\n",
      "Downloading https://repo1.maven.org/maven2/org/scalanlp/breeze_2.11/0.12/breeze_2.11-0.12.jar.sha1\n",
      "Downloaded https://repo1.maven.org/maven2/com/github/fommil/netlib/netlib-native_system-linux-armhf/1.1/netlib-native_system-linux-armhf-1.1-natives.jar\n",
      "Downloading https://dl.bintray.com/willb/maven/com/redhat/et/silex_2.11/0.1.2/silex_2.11-0.1.2.jar\n",
      "Downloaded https://repo1.maven.org/maven2/org/scalanlp/breeze_2.11/0.12/breeze_2.11-0.12.jar.sha1\n",
      "Downloading https://repo1.maven.org/maven2/org/apache/spark/spark-graphx_2.11/2.1.0/spark-graphx_2.11-2.1.0.jar\n",
      "Downloaded https://repo1.maven.org/maven2/org/apache/commons/commons-math3/3.6/commons-math3-3.6.jar\n",
      "Downloading https://repo1.maven.org/maven2/org/apache/spark/spark-graphx_2.11/2.1.0/spark-graphx_2.11-2.1.0.jar.sha1\n",
      "Downloaded https://repo1.maven.org/maven2/com/github/fommil/netlib/netlib-native_ref-linux-x86_64/1.1/netlib-native_ref-linux-x86_64-1.1-natives.jar\n",
      "Downloading https://repo1.maven.org/maven2/junit/junit/4.8.2/junit-4.8.2.jar.sha1\n",
      "Downloaded https://repo1.maven.org/maven2/org/apache/spark/spark-graphx_2.11/2.1.0/spark-graphx_2.11-2.1.0.jar.sha1\n",
      "Downloading https://repo1.maven.org/maven2/junit/junit/4.8.2/junit-4.8.2.jar\n",
      "Downloaded https://repo1.maven.org/maven2/junit/junit/4.8.2/junit-4.8.2.jar.sha1\n",
      "Downloading https://repo1.maven.org/maven2/com/github/fommil/netlib/netlib-native_system-win-x86_64/1.1/netlib-native_system-win-x86_64-1.1-natives.jar\n",
      "Downloaded https://repo1.maven.org/maven2/com/github/fommil/netlib/netlib-native_ref-osx-x86_64/1.1/netlib-native_ref-osx-x86_64-1.1-natives.jar\n",
      "Downloading https://repo1.maven.org/maven2/com/github/fommil/netlib/netlib-native_system-win-x86_64/1.1/netlib-native_system-win-x86_64-1.1-natives.jar.sha1\n",
      "Downloaded https://repo1.maven.org/maven2/org/apache/spark/spark-graphx_2.11/2.1.0/spark-graphx_2.11-2.1.0.jar\n",
      "Downloading https://repo1.maven.org/maven2/com/github/fommil/netlib/netlib-native_system-linux-i686/1.1/netlib-native_system-linux-i686-1.1-natives.jar\n",
      "Downloaded https://repo1.maven.org/maven2/junit/junit/4.8.2/junit-4.8.2.jar\n",
      "Downloading https://repo1.maven.org/maven2/com/github/fommil/netlib/netlib-native_system-linux-i686/1.1/netlib-native_system-linux-i686-1.1-natives.jar.sha1\n"
     ]
    },
    {
     "name": "stdout",
     "output_type": "stream",
     "text": [
      "Downloaded https://repo1.maven.org/maven2/com/github/fommil/netlib/netlib-native_system-win-x86_64/1.1/netlib-native_system-win-x86_64-1.1-natives.jar.sha1\n",
      "Downloading https://repo1.maven.org/maven2/com/github/fommil/netlib/netlib-native_ref-linux-armhf/1.1/netlib-native_ref-linux-armhf-1.1-natives.jar.sha1\n",
      "Downloaded https://repo1.maven.org/maven2/com/github/fommil/netlib/netlib-native_system-linux-i686/1.1/netlib-native_system-linux-i686-1.1-natives.jar.sha1\n",
      "Downloading https://repo1.maven.org/maven2/com/github/fommil/netlib/netlib-native_ref-linux-armhf/1.1/netlib-native_ref-linux-armhf-1.1-natives.jar\n",
      "Downloaded https://repo1.maven.org/maven2/com/github/fommil/netlib/netlib-native_ref-linux-armhf/1.1/netlib-native_ref-linux-armhf-1.1-natives.jar.sha1\n",
      "Downloading https://repo1.maven.org/maven2/com/github/fommil/netlib/native_system-java/1.1/native_system-java-1.1.jar\n",
      "Downloaded https://repo1.maven.org/maven2/com/github/fommil/netlib/native_system-java/1.1/native_system-java-1.1.jar\n",
      "Downloading https://repo1.maven.org/maven2/com/github/fommil/netlib/native_system-java/1.1/native_system-java-1.1.jar.sha1\n",
      "Downloaded https://repo1.maven.org/maven2/com/github/fommil/netlib/netlib-native_system-win-x86_64/1.1/netlib-native_system-win-x86_64-1.1-natives.jar\n",
      "Downloading https://repo1.maven.org/maven2/com/github/fommil/netlib/netlib-native_system-osx-x86_64/1.1/netlib-native_system-osx-x86_64-1.1-natives.jar\n",
      "Downloaded https://repo1.maven.org/maven2/com/github/fommil/netlib/netlib-native_system-linux-i686/1.1/netlib-native_system-linux-i686-1.1-natives.jar\n",
      "Downloading https://repo1.maven.org/maven2/com/github/fommil/netlib/netlib-native_system-osx-x86_64/1.1/netlib-native_system-osx-x86_64-1.1-natives.jar.sha1\n",
      "Downloaded https://repo1.maven.org/maven2/com/github/fommil/netlib/native_system-java/1.1/native_system-java-1.1.jar.sha1\n",
      "Downloading https://repo1.maven.org/maven2/net/sf/opencsv/opencsv/2.3/opencsv-2.3.jar\n",
      "Downloaded https://repo1.maven.org/maven2/com/github/fommil/netlib/netlib-native_system-osx-x86_64/1.1/netlib-native_system-osx-x86_64-1.1-natives.jar.sha1\n",
      "Downloading https://repo1.maven.org/maven2/net/sf/opencsv/opencsv/2.3/opencsv-2.3.jar.sha1\n",
      "Downloaded https://repo1.maven.org/maven2/net/sf/opencsv/opencsv/2.3/opencsv-2.3.jar\n",
      "Downloading https://repo1.maven.org/maven2/com/github/fommil/netlib/core/1.1.2/core-1.1.2.jar\n",
      "Downloaded https://repo1.maven.org/maven2/net/sf/opencsv/opencsv/2.3/opencsv-2.3.jar.sha1\n",
      "Downloading https://repo1.maven.org/maven2/com/github/fommil/netlib/core/1.1.2/core-1.1.2.jar.sha1\n",
      "Downloaded https://repo1.maven.org/maven2/com/github/fommil/netlib/netlib-native_ref-linux-armhf/1.1/netlib-native_ref-linux-armhf-1.1-natives.jar\n",
      "Downloading https://repo1.maven.org/maven2/com/github/rwl/jtransforms/2.4.0/jtransforms-2.4.0.jar\n",
      "Downloaded https://repo1.maven.org/maven2/com/github/fommil/netlib/core/1.1.2/core-1.1.2.jar\n",
      "Downloading https://repo1.maven.org/maven2/com/github/rwl/jtransforms/2.4.0/jtransforms-2.4.0.jar.sha1\n",
      "Downloaded https://repo1.maven.org/maven2/com/github/fommil/netlib/netlib-native_system-osx-x86_64/1.1/netlib-native_system-osx-x86_64-1.1-natives.jar\n",
      "Downloading https://repo1.maven.org/maven2/org/jpmml/pmml-schema/1.2.15/pmml-schema-1.2.15.jar\n",
      "Downloaded https://repo1.maven.org/maven2/com/github/fommil/netlib/core/1.1.2/core-1.1.2.jar.sha1\n",
      "Downloading https://repo1.maven.org/maven2/org/jpmml/pmml-schema/1.2.15/pmml-schema-1.2.15.jar.sha1\n",
      "Downloaded https://repo1.maven.org/maven2/com/github/rwl/jtransforms/2.4.0/jtransforms-2.4.0.jar.sha1\n",
      "Downloading https://repo1.maven.org/maven2/com/github/fommil/netlib/native_ref-java/1.1/native_ref-java-1.1.jar\n",
      "Downloaded https://repo1.maven.org/maven2/org/jpmml/pmml-schema/1.2.15/pmml-schema-1.2.15.jar\n",
      "Downloading https://repo1.maven.org/maven2/com/github/fommil/netlib/native_ref-java/1.1/native_ref-java-1.1.jar.sha1\n",
      "Downloaded https://repo1.maven.org/maven2/org/jpmml/pmml-schema/1.2.15/pmml-schema-1.2.15.jar.sha1\n",
      "Downloading https://repo1.maven.org/maven2/org/spire-math/spire-macros_2.11/0.7.4/spire-macros_2.11-0.7.4.jar\n",
      "Downloaded https://repo1.maven.org/maven2/com/github/fommil/netlib/native_ref-java/1.1/native_ref-java-1.1.jar.sha1\n",
      "Downloading https://repo1.maven.org/maven2/org/spire-math/spire-macros_2.11/0.7.4/spire-macros_2.11-0.7.4.jar.sha1\n",
      "Downloaded https://repo1.maven.org/maven2/com/github/fommil/netlib/native_ref-java/1.1/native_ref-java-1.1.jar\n",
      "Downloading https://repo1.maven.org/maven2/org/apache/spark/spark-streaming_2.11/2.1.0/spark-streaming_2.11-2.1.0.jar\n",
      "Downloaded https://repo1.maven.org/maven2/com/github/rwl/jtransforms/2.4.0/jtransforms-2.4.0.jar\n",
      "Downloading https://repo1.maven.org/maven2/org/apache/spark/spark-streaming_2.11/2.1.0/spark-streaming_2.11-2.1.0.jar.sha1\n",
      "Downloaded https://repo1.maven.org/maven2/org/spire-math/spire-macros_2.11/0.7.4/spire-macros_2.11-0.7.4.jar.sha1\n",
      "Downloading https://repo1.maven.org/maven2/com/github/fommil/netlib/netlib-native_ref-win-x86_64/1.1/netlib-native_ref-win-x86_64-1.1-natives.jar\n",
      "Downloaded https://repo1.maven.org/maven2/org/spire-math/spire-macros_2.11/0.7.4/spire-macros_2.11-0.7.4.jar\n",
      "Downloading https://repo1.maven.org/maven2/com/github/fommil/netlib/netlib-native_ref-win-x86_64/1.1/netlib-native_ref-win-x86_64-1.1-natives.jar.sha1\n",
      "Downloaded https://repo1.maven.org/maven2/org/apache/spark/spark-streaming_2.11/2.1.0/spark-streaming_2.11-2.1.0.jar.sha1\n",
      "Downloading https://repo1.maven.org/maven2/org/apache/spark/spark-mllib-local_2.11/2.1.0/spark-mllib-local_2.11-2.1.0.jar\n",
      "Downloaded https://repo1.maven.org/maven2/com/github/fommil/netlib/netlib-native_ref-win-x86_64/1.1/netlib-native_ref-win-x86_64-1.1-natives.jar.sha1\n",
      "Downloading https://repo1.maven.org/maven2/org/apache/spark/spark-mllib-local_2.11/2.1.0/spark-mllib-local_2.11-2.1.0.jar.sha1\n",
      "Downloaded https://repo1.maven.org/maven2/org/apache/spark/spark-mllib-local_2.11/2.1.0/spark-mllib-local_2.11-2.1.0.jar\n",
      "Downloading https://repo1.maven.org/maven2/org/apache/spark/spark-mllib_2.11/2.1.0/spark-mllib_2.11-2.1.0.jar\n",
      "Downloaded https://repo1.maven.org/maven2/org/apache/spark/spark-mllib-local_2.11/2.1.0/spark-mllib-local_2.11-2.1.0.jar.sha1\n",
      "Downloading https://repo1.maven.org/maven2/org/apache/spark/spark-mllib_2.11/2.1.0/spark-mllib_2.11-2.1.0.jar.sha1\n",
      "Downloaded https://repo1.maven.org/maven2/org/apache/spark/spark-mllib_2.11/2.1.0/spark-mllib_2.11-2.1.0.jar.sha1\n",
      "Downloading https://repo1.maven.org/maven2/com/github/fommil/netlib/netlib-native_system-win-i686/1.1/netlib-native_system-win-i686-1.1-natives.jar\n",
      "Downloaded https://repo1.maven.org/maven2/com/github/fommil/netlib/netlib-native_system-win-i686/1.1/netlib-native_system-win-i686-1.1-natives.jar\n",
      "Downloading https://repo1.maven.org/maven2/com/github/fommil/netlib/netlib-native_system-win-i686/1.1/netlib-native_system-win-i686-1.1-natives.jar.sha1\n",
      "https://repo1.maven.org/maven2/org/scalanlp/breeze_2.11/0.12/b… (68.70 %, 99016…\n",
      "https://dl.bintray.com/willb/maven/com/redhat/et/silex_2.11/0.… (63.41 %, 59988…\n",
      "\n",
      "Downloaded https://repo1.maven.org/maven2/com/github/fommil/netlib/netlib-native_system-win-i686/1.1/netlib-native_system-win-i686-1.1-natives.jar.sha1\n",
      "Downloading https://repo1.maven.org/maven2/net/sourceforge/f2j/arpack_combined_all/0.1/arpack_combined_all-0.1.jar\n",
      "Downloaded https://dl.bintray.com/willb/maven/com/redhat/et/silex_2.11/0.1.2/silex_2.11-0.1.2.jar\n",
      "Downloading https://repo1.maven.org/maven2/net/sourceforge/f2j/arpack_combined_all/0.1/arpack_combined_all-0.1.jar.sha1\n",
      "Downloaded https://repo1.maven.org/maven2/net/sourceforge/f2j/arpack_combined_all/0.1/arpack_combined_all-0.1.jar.sha1\n",
      "Downloading https://repo1.maven.org/maven2/org/joda/joda-convert/1.7/joda-convert-1.7.jar\n",
      "Downloaded https://repo1.maven.org/maven2/com/github/fommil/netlib/netlib-native_ref-win-x86_64/1.1/netlib-native_ref-win-x86_64-1.1-natives.jar\n",
      "Downloading https://repo1.maven.org/maven2/org/joda/joda-convert/1.7/joda-convert-1.7.jar.sha1\n",
      "Downloaded https://repo1.maven.org/maven2/org/joda/joda-convert/1.7/joda-convert-1.7.jar.sha1\n",
      "Downloading https://repo1.maven.org/maven2/com/github/fommil/netlib/netlib-native_ref-win-i686/1.1/netlib-native_ref-win-i686-1.1-natives.jar\n",
      "Downloaded https://repo1.maven.org/maven2/org/joda/joda-convert/1.7/joda-convert-1.7.jar\n",
      "Downloading https://repo1.maven.org/maven2/org/spire-math/spire_2.11/0.7.4/spire_2.11-0.7.4.jar\n",
      "Downloaded https://repo1.maven.org/maven2/org/apache/spark/spark-streaming_2.11/2.1.0/spark-streaming_2.11-2.1.0.jar\n",
      "Downloading https://repo1.maven.org/maven2/org/spire-math/spire_2.11/0.7.4/spire_2.11-0.7.4.jar.sha1\n"
     ]
    },
    {
     "name": "stdout",
     "output_type": "stream",
     "text": [
      "Downloaded https://repo1.maven.org/maven2/org/spire-math/spire_2.11/0.7.4/spire_2.11-0.7.4.jar.sha1\n",
      "Downloading https://repo1.maven.org/maven2/com/github/fommil/netlib/netlib-native_ref-win-i686/1.1/netlib-native_ref-win-i686-1.1-natives.jar.sha1\n",
      "Downloaded https://repo1.maven.org/maven2/org/apache/spark/spark-mllib_2.11/2.1.0/spark-mllib_2.11-2.1.0.jar\n",
      "Downloading https://repo1.maven.org/maven2/com/github/fommil/netlib/netlib-native_ref-linux-i686/1.1/netlib-native_ref-linux-i686-1.1-natives.jar\n",
      "Downloaded https://repo1.maven.org/maven2/com/github/fommil/netlib/netlib-native_ref-win-i686/1.1/netlib-native_ref-win-i686-1.1-natives.jar.sha1\n",
      "Downloading https://repo1.maven.org/maven2/com/github/fommil/netlib/netlib-native_ref-linux-i686/1.1/netlib-native_ref-linux-i686-1.1-natives.jar.sha1\n",
      "Downloaded https://repo1.maven.org/maven2/net/sourceforge/f2j/arpack_combined_all/0.1/arpack_combined_all-0.1.jar\n",
      "Downloading https://repo1.maven.org/maven2/org/scalanlp/breeze-natives_2.11/0.12/breeze-natives_2.11-0.12.jar\n",
      "Downloaded https://repo1.maven.org/maven2/com/github/fommil/netlib/netlib-native_ref-linux-i686/1.1/netlib-native_ref-linux-i686-1.1-natives.jar.sha1\n",
      "Downloading https://repo1.maven.org/maven2/org/scalanlp/breeze-natives_2.11/0.12/breeze-natives_2.11-0.12.jar.sha1\n",
      "Downloaded https://repo1.maven.org/maven2/org/scalanlp/breeze_2.11/0.12/breeze_2.11-0.12.jar\n",
      "Downloaded https://repo1.maven.org/maven2/org/scalanlp/breeze-natives_2.11/0.12/breeze-natives_2.11-0.12.jar\n",
      "Downloaded https://repo1.maven.org/maven2/org/scalanlp/breeze-natives_2.11/0.12/breeze-natives_2.11-0.12.jar.sha1\n",
      "Downloaded https://repo1.maven.org/maven2/com/github/fommil/netlib/netlib-native_ref-win-i686/1.1/netlib-native_ref-win-i686-1.1-natives.jar\n",
      "Downloaded https://repo1.maven.org/maven2/com/github/fommil/netlib/netlib-native_ref-linux-i686/1.1/netlib-native_ref-linux-i686-1.1-natives.jar\n",
      "Downloaded https://repo1.maven.org/maven2/org/spire-math/spire_2.11/0.7.4/spire_2.11-0.7.4.jar\n"
     ]
    },
    {
     "data": {
      "text/plain": [
       "\u001b[32mimport \u001b[39m\u001b[36m$ivy.$                            // \"com.redhat.et\" %% \"silex\" % \"0.1.2\"\u001b[39m"
      ]
     },
     "execution_count": 7,
     "metadata": {},
     "output_type": "execute_result"
    }
   ],
   "source": [
    "import $ivy.`com.redhat.et::silex:0.1.2` // \"com.redhat.et\" %% \"silex\" % \"0.1.2\""
   ]
  },
  {
   "cell_type": "code",
   "execution_count": 8,
   "metadata": {},
   "outputs": [
    {
     "data": {
      "text/plain": [
       "defined \u001b[32mclass\u001b[39m \u001b[36mTDEnhance\u001b[39m"
      ]
     },
     "execution_count": 8,
     "metadata": {},
     "output_type": "execute_result"
    }
   ],
   "source": [
    "implicit class TDEnhance(td: TDigest) extends Serializable {\n",
    "  def toXY: Vector[(Double, Double)] = {\n",
    "    val q = (0.001 +: (0.05 to 0.95 by 0.05) :+ 0.999).toVector\n",
    "    q.map(q => (td.cdfInverse(q), q))\n",
    "  }\n",
    "}"
   ]
  },
  {
   "cell_type": "code",
   "execution_count": 9,
   "metadata": {},
   "outputs": [
    {
     "name": "stdout",
     "output_type": "stream",
     "text": [
      "Downloading https://repo1.maven.org/maven2/org/jupyter-scala/spark-stubs-2_2.11/0.4.2/spark-stubs-2_2.11-0.4.2.pom.sha1\n",
      "Downloading https://repo1.maven.org/maven2/org/jupyter-scala/spark-stubs-2_2.11/0.4.2/spark-stubs-2_2.11-0.4.2.pom\n",
      "Downloaded https://repo1.maven.org/maven2/org/jupyter-scala/spark-stubs-2_2.11/0.4.2/spark-stubs-2_2.11-0.4.2.pom\n",
      "Downloaded https://repo1.maven.org/maven2/org/jupyter-scala/spark-stubs-2_2.11/0.4.2/spark-stubs-2_2.11-0.4.2.pom.sha1\n",
      "Downloading https://repo1.maven.org/maven2/org/jupyter-scala/spark-stubs-2_2.11/0.4.2/\n",
      "Downloaded https://repo1.maven.org/maven2/org/jupyter-scala/spark-stubs-2_2.11/0.4.2/\n",
      "Downloading https://repo1.maven.org/maven2/org/jupyter-scala/spark-stubs-2_2.11/0.4.2/spark-stubs-2_2.11-0.4.2.jar\n",
      "Downloading https://repo1.maven.org/maven2/org/jupyter-scala/spark-stubs-2_2.11/0.4.2/spark-stubs-2_2.11-0.4.2.jar.sha1\n",
      "Downloaded https://repo1.maven.org/maven2/org/jupyter-scala/spark-stubs-2_2.11/0.4.2/spark-stubs-2_2.11-0.4.2.jar.sha1\n",
      "Downloaded https://repo1.maven.org/maven2/org/jupyter-scala/spark-stubs-2_2.11/0.4.2/spark-stubs-2_2.11-0.4.2.jar\n"
     ]
    },
    {
     "name": "stderr",
     "output_type": "stream",
     "text": [
      "Downloading https://repo1.maven.org/maven2/org/apache/spark/spark-repl_2.11/2.1.0/spark-repl_2.11-2.1.0.pom.sha1\n",
      "Downloading https://repo1.maven.org/maven2/org/apache/spark/spark-yarn_2.11/2.1.0/spark-yarn_2.11-2.1.0.pom.sha1\n",
      "Downloading https://repo1.maven.org/maven2/org/apache/spark/spark-yarn_2.11/2.1.0/spark-yarn_2.11-2.1.0.pom\n",
      "Downloading https://repo1.maven.org/maven2/org/apache/spark/spark-repl_2.11/2.1.0/spark-repl_2.11-2.1.0.pom\n",
      "Downloaded https://repo1.maven.org/maven2/org/apache/spark/spark-yarn_2.11/2.1.0/spark-yarn_2.11-2.1.0.pom.sha1\n",
      "Downloaded https://repo1.maven.org/maven2/org/apache/spark/spark-repl_2.11/2.1.0/spark-repl_2.11-2.1.0.pom.sha1\n",
      "Downloaded https://repo1.maven.org/maven2/org/apache/spark/spark-repl_2.11/2.1.0/spark-repl_2.11-2.1.0.pom\n",
      "Downloading https://repo1.maven.org/maven2/org/apache/spark/spark-repl_2.11/2.1.0/\n",
      "Downloaded https://repo1.maven.org/maven2/org/apache/spark/spark-yarn_2.11/2.1.0/spark-yarn_2.11-2.1.0.pom\n",
      "Downloading https://repo1.maven.org/maven2/org/apache/spark/spark-yarn_2.11/2.1.0/\n",
      "Downloaded https://repo1.maven.org/maven2/org/apache/spark/spark-repl_2.11/2.1.0/\n",
      "Downloaded https://repo1.maven.org/maven2/org/apache/spark/spark-yarn_2.11/2.1.0/\n",
      "Downloading https://repo1.maven.org/maven2/jline/jline/2.12.1/jline-2.12.1.pom.sha1\n",
      "Downloading https://repo1.maven.org/maven2/jline/jline/2.12.1/jline-2.12.1.pom\n",
      "Downloading https://repo1.maven.org/maven2/org/spark-project/hive/hive-exec/1.2.1.spark2/hive-exec-1.2.1.spark2.pom.sha1\n",
      "Downloading https://repo1.maven.org/maven2/org/spark-project/hive/hive-exec/1.2.1.spark2/hive-exec-1.2.1.spark2.pom\n",
      "Downloading https://repo1.maven.org/maven2/org/slf4j/slf4j-api/1.7.16/slf4j-api-1.7.16.pom\n",
      "Downloading https://repo1.maven.org/maven2/org/slf4j/slf4j-api/1.7.16/slf4j-api-1.7.16.pom.sha1\n",
      "Downloaded https://repo1.maven.org/maven2/jline/jline/2.12.1/jline-2.12.1.pom.sha1\n",
      "Downloading https://repo1.maven.org/maven2/org/spark-project/hive/hive-metastore/1.2.1.spark2/hive-metastore-1.2.1.spark2.pom\n",
      "Downloaded https://repo1.maven.org/maven2/org/spark-project/hive/hive-exec/1.2.1.spark2/hive-exec-1.2.1.spark2.pom.sha1\n",
      "Downloading https://repo1.maven.org/maven2/org/spark-project/hive/hive-metastore/1.2.1.spark2/hive-metastore-1.2.1.spark2.pom.sha1\n",
      "Downloaded https://repo1.maven.org/maven2/jline/jline/2.12.1/jline-2.12.1.pom\n",
      "Downloading https://repo1.maven.org/maven2/org/apache/hadoop/hadoop-yarn-server-web-proxy/2.2.0/hadoop-yarn-server-web-proxy-2.2.0.pom\n",
      "Downloaded https://repo1.maven.org/maven2/org/spark-project/hive/hive-exec/1.2.1.spark2/hive-exec-1.2.1.spark2.pom\n",
      "Downloading https://repo1.maven.org/maven2/org/apache/hadoop/hadoop-yarn-server-web-proxy/2.2.0/hadoop-yarn-server-web-proxy-2.2.0.pom.sha1\n",
      "Downloaded https://repo1.maven.org/maven2/org/spark-project/hive/hive-metastore/1.2.1.spark2/hive-metastore-1.2.1.spark2.pom.sha1\n",
      "Downloading https://repo1.maven.org/maven2/org/slf4j/slf4j-log4j12/1.7.16/slf4j-log4j12-1.7.16.pom\n",
      "Downloaded https://repo1.maven.org/maven2/org/spark-project/hive/hive-metastore/1.2.1.spark2/hive-metastore-1.2.1.spark2.pom\n",
      "Downloading https://repo1.maven.org/maven2/org/slf4j/slf4j-log4j12/1.7.16/slf4j-log4j12-1.7.16.pom.sha1\n",
      "Downloaded https://repo1.maven.org/maven2/org/apache/hadoop/hadoop-yarn-server-web-proxy/2.2.0/hadoop-yarn-server-web-proxy-2.2.0.pom\n",
      "Downloading https://repo1.maven.org/maven2/jline/jline/2.12.1/\n",
      "Downloaded https://repo1.maven.org/maven2/org/apache/hadoop/hadoop-yarn-server-web-proxy/2.2.0/hadoop-yarn-server-web-proxy-2.2.0.pom.sha1\n",
      "Downloading https://repo1.maven.org/maven2/org/spark-project/hive/hive-exec/1.2.1.spark2/\n",
      "Downloaded https://repo1.maven.org/maven2/org/slf4j/slf4j-api/1.7.16/slf4j-api-1.7.16.pom.sha1\n",
      "Downloading https://repo1.maven.org/maven2/org/spark-project/hive/hive-metastore/1.2.1.spark2/\n",
      "Downloaded https://repo1.maven.org/maven2/org/slf4j/slf4j-api/1.7.16/slf4j-api-1.7.16.pom\n",
      "Downloading https://repo1.maven.org/maven2/org/apache/hadoop/hadoop-yarn-server-web-proxy/2.2.0/\n",
      "Downloaded https://repo1.maven.org/maven2/org/slf4j/slf4j-log4j12/1.7.16/slf4j-log4j12-1.7.16.pom.sha1\n",
      "Downloading https://repo1.maven.org/maven2/org/slf4j/slf4j-api/1.7.16/\n",
      "Downloaded https://repo1.maven.org/maven2/org/slf4j/slf4j-log4j12/1.7.16/slf4j-log4j12-1.7.16.pom\n",
      "Downloading https://repo1.maven.org/maven2/org/slf4j/slf4j-log4j12/1.7.16/\n",
      "Downloaded https://repo1.maven.org/maven2/jline/jline/2.12.1/\n",
      "Downloaded https://repo1.maven.org/maven2/org/spark-project/hive/hive-exec/1.2.1.spark2/\n",
      "Downloaded https://repo1.maven.org/maven2/org/spark-project/hive/hive-metastore/1.2.1.spark2/\n",
      "Downloaded https://repo1.maven.org/maven2/org/slf4j/slf4j-log4j12/1.7.16/\n",
      "Downloaded https://repo1.maven.org/maven2/org/slf4j/slf4j-api/1.7.16/\n",
      "Downloaded https://repo1.maven.org/maven2/org/apache/hadoop/hadoop-yarn-server-web-proxy/2.2.0/\n",
      "Downloading https://repo1.maven.org/maven2/org/spark-project/hive/hive/1.2.1.spark2/hive-1.2.1.spark2.pom\n",
      "Downloading https://repo1.maven.org/maven2/org/spark-project/hive/hive/1.2.1.spark2/hive-1.2.1.spark2.pom.sha1\n",
      "Downloaded https://repo1.maven.org/maven2/org/spark-project/hive/hive/1.2.1.spark2/hive-1.2.1.spark2.pom.sha1\n",
      "Downloaded https://repo1.maven.org/maven2/org/spark-project/hive/hive/1.2.1.spark2/hive-1.2.1.spark2.pom\n",
      "Downloading https://repo1.maven.org/maven2/org/spark-project/hive/hive/1.2.1.spark2/\n",
      "Downloaded https://repo1.maven.org/maven2/org/spark-project/hive/hive/1.2.1.spark2/\n",
      "Downloading https://repo1.maven.org/maven2/commons-io/commons-io/2.4/commons-io-2.4.pom\n",
      "Downloading https://repo1.maven.org/maven2/com/chuusai/shapeless_2.11/2.0.0/shapeless_2.11-2.0.0.pom\n",
      "Downloading https://repo1.maven.org/maven2/commons-io/commons-io/2.4/commons-io-2.4.pom.sha1\n",
      "Downloading https://repo1.maven.org/maven2/com/chuusai/shapeless_2.11/2.0.0/shapeless_2.11-2.0.0.pom.sha1\n",
      "Downloading https://repo1.maven.org/maven2/com/google/inject/extensions/guice-servlet/3.0/guice-servlet-3.0.pom\n",
      "Downloading https://repo1.maven.org/maven2/com/google/inject/extensions/guice-servlet/3.0/guice-servlet-3.0.pom.sha1\n",
      "Downloaded https://repo1.maven.org/maven2/com/chuusai/shapeless_2.11/2.0.0/shapeless_2.11-2.0.0.pom.sha1\n",
      "Downloading https://repo1.maven.org/maven2/com/twitter/parquet-hadoop-bundle/1.6.0/parquet-hadoop-bundle-1.6.0.pom\n",
      "Downloaded https://repo1.maven.org/maven2/com/chuusai/shapeless_2.11/2.0.0/shapeless_2.11-2.0.0.pom\n",
      "Downloading https://repo1.maven.org/maven2/com/twitter/parquet-hadoop-bundle/1.6.0/parquet-hadoop-bundle-1.6.0.pom.sha1\n",
      "Downloaded https://repo1.maven.org/maven2/commons-io/commons-io/2.4/commons-io-2.4.pom.sha1\n",
      "Downloading https://repo1.maven.org/maven2/org/apache/avro/avro/1.7.5/avro-1.7.5.pom\n",
      "Downloaded https://repo1.maven.org/maven2/commons-io/commons-io/2.4/commons-io-2.4.pom\n",
      "Downloaded https://repo1.maven.org/maven2/com/google/inject/extensions/guice-servlet/3.0/guice-servlet-3.0.pom\n",
      "Downloading https://repo1.maven.org/maven2/org/apache/avro/avro/1.7.5/avro-1.7.5.pom.sha1\n",
      "Downloading https://repo1.maven.org/maven2/commons-lang/commons-lang/2.6/commons-lang-2.6.pom\n",
      "Downloaded https://repo1.maven.org/maven2/com/twitter/parquet-hadoop-bundle/1.6.0/parquet-hadoop-bundle-1.6.0.pom\n",
      "Downloading https://repo1.maven.org/maven2/commons-lang/commons-lang/2.6/commons-lang-2.6.pom.sha1\n",
      "Downloaded https://repo1.maven.org/maven2/com/twitter/parquet-hadoop-bundle/1.6.0/parquet-hadoop-bundle-1.6.0.pom.sha1\n",
      "Downloaded https://repo1.maven.org/maven2/org/apache/avro/avro/1.7.5/avro-1.7.5.pom\n",
      "Downloading https://repo1.maven.org/maven2/com/chuusai/shapeless_2.11/2.0.0/\n",
      "Downloading https://repo1.maven.org/maven2/commons-io/commons-io/2.4/\n",
      "Downloaded https://repo1.maven.org/maven2/org/apache/avro/avro/1.7.5/avro-1.7.5.pom.sha1\n",
      "Downloading https://repo1.maven.org/maven2/com/twitter/parquet-hadoop-bundle/1.6.0/\n",
      "Downloaded https://repo1.maven.org/maven2/commons-lang/commons-lang/2.6/commons-lang-2.6.pom\n",
      "Downloading https://repo1.maven.org/maven2/org/apache/avro/avro/1.7.5/\n",
      "Downloaded https://repo1.maven.org/maven2/commons-lang/commons-lang/2.6/commons-lang-2.6.pom.sha1\n",
      "Downloading https://repo1.maven.org/maven2/commons-lang/commons-lang/2.6/\n",
      "Downloaded https://repo1.maven.org/maven2/com/chuusai/shapeless_2.11/2.0.0/\n",
      "Downloaded https://repo1.maven.org/maven2/com/google/inject/extensions/guice-servlet/3.0/guice-servlet-3.0.pom.sha1\n",
      "Downloading https://repo1.maven.org/maven2/com/google/inject/extensions/guice-servlet/3.0/\n",
      "Downloaded https://repo1.maven.org/maven2/commons-io/commons-io/2.4/\n",
      "Downloaded https://repo1.maven.org/maven2/org/apache/avro/avro/1.7.5/\n"
     ]
    },
    {
     "name": "stderr",
     "output_type": "stream",
     "text": [
      "Downloaded https://repo1.maven.org/maven2/commons-lang/commons-lang/2.6/\n",
      "Downloaded https://repo1.maven.org/maven2/com/twitter/parquet-hadoop-bundle/1.6.0/\n",
      "Downloaded https://repo1.maven.org/maven2/com/google/inject/extensions/guice-servlet/3.0/\n",
      "Downloading https://repo1.maven.org/maven2/org/apache/avro/avro-parent/1.7.5/avro-parent-1.7.5.pom\n",
      "Downloading https://repo1.maven.org/maven2/org/apache/avro/avro-parent/1.7.5/avro-parent-1.7.5.pom.sha1\n",
      "Downloading https://repo1.maven.org/maven2/com/google/inject/extensions/extensions-parent/3.0/extensions-parent-3.0.pom\n",
      "Downloading https://repo1.maven.org/maven2/com/twitter/parquet/1.6.0/parquet-1.6.0.pom\n",
      "Downloading https://repo1.maven.org/maven2/com/google/inject/extensions/extensions-parent/3.0/extensions-parent-3.0.pom.sha1\n",
      "Downloading https://repo1.maven.org/maven2/com/twitter/parquet/1.6.0/parquet-1.6.0.pom.sha1\n",
      "Downloaded https://repo1.maven.org/maven2/org/apache/avro/avro-parent/1.7.5/avro-parent-1.7.5.pom.sha1\n",
      "Downloading https://repo1.maven.org/maven2/org/apache/commons/commons-parent/25/commons-parent-25.pom\n",
      "Downloaded https://repo1.maven.org/maven2/com/google/inject/extensions/extensions-parent/3.0/extensions-parent-3.0.pom\n",
      "Downloaded https://repo1.maven.org/maven2/com/google/inject/extensions/extensions-parent/3.0/extensions-parent-3.0.pom.sha1\n",
      "Downloading https://repo1.maven.org/maven2/org/apache/commons/commons-parent/25/commons-parent-25.pom.sha1\n",
      "Downloading https://repo1.maven.org/maven2/com/google/inject/extensions/extensions-parent/3.0/\n",
      "Downloaded https://repo1.maven.org/maven2/org/apache/avro/avro-parent/1.7.5/avro-parent-1.7.5.pom\n",
      "Downloading https://repo1.maven.org/maven2/org/apache/avro/avro-parent/1.7.5/\n",
      "Downloaded https://repo1.maven.org/maven2/com/twitter/parquet/1.6.0/parquet-1.6.0.pom\n",
      "Downloaded https://repo1.maven.org/maven2/org/apache/commons/commons-parent/25/commons-parent-25.pom.sha1\n",
      "Downloaded https://repo1.maven.org/maven2/com/google/inject/extensions/extensions-parent/3.0/\n",
      "Downloaded https://repo1.maven.org/maven2/org/apache/commons/commons-parent/25/commons-parent-25.pom\n",
      "Downloading https://repo1.maven.org/maven2/org/apache/commons/commons-parent/25/\n",
      "Downloaded https://repo1.maven.org/maven2/org/apache/avro/avro-parent/1.7.5/\n",
      "Downloaded https://repo1.maven.org/maven2/com/twitter/parquet/1.6.0/parquet-1.6.0.pom.sha1\n",
      "Downloading https://repo1.maven.org/maven2/com/twitter/parquet/1.6.0/\n",
      "Downloaded https://repo1.maven.org/maven2/org/apache/commons/commons-parent/25/\n",
      "Downloaded https://repo1.maven.org/maven2/com/twitter/parquet/1.6.0/\n",
      "Downloading https://repo1.maven.org/maven2/org/apache/avro/avro-toplevel/1.7.5/avro-toplevel-1.7.5.pom\n",
      "Downloading https://repo1.maven.org/maven2/org/apache/avro/avro-toplevel/1.7.5/avro-toplevel-1.7.5.pom.sha1\n",
      "Downloaded https://repo1.maven.org/maven2/org/apache/avro/avro-toplevel/1.7.5/avro-toplevel-1.7.5.pom\n",
      "Downloaded https://repo1.maven.org/maven2/org/apache/avro/avro-toplevel/1.7.5/avro-toplevel-1.7.5.pom.sha1\n",
      "Downloading https://repo1.maven.org/maven2/org/apache/avro/avro-toplevel/1.7.5/\n",
      "Downloaded https://repo1.maven.org/maven2/org/apache/avro/avro-toplevel/1.7.5/\n",
      "Downloading https://repo1.maven.org/maven2/org/apache/spark/spark-yarn_2.11/2.1.0/spark-yarn_2.11-2.1.0.jar\n",
      "Downloading https://repo1.maven.org/maven2/org/apache/spark/spark-yarn_2.11/2.1.0/spark-yarn_2.11-2.1.0.jar.sha1\n",
      "Downloading https://repo1.maven.org/maven2/org/apache/hadoop/hadoop-yarn-server-web-proxy/2.2.0/hadoop-yarn-server-web-proxy-2.2.0.jar\n",
      "Downloading https://repo1.maven.org/maven2/org/apache/hadoop/hadoop-yarn-server-web-proxy/2.2.0/hadoop-yarn-server-web-proxy-2.2.0.jar.sha1\n",
      "Downloading https://repo1.maven.org/maven2/org/slf4j/slf4j-api/1.7.16/slf4j-api-1.7.16.jar\n",
      "Downloading https://repo1.maven.org/maven2/org/slf4j/slf4j-api/1.7.16/slf4j-api-1.7.16.jar.sha1\n",
      "Downloaded https://repo1.maven.org/maven2/org/apache/hadoop/hadoop-yarn-server-web-proxy/2.2.0/hadoop-yarn-server-web-proxy-2.2.0.jar.sha1\n",
      "Downloading https://repo1.maven.org/maven2/commons-io/commons-io/2.4/commons-io-2.4.jar\n",
      "Downloaded https://repo1.maven.org/maven2/org/apache/hadoop/hadoop-yarn-server-web-proxy/2.2.0/hadoop-yarn-server-web-proxy-2.2.0.jar\n",
      "Downloading https://repo1.maven.org/maven2/commons-io/commons-io/2.4/commons-io-2.4.jar.sha1\n",
      "Downloaded https://repo1.maven.org/maven2/org/apache/spark/spark-yarn_2.11/2.1.0/spark-yarn_2.11-2.1.0.jar.sha1\n",
      "Downloading https://repo1.maven.org/maven2/jline/jline/2.12.1/jline-2.12.1.jar\n",
      "Downloaded https://repo1.maven.org/maven2/org/slf4j/slf4j-api/1.7.16/slf4j-api-1.7.16.jar\n",
      "Downloading https://repo1.maven.org/maven2/jline/jline/2.12.1/jline-2.12.1.jar.sha1\n",
      "Downloaded https://repo1.maven.org/maven2/commons-io/commons-io/2.4/commons-io-2.4.jar.sha1\n",
      "Downloading https://repo1.maven.org/maven2/org/spark-project/hive/hive-exec/1.2.1.spark2/hive-exec-1.2.1.spark2.jar\n",
      "Downloaded https://repo1.maven.org/maven2/jline/jline/2.12.1/jline-2.12.1.jar.sha1\n",
      "Downloading https://repo1.maven.org/maven2/org/spark-project/hive/hive-exec/1.2.1.spark2/hive-exec-1.2.1.spark2.jar.sha1\n",
      "Downloaded https://repo1.maven.org/maven2/org/slf4j/slf4j-api/1.7.16/slf4j-api-1.7.16.jar.sha1\n",
      "Downloading https://repo1.maven.org/maven2/com/twitter/parquet-hadoop-bundle/1.6.0/parquet-hadoop-bundle-1.6.0.jar\n",
      "Downloaded https://repo1.maven.org/maven2/jline/jline/2.12.1/jline-2.12.1.jar\n",
      "Downloading https://repo1.maven.org/maven2/com/twitter/parquet-hadoop-bundle/1.6.0/parquet-hadoop-bundle-1.6.0.jar.sha1\n",
      "Downloaded https://repo1.maven.org/maven2/org/spark-project/hive/hive-exec/1.2.1.spark2/hive-exec-1.2.1.spark2.jar.sha1\n",
      "Downloading https://repo1.maven.org/maven2/org/spark-project/hive/hive-metastore/1.2.1.spark2/hive-metastore-1.2.1.spark2.jar\n",
      "Downloaded https://repo1.maven.org/maven2/com/twitter/parquet-hadoop-bundle/1.6.0/parquet-hadoop-bundle-1.6.0.jar.sha1\n",
      "Downloading https://repo1.maven.org/maven2/org/spark-project/hive/hive-metastore/1.2.1.spark2/hive-metastore-1.2.1.spark2.jar.sha1\n",
      "Downloaded https://repo1.maven.org/maven2/org/spark-project/hive/hive-metastore/1.2.1.spark2/hive-metastore-1.2.1.spark2.jar.sha1\n",
      "Downloading https://repo1.maven.org/maven2/org/slf4j/slf4j-log4j12/1.7.16/slf4j-log4j12-1.7.16.jar\n",
      "Downloaded https://repo1.maven.org/maven2/commons-io/commons-io/2.4/commons-io-2.4.jar\n",
      "Downloading https://repo1.maven.org/maven2/org/slf4j/slf4j-log4j12/1.7.16/slf4j-log4j12-1.7.16.jar.sha1\n",
      "Downloaded https://repo1.maven.org/maven2/org/slf4j/slf4j-log4j12/1.7.16/slf4j-log4j12-1.7.16.jar\n",
      "Downloading https://repo1.maven.org/maven2/com/google/inject/extensions/guice-servlet/3.0/guice-servlet-3.0.jar\n",
      "Downloaded https://repo1.maven.org/maven2/org/slf4j/slf4j-log4j12/1.7.16/slf4j-log4j12-1.7.16.jar.sha1\n",
      "Downloading https://repo1.maven.org/maven2/com/google/inject/extensions/guice-servlet/3.0/guice-servlet-3.0.jar.sha1\n",
      "Downloaded https://repo1.maven.org/maven2/com/google/inject/extensions/guice-servlet/3.0/guice-servlet-3.0.jar\n",
      "Downloading https://repo1.maven.org/maven2/commons-lang/commons-lang/2.6/commons-lang-2.6.jar\n",
      "Downloaded https://repo1.maven.org/maven2/com/google/inject/extensions/guice-servlet/3.0/guice-servlet-3.0.jar.sha1\n",
      "Downloading https://repo1.maven.org/maven2/commons-lang/commons-lang/2.6/commons-lang-2.6.jar.sha1\n",
      "Downloaded https://repo1.maven.org/maven2/org/apache/spark/spark-yarn_2.11/2.1.0/spark-yarn_2.11-2.1.0.jar\n",
      "Downloading https://repo1.maven.org/maven2/org/apache/spark/spark-repl_2.11/2.1.0/spark-repl_2.11-2.1.0.jar\n",
      "Downloaded https://repo1.maven.org/maven2/commons-lang/commons-lang/2.6/commons-lang-2.6.jar.sha1\n",
      "Downloading https://repo1.maven.org/maven2/org/apache/spark/spark-repl_2.11/2.1.0/spark-repl_2.11-2.1.0.jar.sha1\n",
      "Downloaded https://repo1.maven.org/maven2/commons-lang/commons-lang/2.6/commons-lang-2.6.jar\n",
      "Downloaded https://repo1.maven.org/maven2/org/apache/spark/spark-repl_2.11/2.1.0/spark-repl_2.11-2.1.0.jar.sha1\n",
      "Downloaded https://repo1.maven.org/maven2/org/apache/spark/spark-repl_2.11/2.1.0/spark-repl_2.11-2.1.0.jar\n",
      "Downloaded https://repo1.maven.org/maven2/org/spark-project/hive/hive-metastore/1.2.1.spark2/hive-metastore-1.2.1.spark2.jar\n",
      "Downloaded https://repo1.maven.org/maven2/com/twitter/parquet-hadoop-bundle/1.6.0/parquet-hadoop-bundle-1.6.0.jar\n"
     ]
    },
    {
     "name": "stderr",
     "output_type": "stream",
     "text": [
      "https://repo1.maven.org/maven2/org/spark-project/hive/hive-exe… (87.46 %, 10057…\n",
      "\n",
      "Downloaded https://repo1.maven.org/maven2/org/spark-project/hive/hive-exec/1.2.1.spark2/hive-exec-1.2.1.spark2.jar\n",
      "log4j:WARN No appenders could be found for logger (io.netty.util.internal.logging.InternalLoggerFactory).\n",
      "log4j:WARN Please initialize the log4j system properly.\n",
      "log4j:WARN See http://logging.apache.org/log4j/1.2/faq.html#noconfig for more info.\n"
     ]
    },
    {
     "data": {
      "text/plain": [
       "\u001b[36mspark\u001b[39m: \u001b[32mSparkSession\u001b[39m = org.apache.spark.sql.SparkSession@537166a5"
      ]
     },
     "execution_count": 9,
     "metadata": {},
     "output_type": "execute_result"
    }
   ],
   "source": [
    "val spark = JupyterSparkSession.builder() // important - call this rather than SparkSession.builder()\n",
    "  .jupyter() // this method must be called straightaway after builder()\n",
    "  .master(\"spark://frclust:7077\")\n",
    "  .appName(\"notebook\")\n",
    "  .getOrCreate()\n",
    "import spark.implicits._"
   ]
  },
  {
   "cell_type": "code",
   "execution_count": 10,
   "metadata": {},
   "outputs": [
    {
     "data": {
      "text/plain": [
       "\u001b[36mraw\u001b[39m: \u001b[32mrdd\u001b[39m.\u001b[32mRDD\u001b[39m[\u001b[32mDouble\u001b[39m] = ParallelCollectionRDD[0] at parallelize at cmd9.sc:1"
      ]
     },
     "execution_count": 10,
     "metadata": {},
     "output_type": "execute_result"
    }
   ],
   "source": [
    "val raw = spark.sparkContext.parallelize(Vector.fill(1000000) { scala.util.Random.nextGaussian() }, 10)"
   ]
  },
  {
   "cell_type": "code",
   "execution_count": 11,
   "metadata": {},
   "outputs": [
    {
     "name": "stderr",
     "output_type": "stream",
     "text": [
      "                                                                                \r"
     ]
    },
    {
     "data": {
      "text/plain": [
       "\u001b[36mtd\u001b[39m: \u001b[32mTDigest\u001b[39m = \u001b[33mTDigest\u001b[39m(\n",
       "  \u001b[32m0.5\u001b[39m,\n",
       "  \u001b[32m0\u001b[39m,\n",
       "  \u001b[32m122\u001b[39m,\n",
       "  \u001b[33mMap\u001b[39m(\n",
       "    \u001b[32m-4.950767382417476\u001b[39m -> \u001b[32m1.0\u001b[39m,\n",
       "    \u001b[32m-4.75262540859294\u001b[39m -> \u001b[32m1.0\u001b[39m,\n",
       "    \u001b[32m-4.496845233500876\u001b[39m -> \u001b[32m1.312495686613413\u001b[39m,\n",
       "    \u001b[32m-4.483160266632817\u001b[39m -> \u001b[32m0.687504313386587\u001b[39m,\n",
       "    \u001b[32m-4.365557233574887\u001b[39m -> \u001b[32m1.7683131939293573\u001b[39m,\n",
       "    \u001b[32m-4.332441069983409\u001b[39m -> \u001b[32m2.9972985498500595\u001b[39m,\n",
       "    \u001b[32m-4.234968403017813\u001b[39m -> \u001b[32m5.316344670852642\u001b[39m,\n",
       "\u001b[33m...\u001b[39m"
      ]
     },
     "execution_count": 11,
     "metadata": {},
     "output_type": "execute_result"
    }
   ],
   "source": [
    "val td = raw.aggregate(TDigest.empty())(\n",
    "    (td, x) => td + x,\n",
    "    (td1, td2) => td1 ++ td2\n",
    ")"
   ]
  },
  {
   "cell_type": "code",
   "execution_count": 12,
   "metadata": {
    "scrolled": true
   },
   "outputs": [
    {
     "data": {
      "text/html": [
       "\n",
       "  <iframe id=\"frame-vegas-a91ec3c0-f27f-4740-a808-8c38fb117a91\" sandbox=\"allow-scripts allow-same-origin\" style=\"border: none; width: 100%\" srcdoc=\"&lt;html&gt;\n",
       "  &lt;head&gt;\n",
       "    &lt;script src=&quot;https://cdn.jsdelivr.net/webjars/org.webjars.bower/d3/3.5.17/d3.min.js&quot; charset=&quot;utf-8&quot;&gt;&lt;/script&gt;\n",
       "&lt;script src=&quot;https://cdn.jsdelivr.net/webjars/org.webjars.bower/vega/2.6.3/vega.min.js&quot; charset=&quot;utf-8&quot;&gt;&lt;/script&gt;\n",
       "&lt;script src=&quot;https://cdn.jsdelivr.net/webjars/org.webjars.bower/vega-lite/1.2.0/vega-lite.min.js&quot; charset=&quot;utf-8&quot;&gt;&lt;/script&gt;\n",
       "&lt;script src=&quot;https://vega.github.io/vega-editor/vendor/vega-embed.js&quot; charset=&quot;utf-8&quot;&gt;&lt;/script&gt;\n",
       "  &lt;/head&gt;\n",
       "  &lt;body&gt;\n",
       " &lt;script&gt;\n",
       "   var embedSpec = {\n",
       "     mode: &quot;vega-lite&quot;,\n",
       "     spec: {\n",
       "  &quot;mark&quot; : &quot;line&quot;,\n",
       "  &quot;encoding&quot; : {\n",
       "    &quot;x&quot; : {\n",
       "      &quot;field&quot; : &quot;x&quot;,\n",
       "      &quot;type&quot; : &quot;quantitative&quot;\n",
       "    },\n",
       "    &quot;y&quot; : {\n",
       "      &quot;field&quot; : &quot;y&quot;,\n",
       "      &quot;type&quot; : &quot;quantitative&quot;\n",
       "    }\n",
       "  },\n",
       "  &quot;description&quot; : &quot;CDF&quot;,\n",
       "  &quot;data&quot; : {\n",
       "    &quot;values&quot; : [\n",
       "      {\n",
       "        &quot;x&quot; : -3.0855075224520405,\n",
       "        &quot;y&quot; : 0.001\n",
       "      },\n",
       "      {\n",
       "        &quot;x&quot; : -1.645257615705565,\n",
       "        &quot;y&quot; : 0.05\n",
       "      },\n",
       "      {\n",
       "        &quot;x&quot; : -1.2850529027117081,\n",
       "        &quot;y&quot; : 0.1\n",
       "      },\n",
       "      {\n",
       "        &quot;x&quot; : -1.0374097961090067,\n",
       "        &quot;y&quot; : 0.15000000000000002\n",
       "      },\n",
       "      {\n",
       "        &quot;x&quot; : -0.8327381575799142,\n",
       "        &quot;y&quot; : 0.2\n",
       "      },\n",
       "      {\n",
       "        &quot;x&quot; : -0.6776960867449852,\n",
       "        &quot;y&quot; : 0.25\n",
       "      },\n",
       "      {\n",
       "        &quot;x&quot; : -0.5201922576975282,\n",
       "        &quot;y&quot; : 0.3\n",
       "      },\n",
       "      {\n",
       "        &quot;x&quot; : -0.38075268441894516,\n",
       "        &quot;y&quot; : 0.35\n",
       "      },\n",
       "      {\n",
       "        &quot;x&quot; : -0.24787252397300566,\n",
       "        &quot;y&quot; : 0.39999999999999997\n",
       "      },\n",
       "      {\n",
       "        &quot;x&quot; : -0.13521130050794525,\n",
       "        &quot;y&quot; : 0.44999999999999996\n",
       "      },\n",
       "      {\n",
       "        &quot;x&quot; : 2.116454820519087E-4,\n",
       "        &quot;y&quot; : 0.49999999999999994\n",
       "      },\n",
       "      {\n",
       "        &quot;x&quot; : 0.12733074252162094,\n",
       "        &quot;y&quot; : 0.5499999999999999\n",
       "      },\n",
       "      {\n",
       "        &quot;x&quot; : 0.2529268589283061,\n",
       "        &quot;y&quot; : 0.6\n",
       "      },\n",
       "      {\n",
       "        &quot;x&quot; : 0.3826524784737029,\n",
       "        &quot;y&quot; : 0.65\n",
       "      },\n",
       "      {\n",
       "        &quot;x&quot; : 0.524492309077731,\n",
       "        &quot;y&quot; : 0.7000000000000001\n",
       "      },\n",
       "      {\n",
       "        &quot;x&quot; : 0.6767118642136322,\n",
       "        &quot;y&quot; : 0.7500000000000001\n",
       "      },\n",
       "      {\n",
       "        &quot;x&quot; : 0.8439097284636773,\n",
       "        &quot;y&quot; : 0.8000000000000002\n",
       "      },\n",
       "      {\n",
       "        &quot;x&quot; : 1.0368259621622875,\n",
       "        &quot;y&quot; : 0.8500000000000002\n",
       "      },\n",
       "      {\n",
       "        &quot;x&quot; : 1.2827708200978245,\n",
       "        &quot;y&quot; : 0.9000000000000002\n",
       "      },\n",
       "      {\n",
       "        &quot;x&quot; : 3.09192630561967,\n",
       "        &quot;y&quot; : 0.999\n",
       "      }\n",
       "    ]\n",
       "  }\n",
       "}\n",
       "   }\n",
       "   vg.embed(&quot;#vegas-a91ec3c0-f27f-4740-a808-8c38fb117a91&quot;, embedSpec, function(error, result) {});\n",
       " &lt;/script&gt;\n",
       " &lt;div id='vegas-a91ec3c0-f27f-4740-a808-8c38fb117a91'&gt;&lt;/div&gt;\n",
       "    &lt;/body&gt;\n",
       "&lt;/html&gt;\"></iframe>\n",
       "  <script>\n",
       "    if (typeof resizeIFrame != 'function') {\n",
       "      function resizeIFrame(el, k) {\n",
       "        $(el.contentWindow.document).ready(function() {\n",
       "          el.style.height = el.contentWindow.document.body.scrollHeight + 'px';\n",
       "        });\n",
       "        if (k <= 10) { setTimeout(function() { resizeIFrame(el, k+1) }, 1000 + (k * 250)) };\n",
       "      }\n",
       "    }\n",
       "    $().ready( function() { resizeIFrame($('#frame-vegas-a91ec3c0-f27f-4740-a808-8c38fb117a91').get(0), 1); });\n",
       "  </script>\n",
       "    "
      ]
     },
     "metadata": {},
     "output_type": "display_data"
    }
   ],
   "source": [
    "Vegas(\"CDF\")\n",
    "    .withXY(td.toXY)\n",
    "    .encodeX(\"x\", Quant)\n",
    "    .encodeY(\"y\", Quant)\n",
    "    .mark(Line)\n",
    "    .show"
   ]
  },
  {
   "cell_type": "code",
   "execution_count": 13,
   "metadata": {},
   "outputs": [
    {
     "data": {
      "text/plain": [
       "defined \u001b[32mfunction\u001b[39m \u001b[36mloadCSV\u001b[39m"
      ]
     },
     "execution_count": 13,
     "metadata": {},
     "output_type": "execute_result"
    }
   ],
   "source": [
    "def loadCSV(fname: String) = spark.read\n",
    "  .format(\"com.databricks.spark.csv\")\n",
    "  .option(\"header\", \"true\")\n",
    "  .option(\"mode\", \"DROPMALFORMED\")\n",
    "  .load(fname)"
   ]
  },
  {
   "cell_type": "code",
   "execution_count": 20,
   "metadata": {},
   "outputs": [
    {
     "data": {
      "text/plain": [
       "\u001b[36mtrainCSV\u001b[39m: \u001b[32mDataFrame\u001b[39m = [_c0: string, AW: string ... 800 more fields]"
      ]
     },
     "execution_count": 20,
     "metadata": {},
     "output_type": "execute_result"
    }
   ],
   "source": [
    "val trainCSV = loadCSV(\"/data/tox21/tox21_dense_train.csv\")"
   ]
  },
  {
   "cell_type": "code",
   "execution_count": 21,
   "metadata": {},
   "outputs": [
    {
     "data": {
      "text/plain": [
       "\u001b[36mres20\u001b[39m: \u001b[32mArray\u001b[39m[\u001b[32mString\u001b[39m] = \u001b[33mArray\u001b[39m(\n",
       "  \u001b[32m\"_c0\"\u001b[39m,\n",
       "  \u001b[32m\"AW\"\u001b[39m,\n",
       "  \u001b[32m\"AWeight\"\u001b[39m,\n",
       "  \u001b[32m\"Arto\"\u001b[39m,\n",
       "  \u001b[32m\"BertzCT\"\u001b[39m,\n",
       "  \u001b[32m\"Chi0\"\u001b[39m,\n",
       "  \u001b[32m\"Chi1\"\u001b[39m,\n",
       "  \u001b[32m\"Chi10\"\u001b[39m,\n",
       "  \u001b[32m\"Chi2\"\u001b[39m,\n",
       "  \u001b[32m\"Chi3\"\u001b[39m,\n",
       "  \u001b[32m\"Chi3c\"\u001b[39m,\n",
       "\u001b[33m...\u001b[39m"
      ]
     },
     "execution_count": 21,
     "metadata": {},
     "output_type": "execute_result"
    }
   ],
   "source": [
    "trainCSV.columns"
   ]
  },
  {
   "cell_type": "code",
   "execution_count": 22,
   "metadata": {},
   "outputs": [
    {
     "data": {
      "text/plain": [
       "\u001b[36mtrainFV\u001b[39m: \u001b[32mRDD\u001b[39m[\u001b[32mVector\u001b[39m[\u001b[32mDouble\u001b[39m]] = MapPartitionsRDD[22] at map at cmd21.sc:1"
      ]
     },
     "execution_count": 22,
     "metadata": {},
     "output_type": "execute_result"
    }
   ],
   "source": [
    "val trainFV = trainCSV.rdd.map(_.toSeq.toVector.drop(1).map(_.asInstanceOf[String].toDouble)).cache()"
   ]
  },
  {
   "cell_type": "code",
   "execution_count": 23,
   "metadata": {},
   "outputs": [
    {
     "data": {
      "text/plain": [
       "\u001b[32mimport \u001b[39m\u001b[36morg.apache.spark.rdd.RDD\n",
       "\u001b[39m\n",
       "defined \u001b[32mfunction\u001b[39m \u001b[36mtdSketchFV\u001b[39m"
      ]
     },
     "execution_count": 23,
     "metadata": {},
     "output_type": "execute_result"
    }
   ],
   "source": [
    "import org.apache.spark.rdd.RDD\n",
    "def tdSketchFV(fv: RDD[Vector[Double]]): Vector[TDigest] = {\n",
    "    val tds = fv.aggregate(Array.empty[TDigest])(\n",
    "        (tdv, xv) => {\n",
    "            if (tdv.isEmpty) {\n",
    "                Array.tabulate(xv.length) { j => TDigest.empty(maxDiscrete=50) + xv(j) }\n",
    "            } else {\n",
    "                for { j <- 0 until xv.length } { tdv(j) += xv(j) }\n",
    "                tdv\n",
    "            }\n",
    "        },\n",
    "        (tdv1, tdv2) => {\n",
    "            if (tdv1.isEmpty) tdv2 else {\n",
    "                for { j <- 0 until tdv1.length } { tdv1(j) ++= tdv2(j) }\n",
    "                tdv1\n",
    "            }\n",
    "        }\n",
    "    )\n",
    "    tds.toVector\n",
    "}"
   ]
  },
  {
   "cell_type": "code",
   "execution_count": 24,
   "metadata": {},
   "outputs": [
    {
     "data": {
      "text/plain": [
       "defined \u001b[32mfunction\u001b[39m \u001b[36msynthesize\u001b[39m"
      ]
     },
     "execution_count": 24,
     "metadata": {},
     "output_type": "execute_result"
    }
   ],
   "source": [
    "def synthesize(tdVec: Vector[TDigest], n: Int, partitions: Int = 2) = {\n",
    "    implicit class AddSampling(td: TDigest) {\n",
    "        import org.isarnproject.collections.mixmaps.nearest.Cover\n",
    "        def cdfDiscreteInverse(q: Double): Double = {\n",
    "            td.clusters.mCover(q * td.clusters.sum).map(n => (n.data.key, n.data.value)) match {\n",
    "                case Cover(_, Some((x, _))) => x\n",
    "                case Cover(Some((x, _)), None) => x\n",
    "            }\n",
    "        }\n",
    "\n",
    "        def sample: Double = {\n",
    "            val clust = td.clusters\n",
    "            td.nclusters match {\n",
    "                case 0 => 0.0\n",
    "                case 1 => clust(clust.keyMin.get)\n",
    "                case n if (n <= td.maxDiscrete) => cdfDiscreteInverse(scala.util.Random.nextDouble)\n",
    "                case _ => td.cdfInverse(scala.util.Random.nextDouble)\n",
    "            }\n",
    "        }\n",
    "    }\n",
    "    val tdVecBC = spark.sparkContext.broadcast(tdVec)\n",
    "    spark.sparkContext.parallelize(1 to n, partitions).map { r => tdVecBC.value.map(_.sample) }\n",
    "}"
   ]
  },
  {
   "cell_type": "code",
   "execution_count": 25,
   "metadata": {},
   "outputs": [
    {
     "name": "stderr",
     "output_type": "stream",
     "text": [
      "                                                                                \r"
     ]
    },
    {
     "data": {
      "text/plain": [
       "\u001b[36mfvSketches\u001b[39m: \u001b[32mVector\u001b[39m[\u001b[32mTDigest\u001b[39m] = \u001b[33mVector\u001b[39m(\n",
       "  \u001b[33mTDigest\u001b[39m(\n",
       "    \u001b[32m0.5\u001b[39m,\n",
       "    \u001b[32m50\u001b[39m,\n",
       "    \u001b[32m70\u001b[39m,\n",
       "    \u001b[33mMap\u001b[39m(\n",
       "      \u001b[32m1.0\u001b[39m -> \u001b[32m9.0\u001b[39m,\n",
       "      \u001b[32m1.333\u001b[39m -> \u001b[32m24.0\u001b[39m,\n",
       "      \u001b[32m1.5\u001b[39m -> \u001b[32m45.0\u001b[39m,\n",
       "      \u001b[32m1.600489455071117\u001b[39m -> \u001b[32m33.242848970251714\u001b[39m,\n",
       "      \u001b[32m1.6757376364045966\u001b[39m -> \u001b[32m7.917995937532979\u001b[39m,\n",
       "      \u001b[32m1.6979655638078115\u001b[39m -> \u001b[32m63.83915509221531\u001b[39m,\n",
       "\u001b[33m...\u001b[39m"
      ]
     },
     "execution_count": 25,
     "metadata": {},
     "output_type": "execute_result"
    }
   ],
   "source": [
    "val fvSketches = tdSketchFV(trainFV)\n"
   ]
  },
  {
   "cell_type": "code",
   "execution_count": 26,
   "metadata": {},
   "outputs": [
    {
     "data": {
      "text/plain": [
       "\u001b[36msynthFV\u001b[39m: \u001b[32mRDD\u001b[39m[\u001b[32mVector\u001b[39m[\u001b[32mDouble\u001b[39m]] = MapPartitionsRDD[24] at map at cmd23.sc:22"
      ]
     },
     "execution_count": 26,
     "metadata": {},
     "output_type": "execute_result"
    }
   ],
   "source": [
    "val synthFV = synthesize(fvSketches, 48000, 4)"
   ]
  },
  {
   "cell_type": "code",
   "execution_count": 27,
   "metadata": {},
   "outputs": [
    {
     "data": {
      "text/plain": [
       "\u001b[32mimport \u001b[39m\u001b[36mcom.redhat.et.silex.util.vectors.implicits._\n",
       "\u001b[39m\n",
       "\u001b[32mimport \u001b[39m\u001b[36morg.apache.spark.mllib.tree.RandomForest\n",
       "\u001b[39m\n",
       "\u001b[32mimport \u001b[39m\u001b[36morg.apache.spark.mllib.evaluation.BinaryClassificationMetrics\n",
       "\u001b[39m\n",
       "\u001b[32mimport \u001b[39m\u001b[36morg.apache.spark.mllib.regression.LabeledPoint\n",
       "\u001b[39m\n",
       "\u001b[32mimport \u001b[39m\u001b[36mcom.redhat.et.silex.cluster.ClusteringTreeModel\n",
       "\u001b[39m\n",
       "\u001b[32mimport \u001b[39m\u001b[36mClusteringTreeModel._\u001b[39m"
      ]
     },
     "execution_count": 27,
     "metadata": {},
     "output_type": "execute_result"
    }
   ],
   "source": [
    "import com.redhat.et.silex.util.vectors.implicits._\n",
    "import org.apache.spark.mllib.tree.RandomForest\n",
    "import org.apache.spark.mllib.evaluation.BinaryClassificationMetrics\n",
    "import org.apache.spark.mllib.regression.LabeledPoint\n",
    "import com.redhat.et.silex.cluster.ClusteringTreeModel\n",
    "import ClusteringTreeModel._"
   ]
  },
  {
   "cell_type": "code",
   "execution_count": 28,
   "metadata": {},
   "outputs": [
    {
     "data": {
      "text/plain": [
       "\u001b[36mtrainLab\u001b[39m: \u001b[32mRDD\u001b[39m[\u001b[32mLabeledPoint\u001b[39m] = MapPartitionsRDD[25] at map at cmd27.sc:1\n",
       "\u001b[36msynthLab\u001b[39m: \u001b[32mRDD\u001b[39m[\u001b[32mLabeledPoint\u001b[39m] = MapPartitionsRDD[26] at map at cmd27.sc:2\n",
       "\u001b[36mtrainFR\u001b[39m: \u001b[32mRDD\u001b[39m[\u001b[32mLabeledPoint\u001b[39m] = UnionRDD[27] at $plus$plus at cmd27.sc:3"
      ]
     },
     "execution_count": 28,
     "metadata": {},
     "output_type": "execute_result"
    }
   ],
   "source": [
    "val trainLab = trainFV.map(_.toLabeledPoint(1.0))\n",
    "val synthLab = synthFV.map(_.toLabeledPoint(0.0))\n",
    "val trainFR = (trainLab ++ synthLab).cache()"
   ]
  },
  {
   "cell_type": "code",
   "execution_count": 29,
   "metadata": {},
   "outputs": [
    {
     "data": {
      "text/plain": [
       "defined \u001b[32mfunction\u001b[39m \u001b[36mfrClassifier\u001b[39m"
      ]
     },
     "execution_count": 29,
     "metadata": {},
     "output_type": "execute_result"
    }
   ],
   "source": [
    "def frClassifier = {\n",
    "val rfFR = RandomForest.trainClassifier(\n",
    "    trainFR,              // training data\n",
    "    2,                    // number of classes\n",
    "    Map.empty[Int, Int],  // category info\n",
    "    100,                  // forest size\n",
    "    \"auto\",               // \n",
    "    \"gini\",               // split quality measure\n",
    "    10,                   // max depth\n",
    "    20,                   // max bins\n",
    "    235711)               // random seed\n",
    "val predictionAndLabels = trainLab.map { case LabeledPoint(label, features) =>\n",
    "  val prediction = rfFR.predict(features)\n",
    "  (prediction, label)\n",
    "}\n",
    "val metrics = new BinaryClassificationMetrics(predictionAndLabels)\n",
    "val incorrect = predictionAndLabels.filter { case (p, t) => p != t }\n",
    "println(s\"incorrect = ${incorrect.count}\")\n",
    "(rfFR, metrics)\n",
    "}"
   ]
  },
  {
   "cell_type": "code",
   "execution_count": 30,
   "metadata": {},
   "outputs": [
    {
     "name": "stderr",
     "output_type": "stream",
     "text": [
      "                                                                                \r"
     ]
    },
    {
     "name": "stdout",
     "output_type": "stream",
     "text": [
      "incorrect = 0\n"
     ]
    },
    {
     "data": {
      "text/plain": [
       "\u001b[36mrfFR\u001b[39m: \u001b[32morg\u001b[39m.\u001b[32mapache\u001b[39m.\u001b[32mspark\u001b[39m.\u001b[32mmllib\u001b[39m.\u001b[32mtree\u001b[39m.\u001b[32mmodel\u001b[39m.\u001b[32mRandomForestModel\u001b[39m = TreeEnsembleModel classifier with 100 trees\n",
       "\n",
       "\u001b[36mmetrics\u001b[39m: \u001b[32mBinaryClassificationMetrics\u001b[39m = org.apache.spark.mllib.evaluation.BinaryClassificationMetrics@2acf5316"
      ]
     },
     "execution_count": 30,
     "metadata": {},
     "output_type": "execute_result"
    }
   ],
   "source": [
    "val (rfFR, metrics) = frClassifier"
   ]
  },
  {
   "cell_type": "code",
   "execution_count": 31,
   "metadata": {},
   "outputs": [
    {
     "data": {
      "text/plain": [
       "\u001b[36mfrRules\u001b[39m: \u001b[32mArray\u001b[39m[\u001b[32mMap\u001b[39m[\u001b[32mDouble\u001b[39m, \u001b[32mSeq\u001b[39m[\u001b[32mSeq\u001b[39m[\u001b[32mPredicate\u001b[39m]]]] = \u001b[33mArray\u001b[39m(\n",
       "  \u001b[33mMap\u001b[39m(\n",
       "    \u001b[32m1.0\u001b[39m -> \u001b[33mArrayBuffer\u001b[39m(\n",
       "      \u001b[33mList\u001b[39m((MRVSA2 <= 0.0)),\n",
       "      \u001b[33mList\u001b[39m((MRVSA2 > 0.0), (RDFM30 <= 0.0)),\n",
       "      \u001b[33mList\u001b[39m((MRVSA2 > 0.0), (RDFM30 > 0.0), (PEOEVSA4 <= 0.0)),\n",
       "      \u001b[33mList\u001b[39m((MRVSA2 > 0.0), (RDFM30 > 0.0), (PEOEVSA4 > 0.0), (Chiv4c <= 0.0)),\n",
       "      \u001b[33mList\u001b[39m(\n",
       "        (MRVSA2 > 0.0),\n",
       "        (RDFM30 > 0.0),\n",
       "        (PEOEVSA4 > 0.0),\n",
       "        (Chiv4c > 0.0),\n",
       "\u001b[33m...\u001b[39m"
      ]
     },
     "execution_count": 31,
     "metadata": {},
     "output_type": "execute_result"
    }
   ],
   "source": [
    "val frRules = rfFR.trees.map(_.rules(trainCSV.columns.toVector.drop(1), Map.empty[Int, Int]))"
   ]
  },
  {
   "cell_type": "code",
   "execution_count": 32,
   "metadata": {},
   "outputs": [
    {
     "name": "stdout",
     "output_type": "stream",
     "text": [
      "(RNCS,20)\n",
      "(VSAEstate2,19)\n",
      "(MRVSA7,19)\n",
      "(VSAEstate3,18)\n",
      "(VSAEstate0,17)\n",
      "(slogPVSA8,17)\n",
      "(PEOEVSA4,13)\n",
      "(RDFU27,12)\n",
      "(RDFM29,11)\n",
      "(RDFV30,11)\n",
      "(RDFM30,11)\n",
      "(slogPVSA6,11)\n",
      "(slogPVSA3,10)\n",
      "(RDFU29,9)\n",
      "(PEOEVSA10,9)\n",
      "(Chi4c,8)\n",
      "(PEOEVSA3,8)\n",
      "(RDFE30,8)\n",
      "(PEOEVSA12,7)\n",
      "(Chi5ch,7)\n",
      "(PEOEVSA11,7)\n",
      "(slogPVSA9,7)\n",
      "(Chiv4c,7)\n",
      "(RDFV24,7)\n",
      "(RDFU30,7)\n",
      "(MRVSA8,6)\n",
      "(slogPVSA11,6)\n",
      "(MRVSA2,6)\n",
      "(RDFV29,6)\n",
      "(RDFM27,6)\n",
      "(RDFE28,6)\n",
      "(RDFE29,6)\n",
      "(RDFV27,5)\n",
      "(RDFP25,5)\n",
      "(slogPVSA0,5)\n",
      "(RDFP29,5)\n",
      "(slogPVSA7,5)\n",
      "(RDFP30,5)\n",
      "(RDFM24,5)\n",
      "(RDFU25,5)\n",
      "(RDFP24,4)\n",
      "(RDFM22,4)\n",
      "(RDFV23,4)\n",
      "(RDFM25,4)\n",
      "(EstateVSA6,4)\n",
      "(MRVSA3,4)\n",
      "(Chiv5ch,4)\n",
      "(RDFE27,4)\n",
      "(RDFP28,4)\n",
      "(RDFE25,4)\n",
      "(RDFU28,3)\n",
      "(EstateVSA5,3)\n",
      "(RDFE26,3)\n",
      "(EstateVSA2,3)\n",
      "(PEOEVSA1,3)\n",
      "(RDFV25,3)\n",
      "(RDFV28,3)\n",
      "(RDFU26,3)\n",
      "(PEOEVSA8,3)\n",
      "(PEOEVSA13,3)\n",
      "(slogPVSA2,3)\n",
      "(RDFM20,3)\n",
      "(EstateVSA9,3)\n",
      "(MRVSA5,2)\n",
      "(RDFP27,2)\n",
      "(GATSm8,2)\n",
      "(RDFE20,2)\n",
      "(bcutp16,2)\n",
      "(RDFU24,2)\n",
      "(EstateVSA1,2)\n",
      "(PEOEVSA2,2)\n",
      "(rygr,2)\n",
      "(RDFP21,2)\n",
      "(RDFM28,2)\n",
      "(RDFE22,2)\n",
      "(E1p,2)\n",
      "(Chiv4,2)\n",
      "(RDFE24,2)\n",
      "(RDFU22,2)\n",
      "(RDFU20,2)\n",
      "(Tv,2)\n",
      "(RDFP23,2)\n",
      "(RDFV26,2)\n",
      "(bcutm11,2)\n",
      "(EstateVSA4,2)\n",
      "(RDFE21,2)\n",
      "(RDFM18,1)\n",
      "(RDFP6,1)\n",
      "(L1p,1)\n",
      "(PEOEVSA9,1)\n",
      "(Chiv4ch,1)\n",
      "(L1e,1)\n",
      "(bcute15,1)\n",
      "(RDFP13,1)\n",
      "(bcutp1,1)\n",
      "(RDFC28,1)\n",
      "(RDFP20,1)\n",
      "(Chiv6ch,1)\n",
      "(PEOEVSA5,1)\n",
      "(RDFM26,1)\n",
      "(Chi6,1)\n",
      "(RDFM19,1)\n",
      "(Kp,1)\n",
      "(RDFV9,1)\n",
      "(J,1)\n",
      "(bcutm6,1)\n",
      "(RDFC14,1)\n",
      "(L1u,1)\n",
      "(MoRSEC9,1)\n",
      "(MZM1,1)\n",
      "(RDFU23,1)\n",
      "(L1v,1)\n",
      "(MoRSEE21,1)\n",
      "(bcutv14,1)\n",
      "(bcutv6,1)\n",
      "(RDFP1,1)\n",
      "(EstateVSA0,1)\n",
      "(EstateVSA10,1)\n",
      "(MoRSEM12,1)\n",
      "(RDFV20,1)\n",
      "(GATSe8,1)\n",
      "(Tp,1)\n",
      "(Ku,1)\n",
      "(RDFP8,1)\n",
      "(Tu,1)\n",
      "(PEOEVSA7,1)\n",
      "(RDFE23,1)\n",
      "(RDFM16,1)\n",
      "(MSA,1)\n",
      "(RDFU1,1)\n",
      "(RDFE16,1)\n",
      "(RDFV21,1)\n",
      "(RDFM5,1)\n",
      "(MoRSEM1,1)\n",
      "(RDFP26,1)\n",
      "(Tsch,1)\n",
      "(GATSv8,1)\n",
      "(AWeight,1)\n",
      "(nhet,1)\n",
      "(MoRSEP27,1)\n",
      "(RDFM23,1)\n",
      "(MoRSEC17,1)\n",
      "(RDFU18,1)\n",
      "(RDFC30,1)\n",
      "(bcute6,1)\n",
      "(RDFE18,1)\n",
      "(PC4,1)\n",
      "(MATSv6,1)\n",
      "(EstateVSA7,1)\n",
      "(MoRSEM30,1)\n",
      "(DZ,1)\n",
      "(GMTI,1)\n",
      "(RDFU21,1)\n",
      "(GATSe6,1)\n",
      "(RDFV22,1)\n",
      "(GATSm7,1)\n",
      "(L1m,1)\n",
      "(bcutm16,1)\n",
      "(P2v,1)\n"
     ]
    },
    {
     "data": {
      "text/plain": [
       "\u001b[36mfeatPerTree\u001b[39m: \u001b[32mArray\u001b[39m[\u001b[32mString\u001b[39m] = \u001b[33mArray\u001b[39m(\n",
       "  \u001b[32m\"RDFM30\"\u001b[39m,\n",
       "  \u001b[32m\"VSAEstate3\"\u001b[39m,\n",
       "  \u001b[32m\"Chiv4c\"\u001b[39m,\n",
       "  \u001b[32m\"MRVSA2\"\u001b[39m,\n",
       "  \u001b[32m\"PEOEVSA4\"\u001b[39m,\n",
       "  \u001b[32m\"VSAEstate2\"\u001b[39m,\n",
       "  \u001b[32m\"RDFM29\"\u001b[39m,\n",
       "  \u001b[32m\"RDFM30\"\u001b[39m,\n",
       "  \u001b[32m\"Tp\"\u001b[39m,\n",
       "  \u001b[32m\"Tu\"\u001b[39m,\n",
       "  \u001b[32m\"RNCS\"\u001b[39m,\n",
       "\u001b[33m...\u001b[39m\n",
       "\u001b[36mfeatCounts\u001b[39m: \u001b[32mMap\u001b[39m[\u001b[32mString\u001b[39m, \u001b[32mInt\u001b[39m] = \u001b[33mMap\u001b[39m(\n",
       "  \u001b[32m\"MRVSA8\"\u001b[39m -> \u001b[32m6\u001b[39m,\n",
       "  \u001b[32m\"PEOEVSA12\"\u001b[39m -> \u001b[32m7\u001b[39m,\n",
       "  \u001b[32m\"RDFM18\"\u001b[39m -> \u001b[32m1\u001b[39m,\n",
       "  \u001b[32m\"VSAEstate2\"\u001b[39m -> \u001b[32m19\u001b[39m,\n",
       "  \u001b[32m\"MRVSA5\"\u001b[39m -> \u001b[32m2\u001b[39m,\n",
       "  \u001b[32m\"Chi5ch\"\u001b[39m -> \u001b[32m7\u001b[39m,\n",
       "  \u001b[32m\"RDFP6\"\u001b[39m -> \u001b[32m1\u001b[39m,\n",
       "  \u001b[32m\"RDFM29\"\u001b[39m -> \u001b[32m11\u001b[39m,\n",
       "  \u001b[32m\"RDFP27\"\u001b[39m -> \u001b[32m2\u001b[39m,\n",
       "  \u001b[32m\"L1p\"\u001b[39m -> \u001b[32m1\u001b[39m,\n",
       "  \u001b[32m\"RDFP24\"\u001b[39m -> \u001b[32m4\u001b[39m,\n",
       "\u001b[33m...\u001b[39m\n",
       "\u001b[36mfeatHist\u001b[39m: \u001b[32mVector\u001b[39m[(\u001b[32mString\u001b[39m, \u001b[32mInt\u001b[39m)] = \u001b[33mVector\u001b[39m(\n",
       "  (\u001b[32m\"RNCS\"\u001b[39m, \u001b[32m20\u001b[39m),\n",
       "  (\u001b[32m\"VSAEstate2\"\u001b[39m, \u001b[32m19\u001b[39m),\n",
       "  (\u001b[32m\"MRVSA7\"\u001b[39m, \u001b[32m19\u001b[39m),\n",
       "  (\u001b[32m\"VSAEstate3\"\u001b[39m, \u001b[32m18\u001b[39m),\n",
       "  (\u001b[32m\"VSAEstate0\"\u001b[39m, \u001b[32m17\u001b[39m),\n",
       "  (\u001b[32m\"slogPVSA8\"\u001b[39m, \u001b[32m17\u001b[39m),\n",
       "  (\u001b[32m\"PEOEVSA4\"\u001b[39m, \u001b[32m13\u001b[39m),\n",
       "  (\u001b[32m\"RDFU27\"\u001b[39m, \u001b[32m12\u001b[39m),\n",
       "  (\u001b[32m\"RDFM29\"\u001b[39m, \u001b[32m11\u001b[39m),\n",
       "  (\u001b[32m\"RDFV30\"\u001b[39m, \u001b[32m11\u001b[39m),\n",
       "  (\u001b[32m\"RDFM30\"\u001b[39m, \u001b[32m11\u001b[39m),\n",
       "\u001b[33m...\u001b[39m\n",
       "\u001b[36mfeatSelect\u001b[39m: \u001b[32mVector\u001b[39m[\u001b[32mString\u001b[39m] = \u001b[33mVector\u001b[39m(\n",
       "  \u001b[32m\"RNCS\"\u001b[39m,\n",
       "  \u001b[32m\"VSAEstate2\"\u001b[39m,\n",
       "  \u001b[32m\"MRVSA7\"\u001b[39m,\n",
       "  \u001b[32m\"VSAEstate3\"\u001b[39m,\n",
       "  \u001b[32m\"VSAEstate0\"\u001b[39m,\n",
       "  \u001b[32m\"slogPVSA8\"\u001b[39m,\n",
       "  \u001b[32m\"PEOEVSA4\"\u001b[39m,\n",
       "  \u001b[32m\"RDFU27\"\u001b[39m,\n",
       "  \u001b[32m\"RDFM29\"\u001b[39m,\n",
       "  \u001b[32m\"RDFV30\"\u001b[39m,\n",
       "  \u001b[32m\"RDFM30\"\u001b[39m,\n",
       "\u001b[33m...\u001b[39m"
      ]
     },
     "execution_count": 32,
     "metadata": {},
     "output_type": "execute_result"
    }
   ],
   "source": [
    "val featPerTree = for {\n",
    "    rmap <- frRules\n",
    "    feats = {\n",
    "        val fraw = for {\n",
    "            vrules <- rmap.values\n",
    "            plist <- vrules\n",
    "            pred <- plist\n",
    "        } yield { pred.feature }\n",
    "        fraw.toSet.toSeq\n",
    "    }\n",
    "    f <- feats\n",
    "} yield { f }\n",
    "val featCounts = featPerTree.foldLeft(Map.empty[String, Int])((m, f) => m + (f -> (1 + m.getOrElse(f, 0))))\n",
    "val featHist = featCounts.toSeq.sortBy { case (_, n) => -n}.toVector\n",
    "val featSelect = featHist.filter { case (_, n) => n > 1 }.map { case (f, _) => f }\n",
    "println(featHist.mkString(\"\\n\"))"
   ]
  },
  {
   "cell_type": "code",
   "execution_count": 33,
   "metadata": {},
   "outputs": [
    {
     "data": {
      "text/plain": [
       "\u001b[36mres32\u001b[39m: \u001b[32mInt\u001b[39m = \u001b[32m86\u001b[39m"
      ]
     },
     "execution_count": 33,
     "metadata": {},
     "output_type": "execute_result"
    }
   ],
   "source": [
    "featSelect.length"
   ]
  },
  {
   "cell_type": "code",
   "execution_count": 74,
   "metadata": {},
   "outputs": [
    {
     "data": {
      "text/plain": [
       "\u001b[36mtrainLabelsCSV\u001b[39m: \u001b[32mDataFrame\u001b[39m = [_c0: string, NR.AhR: string ... 11 more fields]\n",
       "\u001b[36mtestLabelsCSV\u001b[39m: \u001b[32mDataFrame\u001b[39m = [_c0: string, NR.AhR: string ... 11 more fields]\n",
       "\u001b[36mtestCSV\u001b[39m: \u001b[32mDataFrame\u001b[39m = [_c0: string, AW: string ... 800 more fields]"
      ]
     },
     "execution_count": 74,
     "metadata": {},
     "output_type": "execute_result"
    }
   ],
   "source": [
    "val trainLabelsCSV = loadCSV(\"/data/tox21/tox21_labels_train.csv\")\n",
    "val testLabelsCSV = loadCSV(\"/data/tox21/tox21_labels_test.csv\")\n",
    "val testCSV = loadCSV(\"/data/tox21/tox21_dense_test.csv\")"
   ]
  },
  {
   "cell_type": "code",
   "execution_count": 77,
   "metadata": {},
   "outputs": [
    {
     "data": {
      "text/plain": [
       "\u001b[36mtrainCSVFR\u001b[39m: \u001b[32mDataFrame\u001b[39m = [_c0: string, RNCS: string ... 85 more fields]\n",
       "\u001b[36mtestCSVFR\u001b[39m: \u001b[32mDataFrame\u001b[39m = [_c0: string, RNCS: string ... 85 more fields]"
      ]
     },
     "execution_count": 77,
     "metadata": {},
     "output_type": "execute_result"
    }
   ],
   "source": [
    "val trainCSVFR = trainCSV.select(\"_c0\", featSelect :_*)\n",
    "val testCSVFR = testCSV.select(\"_c0\", featSelect :_*)"
   ]
  },
  {
   "cell_type": "code",
   "execution_count": 76,
   "metadata": {
    "scrolled": true
   },
   "outputs": [
    {
     "name": "stdout",
     "output_type": "stream",
     "text": [
      "_c0, NR.AhR, NR.AR, NR.AR.LBD, NR.Aromatase, NR.ER, NR.ER.LBD, NR.PPAR.gamma, SR.ARE, SR.ATAD5, SR.HSE, SR.MMP, SR.p53\n"
     ]
    }
   ],
   "source": [
    "println(trainLabelsCSV.columns.mkString(\", \"))"
   ]
  },
  {
   "cell_type": "code",
   "execution_count": 92,
   "metadata": {},
   "outputs": [
    {
     "data": {
      "text/plain": [
       "defined \u001b[32mfunction\u001b[39m \u001b[36mlpFR\u001b[39m\n",
       "defined \u001b[32mfunction\u001b[39m \u001b[36mtrainAndTest\u001b[39m"
      ]
     },
     "execution_count": 92,
     "metadata": {},
     "output_type": "execute_result"
    }
   ],
   "source": [
    "def csvToPairs(csv: DataFrame) =\n",
    "    csv.rdd.map(_.toSeq)\n",
    "    .map(v => (v.head.asInstanceOf[String], v.tail.toVector.map(_.asInstanceOf[String].toDouble)))\n",
    "def lpFR(tlab: String, labCSV: DataFrame, fvCSV: DataFrame) = {\n",
    "    val labCol = labCSV.select(\"_c0\", tlab)\n",
    "    val labPairs = labCol.filter(labCol(tlab) =!= \"NA\")\n",
    "        .rdd.map(_.toSeq).map { s => (s(0).asInstanceOf[String], s(1).asInstanceOf[String].toDouble) }\n",
    "    val fvPairs = csvToPairs(fvCSV)\n",
    "    val lp = labPairs.join(fvPairs).map { case (_, (lab, feats)) => LabeledPoint(lab, feats.toSpark) }\n",
    "    lp\n",
    "}\n",
    "def trainAndTest(tlab: String) =\n",
    "  (lpFR(tlab, trainLabelsCSV, trainCSVFR), lpFR(tlab, testLabelsCSV, testCSVFR))"
   ]
  },
  {
   "cell_type": "code",
   "execution_count": 93,
   "metadata": {},
   "outputs": [
    {
     "data": {
      "text/plain": [
       "\u001b[36mtrainLP\u001b[39m: \u001b[32mRDD\u001b[39m[\u001b[32mLabeledPoint\u001b[39m] = MapPartitionsRDD[220] at map at cmd91.sc:6\n",
       "\u001b[36mtestLP\u001b[39m: \u001b[32mRDD\u001b[39m[\u001b[32mLabeledPoint\u001b[39m] = MapPartitionsRDD[232] at map at cmd91.sc:6"
      ]
     },
     "execution_count": 93,
     "metadata": {},
     "output_type": "execute_result"
    }
   ],
   "source": [
    "val (trainLP, testLP) = trainAndTest(\"`NR.AhR`\")"
   ]
  },
  {
   "cell_type": "code",
   "execution_count": 97,
   "metadata": {},
   "outputs": [
    {
     "data": {
      "text/plain": [
       "\u001b[36mres96\u001b[39m: \u001b[32mLong\u001b[39m = \u001b[32m981L\u001b[39m"
      ]
     },
     "execution_count": 97,
     "metadata": {},
     "output_type": "execute_result"
    }
   ],
   "source": [
    "trainLP.filter { case LabeledPoint(lab, _) => lab != 0.0 }.count"
   ]
  },
  {
   "cell_type": "code",
   "execution_count": null,
   "metadata": {
    "collapsed": true
   },
   "outputs": [],
   "source": []
  }
 ],
 "metadata": {
  "kernelspec": {
   "display_name": "Scala",
   "language": "scala",
   "name": "scala"
  },
  "language_info": {
   "codemirror_mode": "text/x-scala",
   "file_extension": ".scala",
   "mimetype": "text/x-scala",
   "name": "scala211",
   "nbconvert_exporter": "script",
   "pygments_lexer": "scala",
   "version": "2.11.11"
  }
 },
 "nbformat": 4,
 "nbformat_minor": 2
}
