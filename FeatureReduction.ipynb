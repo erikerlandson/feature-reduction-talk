{
 "cells": [
  {
   "cell_type": "code",
   "execution_count": 1,
   "metadata": {
    "scrolled": false
   },
   "outputs": [
    {
     "data": {
      "text/plain": [
       "\u001b[32mimport \u001b[39m\u001b[36m$exclude.$                        , $ivy.$                            // for cleaner logs\n",
       "//import $profile.`hadoop-2.6`\n",
       "\u001b[39m\n",
       "\u001b[32mimport \u001b[39m\u001b[36m$ivy.$                                   // adjust spark version - spark >= 2.0\n",
       "//import $ivy.`org.apache.hadoop:hadoop-aws:2.6.4`\n",
       "\u001b[39m\n",
       "\u001b[32mimport \u001b[39m\u001b[36m$ivy.$                                // for JupyterSparkSession (SparkSession aware of the jupyter-scala kernel)\n",
       "\n",
       "\u001b[39m\n",
       "\u001b[32mimport \u001b[39m\u001b[36morg.apache.spark._\n",
       "\u001b[39m\n",
       "\u001b[32mimport \u001b[39m\u001b[36morg.apache.spark.sql._\n",
       "\u001b[39m\n",
       "\u001b[32mimport \u001b[39m\u001b[36mjupyter.spark.session._\n",
       "\u001b[39m\n",
       "\u001b[32mimport \u001b[39m\u001b[36mResolvers._\u001b[39m"
      ]
     },
     "execution_count": 1,
     "metadata": {},
     "output_type": "execute_result"
    }
   ],
   "source": [
    "import $exclude.`org.slf4j:slf4j-log4j12`, $ivy.`org.slf4j:slf4j-nop:1.7.21` // for cleaner logs\n",
    "//import $profile.`hadoop-2.6`\n",
    "import $ivy.`org.apache.spark::spark-sql:2.1.0` // adjust spark version - spark >= 2.0\n",
    "//import $ivy.`org.apache.hadoop:hadoop-aws:2.6.4`\n",
    "import $ivy.`org.jupyter-scala::spark:0.4.2` // for JupyterSparkSession (SparkSession aware of the jupyter-scala kernel)\n",
    "\n",
    "import org.apache.spark._\n",
    "import org.apache.spark.sql._\n",
    "import jupyter.spark.session._\n",
    "import Resolvers._"
   ]
  },
  {
   "cell_type": "code",
   "execution_count": 2,
   "metadata": {
    "scrolled": false
   },
   "outputs": [
    {
     "data": {
      "text/plain": [
       "\u001b[32mimport \u001b[39m\u001b[36m$ivy.$                           \n",
       "\u001b[39m\n",
       "\u001b[32mimport \u001b[39m\u001b[36mvegas._\n",
       "\u001b[39m\n",
       "\u001b[32mimport \u001b[39m\u001b[36mvegas.data.External._\u001b[39m"
      ]
     },
     "execution_count": 2,
     "metadata": {},
     "output_type": "execute_result"
    }
   ],
   "source": [
    "import $ivy.`org.vegas-viz::vegas:0.3.9`\n",
    "import vegas._\n",
    "import vegas.data.External._"
   ]
  },
  {
   "cell_type": "code",
   "execution_count": 3,
   "metadata": {
    "collapsed": true,
    "scrolled": false
   },
   "outputs": [],
   "source": [
    "interp.resolvers() = interp.resolvers() :+ Resolver.Http(\n",
    "  \"isarn project\",\n",
    "  \"https://dl.bintray.com/isarn/maven/\",\n",
    "  MavenPattern,\n",
    "  true\n",
    ")\n",
    "// resolvers += \"Will's bintray\" at \"https://dl.bintray.com/willb/maven/\"\n",
    "interp.resolvers() = interp.resolvers() :+ Resolver.Http(\n",
    "  \"Will Benton\",\n",
    "  \"https://dl.bintray.com/willb/maven/\",\n",
    "  MavenPattern,\n",
    "  true\n",
    ")"
   ]
  },
  {
   "cell_type": "code",
   "execution_count": 4,
   "metadata": {
    "scrolled": false
   },
   "outputs": [
    {
     "data": {
      "text/plain": [
       "\u001b[32mimport \u001b[39m\u001b[36m$ivy.$                                            // \"org.isarnproject\" %% \"isarn-sketches\" % \"0.0.2\"\n",
       "\u001b[39m\n",
       "\u001b[32mimport \u001b[39m\u001b[36morg.isarnproject.sketches._\u001b[39m"
      ]
     },
     "execution_count": 4,
     "metadata": {},
     "output_type": "execute_result"
    }
   ],
   "source": [
    "import $ivy.`org.isarnproject::isarn-sketches:0.0.3.rc1` // \"org.isarnproject\" %% \"isarn-sketches\" % \"0.0.2\"\n",
    "import org.isarnproject.sketches._"
   ]
  },
  {
   "cell_type": "code",
   "execution_count": 5,
   "metadata": {
    "scrolled": false
   },
   "outputs": [
    {
     "data": {
      "text/plain": [
       "\u001b[32mimport \u001b[39m\u001b[36m$ivy.$                            // \"com.redhat.et\" %% \"silex\" % \"0.1.2\"\u001b[39m"
      ]
     },
     "execution_count": 5,
     "metadata": {},
     "output_type": "execute_result"
    }
   ],
   "source": [
    "import $ivy.`com.redhat.et::silex:0.1.2` // \"com.redhat.et\" %% \"silex\" % \"0.1.2\""
   ]
  },
  {
   "cell_type": "code",
   "execution_count": 6,
   "metadata": {
    "scrolled": false
   },
   "outputs": [
    {
     "data": {
      "text/plain": [
       "\u001b[32mimport \u001b[39m\u001b[36morg.apache.spark.rdd.RDD\n",
       "\u001b[39m\n",
       "\u001b[32mimport \u001b[39m\u001b[36morg.apache.spark.mllib.tree.RandomForest\n",
       "\u001b[39m\n",
       "\u001b[32mimport \u001b[39m\u001b[36morg.apache.spark.mllib.evaluation.BinaryClassificationMetrics\n",
       "\u001b[39m\n",
       "\u001b[32mimport \u001b[39m\u001b[36morg.apache.spark.mllib.classification.{LogisticRegressionModel, LogisticRegressionWithLBFGS}\n",
       "\u001b[39m\n",
       "\u001b[32mimport \u001b[39m\u001b[36morg.apache.spark.mllib.evaluation.MulticlassMetrics\n",
       "\u001b[39m\n",
       "\u001b[32mimport \u001b[39m\u001b[36morg.apache.spark.mllib.regression.LabeledPoint\n",
       "\n",
       "\u001b[39m\n",
       "\u001b[32mimport \u001b[39m\u001b[36mcom.redhat.et.silex.util.vectors.implicits._\n",
       "\u001b[39m\n",
       "\u001b[32mimport \u001b[39m\u001b[36mcom.redhat.et.silex.cluster.ClusteringTreeModel\n",
       "\u001b[39m\n",
       "\u001b[32mimport \u001b[39m\u001b[36mClusteringTreeModel._\u001b[39m"
      ]
     },
     "execution_count": 6,
     "metadata": {},
     "output_type": "execute_result"
    }
   ],
   "source": [
    "import org.apache.spark.rdd.RDD\n",
    "import org.apache.spark.mllib.tree.RandomForest\n",
    "import org.apache.spark.mllib.evaluation.BinaryClassificationMetrics\n",
    "import org.apache.spark.mllib.classification.{LogisticRegressionModel, LogisticRegressionWithLBFGS}\n",
    "import org.apache.spark.mllib.evaluation.MulticlassMetrics\n",
    "import org.apache.spark.mllib.regression.LabeledPoint\n",
    "\n",
    "import com.redhat.et.silex.util.vectors.implicits._\n",
    "import com.redhat.et.silex.cluster.ClusteringTreeModel\n",
    "import ClusteringTreeModel._"
   ]
  },
  {
   "cell_type": "code",
   "execution_count": 7,
   "metadata": {
    "scrolled": false
   },
   "outputs": [
    {
     "name": "stderr",
     "output_type": "stream",
     "text": [
      "log4j:WARN No appenders could be found for logger (io.netty.util.internal.logging.InternalLoggerFactory).\n",
      "log4j:WARN Please initialize the log4j system properly.\n",
      "log4j:WARN See http://logging.apache.org/log4j/1.2/faq.html#noconfig for more info.\n"
     ]
    },
    {
     "data": {
      "text/plain": [
       "\u001b[36mspark\u001b[39m: \u001b[32mSparkSession\u001b[39m = org.apache.spark.sql.SparkSession@210f9d35"
      ]
     },
     "execution_count": 7,
     "metadata": {},
     "output_type": "execute_result"
    }
   ],
   "source": [
    "val spark = JupyterSparkSession.builder() // important - call this rather than SparkSession.builder()\n",
    "  .jupyter() // this method must be called straightaway after builder()\n",
    "  .master(\"spark://frclust:7077\")\n",
    "  .appName(\"notebook\")\n",
    "  .getOrCreate()"
   ]
  },
  {
   "cell_type": "code",
   "execution_count": 8,
   "metadata": {
    "scrolled": false
   },
   "outputs": [
    {
     "data": {
      "text/plain": [
       "defined \u001b[32mclass\u001b[39m \u001b[36mTDEnhance\u001b[39m"
      ]
     },
     "execution_count": 8,
     "metadata": {},
     "output_type": "execute_result"
    }
   ],
   "source": [
    "implicit class TDEnhance(td: TDigest) extends Serializable {\n",
    "  def toXY: Vector[(Double, Double)] = {\n",
    "    val q = (0.001 +: (0.05 to 0.95 by 0.05) :+ 0.999).toVector\n",
    "    q.map(q => (td.cdfInverse(q), q))\n",
    "  }\n",
    "}"
   ]
  },
  {
   "cell_type": "code",
   "execution_count": 9,
   "metadata": {
    "scrolled": false
   },
   "outputs": [
    {
     "data": {
      "text/plain": [
       "\u001b[36mgaussianData\u001b[39m: \u001b[32mVector\u001b[39m[\u001b[32mDouble\u001b[39m] = \u001b[33mVector\u001b[39m(\n",
       "  \u001b[32m-1.0593943398272403\u001b[39m,\n",
       "  \u001b[32m2.873323109332603\u001b[39m,\n",
       "  \u001b[32m-1.7492097275474714\u001b[39m,\n",
       "  \u001b[32m1.907027198224942\u001b[39m,\n",
       "  \u001b[32m-0.4358307905369243\u001b[39m,\n",
       "  \u001b[32m0.8007196482882192\u001b[39m,\n",
       "  \u001b[32m0.003111350180089359\u001b[39m,\n",
       "  \u001b[32m-8.039703984896764E-4\u001b[39m,\n",
       "  \u001b[32m-0.030500561606107562\u001b[39m,\n",
       "  \u001b[32m-2.2250375292228832\u001b[39m,\n",
       "  \u001b[32m-0.3727359823907052\u001b[39m,\n",
       "\u001b[33m...\u001b[39m\n",
       "\u001b[36mgaussianRDD\u001b[39m: \u001b[32mRDD\u001b[39m[\u001b[32mDouble\u001b[39m] = ParallelCollectionRDD[0] at parallelize at cmd8.sc:2"
      ]
     },
     "execution_count": 9,
     "metadata": {},
     "output_type": "execute_result"
    }
   ],
   "source": [
    "val gaussianData = Vector.fill(1000000) { scala.util.Random.nextGaussian() }\n",
    "val gaussianRDD = spark.sparkContext.parallelize(gaussianData, 10)"
   ]
  },
  {
   "cell_type": "code",
   "execution_count": 10,
   "metadata": {
    "scrolled": false
   },
   "outputs": [
    {
     "name": "stderr",
     "output_type": "stream",
     "text": [
      "                                                                                \r"
     ]
    },
    {
     "data": {
      "text/plain": [
       "\u001b[36mgaussianSketch\u001b[39m: \u001b[32mTDigest\u001b[39m = \u001b[33mTDigest\u001b[39m(\n",
       "  \u001b[32m0.5\u001b[39m,\n",
       "  \u001b[32m0\u001b[39m,\n",
       "  \u001b[32m124\u001b[39m,\n",
       "  \u001b[33mMap\u001b[39m(\n",
       "    \u001b[32m-4.592405047355569\u001b[39m -> \u001b[32m1.0\u001b[39m,\n",
       "    \u001b[32m-4.522053501909571\u001b[39m -> \u001b[32m1.0\u001b[39m,\n",
       "    \u001b[32m-4.459907226116781\u001b[39m -> \u001b[32m1.3124956866286168\u001b[39m,\n",
       "    \u001b[32m-4.447455630086177\u001b[39m -> \u001b[32m0.6250053680854548\u001b[39m,\n",
       "    \u001b[32m-4.388118766446965\u001b[39m -> \u001b[32m2.1503184382410723\u001b[39m,\n",
       "    \u001b[32m-4.357066569724282\u001b[39m -> \u001b[32m0.9121805070448559\u001b[39m,\n",
       "    \u001b[32m-4.31630828377465\u001b[39m -> \u001b[32m0.7772154592955327\u001b[39m,\n",
       "\u001b[33m...\u001b[39m"
      ]
     },
     "execution_count": 10,
     "metadata": {},
     "output_type": "execute_result"
    }
   ],
   "source": [
    "val gaussianSketch = gaussianRDD.aggregate(TDigest.empty())(\n",
    "    (td, x) => td + x,\n",
    "    (td1, td2) => td1 ++ td2\n",
    ")"
   ]
  },
  {
   "cell_type": "code",
   "execution_count": 11,
   "metadata": {
    "scrolled": false
   },
   "outputs": [
    {
     "data": {
      "text/html": [
       "\n",
       "  <iframe id=\"frame-vegas-5885983f-f278-46d9-b322-0cf11efdd731\" sandbox=\"allow-scripts allow-same-origin\" style=\"border: none; width: 100%\" srcdoc=\"&lt;html&gt;\n",
       "  &lt;head&gt;\n",
       "    &lt;script src=&quot;https://cdn.jsdelivr.net/webjars/org.webjars.bower/d3/3.5.17/d3.min.js&quot; charset=&quot;utf-8&quot;&gt;&lt;/script&gt;\n",
       "&lt;script src=&quot;https://cdn.jsdelivr.net/webjars/org.webjars.bower/vega/2.6.3/vega.min.js&quot; charset=&quot;utf-8&quot;&gt;&lt;/script&gt;\n",
       "&lt;script src=&quot;https://cdn.jsdelivr.net/webjars/org.webjars.bower/vega-lite/1.2.0/vega-lite.min.js&quot; charset=&quot;utf-8&quot;&gt;&lt;/script&gt;\n",
       "&lt;script src=&quot;https://vega.github.io/vega-editor/vendor/vega-embed.js&quot; charset=&quot;utf-8&quot;&gt;&lt;/script&gt;\n",
       "  &lt;/head&gt;\n",
       "  &lt;body&gt;\n",
       " &lt;script&gt;\n",
       "   var embedSpec = {\n",
       "     mode: &quot;vega-lite&quot;,\n",
       "     spec: {\n",
       "  &quot;mark&quot; : &quot;line&quot;,\n",
       "  &quot;encoding&quot; : {\n",
       "    &quot;x&quot; : {\n",
       "      &quot;field&quot; : &quot;x&quot;,\n",
       "      &quot;type&quot; : &quot;quantitative&quot;\n",
       "    },\n",
       "    &quot;y&quot; : {\n",
       "      &quot;field&quot; : &quot;y&quot;,\n",
       "      &quot;type&quot; : &quot;quantitative&quot;\n",
       "    }\n",
       "  },\n",
       "  &quot;description&quot; : &quot;CDF&quot;,\n",
       "  &quot;data&quot; : {\n",
       "    &quot;values&quot; : [\n",
       "      {\n",
       "        &quot;x&quot; : -3.0952531722648415,\n",
       "        &quot;y&quot; : 0.001\n",
       "      },\n",
       "      {\n",
       "        &quot;x&quot; : -1.648371138980538,\n",
       "        &quot;y&quot; : 0.05\n",
       "      },\n",
       "      {\n",
       "        &quot;x&quot; : -1.2838819156598664,\n",
       "        &quot;y&quot; : 0.1\n",
       "      },\n",
       "      {\n",
       "        &quot;x&quot; : -1.0394377392242629,\n",
       "        &quot;y&quot; : 0.15000000000000002\n",
       "      },\n",
       "      {\n",
       "        &quot;x&quot; : -0.8369929200332961,\n",
       "        &quot;y&quot; : 0.2\n",
       "      },\n",
       "      {\n",
       "        &quot;x&quot; : -0.6785123078121453,\n",
       "        &quot;y&quot; : 0.25\n",
       "      },\n",
       "      {\n",
       "        &quot;x&quot; : -0.521779717438956,\n",
       "        &quot;y&quot; : 0.3\n",
       "      },\n",
       "      {\n",
       "        &quot;x&quot; : -0.3866899955165667,\n",
       "        &quot;y&quot; : 0.35\n",
       "      },\n",
       "      {\n",
       "        &quot;x&quot; : -0.2577096569354833,\n",
       "        &quot;y&quot; : 0.39999999999999997\n",
       "      },\n",
       "      {\n",
       "        &quot;x&quot; : -0.12475884810164087,\n",
       "        &quot;y&quot; : 0.44999999999999996\n",
       "      },\n",
       "      {\n",
       "        &quot;x&quot; : -0.00185707864221335,\n",
       "        &quot;y&quot; : 0.49999999999999994\n",
       "      },\n",
       "      {\n",
       "        &quot;x&quot; : 0.12638668204421838,\n",
       "        &quot;y&quot; : 0.5499999999999999\n",
       "      },\n",
       "      {\n",
       "        &quot;x&quot; : 0.25306468172291724,\n",
       "        &quot;y&quot; : 0.6\n",
       "      },\n",
       "      {\n",
       "        &quot;x&quot; : 0.3817005515904529,\n",
       "        &quot;y&quot; : 0.65\n",
       "      },\n",
       "      {\n",
       "        &quot;x&quot; : 0.525942405301457,\n",
       "        &quot;y&quot; : 0.7000000000000001\n",
       "      },\n",
       "      {\n",
       "        &quot;x&quot; : 0.6761115202943448,\n",
       "        &quot;y&quot; : 0.7500000000000001\n",
       "      },\n",
       "      {\n",
       "        &quot;x&quot; : 0.8402553570536371,\n",
       "        &quot;y&quot; : 0.8000000000000002\n",
       "      },\n",
       "      {\n",
       "        &quot;x&quot; : 1.0302029837407918,\n",
       "        &quot;y&quot; : 0.8500000000000002\n",
       "      },\n",
       "      {\n",
       "        &quot;x&quot; : 1.2757407098363127,\n",
       "        &quot;y&quot; : 0.9000000000000002\n",
       "      },\n",
       "      {\n",
       "        &quot;x&quot; : 3.0867302813871342,\n",
       "        &quot;y&quot; : 0.999\n",
       "      }\n",
       "    ]\n",
       "  },\n",
       "  &quot;config&quot; : {\n",
       "    &quot;cell&quot; : {\n",
       "      &quot;width&quot; : 600.0,\n",
       "      &quot;height&quot; : 300.0\n",
       "    }\n",
       "  }\n",
       "}\n",
       "   }\n",
       "   vg.embed(&quot;#vegas-5885983f-f278-46d9-b322-0cf11efdd731&quot;, embedSpec, function(error, result) {});\n",
       " &lt;/script&gt;\n",
       " &lt;div id='vegas-5885983f-f278-46d9-b322-0cf11efdd731'&gt;&lt;/div&gt;\n",
       "    &lt;/body&gt;\n",
       "&lt;/html&gt;\"></iframe>\n",
       "  <script>\n",
       "    if (typeof resizeIFrame != 'function') {\n",
       "      function resizeIFrame(el, k) {\n",
       "        $(el.contentWindow.document).ready(function() {\n",
       "          el.style.height = el.contentWindow.document.body.scrollHeight + 'px';\n",
       "        });\n",
       "        if (k <= 10) { setTimeout(function() { resizeIFrame(el, k+1) }, 1000 + (k * 250)) };\n",
       "      }\n",
       "    }\n",
       "    $().ready( function() { resizeIFrame($('#frame-vegas-5885983f-f278-46d9-b322-0cf11efdd731').get(0), 1); });\n",
       "  </script>\n",
       "    "
      ]
     },
     "metadata": {},
     "output_type": "display_data"
    }
   ],
   "source": [
    "Vegas(\"CDF\")\n",
    "    .withXY(gaussianSketch.toXY)\n",
    "    .encodeX(\"x\", Quant)\n",
    "    .encodeY(\"y\", Quant)\n",
    "    .mark(Line)\n",
    "    .configCell(width=600, height=300)\n",
    "    .show"
   ]
  },
  {
   "cell_type": "code",
   "execution_count": 12,
   "metadata": {
    "scrolled": false
   },
   "outputs": [
    {
     "data": {
      "text/plain": [
       "defined \u001b[32mfunction\u001b[39m \u001b[36mloadCSV\u001b[39m"
      ]
     },
     "execution_count": 12,
     "metadata": {},
     "output_type": "execute_result"
    }
   ],
   "source": [
    "def loadCSV(fname: String) = spark.read\n",
    "  .format(\"com.databricks.spark.csv\")\n",
    "  .option(\"header\", \"true\")\n",
    "  .option(\"mode\", \"DROPMALFORMED\")\n",
    "  .load(fname)"
   ]
  },
  {
   "cell_type": "code",
   "execution_count": 13,
   "metadata": {
    "scrolled": false
   },
   "outputs": [
    {
     "data": {
      "text/plain": [
       "\u001b[36mtrainCSV\u001b[39m: \u001b[32mDataFrame\u001b[39m = [_c0: string, AW: string ... 800 more fields]\n",
       "\u001b[36mtestCSV\u001b[39m: \u001b[32mDataFrame\u001b[39m = [_c0: string, AW: string ... 800 more fields]\n",
       "\u001b[36mtrainLabelsCSV\u001b[39m: \u001b[32mDataFrame\u001b[39m = [_c0: string, NR.AhR: string ... 11 more fields]\n",
       "\u001b[36mtestLabelsCSV\u001b[39m: \u001b[32mDataFrame\u001b[39m = [_c0: string, NR.AhR: string ... 11 more fields]"
      ]
     },
     "execution_count": 13,
     "metadata": {},
     "output_type": "execute_result"
    }
   ],
   "source": [
    "val trainCSV = loadCSV(\"/data/tox21/tox21_dense_train.csv\")\n",
    "val testCSV = loadCSV(\"/data/tox21/tox21_dense_test.csv\")\n",
    "val trainLabelsCSV = loadCSV(\"/data/tox21/tox21_labels_train.csv\")\n",
    "val testLabelsCSV = loadCSV(\"/data/tox21/tox21_labels_test.csv\")"
   ]
  },
  {
   "cell_type": "code",
   "execution_count": 14,
   "metadata": {
    "scrolled": false
   },
   "outputs": [
    {
     "data": {
      "text/plain": [
       "defined \u001b[32mfunction\u001b[39m \u001b[36mtdSketchFV\u001b[39m"
      ]
     },
     "execution_count": 14,
     "metadata": {},
     "output_type": "execute_result"
    }
   ],
   "source": [
    "def tdSketchFV(fv: RDD[Vector[Double]]): Vector[TDigest] = {\n",
    "    val tds = fv.aggregate(Array.empty[TDigest])(\n",
    "        (tdv, xv) => {\n",
    "            if (tdv.isEmpty) {\n",
    "                Array.tabulate(xv.length) { j => TDigest.empty(maxDiscrete=50) + xv(j) }\n",
    "            } else {\n",
    "                for { j <- 0 until xv.length } { tdv(j) += xv(j) }\n",
    "                tdv\n",
    "            }\n",
    "        },\n",
    "        (tdv1, tdv2) => {\n",
    "            if (tdv1.isEmpty) tdv2 else {\n",
    "                for { j <- 0 until tdv1.length } { tdv1(j) ++= tdv2(j) }\n",
    "                tdv1\n",
    "            }\n",
    "        }\n",
    "    )\n",
    "    tds.toVector\n",
    "}"
   ]
  },
  {
   "cell_type": "code",
   "execution_count": 15,
   "metadata": {
    "scrolled": false
   },
   "outputs": [
    {
     "data": {
      "text/plain": [
       "defined \u001b[32mfunction\u001b[39m \u001b[36msynthesize\u001b[39m"
      ]
     },
     "execution_count": 15,
     "metadata": {},
     "output_type": "execute_result"
    }
   ],
   "source": [
    "def synthesize(tdVec: Vector[TDigest], n: Int, partitions: Int = 2) = {\n",
    "    implicit class AddSampling(td: TDigest) {\n",
    "        import org.isarnproject.collections.mixmaps.nearest.Cover\n",
    "        def cdfDiscreteInverse(q: Double): Double = {\n",
    "            td.clusters.mCover(q * td.clusters.sum).map(n => (n.data.key, n.data.value)) match {\n",
    "                case Cover(_, Some((x, _))) => x\n",
    "                case Cover(Some((x, _)), None) => x\n",
    "            }\n",
    "        }\n",
    "\n",
    "        def sample: Double = {\n",
    "            val clust = td.clusters\n",
    "            td.nclusters match {\n",
    "                case 0 => 0.0\n",
    "                case 1 => clust(clust.keyMin.get)\n",
    "                case n if (n <= td.maxDiscrete) => cdfDiscreteInverse(scala.util.Random.nextDouble)\n",
    "                case _ => td.cdfInverse(scala.util.Random.nextDouble)\n",
    "            }\n",
    "        }\n",
    "    }\n",
    "    val tdVecBC = spark.sparkContext.broadcast(tdVec)\n",
    "    spark.sparkContext.parallelize(1 to n, partitions).map { r => tdVecBC.value.map(_.sample) }\n",
    "}"
   ]
  },
  {
   "cell_type": "code",
   "execution_count": 96,
   "metadata": {
    "scrolled": false
   },
   "outputs": [
    {
     "name": "stderr",
     "output_type": "stream",
     "text": [
      "                                                                                \r"
     ]
    },
    {
     "data": {
      "text/plain": [
       "\u001b[36mtrainFV\u001b[39m: \u001b[32mRDD\u001b[39m[\u001b[32mVector\u001b[39m[\u001b[32mDouble\u001b[39m]] = MapPartitionsRDD[62850] at map at cmd95.sc:1\n",
       "\u001b[36mfvSketches\u001b[39m: \u001b[32mVector\u001b[39m[\u001b[32mTDigest\u001b[39m] = \u001b[33mVector\u001b[39m(\n",
       "  \u001b[33mTDigest\u001b[39m(\n",
       "    \u001b[32m0.5\u001b[39m,\n",
       "    \u001b[32m50\u001b[39m,\n",
       "    \u001b[32m75\u001b[39m,\n",
       "    \u001b[33mMap\u001b[39m(\n",
       "      \u001b[32m1.0\u001b[39m -> \u001b[32m9.0\u001b[39m,\n",
       "      \u001b[32m1.333\u001b[39m -> \u001b[32m24.0\u001b[39m,\n",
       "      \u001b[32m1.5\u001b[39m -> \u001b[32m45.0\u001b[39m,\n",
       "      \u001b[32m1.600489455071117\u001b[39m -> \u001b[32m33.242848970251714\u001b[39m,\n",
       "      \u001b[32m1.6919536888451168\u001b[39m -> \u001b[32m64.71203977719783\u001b[39m,\n",
       "      \u001b[32m1.728204980220985\u001b[39m -> \u001b[32m7.045111252550461\u001b[39m,\n",
       "\u001b[33m...\u001b[39m"
      ]
     },
     "execution_count": 96,
     "metadata": {},
     "output_type": "execute_result"
    }
   ],
   "source": [
    "val trainFV = trainCSV.rdd.map(_.toSeq.toVector.drop(1).map(_.asInstanceOf[String].toDouble))\n",
    "val fvSketches = tdSketchFV(trainFV)"
   ]
  },
  {
   "cell_type": "code",
   "execution_count": 97,
   "metadata": {
    "scrolled": false
   },
   "outputs": [
    {
     "data": {
      "text/plain": [
       "\u001b[36msynthFV\u001b[39m: \u001b[32mRDD\u001b[39m[\u001b[32mVector\u001b[39m[\u001b[32mDouble\u001b[39m]] = MapPartitionsRDD[62852] at map at cmd14.sc:22"
      ]
     },
     "execution_count": 97,
     "metadata": {},
     "output_type": "execute_result"
    }
   ],
   "source": [
    "val synthFV = synthesize(fvSketches, 48000, 4)"
   ]
  },
  {
   "cell_type": "code",
   "execution_count": 98,
   "metadata": {
    "scrolled": false
   },
   "outputs": [
    {
     "data": {
      "text/plain": [
       "\u001b[36mtrainLab\u001b[39m: \u001b[32mRDD\u001b[39m[\u001b[32mLabeledPoint\u001b[39m] = MapPartitionsRDD[62853] at map at cmd97.sc:1\n",
       "\u001b[36msynthLab\u001b[39m: \u001b[32mRDD\u001b[39m[\u001b[32mLabeledPoint\u001b[39m] = MapPartitionsRDD[62854] at map at cmd97.sc:2\n",
       "\u001b[36mtrainFR\u001b[39m: \u001b[32mRDD\u001b[39m[\u001b[32mLabeledPoint\u001b[39m] = UnionRDD[62855] at $plus$plus at cmd97.sc:3"
      ]
     },
     "execution_count": 98,
     "metadata": {},
     "output_type": "execute_result"
    }
   ],
   "source": [
    "val trainLab = trainFV.map(_.toLabeledPoint(1.0))\n",
    "val synthLab = synthFV.map(_.toLabeledPoint(0.0))\n",
    "val trainFR = (trainLab ++ synthLab).cache()"
   ]
  },
  {
   "cell_type": "code",
   "execution_count": 99,
   "metadata": {
    "scrolled": false
   },
   "outputs": [
    {
     "data": {
      "text/plain": [
       "defined \u001b[32mfunction\u001b[39m \u001b[36mfrClassifier\u001b[39m"
      ]
     },
     "execution_count": 99,
     "metadata": {},
     "output_type": "execute_result"
    }
   ],
   "source": [
    "def frClassifier = {\n",
    "val rfFR = RandomForest.trainClassifier(\n",
    "    trainFR,              // training data\n",
    "    2,                    // number of classes\n",
    "    Map.empty[Int, Int],  // category info\n",
    "    100,                  // forest size\n",
    "    \"auto\",               // \n",
    "    \"gini\",               // split quality measure\n",
    "    10,                   // max depth\n",
    "    20,                   // max bins\n",
    "    235711)               // random seed\n",
    "val predictionAndLabels = trainLab.map { case LabeledPoint(label, features) =>\n",
    "  val prediction = rfFR.predict(features)\n",
    "  (prediction, label)\n",
    "}\n",
    "val metrics = new MulticlassMetrics(predictionAndLabels)\n",
    "(rfFR, metrics)\n",
    "}"
   ]
  },
  {
   "cell_type": "code",
   "execution_count": 100,
   "metadata": {
    "scrolled": false
   },
   "outputs": [
    {
     "name": "stderr",
     "output_type": "stream",
     "text": [
      "                                                                                \r"
     ]
    },
    {
     "data": {
      "text/plain": [
       "\u001b[36mrfFR\u001b[39m: \u001b[32morg\u001b[39m.\u001b[32mapache\u001b[39m.\u001b[32mspark\u001b[39m.\u001b[32mmllib\u001b[39m.\u001b[32mtree\u001b[39m.\u001b[32mmodel\u001b[39m.\u001b[32mRandomForestModel\u001b[39m = TreeEnsembleModel classifier with 100 trees\n",
       "\n",
       "\u001b[36mmetrics\u001b[39m: \u001b[32mMulticlassMetrics\u001b[39m = org.apache.spark.mllib.evaluation.MulticlassMetrics@13af5e45\n",
       "\u001b[36mres99_1\u001b[39m: \u001b[32mDouble\u001b[39m = \u001b[32m1.0\u001b[39m"
      ]
     },
     "execution_count": 100,
     "metadata": {},
     "output_type": "execute_result"
    }
   ],
   "source": [
    "val (rfFR, metrics) = frClassifier\n",
    "metrics.accuracy"
   ]
  },
  {
   "cell_type": "code",
   "execution_count": 101,
   "metadata": {
    "scrolled": false
   },
   "outputs": [
    {
     "data": {
      "text/plain": [
       "\u001b[36mfrRules\u001b[39m: \u001b[32mArray\u001b[39m[\u001b[32mMap\u001b[39m[\u001b[32mDouble\u001b[39m, \u001b[32mSeq\u001b[39m[\u001b[32mSeq\u001b[39m[\u001b[32mPredicate\u001b[39m]]]] = \u001b[33mArray\u001b[39m(\n",
       "  \u001b[33mMap\u001b[39m(\n",
       "    \u001b[32m1.0\u001b[39m -> \u001b[33mArrayBuffer\u001b[39m(\n",
       "      \u001b[33mList\u001b[39m((MRVSA2 <= 0.0)),\n",
       "      \u001b[33mList\u001b[39m((MRVSA2 > 0.0), (RDFM30 <= 0.0)),\n",
       "      \u001b[33mList\u001b[39m((MRVSA2 > 0.0), (RDFM30 > 0.0), (PEOEVSA4 <= 0.0)),\n",
       "      \u001b[33mList\u001b[39m((MRVSA2 > 0.0), (RDFM30 > 0.0), (PEOEVSA4 > 0.0), (PEOEVSA12 <= 0.0)),\n",
       "      \u001b[33mList\u001b[39m(\n",
       "        (MRVSA2 > 0.0),\n",
       "        (RDFM30 > 0.0),\n",
       "        (PEOEVSA4 > 0.0),\n",
       "\u001b[33m...\u001b[39m"
      ]
     },
     "execution_count": 101,
     "metadata": {},
     "output_type": "execute_result"
    }
   ],
   "source": [
    "val frRules = rfFR.trees.map(_.rules(trainCSV.columns.toVector.drop(1), Map.empty[Int, Int]))"
   ]
  },
  {
   "cell_type": "code",
   "execution_count": 102,
   "metadata": {
    "scrolled": true
   },
   "outputs": [
    {
     "name": "stdout",
     "output_type": "stream",
     "text": [
      "(MRVSA7,20)\n",
      "(RNCS,19)\n",
      "(VSAEstate0,18)\n",
      "(VSAEstate2,17)\n",
      "(slogPVSA8,17)\n",
      "(VSAEstate3,16)\n",
      "(slogPVSA6,13)\n",
      "(slogPVSA3,12)\n",
      "(RDFM30,12)\n",
      "(PEOEVSA4,12)\n",
      "(RDFM29,11)\n",
      "(RDFV30,10)\n",
      "(RDFE30,10)\n",
      "(slogPVSA0,9)\n",
      "(PEOEVSA3,9)\n",
      "(MRVSA8,8)\n",
      "(Chi4c,8)\n",
      "(PEOEVSA11,8)\n",
      "(RDFU27,8)\n",
      "(PEOEVSA10,8)\n",
      "(slogPVSA7,7)\n",
      "(MRVSA3,7)\n",
      "(PEOEVSA12,6)\n",
      "(PEOEVSA2,6)\n",
      "(RDFV23,6)\n",
      "(RDFV27,6)\n",
      "(MRVSA2,6)\n",
      "(RDFU30,6)\n",
      "(RDFV29,6)\n",
      "(RDFM27,6)\n",
      "(RDFE28,6)\n",
      "(RDFP30,6)\n",
      "(RDFE29,6)\n",
      "(Chi5ch,5)\n",
      "(slogPVSA9,5)\n",
      "(slogPVSA11,5)\n",
      "(Chiv4c,5)\n",
      "(RDFV24,5)\n",
      "(Chiv5ch,5)\n",
      "(RDFU25,5)\n",
      "(RDFM25,4)\n",
      "(RDFE26,4)\n",
      "(RDFP29,4)\n",
      "(EstateVSA6,4)\n",
      "(RDFE27,4)\n",
      "(RDFP26,4)\n",
      "(PEOEVSA8,4)\n",
      "(PEOEVSA13,4)\n",
      "(RDFU29,4)\n",
      "(MRVSA5,3)\n",
      "(RDFP27,3)\n",
      "(GeDi,3)\n",
      "(RDFM22,3)\n",
      "(RDFP21,3)\n",
      "(RDFP25,3)\n",
      "(EstateVSA2,3)\n",
      "(RDFV25,3)\n",
      "(slogPVSA2,3)\n",
      "(RDFV26,3)\n",
      "(RDFM24,3)\n",
      "(RDFE25,3)\n",
      "(Chi6ch,3)\n",
      "(L1p,2)\n",
      "(RDFP24,2)\n",
      "(RDFU28,2)\n",
      "(GATSm8,2)\n",
      "(Chiv6ch,2)\n",
      "(RDFM26,2)\n",
      "(SPAN,2)\n",
      "(RDFU24,2)\n",
      "(RDFM19,2)\n",
      "(bcutv2,2)\n",
      "(EstateVSA1,2)\n",
      "(rygr,2)\n",
      "(L1u,2)\n",
      "(PEOEVSA1,2)\n",
      "(RDFV28,2)\n",
      "(RDFU26,2)\n",
      "(RDFM23,2)\n",
      "(Tv,2)\n",
      "(RDFP28,2)\n",
      "(RDFM20,2)\n",
      "(RDFE21,2)\n",
      "(EstateVSA9,2)\n",
      "(nta,1)\n",
      "(MoRSEC21,1)\n",
      "(Chi3ch,1)\n",
      "(EstateVSA8,1)\n",
      "(UI,1)\n",
      "(RDFE20,1)\n",
      "(bcutp16,1)\n",
      "(LabuteASA,1)\n",
      "(MoRSEM27,1)\n",
      "(Kp,1)\n",
      "(bcute1,1)\n",
      "(MoRSEU5,1)\n",
      "(Au,1)\n",
      "(EstateVSA5,1)\n",
      "(RDFM28,1)\n",
      "(RDFE22,1)\n",
      "(MoRSEP19,1)\n",
      "(Chiv7,1)\n",
      "(RDFU16,1)\n",
      "(PC3,1)\n",
      "(RDFC10,1)\n",
      "(RDFU23,1)\n",
      "(EstateVSA0,1)\n",
      "(Chi4ch,1)\n",
      "(EstateVSA10,1)\n",
      "(RDFV20,1)\n",
      "(bcutm7,1)\n",
      "(GATSe8,1)\n",
      "(Tp,1)\n",
      "(Sitov,1)\n",
      "(Ku,1)\n",
      "(bcutm10,1)\n",
      "(RDFC19,1)\n",
      "(Tu,1)\n",
      "(RDFE12,1)\n",
      "(RDFC26,1)\n",
      "(MSA,1)\n",
      "(RDFE24,1)\n",
      "(RDFU22,1)\n",
      "(Am,1)\n",
      "(P2u,1)\n",
      "(nhet,1)\n",
      "(Chiv3c,1)\n",
      "(Chi10,1)\n",
      "(RPCS,1)\n",
      "(Kv,1)\n",
      "(bcutp5,1)\n",
      "(mChi1,1)\n",
      "(RDFE13,1)\n",
      "(RDFP23,1)\n",
      "(AW,1)\n",
      "(RDFU21,1)\n",
      "(MoRSEP17,1)\n",
      "(EstateVSA4,1)\n",
      "(Vu,1)\n",
      "(MoRSEP7,1)\n",
      "(naccr,1)\n",
      "(L1m,1)\n",
      "(MoRSEE4,1)\n"
     ]
    },
    {
     "data": {
      "text/plain": [
       "\u001b[36mfeatPerTree\u001b[39m: \u001b[32mArray\u001b[39m[\u001b[32mString\u001b[39m] = \u001b[33mArray\u001b[39m(\n",
       "  \u001b[32m\"PEOEVSA12\"\u001b[39m,\n",
       "  \u001b[32m\"RDFM29\"\u001b[39m,\n",
       "  \u001b[32m\"RDFU28\"\u001b[39m,\n",
       "  \u001b[32m\"UI\"\u001b[39m,\n",
       "  \u001b[32m\"Chi4c\"\u001b[39m,\n",
       "  \u001b[32m\"RDFM30\"\u001b[39m,\n",
       "  \u001b[32m\"MRVSA2\"\u001b[39m,\n",
       "  \u001b[32m\"PEOEVSA4\"\u001b[39m,\n",
       "  \u001b[32m\"MoRSEP7\"\u001b[39m,\n",
       "  \u001b[32m\"naccr\"\u001b[39m,\n",
       "  \u001b[32m\"VSAEstate2\"\u001b[39m,\n",
       "\u001b[33m...\u001b[39m\n",
       "\u001b[36mfeatCounts\u001b[39m: \u001b[32mMap\u001b[39m[\u001b[32mString\u001b[39m, \u001b[32mInt\u001b[39m] = \u001b[33mMap\u001b[39m(\n",
       "  \u001b[32m\"MRVSA8\"\u001b[39m -> \u001b[32m8\u001b[39m,\n",
       "  \u001b[32m\"PEOEVSA12\"\u001b[39m -> \u001b[32m6\u001b[39m,\n",
       "  \u001b[32m\"nta\"\u001b[39m -> \u001b[32m1\u001b[39m,\n",
       "  \u001b[32m\"VSAEstate2\"\u001b[39m -> \u001b[32m17\u001b[39m,\n",
       "  \u001b[32m\"MRVSA5\"\u001b[39m -> \u001b[32m3\u001b[39m,\n",
       "  \u001b[32m\"Chi5ch\"\u001b[39m -> \u001b[32m5\u001b[39m,\n",
       "  \u001b[32m\"RDFM29\"\u001b[39m -> \u001b[32m11\u001b[39m,\n",
       "  \u001b[32m\"RDFP27\"\u001b[39m -> \u001b[32m3\u001b[39m,\n",
       "  \u001b[32m\"GeDi\"\u001b[39m -> \u001b[32m3\u001b[39m,\n",
       "  \u001b[32m\"L1p\"\u001b[39m -> \u001b[32m2\u001b[39m,\n",
       "  \u001b[32m\"MoRSEC21\"\u001b[39m -> \u001b[32m1\u001b[39m,\n",
       "\u001b[33m...\u001b[39m\n",
       "\u001b[36mfeatHist\u001b[39m: \u001b[32mVector\u001b[39m[(\u001b[32mString\u001b[39m, \u001b[32mInt\u001b[39m)] = \u001b[33mVector\u001b[39m(\n",
       "  (\u001b[32m\"MRVSA7\"\u001b[39m, \u001b[32m20\u001b[39m),\n",
       "  (\u001b[32m\"RNCS\"\u001b[39m, \u001b[32m19\u001b[39m),\n",
       "  (\u001b[32m\"VSAEstate0\"\u001b[39m, \u001b[32m18\u001b[39m),\n",
       "  (\u001b[32m\"VSAEstate2\"\u001b[39m, \u001b[32m17\u001b[39m),\n",
       "  (\u001b[32m\"slogPVSA8\"\u001b[39m, \u001b[32m17\u001b[39m),\n",
       "  (\u001b[32m\"VSAEstate3\"\u001b[39m, \u001b[32m16\u001b[39m),\n",
       "  (\u001b[32m\"slogPVSA6\"\u001b[39m, \u001b[32m13\u001b[39m),\n",
       "  (\u001b[32m\"slogPVSA3\"\u001b[39m, \u001b[32m12\u001b[39m),\n",
       "  (\u001b[32m\"RDFM30\"\u001b[39m, \u001b[32m12\u001b[39m),\n",
       "  (\u001b[32m\"PEOEVSA4\"\u001b[39m, \u001b[32m12\u001b[39m),\n",
       "  (\u001b[32m\"RDFM29\"\u001b[39m, \u001b[32m11\u001b[39m),\n",
       "\u001b[33m...\u001b[39m"
      ]
     },
     "execution_count": 102,
     "metadata": {},
     "output_type": "execute_result"
    }
   ],
   "source": [
    "val featPerTree = for {\n",
    "    rmap <- frRules\n",
    "    feats = {\n",
    "        val fraw = for {\n",
    "            vrules <- rmap.values\n",
    "            plist <- vrules\n",
    "            pred <- plist\n",
    "        } yield { pred.feature }\n",
    "        fraw.toSet.toSeq\n",
    "    }\n",
    "    f <- feats\n",
    "} yield { f }\n",
    "val featCounts = featPerTree.foldLeft(Map.empty[String, Int])((m, f) => m + (f -> (1 + m.getOrElse(f, 0))))\n",
    "val featHist = featCounts.toSeq.sortBy { case (_, n) => -n}.toVector\n",
    "println(featHist.mkString(\"\\n\"))"
   ]
  },
  {
   "cell_type": "code",
   "execution_count": 103,
   "metadata": {
    "scrolled": true
   },
   "outputs": [
    {
     "data": {
      "text/plain": [
       "\u001b[36mfeatSelect\u001b[39m: \u001b[32mVector\u001b[39m[\u001b[32mString\u001b[39m] = \u001b[33mVector\u001b[39m(\n",
       "  \u001b[32m\"MRVSA7\"\u001b[39m,\n",
       "  \u001b[32m\"RNCS\"\u001b[39m,\n",
       "  \u001b[32m\"VSAEstate0\"\u001b[39m,\n",
       "  \u001b[32m\"VSAEstate2\"\u001b[39m,\n",
       "  \u001b[32m\"slogPVSA8\"\u001b[39m,\n",
       "  \u001b[32m\"VSAEstate3\"\u001b[39m,\n",
       "  \u001b[32m\"slogPVSA6\"\u001b[39m,\n",
       "  \u001b[32m\"slogPVSA3\"\u001b[39m,\n",
       "  \u001b[32m\"RDFM30\"\u001b[39m,\n",
       "  \u001b[32m\"PEOEVSA4\"\u001b[39m,\n",
       "  \u001b[32m\"RDFM29\"\u001b[39m,\n",
       "\u001b[33m...\u001b[39m\n",
       "\u001b[36mres102_1\u001b[39m: \u001b[32mInt\u001b[39m = \u001b[32m84\u001b[39m\n",
       "\u001b[36mres102_2\u001b[39m: \u001b[32mInt\u001b[39m = \u001b[32m143\u001b[39m"
      ]
     },
     "execution_count": 103,
     "metadata": {},
     "output_type": "execute_result"
    }
   ],
   "source": [
    "val featSelect = featHist.filter { case (_, n) => n > 1 }.map { case (f, _) => f }\n",
    "featSelect.length\n",
    "featHist.length"
   ]
  },
  {
   "cell_type": "code",
   "execution_count": 104,
   "metadata": {
    "scrolled": false
   },
   "outputs": [
    {
     "data": {
      "text/plain": [
       "\u001b[36mtrainCSVFR\u001b[39m: \u001b[32mDataFrame\u001b[39m = [_c0: string, MRVSA7: string ... 83 more fields]\n",
       "\u001b[36mtestCSVFR\u001b[39m: \u001b[32mDataFrame\u001b[39m = [_c0: string, MRVSA7: string ... 83 more fields]"
      ]
     },
     "execution_count": 104,
     "metadata": {},
     "output_type": "execute_result"
    }
   ],
   "source": [
    "val trainCSVFR = trainCSV.select(\"_c0\", featSelect :_*)\n",
    "val testCSVFR = testCSV.select(\"_c0\", featSelect :_*)"
   ]
  },
  {
   "cell_type": "code",
   "execution_count": 105,
   "metadata": {
    "scrolled": true
   },
   "outputs": [
    {
     "name": "stdout",
     "output_type": "stream",
     "text": [
      "_c0, NR.AhR, NR.AR, NR.AR.LBD, NR.Aromatase, NR.ER, NR.ER.LBD, NR.PPAR.gamma, SR.ARE, SR.ATAD5, SR.HSE, SR.MMP, SR.p53\n"
     ]
    }
   ],
   "source": [
    "println(trainLabelsCSV.columns.mkString(\", \"))"
   ]
  },
  {
   "cell_type": "code",
   "execution_count": 106,
   "metadata": {
    "scrolled": false
   },
   "outputs": [
    {
     "data": {
      "text/plain": [
       "defined \u001b[32mfunction\u001b[39m \u001b[36mcsvToPairs\u001b[39m\n",
       "defined \u001b[32mfunction\u001b[39m \u001b[36mlpFR\u001b[39m\n",
       "defined \u001b[32mfunction\u001b[39m \u001b[36mtrainAndTest\u001b[39m"
      ]
     },
     "execution_count": 106,
     "metadata": {},
     "output_type": "execute_result"
    }
   ],
   "source": [
    "def csvToPairs(csv: DataFrame) =\n",
    "    csv.rdd.map(_.toSeq)\n",
    "    .map(v => (v.head.asInstanceOf[String], v.tail.toVector.map(_.asInstanceOf[String].toDouble)))\n",
    "def lpFR(tlab: String, labCSV: DataFrame, fvCSV: DataFrame) = {\n",
    "    val labCol = labCSV.select(\"_c0\", tlab)\n",
    "    val labPairs = labCol.filter(labCol(tlab) =!= \"NA\")\n",
    "        .rdd.map(_.toSeq).map { s => (s(0).asInstanceOf[String], s(1).asInstanceOf[String].toDouble) }\n",
    "    val fvPairs = csvToPairs(fvCSV)\n",
    "    val lp = labPairs.join(fvPairs).map { case (_, (lab, feats)) => LabeledPoint(lab, feats.toSpark) }\n",
    "    lp\n",
    "}\n",
    "def trainAndTest(tlab: String) =\n",
    "  (lpFR(tlab, trainLabelsCSV, trainCSVFR), lpFR(tlab, testLabelsCSV, testCSVFR))"
   ]
  },
  {
   "cell_type": "code",
   "execution_count": 107,
   "metadata": {
    "scrolled": false
   },
   "outputs": [
    {
     "data": {
      "text/plain": [
       "defined \u001b[32mfunction\u001b[39m \u001b[36mtrainLRModel\u001b[39m"
      ]
     },
     "execution_count": 107,
     "metadata": {},
     "output_type": "execute_result"
    }
   ],
   "source": [
    "def trainLRModel(train: RDD[LabeledPoint], test: RDD[LabeledPoint]) = {\n",
    "    val lrModel = new LogisticRegressionWithLBFGS().run(train)\n",
    "    val predictionAndLabels = test.map { case LabeledPoint(label, features) =>\n",
    "        val prediction = lrModel.predict(features)\n",
    "        (prediction, label)\n",
    "    }\n",
    "    val metrics = new MulticlassMetrics(predictionAndLabels)\n",
    "    (lrModel, predictionAndLabels, metrics)\n",
    "}"
   ]
  },
  {
   "cell_type": "code",
   "execution_count": 114,
   "metadata": {
    "scrolled": false
   },
   "outputs": [
    {
     "name": "stderr",
     "output_type": "stream",
     "text": [
      "                                                                                \r"
     ]
    },
    {
     "data": {
      "text/plain": [
       "\u001b[36mallvsFR\u001b[39m: \u001b[32mArray\u001b[39m[\u001b[32mMap\u001b[39m[\u001b[32mString\u001b[39m, \u001b[32mAny\u001b[39m]] = \u001b[33mArray\u001b[39m(\n",
       "  \u001b[33mMap\u001b[39m(\n",
       "    \u001b[32m\"assay\"\u001b[39m -> NR.AhR,\n",
       "    \u001b[32m\"feats\"\u001b[39m -> 801,\n",
       "    \u001b[32m\"accuracy\"\u001b[39m -> 0.8754098360655738,\n",
       "    \u001b[32m\"alt\"\u001b[39m -> 0.8721311475409836\n",
       "  ),\n",
       "  \u001b[33mMap\u001b[39m(\n",
       "    \u001b[32m\"assay\"\u001b[39m -> NR.AhR,\n",
       "    \u001b[32m\"feats\"\u001b[39m -> 84,\n",
       "    \u001b[32m\"accuracy\"\u001b[39m -> 0.8721311475409836,\n",
       "    \u001b[32m\"alt\"\u001b[39m -> 0.8754098360655738\n",
       "\u001b[33m...\u001b[39m"
      ]
     },
     "execution_count": 114,
     "metadata": {},
     "output_type": "execute_result"
    }
   ],
   "source": [
    "val allvsFR = trainLabelsCSV.columns.tail.map { acol => (acol, s\"`$acol`\")}\n",
    "    .flatMap { case (acolRaw, acol) =>\n",
    "        val (trainFR, testFR) = (lpFR(acol, trainLabelsCSV, trainCSVFR), lpFR(acol, testLabelsCSV, testCSVFR))\n",
    "        val (trainAll, testAll) = (lpFR(acol, trainLabelsCSV, trainCSV), lpFR(acol, testLabelsCSV, testCSV))\n",
    "        val (modelFR, predLabFR, metricsFR) = trainLRModel(trainFR, testFR)\n",
    "        val (modelAll, predLabAll, metricsAll) = trainLRModel(trainAll, testAll)\n",
    "        Seq(\n",
    "            Map(\n",
    "                \"assay\" -> acolRaw,\n",
    "                \"feats\" -> modelAll.numFeatures,\n",
    "                \"accuracy\" -> metricsAll.accuracy,\n",
    "                \"alt\" -> metricsFR.accuracy\n",
    "            ),\n",
    "            Map(\n",
    "                \"assay\" -> acolRaw,\n",
    "                \"feats\" -> modelFR.numFeatures,\n",
    "                \"accuracy\" -> metricsFR.accuracy,\n",
    "                \"alt\" -> metricsAll.accuracy\n",
    "            )\n",
    "        )\n",
    "    }"
   ]
  },
  {
   "cell_type": "code",
   "execution_count": 125,
   "metadata": {
    "scrolled": false
   },
   "outputs": [
    {
     "data": {
      "text/html": [
       "\n",
       "  <iframe id=\"frame-vegas-18b065a1-9874-4100-900e-b449b0950f33\" sandbox=\"allow-scripts allow-same-origin\" style=\"border: none; width: 100%\" srcdoc=\"&lt;html&gt;\n",
       "  &lt;head&gt;\n",
       "    &lt;script src=&quot;https://cdn.jsdelivr.net/webjars/org.webjars.bower/d3/3.5.17/d3.min.js&quot; charset=&quot;utf-8&quot;&gt;&lt;/script&gt;\n",
       "&lt;script src=&quot;https://cdn.jsdelivr.net/webjars/org.webjars.bower/vega/2.6.3/vega.min.js&quot; charset=&quot;utf-8&quot;&gt;&lt;/script&gt;\n",
       "&lt;script src=&quot;https://cdn.jsdelivr.net/webjars/org.webjars.bower/vega-lite/1.2.0/vega-lite.min.js&quot; charset=&quot;utf-8&quot;&gt;&lt;/script&gt;\n",
       "&lt;script src=&quot;https://vega.github.io/vega-editor/vendor/vega-embed.js&quot; charset=&quot;utf-8&quot;&gt;&lt;/script&gt;\n",
       "  &lt;/head&gt;\n",
       "  &lt;body&gt;\n",
       " &lt;script&gt;\n",
       "   var embedSpec = {\n",
       "     mode: &quot;vega-lite&quot;,\n",
       "     spec: {\n",
       "  &quot;mark&quot; : &quot;bar&quot;,\n",
       "  &quot;encoding&quot; : {\n",
       "    &quot;column&quot; : {\n",
       "      &quot;axis&quot; : {\n",
       "        &quot;labelAngle&quot; : 45.0,\n",
       "        &quot;orient&quot; : &quot;bottom&quot;,\n",
       "        &quot;title&quot; : &quot;tox assay&quot;,\n",
       "        &quot;axisWidth&quot; : 1.0,\n",
       "        &quot;offset&quot; : -5.0,\n",
       "        &quot;labelAlign&quot; : &quot;bottom&quot;\n",
       "      },\n",
       "      &quot;scale&quot; : {\n",
       "        &quot;padding&quot; : 20.0\n",
       "      },\n",
       "      &quot;field&quot; : &quot;assay&quot;,\n",
       "      &quot;type&quot; : &quot;nominal&quot;\n",
       "    },\n",
       "    &quot;x&quot; : {\n",
       "      &quot;axis&quot; : false,\n",
       "      &quot;scale&quot; : {\n",
       "        &quot;bandSize&quot; : 15.0\n",
       "      },\n",
       "      &quot;field&quot; : &quot;feats&quot;,\n",
       "      &quot;type&quot; : &quot;nominal&quot;\n",
       "    },\n",
       "    &quot;y&quot; : {\n",
       "      &quot;axis&quot; : {\n",
       "        &quot;title&quot; : &quot;model accuracy&quot;,\n",
       "        &quot;grid&quot; : false\n",
       "      },\n",
       "      &quot;field&quot; : &quot;accuracy&quot;,\n",
       "      &quot;type&quot; : &quot;quantitative&quot;\n",
       "    },\n",
       "    &quot;color&quot; : {\n",
       "      &quot;scale&quot; : {\n",
       "        &quot;range&quot; : [\n",
       "          &quot;#c25b3b&quot;,\n",
       "          &quot;#6c86c2&quot;,\n",
       "          &quot;#1d28c2&quot;\n",
       "        ]\n",
       "      },\n",
       "      &quot;field&quot; : &quot;features&quot;,\n",
       "      &quot;type&quot; : &quot;nominal&quot;\n",
       "    }\n",
       "  },\n",
       "  &quot;data&quot; : {\n",
       "    &quot;values&quot; : [\n",
       "      {\n",
       "        &quot;assay&quot; : &quot;NR.AhR&quot;,\n",
       "        &quot;feats&quot; : 801,\n",
       "        &quot;accuracy&quot; : 0.8754098360655738,\n",
       "        &quot;alt&quot; : 0.8721311475409836\n",
       "      },\n",
       "      {\n",
       "        &quot;assay&quot; : &quot;NR.AhR&quot;,\n",
       "        &quot;feats&quot; : 84,\n",
       "        &quot;accuracy&quot; : 0.8721311475409836,\n",
       "        &quot;alt&quot; : 0.8754098360655738\n",
       "      },\n",
       "      {\n",
       "        &quot;assay&quot; : &quot;NR.AR&quot;,\n",
       "        &quot;feats&quot; : 801,\n",
       "        &quot;accuracy&quot; : 0.9744027303754266,\n",
       "        &quot;alt&quot; : 0.9761092150170648\n",
       "      },\n",
       "      {\n",
       "        &quot;assay&quot; : &quot;NR.AR&quot;,\n",
       "        &quot;feats&quot; : 84,\n",
       "        &quot;accuracy&quot; : 0.9761092150170648,\n",
       "        &quot;alt&quot; : 0.9744027303754266\n",
       "      },\n",
       "      {\n",
       "        &quot;assay&quot; : &quot;NR.AR.LBD&quot;,\n",
       "        &quot;feats&quot; : 801,\n",
       "        &quot;accuracy&quot; : 0.9725085910652921,\n",
       "        &quot;alt&quot; : 0.9828178694158075\n",
       "      },\n",
       "      {\n",
       "        &quot;assay&quot; : &quot;NR.AR.LBD&quot;,\n",
       "        &quot;feats&quot; : 84,\n",
       "        &quot;accuracy&quot; : 0.9828178694158075,\n",
       "        &quot;alt&quot; : 0.9725085910652921\n",
       "      },\n",
       "      {\n",
       "        &quot;assay&quot; : &quot;NR.Aromatase&quot;,\n",
       "        &quot;feats&quot; : 801,\n",
       "        &quot;accuracy&quot; : 0.9185606060606061,\n",
       "        &quot;alt&quot; : 0.9223484848484849\n",
       "      },\n",
       "      {\n",
       "        &quot;assay&quot; : &quot;NR.Aromatase&quot;,\n",
       "        &quot;feats&quot; : 84,\n",
       "        &quot;accuracy&quot; : 0.9223484848484849,\n",
       "        &quot;alt&quot; : 0.9185606060606061\n",
       "      },\n",
       "      {\n",
       "        &quot;assay&quot; : &quot;NR.ER&quot;,\n",
       "        &quot;feats&quot; : 801,\n",
       "        &quot;accuracy&quot; : 0.9050387596899225,\n",
       "        &quot;alt&quot; : 0.9069767441860465\n",
       "      },\n",
       "      {\n",
       "        &quot;assay&quot; : &quot;NR.ER&quot;,\n",
       "        &quot;feats&quot; : 84,\n",
       "        &quot;accuracy&quot; : 0.9069767441860465,\n",
       "        &quot;alt&quot; : 0.9050387596899225\n",
       "      },\n",
       "      {\n",
       "        &quot;assay&quot; : &quot;NR.ER.LBD&quot;,\n",
       "        &quot;feats&quot; : 801,\n",
       "        &quot;accuracy&quot; : 0.9616666666666667,\n",
       "        &quot;alt&quot; : 0.9616666666666667\n",
       "      },\n",
       "      {\n",
       "        &quot;assay&quot; : &quot;NR.ER.LBD&quot;,\n",
       "        &quot;feats&quot; : 84,\n",
       "        &quot;accuracy&quot; : 0.9616666666666667,\n",
       "        &quot;alt&quot; : 0.9616666666666667\n",
       "      },\n",
       "      {\n",
       "        &quot;assay&quot; : &quot;NR.PPAR.gamma&quot;,\n",
       "        &quot;feats&quot; : 801,\n",
       "        &quot;accuracy&quot; : 0.9256198347107438,\n",
       "        &quot;alt&quot; : 0.943801652892562\n",
       "      },\n",
       "      {\n",
       "        &quot;assay&quot; : &quot;NR.PPAR.gamma&quot;,\n",
       "        &quot;feats&quot; : 84,\n",
       "        &quot;accuracy&quot; : 0.943801652892562,\n",
       "        &quot;alt&quot; : 0.9256198347107438\n",
       "      },\n",
       "      {\n",
       "        &quot;assay&quot; : &quot;SR.ARE&quot;,\n",
       "        &quot;feats&quot; : 801,\n",
       "        &quot;accuracy&quot; : 0.8162162162162162,\n",
       "        &quot;alt&quot; : 0.8198198198198198\n",
       "      },\n",
       "      {\n",
       "        &quot;assay&quot; : &quot;SR.ARE&quot;,\n",
       "        &quot;feats&quot; : 84,\n",
       "        &quot;accuracy&quot; : 0.8198198198198198,\n",
       "        &quot;alt&quot; : 0.8162162162162162\n",
       "      },\n",
       "      {\n",
       "        &quot;assay&quot; : &quot;SR.ATAD5&quot;,\n",
       "        &quot;feats&quot; : 801,\n",
       "        &quot;accuracy&quot; : 0.9421221864951769,\n",
       "        &quot;alt&quot; : 0.9356913183279743\n",
       "      },\n",
       "      {\n",
       "        &quot;assay&quot; : &quot;SR.ATAD5&quot;,\n",
       "        &quot;feats&quot; : 84,\n",
       "        &quot;accuracy&quot; : 0.9356913183279743,\n",
       "        &quot;alt&quot; : 0.9421221864951769\n",
       "      },\n",
       "      {\n",
       "        &quot;assay&quot; : &quot;SR.HSE&quot;,\n",
       "        &quot;feats&quot; : 801,\n",
       "        &quot;accuracy&quot; : 0.9606557377049181,\n",
       "        &quot;alt&quot; : 0.9557377049180328\n",
       "      },\n",
       "      {\n",
       "        &quot;assay&quot; : &quot;SR.HSE&quot;,\n",
       "        &quot;feats&quot; : 84,\n",
       "        &quot;accuracy&quot; : 0.9557377049180328,\n",
       "        &quot;alt&quot; : 0.9606557377049181\n",
       "      },\n",
       "      {\n",
       "        &quot;assay&quot; : &quot;SR.MMP&quot;,\n",
       "        &quot;feats&quot; : 801,\n",
       "        &quot;accuracy&quot; : 0.8931860036832413,\n",
       "        &quot;alt&quot; : 0.8747697974217311\n",
       "      },\n",
       "      {\n",
       "        &quot;assay&quot; : &quot;SR.MMP&quot;,\n",
       "        &quot;feats&quot; : 84,\n",
       "        &quot;accuracy&quot; : 0.8747697974217311,\n",
       "        &quot;alt&quot; : 0.8931860036832413\n",
       "      },\n",
       "      {\n",
       "        &quot;assay&quot; : &quot;SR.p53&quot;,\n",
       "        &quot;feats&quot; : 801,\n",
       "        &quot;accuracy&quot; : 0.922077922077922,\n",
       "        &quot;alt&quot; : 0.9237012987012987\n",
       "      },\n",
       "      {\n",
       "        &quot;assay&quot; : &quot;SR.p53&quot;,\n",
       "        &quot;feats&quot; : 84,\n",
       "        &quot;accuracy&quot; : 0.9237012987012987,\n",
       "        &quot;alt&quot; : 0.922077922077922\n",
       "      }\n",
       "    ]\n",
       "  },\n",
       "  &quot;transform&quot; : {\n",
       "    &quot;calculate&quot; : [\n",
       "      {\n",
       "        &quot;field&quot; : &quot;features&quot;,\n",
       "        &quot;expr&quot; : &quot; datum.feats &lt; 800 ? (datum.accuracy &gt;= datum.alt ? \\&quot;Reduced (84) &gt;=\\&quot; : \\&quot;Reduced (84) &lt;\\&quot;) : \\&quot;Full (801)\\&quot; &quot;\n",
       "      }\n",
       "    ]\n",
       "  },\n",
       "  &quot;config&quot; : {\n",
       "    &quot;facet&quot; : {\n",
       "      &quot;cell&quot; : {\n",
       "        &quot;strokeWidth&quot; : 0.0\n",
       "      }\n",
       "    }\n",
       "  }\n",
       "}\n",
       "   }\n",
       "   vg.embed(&quot;#vegas-18b065a1-9874-4100-900e-b449b0950f33&quot;, embedSpec, function(error, result) {});\n",
       " &lt;/script&gt;\n",
       " &lt;div id='vegas-18b065a1-9874-4100-900e-b449b0950f33'&gt;&lt;/div&gt;\n",
       "    &lt;/body&gt;\n",
       "&lt;/html&gt;\"></iframe>\n",
       "  <script>\n",
       "    if (typeof resizeIFrame != 'function') {\n",
       "      function resizeIFrame(el, k) {\n",
       "        $(el.contentWindow.document).ready(function() {\n",
       "          el.style.height = el.contentWindow.document.body.scrollHeight + 'px';\n",
       "        });\n",
       "        if (k <= 10) { setTimeout(function() { resizeIFrame(el, k+1) }, 1000 + (k * 250)) };\n",
       "      }\n",
       "    }\n",
       "    $().ready( function() { resizeIFrame($('#frame-vegas-18b065a1-9874-4100-900e-b449b0950f33').get(0), 1); });\n",
       "  </script>\n",
       "    "
      ]
     },
     "metadata": {},
     "output_type": "display_data"
    }
   ],
   "source": [
    "Vegas().\n",
    "  withData(allvsFR).\n",
    "  mark(Bar).\n",
    "  addTransformCalculation(\"features\", \"\"\" datum.feats < 800 ? (datum.accuracy >= datum.alt ? \"Reduced (84) >=\" : \"Reduced (84) <\") : \"Full (801)\" \"\"\").\n",
    "  encodeColumn(\"assay\", Nominal, scale=Scale(padding=20.0),\n",
    "               axis=Axis(title=\"tox assay\", orient=Orient.Bottom, axisWidth=1.0, labelAngle=45,labelAlign=\"bottom\",offset= -5)).\n",
    "  encodeY(\"accuracy\", Quantitative, axis=Axis(title=\"model accuracy\", grid=false)).\n",
    "  encodeX(\"feats\", Nominal, scale=Scale(bandSize = 15), hideAxis=true).\n",
    "  encodeColor(\"features\", Nominal, scale=Scale(rangeNominals=List(\"#c25b3b\",\"#6c86c2\", \"#1d28c2\"))).\n",
    "  configFacet(cell=CellConfig(strokeWidth = 0)).\n",
    "  show"
   ]
  },
  {
   "cell_type": "code",
   "execution_count": 126,
   "metadata": {},
   "outputs": [
    {
     "data": {
      "text/plain": [
       "\u001b[36mres125\u001b[39m: \u001b[32mLong\u001b[39m = \u001b[32m647L\u001b[39m"
      ]
     },
     "execution_count": 126,
     "metadata": {},
     "output_type": "execute_result"
    }
   ],
   "source": [
    "testCSV.count"
   ]
  },
  {
   "cell_type": "code",
   "execution_count": 128,
   "metadata": {},
   "outputs": [
    {
     "name": "stdout",
     "output_type": "stream",
     "text": [
      "+---------------+------+-----+---------+------------+\n",
      "|            _c0|NR.AhR|NR.AR|NR.AR.LBD|NR.Aromatase|\n",
      "+---------------+------+-----+---------+------------+\n",
      "|NCGC00261900-01|     0|    1|       NA|           0|\n",
      "|NCGC00260869-01|     0|    1|       NA|          NA|\n",
      "|NCGC00261776-01|     1|    1|        0|          NA|\n",
      "|NCGC00261380-01|    NA|    0|       NA|           1|\n",
      "|NCGC00261842-01|     0|    0|        0|          NA|\n",
      "|NCGC00261662-01|     1|    0|        0|          NA|\n",
      "|NCGC00261190-01|    NA|    0|        0|          NA|\n",
      "|NCGC00260731-01|    NA|    0|        0|          NA|\n",
      "|NCGC00261926-01|     0|    0|       NA|          NA|\n",
      "|NCGC00261579-01|    NA|    0|       NA|           0|\n",
      "|NCGC00260921-01|     0|    0|        0|           1|\n",
      "|NCGC00261119-01|     1|    0|        0|           1|\n",
      "|NCGC00260957-01|    NA|    0|       NA|          NA|\n",
      "|NCGC00261812-01|    NA|    0|        0|           0|\n",
      "|NCGC00260831-01|     1|    0|       NA|          NA|\n",
      "|NCGC00261544-01|     0|    0|        0|           0|\n",
      "|NCGC00261619-01|    NA|    0|        0|           1|\n",
      "|NCGC00261633-01|     0|    0|        0|           0|\n",
      "|NCGC00261395-01|     1|    0|       NA|           0|\n",
      "|NCGC00261717-01|     1|    0|        1|          NA|\n",
      "+---------------+------+-----+---------+------------+\n",
      "only showing top 20 rows\n",
      "\n"
     ]
    }
   ],
   "source": [
    "testLabelsCSV.select(\"_c0\", \"`NR.AhR`\", \"`NR.AR`\", \"`NR.AR.LBD`\", \"`NR.Aromatase`\").show"
   ]
  },
  {
   "cell_type": "code",
   "execution_count": null,
   "metadata": {
    "collapsed": true
   },
   "outputs": [],
   "source": []
  }
 ],
 "metadata": {
  "kernelspec": {
   "display_name": "Scala",
   "language": "scala",
   "name": "scala"
  },
  "language_info": {
   "codemirror_mode": "text/x-scala",
   "file_extension": ".scala",
   "mimetype": "text/x-scala",
   "name": "scala211",
   "nbconvert_exporter": "script",
   "pygments_lexer": "scala",
   "version": "2.11.11"
  }
 },
 "nbformat": 4,
 "nbformat_minor": 2
}
