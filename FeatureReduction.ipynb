{
 "cells": [
  {
   "cell_type": "code",
   "execution_count": 1,
   "metadata": {},
   "outputs": [
    {
     "data": {
      "text/plain": [
       "\u001b[32mimport \u001b[39m\u001b[36m$exclude.$                        , $ivy.$                            // for cleaner logs\n",
       "//import $profile.`hadoop-2.6`\n",
       "\u001b[39m\n",
       "\u001b[32mimport \u001b[39m\u001b[36m$ivy.$                                   // adjust spark version - spark >= 2.0\n",
       "//import $ivy.`org.apache.hadoop:hadoop-aws:2.6.4`\n",
       "\u001b[39m\n",
       "\u001b[32mimport \u001b[39m\u001b[36m$ivy.$                                // for JupyterSparkSession (SparkSession aware of the jupyter-scala kernel)\n",
       "\n",
       "\u001b[39m\n",
       "\u001b[32mimport \u001b[39m\u001b[36morg.apache.spark._\n",
       "\u001b[39m\n",
       "\u001b[32mimport \u001b[39m\u001b[36morg.apache.spark.sql._\n",
       "\u001b[39m\n",
       "\u001b[32mimport \u001b[39m\u001b[36mjupyter.spark.session._\n",
       "\u001b[39m\n",
       "\u001b[32mimport \u001b[39m\u001b[36mResolvers._\u001b[39m"
      ]
     },
     "execution_count": 1,
     "metadata": {},
     "output_type": "execute_result"
    }
   ],
   "source": [
    "import $exclude.`org.slf4j:slf4j-log4j12`, $ivy.`org.slf4j:slf4j-nop:1.7.21` // for cleaner logs\n",
    "//import $profile.`hadoop-2.6`\n",
    "import $ivy.`org.apache.spark::spark-sql:2.1.0` // adjust spark version - spark >= 2.0\n",
    "//import $ivy.`org.apache.hadoop:hadoop-aws:2.6.4`\n",
    "import $ivy.`org.jupyter-scala::spark:0.4.2` // for JupyterSparkSession (SparkSession aware of the jupyter-scala kernel)\n",
    "\n",
    "import org.apache.spark._\n",
    "import org.apache.spark.sql._\n",
    "import jupyter.spark.session._\n",
    "import Resolvers._"
   ]
  },
  {
   "cell_type": "code",
   "execution_count": 2,
   "metadata": {},
   "outputs": [
    {
     "data": {
      "text/plain": [
       "\u001b[32mimport \u001b[39m\u001b[36m$ivy.$                           \n",
       "\u001b[39m\n",
       "\u001b[32mimport \u001b[39m\u001b[36mvegas._\n",
       "\u001b[39m\n",
       "\u001b[32mimport \u001b[39m\u001b[36mvegas.data.External._\u001b[39m"
      ]
     },
     "execution_count": 2,
     "metadata": {},
     "output_type": "execute_result"
    }
   ],
   "source": [
    "import $ivy.`org.vegas-viz::vegas:0.3.9`\n",
    "import vegas._\n",
    "import vegas.data.External._"
   ]
  },
  {
   "cell_type": "code",
   "execution_count": 3,
   "metadata": {},
   "outputs": [],
   "source": [
    "interp.resolvers() = interp.resolvers() :+ Resolver.Http(\n",
    "  \"isarn project\",\n",
    "  \"https://dl.bintray.com/isarn/maven/\",\n",
    "  MavenPattern,\n",
    "  true\n",
    ")\n",
    "// resolvers += \"Will's bintray\" at \"https://dl.bintray.com/willb/maven/\"\n",
    "interp.resolvers() = interp.resolvers() :+ Resolver.Http(\n",
    "  \"Will Benton\",\n",
    "  \"https://dl.bintray.com/willb/maven/\",\n",
    "  MavenPattern,\n",
    "  true\n",
    ")"
   ]
  },
  {
   "cell_type": "code",
   "execution_count": 4,
   "metadata": {},
   "outputs": [
    {
     "data": {
      "text/plain": [
       "\u001b[32mimport \u001b[39m\u001b[36m$ivy.$                                            // \"org.isarnproject\" %% \"isarn-sketches\" % \"0.0.2\"\n",
       "\u001b[39m\n",
       "\u001b[32mimport \u001b[39m\u001b[36morg.isarnproject.sketches._\u001b[39m"
      ]
     },
     "execution_count": 4,
     "metadata": {},
     "output_type": "execute_result"
    }
   ],
   "source": [
    "import $ivy.`org.isarnproject::isarn-sketches:0.0.3.rc1` // \"org.isarnproject\" %% \"isarn-sketches\" % \"0.0.2\"\n",
    "import org.isarnproject.sketches._"
   ]
  },
  {
   "cell_type": "code",
   "execution_count": 5,
   "metadata": {},
   "outputs": [
    {
     "data": {
      "text/plain": [
       "\u001b[32mimport \u001b[39m\u001b[36m$ivy.$                            // \"com.redhat.et\" %% \"silex\" % \"0.1.2\"\u001b[39m"
      ]
     },
     "execution_count": 5,
     "metadata": {},
     "output_type": "execute_result"
    }
   ],
   "source": [
    "import $ivy.`com.redhat.et::silex:0.1.2` // \"com.redhat.et\" %% \"silex\" % \"0.1.2\""
   ]
  },
  {
   "cell_type": "code",
   "execution_count": 6,
   "metadata": {},
   "outputs": [
    {
     "data": {
      "text/plain": [
       "\u001b[32mimport \u001b[39m\u001b[36morg.apache.spark.rdd.RDD\n",
       "\u001b[39m\n",
       "\u001b[32mimport \u001b[39m\u001b[36morg.apache.spark.mllib.tree.RandomForest\n",
       "\u001b[39m\n",
       "\u001b[32mimport \u001b[39m\u001b[36morg.apache.spark.mllib.evaluation.BinaryClassificationMetrics\n",
       "\u001b[39m\n",
       "\u001b[32mimport \u001b[39m\u001b[36morg.apache.spark.mllib.classification.{LogisticRegressionModel, LogisticRegressionWithLBFGS}\n",
       "\u001b[39m\n",
       "\u001b[32mimport \u001b[39m\u001b[36morg.apache.spark.mllib.evaluation.MulticlassMetrics\n",
       "\u001b[39m\n",
       "\u001b[32mimport \u001b[39m\u001b[36morg.apache.spark.mllib.regression.LabeledPoint\n",
       "\n",
       "\u001b[39m\n",
       "\u001b[32mimport \u001b[39m\u001b[36mcom.redhat.et.silex.util.vectors.implicits._\n",
       "\u001b[39m\n",
       "\u001b[32mimport \u001b[39m\u001b[36mcom.redhat.et.silex.cluster.ClusteringTreeModel\n",
       "\u001b[39m\n",
       "\u001b[32mimport \u001b[39m\u001b[36mClusteringTreeModel._\u001b[39m"
      ]
     },
     "execution_count": 6,
     "metadata": {},
     "output_type": "execute_result"
    }
   ],
   "source": [
    "import org.apache.spark.rdd.RDD\n",
    "import org.apache.spark.mllib.tree.RandomForest\n",
    "import org.apache.spark.mllib.evaluation.BinaryClassificationMetrics\n",
    "import org.apache.spark.mllib.classification.{LogisticRegressionModel, LogisticRegressionWithLBFGS}\n",
    "import org.apache.spark.mllib.evaluation.MulticlassMetrics\n",
    "import org.apache.spark.mllib.regression.LabeledPoint\n",
    "\n",
    "import com.redhat.et.silex.util.vectors.implicits._\n",
    "import com.redhat.et.silex.cluster.ClusteringTreeModel\n",
    "import ClusteringTreeModel._"
   ]
  },
  {
   "cell_type": "code",
   "execution_count": 7,
   "metadata": {},
   "outputs": [
    {
     "data": {
      "text/plain": [
       "defined \u001b[32mclass\u001b[39m \u001b[36mTDEnhance\u001b[39m"
      ]
     },
     "execution_count": 7,
     "metadata": {},
     "output_type": "execute_result"
    }
   ],
   "source": [
    "implicit class TDEnhance(td: TDigest) extends Serializable {\n",
    "  def toXY: Vector[(Double, Double)] = {\n",
    "    val q = (0.001 +: (0.05 to 0.95 by 0.05) :+ 0.999).toVector\n",
    "    q.map(q => (td.cdfInverse(q), q))\n",
    "  }\n",
    "}"
   ]
  },
  {
   "cell_type": "code",
   "execution_count": 8,
   "metadata": {},
   "outputs": [
    {
     "name": "stderr",
     "output_type": "stream",
     "text": [
      "log4j:WARN No appenders could be found for logger (io.netty.util.internal.logging.InternalLoggerFactory).\n",
      "log4j:WARN Please initialize the log4j system properly.\n",
      "log4j:WARN See http://logging.apache.org/log4j/1.2/faq.html#noconfig for more info.\n"
     ]
    },
    {
     "data": {
      "text/plain": [
       "\u001b[36mspark\u001b[39m: \u001b[32mSparkSession\u001b[39m = org.apache.spark.sql.SparkSession@6355799d"
      ]
     },
     "execution_count": 8,
     "metadata": {},
     "output_type": "execute_result"
    }
   ],
   "source": [
    "val spark = JupyterSparkSession.builder() // important - call this rather than SparkSession.builder()\n",
    "  .jupyter() // this method must be called straightaway after builder()\n",
    "  .master(\"spark://frclust:7077\")\n",
    "  .appName(\"notebook\")\n",
    "  .getOrCreate()"
   ]
  },
  {
   "cell_type": "code",
   "execution_count": 9,
   "metadata": {},
   "outputs": [
    {
     "data": {
      "text/plain": [
       "\u001b[36mgaussianData\u001b[39m: \u001b[32mVector\u001b[39m[\u001b[32mDouble\u001b[39m] = \u001b[33mVector\u001b[39m(\n",
       "  \u001b[32m-1.1435334582256125\u001b[39m,\n",
       "  \u001b[32m-1.2667150729471834\u001b[39m,\n",
       "  \u001b[32m-0.27703493488365855\u001b[39m,\n",
       "  \u001b[32m0.20932681386120155\u001b[39m,\n",
       "  \u001b[32m-0.2084712781527708\u001b[39m,\n",
       "  \u001b[32m-0.5427374542900285\u001b[39m,\n",
       "  \u001b[32m1.5875049577440887\u001b[39m,\n",
       "  \u001b[32m0.7222200654224683\u001b[39m,\n",
       "  \u001b[32m1.3792855378501498\u001b[39m,\n",
       "  \u001b[32m0.029199759920821855\u001b[39m,\n",
       "  \u001b[32m-0.6291287059339786\u001b[39m,\n",
       "\u001b[33m...\u001b[39m\n",
       "\u001b[36mgaussianRDD\u001b[39m: \u001b[32mRDD\u001b[39m[\u001b[32mDouble\u001b[39m] = ParallelCollectionRDD[0] at parallelize at cmd8.sc:2"
      ]
     },
     "execution_count": 9,
     "metadata": {},
     "output_type": "execute_result"
    }
   ],
   "source": [
    "val gaussianData = Vector.fill(1000000) { scala.util.Random.nextGaussian() }\n",
    "val gaussianRDD = spark.sparkContext.parallelize(gaussianData, 10)"
   ]
  },
  {
   "cell_type": "code",
   "execution_count": 10,
   "metadata": {},
   "outputs": [
    {
     "name": "stderr",
     "output_type": "stream",
     "text": [
      "                                                                                \r"
     ]
    },
    {
     "data": {
      "text/plain": [
       "\u001b[36mgaussianSketch\u001b[39m: \u001b[32mTDigest\u001b[39m = \u001b[33mTDigest\u001b[39m(\n",
       "  \u001b[32m0.5\u001b[39m,\n",
       "  \u001b[32m0\u001b[39m,\n",
       "  \u001b[32m116\u001b[39m,\n",
       "  \u001b[33mMap\u001b[39m(\n",
       "    \u001b[32m-4.81221346601262\u001b[39m -> \u001b[32m1.0\u001b[39m,\n",
       "    \u001b[32m-4.521593281780686\u001b[39m -> \u001b[32m1.0\u001b[39m,\n",
       "    \u001b[32m-4.379747991852362\u001b[39m -> \u001b[32m1.0\u001b[39m,\n",
       "    \u001b[32m-4.3527813033214136\u001b[39m -> \u001b[32m1.8124925615641077\u001b[39m,\n",
       "    \u001b[32m-4.326407228785711\u001b[39m -> \u001b[32m1.1875074384358923\u001b[39m,\n",
       "    \u001b[32m-4.260053582930155\u001b[39m -> \u001b[32m3.2499591268180392\u001b[39m,\n",
       "    \u001b[32m-4.251002283834409\u001b[39m -> \u001b[32m1.9531049834010576\u001b[39m,\n",
       "\u001b[33m...\u001b[39m"
      ]
     },
     "execution_count": 10,
     "metadata": {},
     "output_type": "execute_result"
    }
   ],
   "source": [
    "val gaussianSketch = gaussianRDD.aggregate(TDigest.empty())(\n",
    "    (td, x) => td + x,\n",
    "    (td1, td2) => td1 ++ td2\n",
    ")"
   ]
  },
  {
   "cell_type": "code",
   "execution_count": 11,
   "metadata": {},
   "outputs": [
    {
     "data": {
      "text/html": [
       "\n",
       "  <iframe id=\"frame-vegas-68ab9a24-0e65-4a54-ac14-cfe2bc774b04\" sandbox=\"allow-scripts allow-same-origin\" style=\"border: none; width: 100%\" srcdoc=\"&lt;html&gt;\n",
       "  &lt;head&gt;\n",
       "    &lt;script src=&quot;https://cdn.jsdelivr.net/webjars/org.webjars.bower/d3/3.5.17/d3.min.js&quot; charset=&quot;utf-8&quot;&gt;&lt;/script&gt;\n",
       "&lt;script src=&quot;https://cdn.jsdelivr.net/webjars/org.webjars.bower/vega/2.6.3/vega.min.js&quot; charset=&quot;utf-8&quot;&gt;&lt;/script&gt;\n",
       "&lt;script src=&quot;https://cdn.jsdelivr.net/webjars/org.webjars.bower/vega-lite/1.2.0/vega-lite.min.js&quot; charset=&quot;utf-8&quot;&gt;&lt;/script&gt;\n",
       "&lt;script src=&quot;https://vega.github.io/vega-editor/vendor/vega-embed.js&quot; charset=&quot;utf-8&quot;&gt;&lt;/script&gt;\n",
       "  &lt;/head&gt;\n",
       "  &lt;body&gt;\n",
       " &lt;script&gt;\n",
       "   var embedSpec = {\n",
       "     mode: &quot;vega-lite&quot;,\n",
       "     spec: {\n",
       "  &quot;mark&quot; : &quot;line&quot;,\n",
       "  &quot;encoding&quot; : {\n",
       "    &quot;x&quot; : {\n",
       "      &quot;field&quot; : &quot;x&quot;,\n",
       "      &quot;type&quot; : &quot;quantitative&quot;\n",
       "    },\n",
       "    &quot;y&quot; : {\n",
       "      &quot;field&quot; : &quot;y&quot;,\n",
       "      &quot;type&quot; : &quot;quantitative&quot;\n",
       "    }\n",
       "  },\n",
       "  &quot;description&quot; : &quot;CDF&quot;,\n",
       "  &quot;data&quot; : {\n",
       "    &quot;values&quot; : [\n",
       "      {\n",
       "        &quot;x&quot; : -3.10412820271481,\n",
       "        &quot;y&quot; : 0.001\n",
       "      },\n",
       "      {\n",
       "        &quot;x&quot; : -1.6384176998552824,\n",
       "        &quot;y&quot; : 0.05\n",
       "      },\n",
       "      {\n",
       "        &quot;x&quot; : -1.2814862655348531,\n",
       "        &quot;y&quot; : 0.1\n",
       "      },\n",
       "      {\n",
       "        &quot;x&quot; : -1.0258460477035294,\n",
       "        &quot;y&quot; : 0.15000000000000002\n",
       "      },\n",
       "      {\n",
       "        &quot;x&quot; : -0.8408192282565279,\n",
       "        &quot;y&quot; : 0.2\n",
       "      },\n",
       "      {\n",
       "        &quot;x&quot; : -0.6747677103728483,\n",
       "        &quot;y&quot; : 0.25\n",
       "      },\n",
       "      {\n",
       "        &quot;x&quot; : -0.5257179355839212,\n",
       "        &quot;y&quot; : 0.3\n",
       "      },\n",
       "      {\n",
       "        &quot;x&quot; : -0.3861805783094846,\n",
       "        &quot;y&quot; : 0.35\n",
       "      },\n",
       "      {\n",
       "        &quot;x&quot; : -0.25181896390015013,\n",
       "        &quot;y&quot; : 0.39999999999999997\n",
       "      },\n",
       "      {\n",
       "        &quot;x&quot; : -0.12595385021594122,\n",
       "        &quot;y&quot; : 0.44999999999999996\n",
       "      },\n",
       "      {\n",
       "        &quot;x&quot; : -3.693776689685513E-4,\n",
       "        &quot;y&quot; : 0.49999999999999994\n",
       "      },\n",
       "      {\n",
       "        &quot;x&quot; : 0.12500721905196527,\n",
       "        &quot;y&quot; : 0.5499999999999999\n",
       "      },\n",
       "      {\n",
       "        &quot;x&quot; : 0.2528028937725217,\n",
       "        &quot;y&quot; : 0.6\n",
       "      },\n",
       "      {\n",
       "        &quot;x&quot; : 0.3848135587475399,\n",
       "        &quot;y&quot; : 0.65\n",
       "      },\n",
       "      {\n",
       "        &quot;x&quot; : 0.5258053156238164,\n",
       "        &quot;y&quot; : 0.7000000000000001\n",
       "      },\n",
       "      {\n",
       "        &quot;x&quot; : 0.6728690513169981,\n",
       "        &quot;y&quot; : 0.7500000000000001\n",
       "      },\n",
       "      {\n",
       "        &quot;x&quot; : 0.8411765055484939,\n",
       "        &quot;y&quot; : 0.8000000000000002\n",
       "      },\n",
       "      {\n",
       "        &quot;x&quot; : 1.0349769311195014,\n",
       "        &quot;y&quot; : 0.8500000000000002\n",
       "      },\n",
       "      {\n",
       "        &quot;x&quot; : 1.2826563918967144,\n",
       "        &quot;y&quot; : 0.9000000000000002\n",
       "      },\n",
       "      {\n",
       "        &quot;x&quot; : 3.0835057673501303,\n",
       "        &quot;y&quot; : 0.999\n",
       "      }\n",
       "    ]\n",
       "  },\n",
       "  &quot;config&quot; : {\n",
       "    &quot;cell&quot; : {\n",
       "      &quot;width&quot; : 600.0,\n",
       "      &quot;height&quot; : 300.0\n",
       "    }\n",
       "  }\n",
       "}\n",
       "   }\n",
       "   vg.embed(&quot;#vegas-68ab9a24-0e65-4a54-ac14-cfe2bc774b04&quot;, embedSpec, function(error, result) {});\n",
       " &lt;/script&gt;\n",
       " &lt;div id='vegas-68ab9a24-0e65-4a54-ac14-cfe2bc774b04'&gt;&lt;/div&gt;\n",
       "    &lt;/body&gt;\n",
       "&lt;/html&gt;\"></iframe>\n",
       "  <script>\n",
       "    if (typeof resizeIFrame != 'function') {\n",
       "      function resizeIFrame(el, k) {\n",
       "        $(el.contentWindow.document).ready(function() {\n",
       "          el.style.height = el.contentWindow.document.body.scrollHeight + 'px';\n",
       "        });\n",
       "        if (k <= 10) { setTimeout(function() { resizeIFrame(el, k+1) }, 1000 + (k * 250)) };\n",
       "      }\n",
       "    }\n",
       "    $().ready( function() { resizeIFrame($('#frame-vegas-68ab9a24-0e65-4a54-ac14-cfe2bc774b04').get(0), 1); });\n",
       "  </script>\n",
       "    "
      ]
     },
     "metadata": {},
     "output_type": "display_data"
    }
   ],
   "source": [
    "Vegas(\"CDF\")\n",
    "    .withXY(gaussianSketch.toXY)\n",
    "    .encodeX(\"x\", Quant)\n",
    "    .encodeY(\"y\", Quant)\n",
    "    .mark(Line)\n",
    "    .configCell(width=600, height=300)\n",
    "    .show"
   ]
  },
  {
   "cell_type": "code",
   "execution_count": 12,
   "metadata": {},
   "outputs": [
    {
     "data": {
      "text/plain": [
       "defined \u001b[32mfunction\u001b[39m \u001b[36mloadCSV\u001b[39m"
      ]
     },
     "execution_count": 12,
     "metadata": {},
     "output_type": "execute_result"
    }
   ],
   "source": [
    "def loadCSV(fname: String) = spark.read\n",
    "  .format(\"com.databricks.spark.csv\")\n",
    "  .option(\"header\", \"true\")\n",
    "  .option(\"mode\", \"DROPMALFORMED\")\n",
    "  .load(fname)"
   ]
  },
  {
   "cell_type": "code",
   "execution_count": 13,
   "metadata": {},
   "outputs": [
    {
     "data": {
      "text/plain": [
       "\u001b[36mtrainCSV\u001b[39m: \u001b[32mDataFrame\u001b[39m = [_c0: string, AW: string ... 800 more fields]\n",
       "\u001b[36mtestCSV\u001b[39m: \u001b[32mDataFrame\u001b[39m = [_c0: string, AW: string ... 800 more fields]\n",
       "\u001b[36mtrainLabelsCSV\u001b[39m: \u001b[32mDataFrame\u001b[39m = [_c0: string, NR.AhR: string ... 11 more fields]\n",
       "\u001b[36mtestLabelsCSV\u001b[39m: \u001b[32mDataFrame\u001b[39m = [_c0: string, NR.AhR: string ... 11 more fields]"
      ]
     },
     "execution_count": 13,
     "metadata": {},
     "output_type": "execute_result"
    }
   ],
   "source": [
    "val trainCSV = loadCSV(\"/data/tox21/tox21_dense_train.csv\")\n",
    "val testCSV = loadCSV(\"/data/tox21/tox21_dense_test.csv\")\n",
    "val trainLabelsCSV = loadCSV(\"/data/tox21/tox21_labels_train.csv\")\n",
    "val testLabelsCSV = loadCSV(\"/data/tox21/tox21_labels_test.csv\")"
   ]
  },
  {
   "cell_type": "code",
   "execution_count": 14,
   "metadata": {},
   "outputs": [
    {
     "data": {
      "text/plain": [
       "defined \u001b[32mfunction\u001b[39m \u001b[36mtdSketchFV\u001b[39m"
      ]
     },
     "execution_count": 14,
     "metadata": {},
     "output_type": "execute_result"
    }
   ],
   "source": [
    "def tdSketchFV(fv: RDD[Vector[Double]]): Vector[TDigest] = {\n",
    "    val tds = fv.aggregate(Array.empty[TDigest])(\n",
    "        (tdv, xv) => {\n",
    "            if (tdv.isEmpty) {\n",
    "                Array.tabulate(xv.length) { j => TDigest.empty(maxDiscrete=50) + xv(j) }\n",
    "            } else {\n",
    "                for { j <- 0 until xv.length } { tdv(j) += xv(j) }\n",
    "                tdv\n",
    "            }\n",
    "        },\n",
    "        (tdv1, tdv2) => {\n",
    "            if (tdv1.isEmpty) tdv2 else {\n",
    "                for { j <- 0 until tdv1.length } { tdv1(j) ++= tdv2(j) }\n",
    "                tdv1\n",
    "            }\n",
    "        }\n",
    "    )\n",
    "    tds.toVector\n",
    "}"
   ]
  },
  {
   "cell_type": "code",
   "execution_count": 15,
   "metadata": {},
   "outputs": [
    {
     "data": {
      "text/plain": [
       "defined \u001b[32mfunction\u001b[39m \u001b[36msynthesize\u001b[39m"
      ]
     },
     "execution_count": 15,
     "metadata": {},
     "output_type": "execute_result"
    }
   ],
   "source": [
    "def synthesize(tdVec: Vector[TDigest], n: Int, partitions: Int = 2) = {\n",
    "    implicit class AddSampling(td: TDigest) {\n",
    "        import org.isarnproject.collections.mixmaps.nearest.Cover\n",
    "        def cdfDiscreteInverse(q: Double): Double = {\n",
    "            td.clusters.mCover(q * td.clusters.sum).map(n => (n.data.key, n.data.value)) match {\n",
    "                case Cover(_, Some((x, _))) => x\n",
    "                case Cover(Some((x, _)), None) => x\n",
    "            }\n",
    "        }\n",
    "\n",
    "        def sample: Double = {\n",
    "            val clust = td.clusters\n",
    "            td.nclusters match {\n",
    "                case 0 => 0.0\n",
    "                case 1 => clust(clust.keyMin.get)\n",
    "                case n if (n <= td.maxDiscrete) => cdfDiscreteInverse(scala.util.Random.nextDouble)\n",
    "                case _ => td.cdfInverse(scala.util.Random.nextDouble)\n",
    "            }\n",
    "        }\n",
    "    }\n",
    "    val tdVecBC = spark.sparkContext.broadcast(tdVec)\n",
    "    spark.sparkContext.parallelize(1 to n, partitions).map { r => tdVecBC.value.map(_.sample) }\n",
    "}"
   ]
  },
  {
   "cell_type": "code",
   "execution_count": 16,
   "metadata": {},
   "outputs": [
    {
     "name": "stderr",
     "output_type": "stream",
     "text": [
      "                                                                                \r"
     ]
    },
    {
     "data": {
      "text/plain": [
       "\u001b[36mtrainFV\u001b[39m: \u001b[32mRDD\u001b[39m[\u001b[32mVector\u001b[39m[\u001b[32mDouble\u001b[39m]] = MapPartitionsRDD[33] at map at cmd15.sc:1\n",
       "\u001b[36mfvSketches\u001b[39m: \u001b[32mVector\u001b[39m[\u001b[32mTDigest\u001b[39m] = \u001b[33mVector\u001b[39m(\n",
       "  \u001b[33mTDigest\u001b[39m(\n",
       "    \u001b[32m0.5\u001b[39m,\n",
       "    \u001b[32m50\u001b[39m,\n",
       "    \u001b[32m75\u001b[39m,\n",
       "    \u001b[33mMap\u001b[39m(\n",
       "      \u001b[32m1.0\u001b[39m -> \u001b[32m9.0\u001b[39m,\n",
       "      \u001b[32m1.333\u001b[39m -> \u001b[32m24.0\u001b[39m,\n",
       "      \u001b[32m1.5\u001b[39m -> \u001b[32m45.0\u001b[39m,\n",
       "      \u001b[32m1.600489455071117\u001b[39m -> \u001b[32m33.242848970251714\u001b[39m,\n",
       "      \u001b[32m1.675738883726358\u001b[39m -> \u001b[32m7.919011523893346\u001b[39m,\n",
       "      \u001b[32m1.6979657626987033\u001b[39m -> \u001b[32m63.83813950585494\u001b[39m,\n",
       "\u001b[33m...\u001b[39m"
      ]
     },
     "execution_count": 16,
     "metadata": {},
     "output_type": "execute_result"
    }
   ],
   "source": [
    "val trainFV = trainCSV.rdd.map(_.toSeq.toVector.drop(1).map(_.asInstanceOf[String].toDouble))\n",
    "val fvSketches = tdSketchFV(trainFV)"
   ]
  },
  {
   "cell_type": "code",
   "execution_count": 17,
   "metadata": {},
   "outputs": [
    {
     "data": {
      "text/plain": [
       "\u001b[36msynthFV\u001b[39m: \u001b[32mRDD\u001b[39m[\u001b[32mVector\u001b[39m[\u001b[32mDouble\u001b[39m]] = MapPartitionsRDD[35] at map at cmd14.sc:22"
      ]
     },
     "execution_count": 17,
     "metadata": {},
     "output_type": "execute_result"
    }
   ],
   "source": [
    "val synthFV = synthesize(fvSketches, 48000, 4)"
   ]
  },
  {
   "cell_type": "code",
   "execution_count": 18,
   "metadata": {},
   "outputs": [
    {
     "data": {
      "text/plain": [
       "\u001b[36mtrainLab\u001b[39m: \u001b[32mRDD\u001b[39m[\u001b[32mLabeledPoint\u001b[39m] = MapPartitionsRDD[36] at map at cmd17.sc:1\n",
       "\u001b[36msynthLab\u001b[39m: \u001b[32mRDD\u001b[39m[\u001b[32mLabeledPoint\u001b[39m] = MapPartitionsRDD[37] at map at cmd17.sc:2\n",
       "\u001b[36mtrainFR\u001b[39m: \u001b[32mRDD\u001b[39m[\u001b[32mLabeledPoint\u001b[39m] = UnionRDD[38] at $plus$plus at cmd17.sc:3"
      ]
     },
     "execution_count": 18,
     "metadata": {},
     "output_type": "execute_result"
    }
   ],
   "source": [
    "val trainLab = trainFV.map(_.toLabeledPoint(1.0))\n",
    "val synthLab = synthFV.map(_.toLabeledPoint(0.0))\n",
    "val trainFR = (trainLab ++ synthLab).cache()"
   ]
  },
  {
   "cell_type": "code",
   "execution_count": 19,
   "metadata": {},
   "outputs": [
    {
     "data": {
      "text/plain": [
       "defined \u001b[32mfunction\u001b[39m \u001b[36mfrClassifier\u001b[39m"
      ]
     },
     "execution_count": 19,
     "metadata": {},
     "output_type": "execute_result"
    }
   ],
   "source": [
    "def frClassifier = {\n",
    "val rfFR = RandomForest.trainClassifier(\n",
    "    trainFR,              // training data\n",
    "    2,                    // number of classes\n",
    "    Map.empty[Int, Int],  // category info\n",
    "    100,                  // forest size\n",
    "    \"auto\",               // \n",
    "    \"gini\",               // split quality measure\n",
    "    10,                   // max depth\n",
    "    20,                   // max bins\n",
    "    235711)               // random seed\n",
    "val predictionAndLabels = trainLab.map { case LabeledPoint(label, features) =>\n",
    "  val prediction = rfFR.predict(features)\n",
    "  (prediction, label)\n",
    "}\n",
    "val metrics = new MulticlassMetrics(predictionAndLabels)\n",
    "(rfFR, metrics)\n",
    "}"
   ]
  },
  {
   "cell_type": "code",
   "execution_count": 20,
   "metadata": {},
   "outputs": [
    {
     "name": "stderr",
     "output_type": "stream",
     "text": [
      "                                                                                \r"
     ]
    },
    {
     "data": {
      "text/plain": [
       "\u001b[36mrfFR\u001b[39m: \u001b[32morg\u001b[39m.\u001b[32mapache\u001b[39m.\u001b[32mspark\u001b[39m.\u001b[32mmllib\u001b[39m.\u001b[32mtree\u001b[39m.\u001b[32mmodel\u001b[39m.\u001b[32mRandomForestModel\u001b[39m = TreeEnsembleModel classifier with 100 trees\n",
       "\n",
       "\u001b[36mmetrics\u001b[39m: \u001b[32mMulticlassMetrics\u001b[39m = org.apache.spark.mllib.evaluation.MulticlassMetrics@3863a938\n",
       "\u001b[36mres19_1\u001b[39m: \u001b[32mDouble\u001b[39m = \u001b[32m1.0\u001b[39m"
      ]
     },
     "execution_count": 20,
     "metadata": {},
     "output_type": "execute_result"
    }
   ],
   "source": [
    "val (rfFR, metrics) = frClassifier\n",
    "metrics.accuracy"
   ]
  },
  {
   "cell_type": "code",
   "execution_count": 21,
   "metadata": {},
   "outputs": [
    {
     "data": {
      "text/plain": [
       "\u001b[36mfrRules\u001b[39m: \u001b[32mArray\u001b[39m[\u001b[32mMap\u001b[39m[\u001b[32mDouble\u001b[39m, \u001b[32mSeq\u001b[39m[\u001b[32mSeq\u001b[39m[\u001b[32mPredicate\u001b[39m]]]] = \u001b[33mArray\u001b[39m(\n",
       "  \u001b[33mMap\u001b[39m(\n",
       "    \u001b[32m1.0\u001b[39m -> \u001b[33mArrayBuffer\u001b[39m(\n",
       "      \u001b[33mList\u001b[39m((MRVSA2 <= 0.0)),\n",
       "      \u001b[33mList\u001b[39m((MRVSA2 > 0.0), (RDFM30 <= 0.0)),\n",
       "      \u001b[33mList\u001b[39m((MRVSA2 > 0.0), (RDFM30 > 0.0), (PEOEVSA4 <= 0.0)),\n",
       "      \u001b[33mList\u001b[39m((MRVSA2 > 0.0), (RDFM30 > 0.0), (PEOEVSA4 > 0.0), (Chiv4c <= 0.0)),\n",
       "      \u001b[33mList\u001b[39m(\n",
       "        (MRVSA2 > 0.0),\n",
       "        (RDFM30 > 0.0),\n",
       "        (PEOEVSA4 > 0.0),\n",
       "        (Chiv4c > 0.0),\n",
       "\u001b[33m...\u001b[39m"
      ]
     },
     "execution_count": 21,
     "metadata": {},
     "output_type": "execute_result"
    }
   ],
   "source": [
    "val frRules = rfFR.trees.map(_.rules(trainCSV.columns.toVector.drop(1), Map.empty[Int, Int]))"
   ]
  },
  {
   "cell_type": "code",
   "execution_count": 22,
   "metadata": {},
   "outputs": [
    {
     "name": "stdout",
     "output_type": "stream",
     "text": [
      "(MRVSA7,22)\n",
      "(VSAEstate2,20)\n",
      "(RNCS,20)\n",
      "(VSAEstate0,18)\n",
      "(VSAEstate3,17)\n",
      "(slogPVSA8,17)\n",
      "(RDFM29,13)\n",
      "(PEOEVSA4,13)\n",
      "(slogPVSA3,12)\n",
      "(slogPVSA6,12)\n",
      "(RDFV30,11)\n",
      "(RDFM30,11)\n",
      "(RDFU27,11)\n",
      "(RDFE30,10)\n",
      "(Chi4c,9)\n",
      "(PEOEVSA3,9)\n",
      "(MRVSA8,8)\n",
      "(Chiv4c,8)\n",
      "(RDFV24,8)\n",
      "(MRVSA2,8)\n",
      "(RDFU30,8)\n",
      "(PEOEVSA12,7)\n",
      "(PEOEVSA11,7)\n",
      "(slogPVSA9,7)\n",
      "(RDFV29,7)\n",
      "(RDFP30,7)\n",
      "(RDFM24,7)\n",
      "(PEOEVSA10,7)\n",
      "(Chi5ch,6)\n",
      "(RDFP27,6)\n",
      "(slogPVSA0,6)\n",
      "(MRVSA3,6)\n",
      "(RDFM27,6)\n",
      "(RDFE28,6)\n",
      "(RDFE29,6)\n",
      "(EstateVSA5,5)\n",
      "(RDFV23,5)\n",
      "(RDFM25,5)\n",
      "(RDFV27,5)\n",
      "(RDFP29,5)\n",
      "(slogPVSA7,5)\n",
      "(RDFU29,5)\n",
      "(RDFU25,5)\n",
      "(PEOEVSA2,4)\n",
      "(slogPVSA11,4)\n",
      "(RDFE26,4)\n",
      "(EstateVSA2,4)\n",
      "(EstateVSA6,4)\n",
      "(Chiv5ch,4)\n",
      "(RDFV25,4)\n",
      "(RDFE27,4)\n",
      "(RDFV28,4)\n",
      "(RDFU26,4)\n",
      "(MRVSA5,3)\n",
      "(RDFP24,3)\n",
      "(RDFM22,3)\n",
      "(EstateVSA1,3)\n",
      "(RDFP21,3)\n",
      "(RDFP26,3)\n",
      "(Tv,3)\n",
      "(PEOEVSA8,3)\n",
      "(RDFP28,3)\n",
      "(PEOEVSA13,3)\n",
      "(slogPVSA2,3)\n",
      "(L1p,2)\n",
      "(EstateVSA8,2)\n",
      "(RDFU28,2)\n",
      "(GATSm8,2)\n",
      "(Ve,2)\n",
      "(RDFE20,2)\n",
      "(J,2)\n",
      "(rygr,2)\n",
      "(RDFM28,2)\n",
      "(RDFE22,2)\n",
      "(PEOEVSA1,2)\n",
      "(ncarb,2)\n",
      "(Tu,2)\n",
      "(RDFM23,2)\n",
      "(EstateVSA7,2)\n",
      "(RDFE25,2)\n",
      "(EstateVSA4,2)\n",
      "(RDFM20,2)\n",
      "(RDFE21,2)\n",
      "(EstateVSA9,2)\n",
      "(nta,1)\n",
      "(RDFM2,1)\n",
      "(RDFU17,1)\n",
      "(MoRSEN9,1)\n",
      "(GeDi,1)\n",
      "(bcute11,1)\n",
      "(Chi3ch,1)\n",
      "(bcute15,1)\n",
      "(RDFC28,1)\n",
      "(RDFP20,1)\n",
      "(Chiv6ch,1)\n",
      "(PEOEVSA5,1)\n",
      "(RDFM26,1)\n",
      "(RDFU24,1)\n",
      "(RDFM19,1)\n",
      "(Kp,1)\n",
      "(RDFV9,1)\n",
      "(Te,1)\n",
      "(RDFV12,1)\n",
      "(RDFP25,1)\n",
      "(RDFU23,1)\n",
      "(PNSA2,1)\n",
      "(L1v,1)\n",
      "(bcutv6,1)\n",
      "(RDFU2,1)\n",
      "(WPSA3,1)\n",
      "(RDFE2,1)\n",
      "(EstateVSA0,1)\n",
      "(RDFE19,1)\n",
      "(MoRSEP14,1)\n",
      "(RDFV20,1)\n",
      "(GATSe8,1)\n",
      "(Tp,1)\n",
      "(Sitov,1)\n",
      "(Ku,1)\n",
      "(RDFC19,1)\n",
      "(MoRSEC8,1)\n",
      "(MoRSEV16,1)\n",
      "(Ae,1)\n",
      "(MoRSEC25,1)\n",
      "(MSA,1)\n",
      "(RDFV18,1)\n",
      "(MoRSEP22,1)\n",
      "(RDFE24,1)\n",
      "(BertzCT,1)\n",
      "(RDFE16,1)\n",
      "(MoRSEM6,1)\n",
      "(RDFU22,1)\n",
      "(RDFV21,1)\n",
      "(RDFU20,1)\n",
      "(nhet,1)\n",
      "(RDFP17,1)\n",
      "(Vm,1)\n",
      "(RDFP23,1)\n",
      "(RDFV26,1)\n",
      "(RDFU21,1)\n",
      "(naccr,1)\n",
      "(bcutm3,1)\n",
      "(MoRSEN1,1)\n",
      "(L1m,1)\n",
      "(MoRSEE4,1)\n",
      "(Chi6ch,1)\n"
     ]
    },
    {
     "data": {
      "text/plain": [
       "\u001b[36mfeatPerTree\u001b[39m: \u001b[32mArray\u001b[39m[\u001b[32mString\u001b[39m] = \u001b[33mArray\u001b[39m(\n",
       "  \u001b[32m\"PEOEVSA12\"\u001b[39m,\n",
       "  \u001b[32m\"RDFM29\"\u001b[39m,\n",
       "  \u001b[32m\"RDFP27\"\u001b[39m,\n",
       "  \u001b[32m\"RDFM30\"\u001b[39m,\n",
       "  \u001b[32m\"VSAEstate3\"\u001b[39m,\n",
       "  \u001b[32m\"Chiv4c\"\u001b[39m,\n",
       "  \u001b[32m\"MRVSA2\"\u001b[39m,\n",
       "  \u001b[32m\"RDFV20\"\u001b[39m,\n",
       "  \u001b[32m\"MoRSEP22\"\u001b[39m,\n",
       "  \u001b[32m\"RDFE27\"\u001b[39m,\n",
       "  \u001b[32m\"PEOEVSA4\"\u001b[39m,\n",
       "\u001b[33m...\u001b[39m\n",
       "\u001b[36mfeatCounts\u001b[39m: \u001b[32mMap\u001b[39m[\u001b[32mString\u001b[39m, \u001b[32mInt\u001b[39m] = \u001b[33mMap\u001b[39m(\n",
       "  \u001b[32m\"MRVSA8\"\u001b[39m -> \u001b[32m8\u001b[39m,\n",
       "  \u001b[32m\"PEOEVSA12\"\u001b[39m -> \u001b[32m7\u001b[39m,\n",
       "  \u001b[32m\"nta\"\u001b[39m -> \u001b[32m1\u001b[39m,\n",
       "  \u001b[32m\"VSAEstate2\"\u001b[39m -> \u001b[32m20\u001b[39m,\n",
       "  \u001b[32m\"MRVSA5\"\u001b[39m -> \u001b[32m3\u001b[39m,\n",
       "  \u001b[32m\"Chi5ch\"\u001b[39m -> \u001b[32m6\u001b[39m,\n",
       "  \u001b[32m\"RDFM2\"\u001b[39m -> \u001b[32m1\u001b[39m,\n",
       "  \u001b[32m\"RDFM29\"\u001b[39m -> \u001b[32m13\u001b[39m,\n",
       "  \u001b[32m\"RDFU17\"\u001b[39m -> \u001b[32m1\u001b[39m,\n",
       "  \u001b[32m\"MoRSEN9\"\u001b[39m -> \u001b[32m1\u001b[39m,\n",
       "  \u001b[32m\"RDFP27\"\u001b[39m -> \u001b[32m6\u001b[39m,\n",
       "\u001b[33m...\u001b[39m\n",
       "\u001b[36mfeatHist\u001b[39m: \u001b[32mVector\u001b[39m[(\u001b[32mString\u001b[39m, \u001b[32mInt\u001b[39m)] = \u001b[33mVector\u001b[39m(\n",
       "  (\u001b[32m\"MRVSA7\"\u001b[39m, \u001b[32m22\u001b[39m),\n",
       "  (\u001b[32m\"VSAEstate2\"\u001b[39m, \u001b[32m20\u001b[39m),\n",
       "  (\u001b[32m\"RNCS\"\u001b[39m, \u001b[32m20\u001b[39m),\n",
       "  (\u001b[32m\"VSAEstate0\"\u001b[39m, \u001b[32m18\u001b[39m),\n",
       "  (\u001b[32m\"VSAEstate3\"\u001b[39m, \u001b[32m17\u001b[39m),\n",
       "  (\u001b[32m\"slogPVSA8\"\u001b[39m, \u001b[32m17\u001b[39m),\n",
       "  (\u001b[32m\"RDFM29\"\u001b[39m, \u001b[32m13\u001b[39m),\n",
       "  (\u001b[32m\"PEOEVSA4\"\u001b[39m, \u001b[32m13\u001b[39m),\n",
       "  (\u001b[32m\"slogPVSA3\"\u001b[39m, \u001b[32m12\u001b[39m),\n",
       "  (\u001b[32m\"slogPVSA6\"\u001b[39m, \u001b[32m12\u001b[39m),\n",
       "  (\u001b[32m\"RDFV30\"\u001b[39m, \u001b[32m11\u001b[39m),\n",
       "\u001b[33m...\u001b[39m"
      ]
     },
     "execution_count": 22,
     "metadata": {},
     "output_type": "execute_result"
    }
   ],
   "source": [
    "val featPerTree = for {\n",
    "    rmap <- frRules\n",
    "    feats = {\n",
    "        val fraw = for {\n",
    "            vrules <- rmap.values\n",
    "            plist <- vrules\n",
    "            pred <- plist\n",
    "        } yield { pred.feature }\n",
    "        fraw.toSet.toSeq\n",
    "    }\n",
    "    f <- feats\n",
    "} yield { f }\n",
    "val featCounts = featPerTree.foldLeft(Map.empty[String, Int])((m, f) => m + (f -> (1 + m.getOrElse(f, 0))))\n",
    "val featHist = featCounts.toSeq.sortBy { case (_, n) => -n}.toVector\n",
    "println(featHist.mkString(\"\\n\"))"
   ]
  },
  {
   "cell_type": "code",
   "execution_count": 23,
   "metadata": {},
   "outputs": [
    {
     "data": {
      "text/plain": [
       "\u001b[36mfeatSelect\u001b[39m: \u001b[32mVector\u001b[39m[\u001b[32mString\u001b[39m] = \u001b[33mVector\u001b[39m(\n",
       "  \u001b[32m\"MRVSA7\"\u001b[39m,\n",
       "  \u001b[32m\"VSAEstate2\"\u001b[39m,\n",
       "  \u001b[32m\"RNCS\"\u001b[39m,\n",
       "  \u001b[32m\"VSAEstate0\"\u001b[39m,\n",
       "  \u001b[32m\"VSAEstate3\"\u001b[39m,\n",
       "  \u001b[32m\"slogPVSA8\"\u001b[39m,\n",
       "  \u001b[32m\"RDFM29\"\u001b[39m,\n",
       "  \u001b[32m\"PEOEVSA4\"\u001b[39m,\n",
       "  \u001b[32m\"slogPVSA3\"\u001b[39m,\n",
       "  \u001b[32m\"slogPVSA6\"\u001b[39m,\n",
       "  \u001b[32m\"RDFV30\"\u001b[39m,\n",
       "\u001b[33m...\u001b[39m\n",
       "\u001b[36mres22_1\u001b[39m: \u001b[32mInt\u001b[39m = \u001b[32m84\u001b[39m\n",
       "\u001b[36mres22_2\u001b[39m: \u001b[32mInt\u001b[39m = \u001b[32m146\u001b[39m"
      ]
     },
     "execution_count": 23,
     "metadata": {},
     "output_type": "execute_result"
    }
   ],
   "source": [
    "val featSelect = featHist.filter { case (_, n) => n > 1 }.map { case (f, _) => f }\n",
    "featSelect.length\n",
    "featHist.length"
   ]
  },
  {
   "cell_type": "code",
   "execution_count": 24,
   "metadata": {},
   "outputs": [
    {
     "data": {
      "text/plain": [
       "\u001b[36mtrainCSVFR\u001b[39m: \u001b[32mDataFrame\u001b[39m = [_c0: string, MRVSA7: string ... 83 more fields]\n",
       "\u001b[36mtestCSVFR\u001b[39m: \u001b[32mDataFrame\u001b[39m = [_c0: string, MRVSA7: string ... 83 more fields]"
      ]
     },
     "execution_count": 24,
     "metadata": {},
     "output_type": "execute_result"
    }
   ],
   "source": [
    "val trainCSVFR = trainCSV.select(\"_c0\", featSelect :_*)\n",
    "val testCSVFR = testCSV.select(\"_c0\", featSelect :_*)"
   ]
  },
  {
   "cell_type": "code",
   "execution_count": 25,
   "metadata": {
    "scrolled": true
   },
   "outputs": [
    {
     "name": "stdout",
     "output_type": "stream",
     "text": [
      "_c0, NR.AhR, NR.AR, NR.AR.LBD, NR.Aromatase, NR.ER, NR.ER.LBD, NR.PPAR.gamma, SR.ARE, SR.ATAD5, SR.HSE, SR.MMP, SR.p53\n"
     ]
    }
   ],
   "source": [
    "println(trainLabelsCSV.columns.mkString(\", \"))"
   ]
  },
  {
   "cell_type": "code",
   "execution_count": 26,
   "metadata": {},
   "outputs": [
    {
     "data": {
      "text/plain": [
       "defined \u001b[32mfunction\u001b[39m \u001b[36mcsvToPairs\u001b[39m\n",
       "defined \u001b[32mfunction\u001b[39m \u001b[36mlpFR\u001b[39m\n",
       "defined \u001b[32mfunction\u001b[39m \u001b[36mtrainAndTest\u001b[39m"
      ]
     },
     "execution_count": 26,
     "metadata": {},
     "output_type": "execute_result"
    }
   ],
   "source": [
    "def csvToPairs(csv: DataFrame) =\n",
    "    csv.rdd.map(_.toSeq)\n",
    "    .map(v => (v.head.asInstanceOf[String], v.tail.toVector.map(_.asInstanceOf[String].toDouble)))\n",
    "def lpFR(tlab: String, labCSV: DataFrame, fvCSV: DataFrame) = {\n",
    "    val labCol = labCSV.select(\"_c0\", tlab)\n",
    "    val labPairs = labCol.filter(labCol(tlab) =!= \"NA\")\n",
    "        .rdd.map(_.toSeq).map { s => (s(0).asInstanceOf[String], s(1).asInstanceOf[String].toDouble) }\n",
    "    val fvPairs = csvToPairs(fvCSV)\n",
    "    val lp = labPairs.join(fvPairs).map { case (_, (lab, feats)) => LabeledPoint(lab, feats.toSpark) }\n",
    "    lp\n",
    "}\n",
    "def trainAndTest(tlab: String) =\n",
    "  (lpFR(tlab, trainLabelsCSV, trainCSVFR), lpFR(tlab, testLabelsCSV, testCSVFR))"
   ]
  },
  {
   "cell_type": "code",
   "execution_count": 27,
   "metadata": {},
   "outputs": [
    {
     "data": {
      "text/plain": [
       "defined \u001b[32mfunction\u001b[39m \u001b[36mtrainLRModel\u001b[39m"
      ]
     },
     "execution_count": 27,
     "metadata": {},
     "output_type": "execute_result"
    }
   ],
   "source": [
    "def trainLRModel(train: RDD[LabeledPoint], test: RDD[LabeledPoint]) = {\n",
    "    val lrModel = new LogisticRegressionWithLBFGS().run(train)\n",
    "    val predictionAndLabels = test.map { case LabeledPoint(label, features) =>\n",
    "        val prediction = lrModel.predict(features)\n",
    "        (prediction, label)\n",
    "    }\n",
    "    val metrics = new MulticlassMetrics(predictionAndLabels)\n",
    "    (lrModel, predictionAndLabels, metrics)\n",
    "}"
   ]
  },
  {
   "cell_type": "code",
   "execution_count": 28,
   "metadata": {},
   "outputs": [
    {
     "name": "stderr",
     "output_type": "stream",
     "text": [
      "                                                                                \r"
     ]
    },
    {
     "data": {
      "text/plain": [
       "\u001b[36mallvsFR\u001b[39m: \u001b[32mArray\u001b[39m[\u001b[32mMap\u001b[39m[\u001b[32mString\u001b[39m, \u001b[32mAny\u001b[39m]] = \u001b[33mArray\u001b[39m(\n",
       "  \u001b[33mMap\u001b[39m(\u001b[32m\"assay\"\u001b[39m -> NR.AhR, \u001b[32m\"feats\"\u001b[39m -> 801, \u001b[32m\"accuracy\"\u001b[39m -> 0.8819672131147541),\n",
       "  \u001b[33mMap\u001b[39m(\u001b[32m\"assay\"\u001b[39m -> NR.AhR, \u001b[32m\"feats\"\u001b[39m -> 84, \u001b[32m\"accuracy\"\u001b[39m -> 0.8786885245901639),\n",
       "  \u001b[33mMap\u001b[39m(\u001b[32m\"assay\"\u001b[39m -> NR.AR, \u001b[32m\"feats\"\u001b[39m -> 801, \u001b[32m\"accuracy\"\u001b[39m -> 0.9744027303754266),\n",
       "  \u001b[33mMap\u001b[39m(\u001b[32m\"assay\"\u001b[39m -> NR.AR, \u001b[32m\"feats\"\u001b[39m -> 84, \u001b[32m\"accuracy\"\u001b[39m -> 0.9761092150170648),\n",
       "  \u001b[33mMap\u001b[39m(\u001b[32m\"assay\"\u001b[39m -> NR.AR.LBD, \u001b[32m\"feats\"\u001b[39m -> 801, \u001b[32m\"accuracy\"\u001b[39m -> 0.9725085910652921),\n",
       "  \u001b[33mMap\u001b[39m(\u001b[32m\"assay\"\u001b[39m -> NR.AR.LBD, \u001b[32m\"feats\"\u001b[39m -> 84, \u001b[32m\"accuracy\"\u001b[39m -> 0.9845360824742269),\n",
       "  \u001b[33mMap\u001b[39m(\u001b[32m\"assay\"\u001b[39m -> NR.Aromatase, \u001b[32m\"feats\"\u001b[39m -> 801, \u001b[32m\"accuracy\"\u001b[39m -> 0.9185606060606061),\n",
       "  \u001b[33mMap\u001b[39m(\u001b[32m\"assay\"\u001b[39m -> NR.Aromatase, \u001b[32m\"feats\"\u001b[39m -> 84, \u001b[32m\"accuracy\"\u001b[39m -> 0.9204545454545454),\n",
       "  \u001b[33mMap\u001b[39m(\u001b[32m\"assay\"\u001b[39m -> NR.ER, \u001b[32m\"feats\"\u001b[39m -> 801, \u001b[32m\"accuracy\"\u001b[39m -> 0.9011627906976745),\n",
       "  \u001b[33mMap\u001b[39m(\u001b[32m\"assay\"\u001b[39m -> NR.ER, \u001b[32m\"feats\"\u001b[39m -> 84, \u001b[32m\"accuracy\"\u001b[39m -> 0.9031007751937985),\n",
       "\u001b[33m...\u001b[39m"
      ]
     },
     "execution_count": 28,
     "metadata": {},
     "output_type": "execute_result"
    }
   ],
   "source": [
    "val allvsFR = trainLabelsCSV.columns.tail.map { acol => (acol, s\"`$acol`\")}\n",
    "    .flatMap { case (acolRaw, acol) =>\n",
    "        val (trainFR, testFR) = (lpFR(acol, trainLabelsCSV, trainCSVFR), lpFR(acol, testLabelsCSV, testCSVFR))\n",
    "        val (trainAll, testAll) = (lpFR(acol, trainLabelsCSV, trainCSV), lpFR(acol, testLabelsCSV, testCSV))\n",
    "        val (modelFR, predLabFR, metricsFR) = trainLRModel(trainFR, testFR)\n",
    "        val (modelAll, predLabAll, metricsAll) = trainLRModel(trainAll, testAll)\n",
    "        Seq(\n",
    "            Map(\n",
    "                \"assay\" -> acolRaw,\n",
    "                \"feats\" -> s\"${modelAll.numFeatures}\",\n",
    "                \"accuracy\" -> metricsAll.accuracy\n",
    "            ),\n",
    "            Map(\n",
    "                \"assay\" -> acolRaw,\n",
    "                \"feats\" -> s\"${modelFR.numFeatures}\",\n",
    "                \"accuracy\" -> metricsFR.accuracy\n",
    "            )\n",
    "        )\n",
    "    }"
   ]
  },
  {
   "cell_type": "code",
   "execution_count": 29,
   "metadata": {
    "scrolled": true
   },
   "outputs": [
    {
     "data": {
      "text/html": [
       "\n",
       "  <iframe id=\"frame-vegas-043b89d0-c738-40fb-a9dd-59f179b1c3e8\" sandbox=\"allow-scripts allow-same-origin\" style=\"border: none; width: 100%\" srcdoc=\"&lt;html&gt;\n",
       "  &lt;head&gt;\n",
       "    &lt;script src=&quot;https://cdn.jsdelivr.net/webjars/org.webjars.bower/d3/3.5.17/d3.min.js&quot; charset=&quot;utf-8&quot;&gt;&lt;/script&gt;\n",
       "&lt;script src=&quot;https://cdn.jsdelivr.net/webjars/org.webjars.bower/vega/2.6.3/vega.min.js&quot; charset=&quot;utf-8&quot;&gt;&lt;/script&gt;\n",
       "&lt;script src=&quot;https://cdn.jsdelivr.net/webjars/org.webjars.bower/vega-lite/1.2.0/vega-lite.min.js&quot; charset=&quot;utf-8&quot;&gt;&lt;/script&gt;\n",
       "&lt;script src=&quot;https://vega.github.io/vega-editor/vendor/vega-embed.js&quot; charset=&quot;utf-8&quot;&gt;&lt;/script&gt;\n",
       "  &lt;/head&gt;\n",
       "  &lt;body&gt;\n",
       " &lt;script&gt;\n",
       "   var embedSpec = {\n",
       "     mode: &quot;vega-lite&quot;,\n",
       "     spec: {\n",
       "  &quot;mark&quot; : &quot;bar&quot;,\n",
       "  &quot;encoding&quot; : {\n",
       "    &quot;column&quot; : {\n",
       "      &quot;axis&quot; : {\n",
       "        &quot;labelAngle&quot; : 45.0,\n",
       "        &quot;orient&quot; : &quot;bottom&quot;,\n",
       "        &quot;title&quot; : &quot;tox assay&quot;,\n",
       "        &quot;axisWidth&quot; : 1.0,\n",
       "        &quot;offset&quot; : -5.0,\n",
       "        &quot;labelAlign&quot; : &quot;bottom&quot;\n",
       "      },\n",
       "      &quot;scale&quot; : {\n",
       "        &quot;padding&quot; : 20.0\n",
       "      },\n",
       "      &quot;field&quot; : &quot;assay&quot;,\n",
       "      &quot;type&quot; : &quot;nominal&quot;\n",
       "    },\n",
       "    &quot;x&quot; : {\n",
       "      &quot;axis&quot; : false,\n",
       "      &quot;scale&quot; : {\n",
       "        &quot;bandSize&quot; : 6.0\n",
       "      },\n",
       "      &quot;field&quot; : &quot;feats&quot;,\n",
       "      &quot;type&quot; : &quot;nominal&quot;\n",
       "    },\n",
       "    &quot;y&quot; : {\n",
       "      &quot;axis&quot; : {\n",
       "        &quot;title&quot; : &quot;model accuracy&quot;,\n",
       "        &quot;grid&quot; : false\n",
       "      },\n",
       "      &quot;field&quot; : &quot;accuracy&quot;,\n",
       "      &quot;type&quot; : &quot;quantitative&quot;\n",
       "    },\n",
       "    &quot;color&quot; : {\n",
       "      &quot;scale&quot; : {\n",
       "        &quot;range&quot; : [\n",
       "          &quot;#EA98D2&quot;,\n",
       "          &quot;#659CCA&quot;\n",
       "        ]\n",
       "      },\n",
       "      &quot;field&quot; : &quot;feats&quot;,\n",
       "      &quot;type&quot; : &quot;nominal&quot;\n",
       "    }\n",
       "  },\n",
       "  &quot;data&quot; : {\n",
       "    &quot;values&quot; : [\n",
       "      {\n",
       "        &quot;assay&quot; : &quot;NR.AhR&quot;,\n",
       "        &quot;feats&quot; : &quot;801&quot;,\n",
       "        &quot;accuracy&quot; : 0.8819672131147541\n",
       "      },\n",
       "      {\n",
       "        &quot;assay&quot; : &quot;NR.AhR&quot;,\n",
       "        &quot;feats&quot; : &quot;84&quot;,\n",
       "        &quot;accuracy&quot; : 0.8786885245901639\n",
       "      },\n",
       "      {\n",
       "        &quot;assay&quot; : &quot;NR.AR&quot;,\n",
       "        &quot;feats&quot; : &quot;801&quot;,\n",
       "        &quot;accuracy&quot; : 0.9744027303754266\n",
       "      },\n",
       "      {\n",
       "        &quot;assay&quot; : &quot;NR.AR&quot;,\n",
       "        &quot;feats&quot; : &quot;84&quot;,\n",
       "        &quot;accuracy&quot; : 0.9761092150170648\n",
       "      },\n",
       "      {\n",
       "        &quot;assay&quot; : &quot;NR.AR.LBD&quot;,\n",
       "        &quot;feats&quot; : &quot;801&quot;,\n",
       "        &quot;accuracy&quot; : 0.9725085910652921\n",
       "      },\n",
       "      {\n",
       "        &quot;assay&quot; : &quot;NR.AR.LBD&quot;,\n",
       "        &quot;feats&quot; : &quot;84&quot;,\n",
       "        &quot;accuracy&quot; : 0.9845360824742269\n",
       "      },\n",
       "      {\n",
       "        &quot;assay&quot; : &quot;NR.Aromatase&quot;,\n",
       "        &quot;feats&quot; : &quot;801&quot;,\n",
       "        &quot;accuracy&quot; : 0.9185606060606061\n",
       "      },\n",
       "      {\n",
       "        &quot;assay&quot; : &quot;NR.Aromatase&quot;,\n",
       "        &quot;feats&quot; : &quot;84&quot;,\n",
       "        &quot;accuracy&quot; : 0.9204545454545454\n",
       "      },\n",
       "      {\n",
       "        &quot;assay&quot; : &quot;NR.ER&quot;,\n",
       "        &quot;feats&quot; : &quot;801&quot;,\n",
       "        &quot;accuracy&quot; : 0.9011627906976745\n",
       "      },\n",
       "      {\n",
       "        &quot;assay&quot; : &quot;NR.ER&quot;,\n",
       "        &quot;feats&quot; : &quot;84&quot;,\n",
       "        &quot;accuracy&quot; : 0.9031007751937985\n",
       "      },\n",
       "      {\n",
       "        &quot;assay&quot; : &quot;NR.ER.LBD&quot;,\n",
       "        &quot;feats&quot; : &quot;801&quot;,\n",
       "        &quot;accuracy&quot; : 0.96\n",
       "      },\n",
       "      {\n",
       "        &quot;assay&quot; : &quot;NR.ER.LBD&quot;,\n",
       "        &quot;feats&quot; : &quot;84&quot;,\n",
       "        &quot;accuracy&quot; : 0.96\n",
       "      },\n",
       "      {\n",
       "        &quot;assay&quot; : &quot;NR.PPAR.gamma&quot;,\n",
       "        &quot;feats&quot; : &quot;801&quot;,\n",
       "        &quot;accuracy&quot; : 0.9289256198347108\n",
       "      },\n",
       "      {\n",
       "        &quot;assay&quot; : &quot;NR.PPAR.gamma&quot;,\n",
       "        &quot;feats&quot; : &quot;84&quot;,\n",
       "        &quot;accuracy&quot; : 0.9388429752066115\n",
       "      },\n",
       "      {\n",
       "        &quot;assay&quot; : &quot;SR.ARE&quot;,\n",
       "        &quot;feats&quot; : &quot;801&quot;,\n",
       "        &quot;accuracy&quot; : 0.8162162162162162\n",
       "      },\n",
       "      {\n",
       "        &quot;assay&quot; : &quot;SR.ARE&quot;,\n",
       "        &quot;feats&quot; : &quot;84&quot;,\n",
       "        &quot;accuracy&quot; : 0.827027027027027\n",
       "      },\n",
       "      {\n",
       "        &quot;assay&quot; : &quot;SR.ATAD5&quot;,\n",
       "        &quot;feats&quot; : &quot;801&quot;,\n",
       "        &quot;accuracy&quot; : 0.9389067524115756\n",
       "      },\n",
       "      {\n",
       "        &quot;assay&quot; : &quot;SR.ATAD5&quot;,\n",
       "        &quot;feats&quot; : &quot;84&quot;,\n",
       "        &quot;accuracy&quot; : 0.9356913183279743\n",
       "      },\n",
       "      {\n",
       "        &quot;assay&quot; : &quot;SR.HSE&quot;,\n",
       "        &quot;feats&quot; : &quot;801&quot;,\n",
       "        &quot;accuracy&quot; : 0.9573770491803278\n",
       "      },\n",
       "      {\n",
       "        &quot;assay&quot; : &quot;SR.HSE&quot;,\n",
       "        &quot;feats&quot; : &quot;84&quot;,\n",
       "        &quot;accuracy&quot; : 0.9590163934426229\n",
       "      },\n",
       "      {\n",
       "        &quot;assay&quot; : &quot;SR.MMP&quot;,\n",
       "        &quot;feats&quot; : &quot;801&quot;,\n",
       "        &quot;accuracy&quot; : 0.8931860036832413\n",
       "      },\n",
       "      {\n",
       "        &quot;assay&quot; : &quot;SR.MMP&quot;,\n",
       "        &quot;feats&quot; : &quot;84&quot;,\n",
       "        &quot;accuracy&quot; : 0.8692449355432781\n",
       "      },\n",
       "      {\n",
       "        &quot;assay&quot; : &quot;SR.p53&quot;,\n",
       "        &quot;feats&quot; : &quot;801&quot;,\n",
       "        &quot;accuracy&quot; : 0.922077922077922\n",
       "      },\n",
       "      {\n",
       "        &quot;assay&quot; : &quot;SR.p53&quot;,\n",
       "        &quot;feats&quot; : &quot;84&quot;,\n",
       "        &quot;accuracy&quot; : 0.9253246753246753\n",
       "      }\n",
       "    ]\n",
       "  },\n",
       "  &quot;config&quot; : {\n",
       "    &quot;cell&quot; : {\n",
       "      &quot;width&quot; : 600.0,\n",
       "      &quot;height&quot; : 300.0\n",
       "    },\n",
       "    &quot;facet&quot; : {\n",
       "      &quot;cell&quot; : {\n",
       "        &quot;width&quot; : 600.0,\n",
       "        &quot;strokeWidth&quot; : 0.0\n",
       "      }\n",
       "    }\n",
       "  }\n",
       "}\n",
       "   }\n",
       "   vg.embed(&quot;#vegas-043b89d0-c738-40fb-a9dd-59f179b1c3e8&quot;, embedSpec, function(error, result) {});\n",
       " &lt;/script&gt;\n",
       " &lt;div id='vegas-043b89d0-c738-40fb-a9dd-59f179b1c3e8'&gt;&lt;/div&gt;\n",
       "    &lt;/body&gt;\n",
       "&lt;/html&gt;\"></iframe>\n",
       "  <script>\n",
       "    if (typeof resizeIFrame != 'function') {\n",
       "      function resizeIFrame(el, k) {\n",
       "        $(el.contentWindow.document).ready(function() {\n",
       "          el.style.height = el.contentWindow.document.body.scrollHeight + 'px';\n",
       "        });\n",
       "        if (k <= 10) { setTimeout(function() { resizeIFrame(el, k+1) }, 1000 + (k * 250)) };\n",
       "      }\n",
       "    }\n",
       "    $().ready( function() { resizeIFrame($('#frame-vegas-043b89d0-c738-40fb-a9dd-59f179b1c3e8').get(0), 1); });\n",
       "  </script>\n",
       "    "
      ]
     },
     "metadata": {},
     "output_type": "display_data"
    }
   ],
   "source": [
    "Vegas().\n",
    "  withData(allvsFR).\n",
    "  mark(Bar).\n",
    "  encodeColumn(\"assay\", Nominal, scale=Scale(padding=20.0),\n",
    "               axis=Axis(title=\"tox assay\", orient=Orient.Bottom, axisWidth=1.0, labelAngle=45,labelAlign=\"bottom\",offset= -5)).\n",
    "  encodeY(\"accuracy\", Quantitative, axis=Axis(title=\"model accuracy\", grid=false)).\n",
    "  encodeX(\"feats\", Nominal, scale=Scale(bandSize = 6.0), hideAxis=true).\n",
    "  encodeColor(\"feats\", Nominal, scale=Scale(rangeNominals=List(\"#EA98D2\", \"#659CCA\"))).\n",
    "  configFacet(cell=CellConfig(strokeWidth = 0,width=600)).\n",
    "  configCell(width=600, height=300).\n",
    "  show"
   ]
  },
  {
   "cell_type": "code",
   "execution_count": null,
   "metadata": {},
   "outputs": [],
   "source": []
  }
 ],
 "metadata": {
  "kernelspec": {
   "display_name": "Scala",
   "language": "scala",
   "name": "scala"
  },
  "language_info": {
   "codemirror_mode": "text/x-scala",
   "file_extension": ".scala",
   "mimetype": "text/x-scala",
   "name": "scala211",
   "nbconvert_exporter": "script",
   "pygments_lexer": "scala",
   "version": "2.11.11"
  }
 },
 "nbformat": 4,
 "nbformat_minor": 2
}
